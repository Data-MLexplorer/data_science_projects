{
 "cells": [
  {
   "cell_type": "code",
   "execution_count": 1,
   "id": "5a3c7842-a1e8-45d2-bf9f-9a1ee65cbfa3",
   "metadata": {},
   "outputs": [],
   "source": [
    "import pandas as pd\n"
   ]
  },
  {
   "cell_type": "code",
   "execution_count": 5,
   "id": "2efe0989-63be-496e-ba61-e79b06b96407",
   "metadata": {},
   "outputs": [],
   "source": [
    "df = pd.read_csv('EDGAR Entity Landing Page.csv')"
   ]
  },
  {
   "cell_type": "code",
   "execution_count": 36,
   "id": "736e6296-f671-4ff0-a0d0-89d209891c94",
   "metadata": {},
   "outputs": [
    {
     "name": "stdout",
     "output_type": "stream",
     "text": [
      "Form type                   object\n",
      "Form description            object\n",
      "Filing date         datetime64[ns]\n",
      "Reporting date              object\n",
      "Year                         int32\n",
      "dtype: object\n"
     ]
    }
   ],
   "source": [
    "df.columns\n",
    "print(df.dtypes)\n"
   ]
  },
  {
   "cell_type": "code",
   "execution_count": 22,
   "id": "d9f99597-b9bf-4ce1-810f-69260053e254",
   "metadata": {},
   "outputs": [
    {
     "data": {
      "text/html": [
       "<div>\n",
       "<style scoped>\n",
       "    .dataframe tbody tr th:only-of-type {\n",
       "        vertical-align: middle;\n",
       "    }\n",
       "\n",
       "    .dataframe tbody tr th {\n",
       "        vertical-align: top;\n",
       "    }\n",
       "\n",
       "    .dataframe thead th {\n",
       "        text-align: right;\n",
       "    }\n",
       "</style>\n",
       "<table border=\"1\" class=\"dataframe\">\n",
       "  <thead>\n",
       "    <tr style=\"text-align: right;\">\n",
       "      <th></th>\n",
       "      <th>Form type</th>\n",
       "      <th>Form description</th>\n",
       "      <th>Filing date</th>\n",
       "      <th>Reporting date</th>\n",
       "    </tr>\n",
       "  </thead>\n",
       "  <tbody>\n",
       "    <tr>\n",
       "      <th>0</th>\n",
       "      <td>10-K</td>\n",
       "      <td>Annual report [Section 13 and 15(d), not S-K I...</td>\n",
       "      <td>2025-01-30</td>\n",
       "      <td>2024-12-31</td>\n",
       "    </tr>\n",
       "    <tr>\n",
       "      <th>1</th>\n",
       "      <td>10-K</td>\n",
       "      <td>Annual report [Section 13 and 15(d), not S-K I...</td>\n",
       "      <td>2024-01-29</td>\n",
       "      <td>2023-12-31</td>\n",
       "    </tr>\n",
       "    <tr>\n",
       "      <th>2</th>\n",
       "      <td>10-K</td>\n",
       "      <td>Annual report [Section 13 and 15(d), not S-K I...</td>\n",
       "      <td>2023-01-31</td>\n",
       "      <td>2022-12-31</td>\n",
       "    </tr>\n",
       "    <tr>\n",
       "      <th>3</th>\n",
       "      <td>10-K</td>\n",
       "      <td>Annual report [Section 13 and 15(d), not S-K I...</td>\n",
       "      <td>2022-02-07</td>\n",
       "      <td>2021-12-31</td>\n",
       "    </tr>\n",
       "    <tr>\n",
       "      <th>4</th>\n",
       "      <td>10-K</td>\n",
       "      <td>Annual report [Section 13 and 15(d), not S-K I...</td>\n",
       "      <td>2021-02-08</td>\n",
       "      <td>2020-12-31</td>\n",
       "    </tr>\n",
       "    <tr>\n",
       "      <th>5</th>\n",
       "      <td>10-K</td>\n",
       "      <td>Annual report [Section 13 and 15(d), not S-K I...</td>\n",
       "      <td>2020-02-13</td>\n",
       "      <td>2019-12-31</td>\n",
       "    </tr>\n",
       "    <tr>\n",
       "      <th>6</th>\n",
       "      <td>10-K</td>\n",
       "      <td>Annual report [Section 13 and 15(d), not S-K I...</td>\n",
       "      <td>2019-02-19</td>\n",
       "      <td>2018-12-31</td>\n",
       "    </tr>\n",
       "    <tr>\n",
       "      <th>7</th>\n",
       "      <td>10-K</td>\n",
       "      <td>Annual report [Section 13 and 15(d), not S-K I...</td>\n",
       "      <td>2018-02-23</td>\n",
       "      <td>2017-12-31</td>\n",
       "    </tr>\n",
       "    <tr>\n",
       "      <th>8</th>\n",
       "      <td>10-K</td>\n",
       "      <td>Annual report [Section 13 and 15(d), not S-K I...</td>\n",
       "      <td>2017-03-01</td>\n",
       "      <td>2016-12-31</td>\n",
       "    </tr>\n",
       "  </tbody>\n",
       "</table>\n",
       "</div>"
      ],
      "text/plain": [
       "  Form type                                   Form description Filing date  \\\n",
       "0      10-K  Annual report [Section 13 and 15(d), not S-K I...  2025-01-30   \n",
       "1      10-K  Annual report [Section 13 and 15(d), not S-K I...  2024-01-29   \n",
       "2      10-K  Annual report [Section 13 and 15(d), not S-K I...  2023-01-31   \n",
       "3      10-K  Annual report [Section 13 and 15(d), not S-K I...  2022-02-07   \n",
       "4      10-K  Annual report [Section 13 and 15(d), not S-K I...  2021-02-08   \n",
       "5      10-K  Annual report [Section 13 and 15(d), not S-K I...  2020-02-13   \n",
       "6      10-K  Annual report [Section 13 and 15(d), not S-K I...  2019-02-19   \n",
       "7      10-K  Annual report [Section 13 and 15(d), not S-K I...  2018-02-23   \n",
       "8      10-K  Annual report [Section 13 and 15(d), not S-K I...  2017-03-01   \n",
       "\n",
       "  Reporting date  \n",
       "0     2024-12-31  \n",
       "1     2023-12-31  \n",
       "2     2022-12-31  \n",
       "3     2021-12-31  \n",
       "4     2020-12-31  \n",
       "5     2019-12-31  \n",
       "6     2018-12-31  \n",
       "7     2017-12-31  \n",
       "8     2016-12-31  "
      ]
     },
     "execution_count": 22,
     "metadata": {},
     "output_type": "execute_result"
    }
   ],
   "source": [
    "df_10k = df[df['Form type'] == '10-K']\n",
    "df_10k"
   ]
  },
  {
   "cell_type": "code",
   "execution_count": 30,
   "id": "3170ee4a-0571-4d01-a5d4-106ede87aa39",
   "metadata": {},
   "outputs": [
    {
     "name": "stdout",
     "output_type": "stream",
     "text": [
      "0      2025\n",
      "1      2024\n",
      "2      2023\n",
      "3      2022\n",
      "4      2021\n",
      "       ... \n",
      "490    2019\n",
      "491    2018\n",
      "492    2018\n",
      "493    2017\n",
      "494    2017\n",
      "Name: Year, Length: 495, dtype: int32\n"
     ]
    }
   ],
   "source": [
    "df['Filing date'] = pd.to_datetime(df['Filing date'])\n",
    "df['Year'] =df['Filing date'].dt.year\n",
    "print(df['Year'])"
   ]
  },
  {
   "cell_type": "code",
   "execution_count": null,
   "id": "05432ff1-bd2a-4317-a163-87a60dea6c56",
   "metadata": {},
   "outputs": [],
   "source": [
    "df_filtered = "
   ]
  }
 ],
 "metadata": {
  "kernelspec": {
   "display_name": "Python [conda env:venv]",
   "language": "python",
   "name": "conda-env-venv-py"
  },
  "language_info": {
   "codemirror_mode": {
    "name": "ipython",
    "version": 3
   },
   "file_extension": ".py",
   "mimetype": "text/x-python",
   "name": "python",
   "nbconvert_exporter": "python",
   "pygments_lexer": "ipython3",
   "version": "3.12.0"
  }
 },
 "nbformat": 4,
 "nbformat_minor": 5
}
