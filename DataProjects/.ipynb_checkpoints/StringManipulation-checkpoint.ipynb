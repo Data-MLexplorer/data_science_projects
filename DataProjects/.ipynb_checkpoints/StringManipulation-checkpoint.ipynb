{
 "cells": [
  {
   "cell_type": "code",
   "execution_count": 7,
   "id": "4b79016e-f195-471c-b2ba-0b35bc26a85a",
   "metadata": {},
   "outputs": [
    {
     "name": "stdout",
     "output_type": "stream",
     "text": [
      "grail\n",
      "a scratch\n"
     ]
    }
   ],
   "source": [
    "word='grail'\n",
    "sent='a scratch'\n",
    "print(word)\n",
    "print(sent)"
   ]
  },
  {
   "cell_type": "code",
   "execution_count": 13,
   "id": "f8d8e514-f585-424c-9462-cd12f6b2fce4",
   "metadata": {},
   "outputs": [
    {
     "name": "stdout",
     "output_type": "stream",
     "text": [
      "g\n",
      "c\n"
     ]
    }
   ],
   "source": [
    "print(word[0])\n",
    "print(sent[3])"
   ]
  },
  {
   "cell_type": "code",
   "execution_count": 15,
   "id": "b8303db9-7200-47dc-9237-25c8d0430e3a",
   "metadata": {},
   "outputs": [
    {
     "name": "stdout",
     "output_type": "stream",
     "text": [
      "gra\n"
     ]
    }
   ],
   "source": [
    "print(word[0:3])"
   ]
  },
  {
   "cell_type": "code",
   "execution_count": null,
   "id": "4ac5fbca-6963-4695-b977-e1676d593282",
   "metadata": {},
   "outputs": [],
   "source": [
    "#slicing is left is inclusive, right side is exclusive\n",
    "#eg - [0:3]"
   ]
  },
  {
   "cell_type": "code",
   "execution_count": 19,
   "id": "560ed7ad-a637-4bb0-bef4-9a83cfd8c8cd",
   "metadata": {},
   "outputs": [
    {
     "name": "stdout",
     "output_type": "stream",
     "text": [
      "h\n",
      "a\n",
      "a\n"
     ]
    }
   ],
   "source": [
    "print(sent[-1])\n",
    "print(sent[-9:-8])\n",
    "print(sent[0:-8])"
   ]
  },
  {
   "cell_type": "code",
   "execution_count": 21,
   "id": "a55cca8c-8065-4be6-894a-06890381c503",
   "metadata": {},
   "outputs": [
    {
     "name": "stdout",
     "output_type": "stream",
     "text": [
      "9\n",
      "scratch\n"
     ]
    }
   ],
   "source": [
    "s_len=len(sent)\n",
    "print(s_len)\n",
    "print(sent[2:s_len])"
   ]
  },
  {
   "cell_type": "code",
   "execution_count": 25,
   "id": "126a2fbc-f967-4286-9284-3df859e3d7cc",
   "metadata": {},
   "outputs": [
    {
     "name": "stdout",
     "output_type": "stream",
     "text": [
      "gra\n",
      "gra\n",
      "scratch\n",
      "scratch\n"
     ]
    }
   ],
   "source": [
    "print(word[0:3])\n",
    "print(word[:3])\n",
    "print(sent[2:len(sent)])\n",
    "print(sent[2: ])"
   ]
  },
  {
   "cell_type": "code",
   "execution_count": 35,
   "id": "0aedb8c1-0456-420c-9d27-f8a3f3a3360f",
   "metadata": {},
   "outputs": [
    {
     "name": "stdout",
     "output_type": "stream",
     "text": [
      "a scratch\n"
     ]
    }
   ],
   "source": [
    "print(sent[ : ])"
   ]
  },
  {
   "cell_type": "code",
   "execution_count": 41,
   "id": "deae1d0f-c7cd-4449-9542-d30ab672e773",
   "metadata": {},
   "outputs": [
    {
     "name": "stdout",
     "output_type": "stream",
     "text": [
      "asrth\n",
      "act\n"
     ]
    }
   ],
   "source": [
    "#get the 2nd character\n",
    "print(sent[::2])\n",
    "#get the 3rd character\n",
    "print(sent[::3])"
   ]
  },
  {
   "cell_type": "code",
   "execution_count": null,
   "id": "d6a26f4c-fd9e-4c3d-b999-b0266f52cf6c",
   "metadata": {},
   "outputs": [],
   "source": [
    "#.join() method , \n",
    "#takes a string and returns a new string combining each \n",
    "#element with a string"
   ]
  },
  {
   "cell_type": "code",
   "execution_count": 51,
   "id": "57a45342-c138-4ba7-b81a-1626d34225c4",
   "metadata": {},
   "outputs": [
    {
     "name": "stdout",
     "output_type": "stream",
     "text": [
      "40° 46' 52.837 N 73° 58' 26.302 W\n"
     ]
    }
   ],
   "source": [
    "d1='40°'\n",
    "m1=\"46'\"\n",
    "s1='52.837'\n",
    "u1='N'\n",
    "\n",
    "d2='73°' \n",
    "m2= \"58'\"\n",
    "s2='26.302'\n",
    "u2='W'\n",
    "\n",
    "coords =' '.join([d1,m1,s1,u1,d2,m2,s2,u2])\n",
    "print(coords)"
   ]
  },
  {
   "cell_type": "code",
   "execution_count": null,
   "id": "2f8e54d7-1bf3-4cb1-8b2a-2a23331e3b5c",
   "metadata": {},
   "outputs": [],
   "source": [
    "#.splitLines() -- returns a list in which each element is a line in the multiple\n",
    "#string line"
   ]
  },
  {
   "cell_type": "code",
   "execution_count": 91,
   "id": "cd6be50c-a5bc-4f00-bc34-8f4c08ef3bed",
   "metadata": {},
   "outputs": [
    {
     "name": "stdout",
     "output_type": "stream",
     "text": [
      "Guard: What? Ridden on a horse?  \n",
      "King Arthur: Yes!\n",
      "Guard: You're using coconuts!\n",
      "King Arthur : What?\n",
      "Guard: You've got  ..coconut[s] and you're bangin' 'em together.\n",
      "\n"
     ]
    }
   ],
   "source": [
    "multi_str=\"\"\"Guard: What? Ridden on a horse?  \n",
    "King Arthur: Yes!\n",
    "Guard: You're using coconuts!\n",
    "King Arthur : What?\n",
    "Guard: You've got  ..coconut[s] and you're bangin' 'em together.\n",
    "\"\"\"\n",
    "print(multi_str)"
   ]
  },
  {
   "cell_type": "code",
   "execution_count": 83,
   "id": "dfca8fda-2bdc-4e88-8042-aecf64a4356d",
   "metadata": {},
   "outputs": [
    {
     "name": "stdout",
     "output_type": "stream",
     "text": [
      "['Guard: What? Ridden on a horse?  ', 'King Arthur: Yes!', \"Guard : You're using coconuts!\", 'King Arthur : What?', \"Guard : You've got  ..coconut[s] and you're bangin' 'em together.\"]\n"
     ]
    }
   ],
   "source": [
    "multi_str_split= multi_str.splitlines()\n",
    "print(multi_str_split)"
   ]
  },
  {
   "cell_type": "code",
   "execution_count": 85,
   "id": "c3e34aa1-a8ae-4403-bff7-fa15d927c34e",
   "metadata": {},
   "outputs": [
    {
     "name": "stdout",
     "output_type": "stream",
     "text": [
      "['Guard: What? Ridden on a horse?  ', \"Guard : You're using coconuts!\", \"Guard : You've got  ..coconut[s] and you're bangin' 'em together.\"]\n"
     ]
    }
   ],
   "source": [
    "guard = multi_str_split[::2]\n",
    "print(guard)"
   ]
  },
  {
   "cell_type": "code",
   "execution_count": 93,
   "id": "17e20cda-c2cf-4078-9257-62238df6316a",
   "metadata": {},
   "outputs": [
    {
     "name": "stdout",
     "output_type": "stream",
     "text": [
      "[' What? Ridden on a horse?  ', \" You're using coconuts!\", \" You've got  ..coconut[s] and you're bangin' 'em together.\"]\n"
     ]
    }
   ],
   "source": [
    "guard = multi_str.replace(\"Guard:\",\"\"). splitlines()[::2]\n",
    "print(guard)"
   ]
  },
  {
   "cell_type": "code",
   "execution_count": null,
   "id": "ea8b50d6-6e5b-4133-8c47-99ae372ba33d",
   "metadata": {},
   "outputs": [],
   "source": [
    "#String formatting - allows u to specify a generic template for a string and insert\n",
    "#variables into the patter.\n",
    "#It can also handle various ways to visually represent"
   ]
  },
  {
   "cell_type": "code",
   "execution_count": 95,
   "id": "46e16453-cc85-4d6c-8a57-4982449f7d3a",
   "metadata": {},
   "outputs": [
    {
     "name": "stdout",
     "output_type": "stream",
     "text": [
      "hello\n"
     ]
    }
   ],
   "source": [
    "s=f\"hello\"\n",
    "print(s)"
   ]
  },
  {
   "cell_type": "code",
   "execution_count": 99,
   "id": "46d9ea2b-1634-4436-a797-57d021afd152",
   "metadata": {},
   "outputs": [
    {
     "name": "stdout",
     "output_type": "stream",
     "text": [
      "I only know 7 digits of pi.\n"
     ]
    }
   ],
   "source": [
    "num=7\n",
    "s= f\"I only know {num} digits of pi.\"\n",
    "print(s)\n"
   ]
  },
  {
   "cell_type": "code",
   "execution_count": 101,
   "id": "bd0d6799-f85c-482e-aa23-c9f3e6e01cb5",
   "metadata": {},
   "outputs": [
    {
     "name": "stdout",
     "output_type": "stream",
     "text": [
      "Some digits of e:2.718\n"
     ]
    }
   ],
   "source": [
    "const = \"e\"\n",
    "value =2.718\n",
    "s= f\"Some digits of {const}:{value}\"\n",
    "print(s)"
   ]
  },
  {
   "cell_type": "code",
   "execution_count": 103,
   "id": "02347b39-6030-4bcb-a36c-d460f5d773dc",
   "metadata": {},
   "outputs": [
    {
     "name": "stdout",
     "output_type": "stream",
     "text": [
      "Hayden Planetarium Coordinates:40.7815°N:73.9733°W\n"
     ]
    }
   ],
   "source": [
    "lat =\"40.7815°N\"\n",
    "lon =\"73.9733°W\"\n",
    "s=f\"Hayden Planetarium Coordinates:{lat}:{lon}\"\n",
    "print(s)\n"
   ]
  },
  {
   "cell_type": "code",
   "execution_count": 109,
   "id": "99f63bdb-0325-4387-a03b-6c17f01a78ec",
   "metadata": {},
   "outputs": [
    {
     "name": "stdout",
     "output_type": "stream",
     "text": [
      "Black Knight: 'Tis but a scratch.\n",
      "King Arthur: A scratch? Your arm is broken!\n",
      "\n"
     ]
    }
   ],
   "source": [
    "word =\"scratch\"\n",
    "s= f\"\"\"Black Knight: 'Tis but a {word}.\n",
    "King Arthur: A {word}? Your arm is broken!\n",
    "\"\"\"\n",
    "print(s)"
   ]
  },
  {
   "cell_type": "code",
   "execution_count": 111,
   "id": "a4e83e48-46b7-4c84-90d8-6022b2d59d7c",
   "metadata": {},
   "outputs": [
    {
     "name": "stdout",
     "output_type": "stream",
     "text": [
      "Some digits of pi:3.14159\n",
      "Black Knight: 'Tis but a scratch.\n",
      "King Arthur: A scratch? Your arm is broken!\n",
      "\n"
     ]
    }
   ],
   "source": [
    "p= 3.14159\n",
    "print(f\"Some digits of pi:{p}\")\n",
    "# print(s)"
   ]
  },
  {
   "cell_type": "raw",
   "id": "19577f5c-d382-4451-909c-6efb13361bc8",
   "metadata": {},
   "source": [
    "digits =67890\n",
    "s=f\"In 2010, Lu Chao of china recited {67890:,} digits of pi.\"\n",
    "print(s)"
   ]
  },
  {
   "cell_type": "code",
   "execution_count": 125,
   "id": "b746d30f-16cf-4a9e-8d68-4b2ef6abe2cd",
   "metadata": {},
   "outputs": [
    {
     "name": "stdout",
     "output_type": "stream",
     "text": [
      "I remember 0.0001031 or 0.0103% of what Lu chao recited.\n"
     ]
    }
   ],
   "source": [
    "prop=7/67890\n",
    "s=f\"I remember {prop:.4} or {prop:.4%} of what Lu chao recited.\"\n",
    "print(s)"
   ]
  },
  {
   "cell_type": "code",
   "execution_count": 135,
   "id": "32f47af5-4457-4df2-9ce5-283306f634d8",
   "metadata": {},
   "outputs": [
    {
     "name": "stdout",
     "output_type": "stream",
     "text": [
      "My ID number is 00042\n"
     ]
    }
   ],
   "source": [
    "id= 42\n",
    "print(f\"My ID number is {id:05d}\")\n"
   ]
  },
  {
   "cell_type": "code",
   "execution_count": null,
   "id": "ccd50bfa-ca9c-45fa-b478-e8f38819b3fb",
   "metadata": {},
   "outputs": [],
   "source": [
    "# :05 D , 0 is the character we are padding with 5 digits"
   ]
  },
  {
   "cell_type": "code",
   "execution_count": 141,
   "id": "5662c949-e081-47df-9389-687feaec3809",
   "metadata": {},
   "outputs": [
    {
     "name": "stdout",
     "output_type": "stream",
     "text": [
      "My ID number is 00042\n"
     ]
    }
   ],
   "source": [
    "id_zfill=\"42\".zfill(5)\n",
    "print(f\"My ID number is {id_zfill}\")\n"
   ]
  },
  {
   "cell_type": "code",
   "execution_count": 143,
   "id": "5d440055-eb7f-450d-8f58-34c612302f96",
   "metadata": {},
   "outputs": [
    {
     "name": "stdout",
     "output_type": "stream",
     "text": [
      "My ID number is 00042\n"
     ]
    }
   ],
   "source": [
    "print(f\"My ID number is {'42'.zfill(5)}\")"
   ]
  },
  {
   "cell_type": "code",
   "execution_count": 163,
   "id": "4a94bb1a-31a7-4dc0-bdef-c5680b0dc0db",
   "metadata": {},
   "outputs": [
    {
     "name": "stdout",
     "output_type": "stream",
     "text": [
      "<re.Match object; span=(0, 10), match='1234567890'>\n"
     ]
    }
   ],
   "source": [
    "import re\n",
    "tele_num='1234567890'\n",
    "m= re.match(pattern='\\\\d\\\\d\\\\d\\\\d\\\\d\\\\d\\\\d\\\\d\\\\d\\\\d',string=tele_num)\n",
    "print(m)"
   ]
  },
  {
   "cell_type": "code",
   "execution_count": 161,
   "id": "88bef733-12ab-4608-90f3-09a7f4cb6f03",
   "metadata": {},
   "outputs": [
    {
     "name": "stdout",
     "output_type": "stream",
     "text": [
      "False\n"
     ]
    }
   ],
   "source": [
    "print(bool(m))"
   ]
  },
  {
   "cell_type": "code",
   "execution_count": 157,
   "id": "ea881c51-9dec-4980-8662-ba6e1e5cf121",
   "metadata": {},
   "outputs": [
    {
     "name": "stdout",
     "output_type": "stream",
     "text": [
      "match\n"
     ]
    }
   ],
   "source": [
    "if m:\n",
    "    print('match')\n",
    "else:\n",
    "    print('no match')\n",
    "    "
   ]
  },
  {
   "cell_type": "code",
   "execution_count": 165,
   "id": "f9e18613-5151-4fb6-a5be-9a452a20e2c2",
   "metadata": {},
   "outputs": [
    {
     "name": "stdout",
     "output_type": "stream",
     "text": [
      "0\n",
      "10\n",
      "(0, 10)\n",
      "1234567890\n"
     ]
    }
   ],
   "source": [
    "print(m.start())\n",
    "print(m.end())\n",
    "print(m.span())\n",
    "print(m.group())"
   ]
  },
  {
   "cell_type": "code",
   "execution_count": 175,
   "id": "d4bac97b-c78a-4cdd-913b-82dabde9bcd0",
   "metadata": {},
   "outputs": [
    {
     "name": "stdout",
     "output_type": "stream",
     "text": [
      "<re.Match object; span=(0, 12), match='123 456 7890'>\n"
     ]
    }
   ],
   "source": [
    "tele_num_spaces='123 456 7890'\n",
    "p=r'\\d{3}\\s?\\d{3}\\s?\\d{4}'\n",
    "m=re.match(pattern=p, string=tele_num_spaces)\n",
    "print(m)"
   ]
  },
  {
   "cell_type": "code",
   "execution_count": 177,
   "id": "8fc2761d-3fc8-4c48-8454-5f4435928468",
   "metadata": {},
   "outputs": [
    {
     "name": "stdout",
     "output_type": "stream",
     "text": [
      "<re.Match object; span=(0, 14), match='(123) 456-7890'>\n"
     ]
    }
   ],
   "source": [
    "tele_num_spaces='(123) 456-7890'\n",
    "p=r'\\(\\d{3}\\)\\s?\\d{3}-\\d{4}'\n",
    "m=re.match(pattern=p, string=tele_num_spaces)\n",
    "print(m)"
   ]
  },
  {
   "cell_type": "code",
   "execution_count": 181,
   "id": "9e60f139-2797-4ec9-9c86-2958c4e12cfe",
   "metadata": {},
   "outputs": [
    {
     "name": "stdout",
     "output_type": "stream",
     "text": [
      "Last time i updated this slide: 2025-03-20 20:01:20.062086\n"
     ]
    }
   ],
   "source": [
    "from datetime import datetime\n",
    "\n",
    "now=datetime.now()\n",
    "print(f\"Last time i updated this slide: {now}\")"
   ]
  },
  {
   "cell_type": "code",
   "execution_count": 183,
   "id": "2dce1f1b-cd7e-4fab-bcf6-f299ca2498f7",
   "metadata": {},
   "outputs": [
    {
     "name": "stdout",
     "output_type": "stream",
     "text": [
      "20167 days, 20:02:05.360514\n"
     ]
    }
   ],
   "source": [
    "t1 =datetime.now()\n",
    "t2=datetime(1970,1,1)\n",
    "diff = t1-t2\n",
    "print(diff)"
   ]
  },
  {
   "cell_type": "code",
   "execution_count": 215,
   "id": "b625f6df-7efc-4fd0-93cc-7b3903ec2a7a",
   "metadata": {},
   "outputs": [
    {
     "name": "stdout",
     "output_type": "stream",
     "text": [
      "Collecting pandas\n",
      "  Downloading pandas-2.2.3-cp312-cp312-macosx_10_9_x86_64.whl.metadata (89 kB)\n",
      "Collecting numpy>=1.26.0 (from pandas)\n",
      "  Downloading numpy-2.2.4-cp312-cp312-macosx_14_0_x86_64.whl.metadata (62 kB)\n",
      "Requirement already satisfied: python-dateutil>=2.8.2 in /Users/Deep/venv/lib/python3.12/site-packages (from pandas) (2.9.0.post0)\n",
      "Collecting pytz>=2020.1 (from pandas)\n",
      "  Using cached pytz-2025.1-py2.py3-none-any.whl.metadata (22 kB)\n",
      "Collecting tzdata>=2022.7 (from pandas)\n",
      "  Using cached tzdata-2025.1-py2.py3-none-any.whl.metadata (1.4 kB)\n",
      "Requirement already satisfied: six>=1.5 in /Users/Deep/venv/lib/python3.12/site-packages (from python-dateutil>=2.8.2->pandas) (1.17.0)\n",
      "Downloading pandas-2.2.3-cp312-cp312-macosx_10_9_x86_64.whl (12.5 MB)\n",
      "\u001b[2K   \u001b[38;2;114;156;31m━━━━━━━━━━━━━━━━━━━━━━━━━━━━━━━━━━━━━━━━\u001b[0m \u001b[32m12.5/12.5 MB\u001b[0m \u001b[31m6.6 MB/s\u001b[0m eta \u001b[36m0:00:00\u001b[0m[36m0:00:01\u001b[0m[36m0:00:01\u001b[0m01\u001b[0m\n",
      "\u001b[?25hDownloading numpy-2.2.4-cp312-cp312-macosx_14_0_x86_64.whl (6.7 MB)\n",
      "\u001b[2K   \u001b[38;2;114;156;31m━━━━━━━━━━━━━━━━━━━━━━━━━━━━━━━━━━━━━━━━\u001b[0m \u001b[32m6.7/6.7 MB\u001b[0m \u001b[31m6.3 MB/s\u001b[0m eta \u001b[36m0:00:00\u001b[0m[36m0:00:01\u001b[0m[36m0:00:01\u001b[0m\n",
      "\u001b[?25hUsing cached pytz-2025.1-py2.py3-none-any.whl (507 kB)\n",
      "Using cached tzdata-2025.1-py2.py3-none-any.whl (346 kB)\n",
      "Installing collected packages: pytz, tzdata, numpy, pandas\n",
      "Successfully installed numpy-2.2.4 pandas-2.2.3 pytz-2025.1 tzdata-2025.1\n"
     ]
    }
   ],
   "source": [
    "!pip install pandas"
   ]
  },
  {
   "cell_type": "code",
   "execution_count": 223,
   "id": "759398d7-2e0a-42dc-971b-9c034a9f5aee",
   "metadata": {},
   "outputs": [
    {
     "name": "stdout",
     "output_type": "stream",
     "text": [
      "         Date  Day  Cases_Guinea  Cases_Liberia  Cases_SierraLeone\n",
      "0    1/5/2015  289        2776.0            NaN            10030.0\n",
      "1    1/4/2015  288        2775.0            NaN             9780.0\n",
      "2    1/3/2015  287        2769.0         8166.0             9722.0\n",
      "3    1/2/2015  286           NaN         8157.0                NaN\n",
      "4  12/31/2014  284        2730.0         8115.0             9633.0\n"
     ]
    }
   ],
   "source": [
    "import pandas as pd\n",
    "ebola=pd.read_csv('country_timeseries.csv')\n",
    "print(ebola.iloc[:5,:5])"
   ]
  },
  {
   "cell_type": "code",
   "execution_count": 225,
   "id": "f07b3de3-d1ea-4bb9-9310-bf0d13e863c4",
   "metadata": {},
   "outputs": [
    {
     "name": "stdout",
     "output_type": "stream",
     "text": [
      "<class 'pandas.core.frame.DataFrame'>\n",
      "RangeIndex: 122 entries, 0 to 121\n",
      "Data columns (total 18 columns):\n",
      " #   Column               Non-Null Count  Dtype  \n",
      "---  ------               --------------  -----  \n",
      " 0   Date                 122 non-null    object \n",
      " 1   Day                  122 non-null    int64  \n",
      " 2   Cases_Guinea         93 non-null     float64\n",
      " 3   Cases_Liberia        83 non-null     float64\n",
      " 4   Cases_SierraLeone    87 non-null     float64\n",
      " 5   Cases_Nigeria        38 non-null     float64\n",
      " 6   Cases_Senegal        25 non-null     float64\n",
      " 7   Cases_UnitedStates   18 non-null     float64\n",
      " 8   Cases_Spain          16 non-null     float64\n",
      " 9   Cases_Mali           12 non-null     float64\n",
      " 10  Deaths_Guinea        92 non-null     float64\n",
      " 11  Deaths_Liberia       81 non-null     float64\n",
      " 12  Deaths_SierraLeone   87 non-null     float64\n",
      " 13  Deaths_Nigeria       38 non-null     float64\n",
      " 14  Deaths_Senegal       22 non-null     float64\n",
      " 15  Deaths_UnitedStates  18 non-null     float64\n",
      " 16  Deaths_Spain         16 non-null     float64\n",
      " 17  Deaths_Mali          12 non-null     float64\n",
      "dtypes: float64(16), int64(1), object(1)\n",
      "memory usage: 17.3+ KB\n",
      "None\n"
     ]
    }
   ],
   "source": [
    "print(ebola.info())"
   ]
  },
  {
   "cell_type": "code",
   "execution_count": null,
   "id": "64379aa9-2269-42f4-83d6-ea35fb760ab6",
   "metadata": {},
   "outputs": [],
   "source": [
    "# #String format Time \n",
    "# %a - weekday abbreviated name , %S  Second as a 2-digit number\n",
    "# %A - weekday full name\n",
    "# %we - weekday as a number "
   ]
  },
  {
   "cell_type": "code",
   "execution_count": 227,
   "id": "53505e37-9a59-450b-bd44-5b2446f666a8",
   "metadata": {},
   "outputs": [
    {
     "name": "stdout",
     "output_type": "stream",
     "text": [
      "<class 'pandas.core.frame.DataFrame'>\n",
      "RangeIndex: 122 entries, 0 to 121\n",
      "Data columns (total 18 columns):\n",
      " #   Column               Non-Null Count  Dtype         \n",
      "---  ------               --------------  -----         \n",
      " 0   Date                 122 non-null    datetime64[ns]\n",
      " 1   Day                  122 non-null    int64         \n",
      " 2   Cases_Guinea         93 non-null     float64       \n",
      " 3   Cases_Liberia        83 non-null     float64       \n",
      " 4   Cases_SierraLeone    87 non-null     float64       \n",
      " 5   Cases_Nigeria        38 non-null     float64       \n",
      " 6   Cases_Senegal        25 non-null     float64       \n",
      " 7   Cases_UnitedStates   18 non-null     float64       \n",
      " 8   Cases_Spain          16 non-null     float64       \n",
      " 9   Cases_Mali           12 non-null     float64       \n",
      " 10  Deaths_Guinea        92 non-null     float64       \n",
      " 11  Deaths_Liberia       81 non-null     float64       \n",
      " 12  Deaths_SierraLeone   87 non-null     float64       \n",
      " 13  Deaths_Nigeria       38 non-null     float64       \n",
      " 14  Deaths_Senegal       22 non-null     float64       \n",
      " 15  Deaths_UnitedStates  18 non-null     float64       \n",
      " 16  Deaths_Spain         16 non-null     float64       \n",
      " 17  Deaths_Mali          12 non-null     float64       \n",
      "dtypes: datetime64[ns](1), float64(16), int64(1)\n",
      "memory usage: 17.3 KB\n",
      "None\n"
     ]
    }
   ],
   "source": [
    "ebola=pd.read_csv('country_timeseries.csv',parse_dates=[\"Date\"])\n",
    "print(ebola.info())"
   ]
  },
  {
   "cell_type": "code",
   "execution_count": 229,
   "id": "487a16c6-8627-4080-95ce-0fe8dbe9b85f",
   "metadata": {},
   "outputs": [
    {
     "name": "stdout",
     "output_type": "stream",
     "text": [
      "2021-12-14 00:00:00\n",
      "<class 'pandas._libs.tslibs.timestamps.Timestamp'>\n",
      "2021\n",
      "12\n",
      "14\n"
     ]
    }
   ],
   "source": [
    "d= pd.to_datetime('2021-12-14')\n",
    "print(d)\n",
    "print(type(d))\n",
    "print(d.year)\n",
    "print(d.month)\n",
    "print(d.day)"
   ]
  },
  {
   "cell_type": "code",
   "execution_count": 233,
   "id": "af33c04c-e83b-43dd-ae60-9a385c94a8b4",
   "metadata": {},
   "outputs": [
    {
     "name": "stdout",
     "output_type": "stream",
     "text": [
      "          Date  Day  Cases_Guinea  Cases_Liberia  Cases_SierraLeone\n",
      "117 2014-03-27    5         103.0            8.0                6.0\n",
      "118 2014-03-26    4          86.0            NaN                NaN\n",
      "119 2014-03-25    3          86.0            NaN                NaN\n",
      "120 2014-03-24    2          86.0            NaN                NaN\n",
      "121 2014-03-22    0          49.0            NaN                NaN\n"
     ]
    }
   ],
   "source": [
    "print(ebola.iloc[-5:, :5])"
   ]
  },
  {
   "cell_type": "code",
   "execution_count": 237,
   "id": "a6a912f4-3da6-4743-a03c-0da8d1165eeb",
   "metadata": {},
   "outputs": [
    {
     "name": "stdout",
     "output_type": "stream",
     "text": [
      "          Date    date_dt  year  month  day\n",
      "0   2015-01-05 2015-01-05  2015      1    5\n",
      "1   2015-01-04 2015-01-04  2015      1    4\n",
      "2   2015-01-03 2015-01-03  2015      1    3\n",
      "3   2015-01-02 2015-01-02  2015      1    2\n",
      "4   2014-12-31 2014-12-31  2014     12   31\n",
      "..         ...        ...   ...    ...  ...\n",
      "117 2014-03-27 2014-03-27  2014      3   27\n",
      "118 2014-03-26 2014-03-26  2014      3   26\n",
      "119 2014-03-25 2014-03-25  2014      3   25\n",
      "120 2014-03-24 2014-03-24  2014      3   24\n",
      "121 2014-03-22 2014-03-22  2014      3   22\n",
      "\n",
      "[122 rows x 5 columns]\n",
      "2014-03-22 00:00:00\n",
      "          Date  Day outbreak_d\n",
      "0   2015-01-05  289   289 days\n",
      "1   2015-01-04  288   288 days\n",
      "2   2015-01-03  287   287 days\n",
      "3   2015-01-02  286   286 days\n",
      "4   2014-12-31  284   284 days\n",
      "..         ...  ...        ...\n",
      "117 2014-03-27    5     5 days\n",
      "118 2014-03-26    4     4 days\n",
      "119 2014-03-25    3     3 days\n",
      "120 2014-03-24    2     2 days\n",
      "121 2014-03-22    0     0 days\n",
      "\n",
      "[122 rows x 3 columns]\n"
     ]
    }
   ],
   "source": [
    "ebola['date_dt']=pd.to_datetime(ebola['Date'])\n",
    "#create new year column based on date column \n",
    "\n",
    "ebola['year']=ebola['date_dt'].dt.year\n",
    "#parse the date (month and day)\n",
    "\n",
    "ebola=ebola.assign(\n",
    "    month=ebola[\"date_dt\"].dt.month,\n",
    "    day=ebola[\"date_dt\"].dt.day\n",
    ")\n",
    "\n",
    "print(ebola[['Date','date_dt','year','month','day']])\n",
    "print(ebola['date_dt'].min())\n",
    "\n",
    "ebola['outbreak_d']=ebola['date_dt']-ebola['date_dt'].min()\n",
    "print(ebola[['Date','Day','outbreak_d']])"
   ]
  },
  {
   "cell_type": "code",
   "execution_count": 243,
   "id": "ebd7cf7f-1bc2-48a6-a4ff-2f88f1204e72",
   "metadata": {},
   "outputs": [
    {
     "name": "stdout",
     "output_type": "stream",
     "text": [
      "<class 'pandas.core.frame.DataFrame'>\n",
      "RangeIndex: 553 entries, 0 to 552\n",
      "Data columns (total 7 columns):\n",
      " #   Column                 Non-Null Count  Dtype         \n",
      "---  ------                 --------------  -----         \n",
      " 0   Bank Name              553 non-null    object        \n",
      " 1   City                   553 non-null    object        \n",
      " 2   ST                     553 non-null    object        \n",
      " 3   CERT                   553 non-null    int64         \n",
      " 4   Acquiring Institution  553 non-null    object        \n",
      " 5   Closing Date           553 non-null    datetime64[ns]\n",
      " 6   Updated Date           553 non-null    datetime64[ns]\n",
      "dtypes: datetime64[ns](2), int64(1), object(4)\n",
      "memory usage: 30.4+ KB\n",
      "None\n"
     ]
    },
    {
     "name": "stderr",
     "output_type": "stream",
     "text": [
      "/var/folders/jd/746wbsm133x23cvkw2qlxzmh0000gp/T/ipykernel_14529/4224830664.py:1: UserWarning: Could not infer format, so each element will be parsed individually, falling back to `dateutil`. To ensure parsing is consistent and as-expected, please specify a format.\n",
      "  banks =pd.read_csv('banklist.csv',parse_dates=[\"Closing Date\", \"Updated Date\"])\n",
      "/var/folders/jd/746wbsm133x23cvkw2qlxzmh0000gp/T/ipykernel_14529/4224830664.py:1: UserWarning: Could not infer format, so each element will be parsed individually, falling back to `dateutil`. To ensure parsing is consistent and as-expected, please specify a format.\n",
      "  banks =pd.read_csv('banklist.csv',parse_dates=[\"Closing Date\", \"Updated Date\"])\n"
     ]
    }
   ],
   "source": [
    "banks =pd.read_csv('banklist.csv',parse_dates=[\"Closing Date\", \"Updated Date\"])\n",
    "print(banks.info())"
   ]
  },
  {
   "cell_type": "code",
   "execution_count": 245,
   "id": "f46e123d-a30d-46e4-9ae1-ea6830c9bccf",
   "metadata": {},
   "outputs": [
    {
     "name": "stdout",
     "output_type": "stream",
     "text": [
      "                                             Bank Name                City  \\\n",
      "0                                  Fayette County Bank          Saint Elmo   \n",
      "1    Guaranty Bank, (d/b/a BestBank in Georgia & Mi...           Milwaukee   \n",
      "2                                       First NBC Bank         New Orleans   \n",
      "3                                        Proficio Bank  Cottonwood Heights   \n",
      "4                        Seaway Bank and Trust Company             Chicago   \n",
      "..                                                 ...                 ...   \n",
      "548                                 Superior Bank, FSB            Hinsdale   \n",
      "549                                Malta National Bank               Malta   \n",
      "550                    First Alliance Bank & Trust Co.          Manchester   \n",
      "551                  National State Bank of Metropolis          Metropolis   \n",
      "552                                   Bank of Honolulu            Honolulu   \n",
      "\n",
      "     ST   CERT                Acquiring Institution Closing Date Updated Date  \\\n",
      "0    IL   1802            United Fidelity Bank, fsb   2017-05-26   2017-07-26   \n",
      "1    WI  30003  First-Citizens Bank & Trust Company   2017-05-05   2017-07-26   \n",
      "2    LA  58302                         Whitney Bank   2017-04-28   2017-07-26   \n",
      "3    UT  35495                    Cache Valley Bank   2017-03-03   2017-05-18   \n",
      "4    IL  19328                  State Bank of Texas   2017-01-27   2017-05-18   \n",
      "..   ..    ...                                  ...          ...          ...   \n",
      "548  IL  32646                Superior Federal, FSB   2001-07-27   2014-08-19   \n",
      "549  OH   6629                    North Valley Bank   2001-05-03   2002-11-18   \n",
      "550  NH  34264  Southern New Hampshire Bank & Trust   2001-02-02   2003-02-18   \n",
      "551  IL   3815              Banterra Bank of Marion   2000-12-14   2005-03-17   \n",
      "552  HI  21029                   Bank of the Orient   2000-10-13   2005-03-17   \n",
      "\n",
      "     closing_quarter  closing_year  \n",
      "0                  2          2017  \n",
      "1                  2          2017  \n",
      "2                  2          2017  \n",
      "3                  1          2017  \n",
      "4                  1          2017  \n",
      "..               ...           ...  \n",
      "548                3          2001  \n",
      "549                2          2001  \n",
      "550                1          2001  \n",
      "551                4          2000  \n",
      "552                4          2000  \n",
      "\n",
      "[553 rows x 9 columns]\n"
     ]
    }
   ],
   "source": [
    "banks = banks.assign(\n",
    "    closing_quarter=banks['Closing Date'].dt.quarter,\n",
    "    closing_year=banks['Closing Date'].dt.year\n",
    ")\n",
    "closing_year=banks.groupby(['closing_year']).size()\n",
    "print(banks)"
   ]
  },
  {
   "cell_type": "code",
   "execution_count": 251,
   "id": "9e6c3102-2ece-4394-b229-4973118e1f86",
   "metadata": {},
   "outputs": [],
   "source": [
    "closing_year_q = (\n",
    "    banks.groupby(['closing_year','closing_quarter']).size()\n",
    ")\n"
   ]
  },
  {
   "cell_type": "code",
   "execution_count": 259,
   "id": "eca699e3-aef2-4a59-9424-975c45f044d3",
   "metadata": {},
   "outputs": [
    {
     "data": {
      "image/png": "[encoded data removed]",
      "text/plain": [
       "<Figure size 640x480 with 1 Axes>"
      ]
     },
     "metadata": {},
     "output_type": "display_data"
    }
   ],
   "source": [
    "import matplotlib.pyplot as plt\n",
    "fig,ax= plt.subplots()\n",
    "ax=closing_year_q.plot()\n",
    "plt.show()"
   ]
  },
  {
   "cell_type": "code",
   "execution_count": 257,
   "id": "75c6d24d-2126-49a1-9fad-dcac3abd4f0e",
   "metadata": {},
   "outputs": [
    {
     "name": "stdout",
     "output_type": "stream",
     "text": [
      "Collecting pandas_datareader\n",
      "  Downloading pandas_datareader-0.10.0-py3-none-any.whl.metadata (2.9 kB)\n",
      "Collecting lxml (from pandas_datareader)\n",
      "  Downloading lxml-5.3.1-cp312-cp312-macosx_10_9_x86_64.whl.metadata (3.7 kB)\n",
      "Requirement already satisfied: pandas>=0.23 in /Users/Deep/venv/lib/python3.12/site-packages (from pandas_datareader) (2.2.3)\n",
      "Collecting requests>=2.19.0 (from pandas_datareader)\n",
      "  Using cached requests-2.32.3-py3-none-any.whl.metadata (4.6 kB)\n",
      "Requirement already satisfied: numpy>=1.26.0 in /Users/Deep/venv/lib/python3.12/site-packages (from pandas>=0.23->pandas_datareader) (2.2.4)\n",
      "Requirement already satisfied: python-dateutil>=2.8.2 in /Users/Deep/venv/lib/python3.12/site-packages (from pandas>=0.23->pandas_datareader) (2.9.0.post0)\n",
      "Requirement already satisfied: pytz>=2020.1 in /Users/Deep/venv/lib/python3.12/site-packages (from pandas>=0.23->pandas_datareader) (2025.1)\n",
      "Requirement already satisfied: tzdata>=2022.7 in /Users/Deep/venv/lib/python3.12/site-packages (from pandas>=0.23->pandas_datareader) (2025.1)\n",
      "Collecting charset-normalizer<4,>=2 (from requests>=2.19.0->pandas_datareader)\n",
      "  Downloading charset_normalizer-3.4.1-cp312-cp312-macosx_10_13_universal2.whl.metadata (35 kB)\n",
      "Collecting idna<4,>=2.5 (from requests>=2.19.0->pandas_datareader)\n",
      "  Using cached idna-3.10-py3-none-any.whl.metadata (10 kB)\n",
      "Collecting urllib3<3,>=1.21.1 (from requests>=2.19.0->pandas_datareader)\n",
      "  Using cached urllib3-2.3.0-py3-none-any.whl.metadata (6.5 kB)\n",
      "Collecting certifi>=2017.4.17 (from requests>=2.19.0->pandas_datareader)\n",
      "  Using cached certifi-2025.1.31-py3-none-any.whl.metadata (2.5 kB)\n",
      "Requirement already satisfied: six>=1.5 in /Users/Deep/venv/lib/python3.12/site-packages (from python-dateutil>=2.8.2->pandas>=0.23->pandas_datareader) (1.17.0)\n",
      "Downloading pandas_datareader-0.10.0-py3-none-any.whl (109 kB)\n",
      "Using cached requests-2.32.3-py3-none-any.whl (64 kB)\n",
      "Downloading lxml-5.3.1-cp312-cp312-macosx_10_9_x86_64.whl (4.5 MB)\n",
      "\u001b[2K   \u001b[38;2;114;156;31m━━━━━━━━━━━━━━━━━━━━━━━━━━━━━━━━━━━━━━━━\u001b[0m \u001b[32m4.5/4.5 MB\u001b[0m \u001b[31m6.8 MB/s\u001b[0m eta \u001b[36m0:00:00\u001b[0m[31m7.2 MB/s\u001b[0m eta \u001b[36m0:00:01\u001b[0m\n",
      "\u001b[?25hUsing cached certifi-2025.1.31-py3-none-any.whl (166 kB)\n",
      "Downloading charset_normalizer-3.4.1-cp312-cp312-macosx_10_13_universal2.whl (196 kB)\n",
      "Using cached idna-3.10-py3-none-any.whl (70 kB)\n",
      "Using cached urllib3-2.3.0-py3-none-any.whl (128 kB)\n",
      "Installing collected packages: urllib3, lxml, idna, charset-normalizer, certifi, requests, pandas_datareader\n",
      "Successfully installed certifi-2025.1.31 charset-normalizer-3.4.1 idna-3.10 lxml-5.3.1 pandas_datareader-0.10.0 requests-2.32.3 urllib3-2.3.0\n"
     ]
    }
   ],
   "source": [
    "!pip install pandas_datareader"
   ]
  },
  {
   "cell_type": "code",
   "execution_count": 261,
   "id": "00f586ad-165c-4bc2-a666-7c698c91172c",
   "metadata": {},
   "outputs": [],
   "source": [
    "import pandas_datareader.data as web\n"
   ]
  },
  {
   "cell_type": "code",
   "execution_count": 263,
   "id": "8f5095d5-d189-41f8-acae-a3fcbf5d72c9",
   "metadata": {},
   "outputs": [
    {
     "name": "stdout",
     "output_type": "stream",
     "text": [
      "              open      high      low   close    volume\n",
      "2005-03-28   42.75   42.9600   42.470   42.53   9836100\n",
      "2005-03-29   42.56   42.8300   41.500   41.75  16477000\n",
      "2005-03-30   41.99   42.8000   41.821   42.80  14105700\n",
      "2005-03-31   42.45   42.5200   41.590   41.67  22719100\n",
      "2005-04-01   42.09   42.1800   40.570   40.89  22903000\n",
      "...            ...       ...      ...     ...       ...\n",
      "2025-03-14  211.25  213.9500  209.580  213.49  60107582\n",
      "2025-03-17  213.31  215.2200  209.970  214.00  48073426\n",
      "2025-03-18  214.16  215.1500  211.490  212.69  42432426\n",
      "2025-03-19  214.22  218.7600  213.750  215.24  54385391\n",
      "2025-03-20  213.99  217.4899  212.220  214.10  48298706\n",
      "\n",
      "[5029 rows x 5 columns]\n"
     ]
    }
   ],
   "source": [
    "df=web.DataReader('AAPL','av-daily',api_key='your_alpha_vantage_api_key')\n",
    "print(df)"
   ]
  },
  {
   "cell_type": "code",
   "execution_count": null,
   "id": "2d714462-5758-4dd3-bf27-593f2ad1a0b3",
   "metadata": {},
   "outputs": [],
   "source": []
  }
 ],
 "metadata": {
  "kernelspec": {
   "display_name": "Python [conda env:venv]",
   "language": "python",
   "name": "conda-env-venv-py"
  },
  "language_info": {
   "codemirror_mode": {
    "name": "ipython",
    "version": 3
   },
   "file_extension": ".py",
   "mimetype": "text/x-python",
   "name": "python",
   "nbconvert_exporter": "python",
   "pygments_lexer": "ipython3",
   "version": "3.12.0"
  }
 },
 "nbformat": 4,
 "nbformat_minor": 5
}
