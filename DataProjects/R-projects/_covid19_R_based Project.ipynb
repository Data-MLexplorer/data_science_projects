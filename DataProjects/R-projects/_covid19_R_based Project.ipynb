{
  "cells": [
    {
      "cell_type": "markdown",
      "metadata": {
        "id": "57b62b46-4976-4c41-9281-a6f93c1447c2"
      },
      "source": [
        "<center>\n",
        "<img src=\"https://cf-courses-data.s3.us.cloud-object-storage.appdomain.cloud/IBMDeveloperSkillsNetwork-RP0101EN-Coursera/v2/M5_Final/images/SN_web_lightmode.png\" width=\"300\">\n",
        "</center>\n"
      ]
    },
    {
      "cell_type": "markdown",
      "metadata": {
        "id": "9dcffd81-2371-47f1-a7a8-93f9840607f1"
      },
      "source": [
        "<h1>Analysis of Global COVID-19 Pandemic Data</h1>\n",
        "\n",
        "\n",
        "\n"
      ]
    },
    {
      "cell_type": "markdown",
      "metadata": {
        "id": "f1d0b697-0ce9-4444-a210-324ad8edb3fb"
      },
      "source": [
        "## Overview:\n"
      ]
    },
    {
      "cell_type": "code",
      "metadata": {
        "id": "ea3ee237-87c1-42b9-bde4-68f9ea487279"
      },
      "outputs": [],
      "source": [
        "# This lab requires 'httr' and 'rvest'packages, which are already pre-loaded into this lab environment.\n",
        "# However, if you are working on your local RStudio, please uncomment the below codes and install the packages.\n",
        "\n",
        "#install.packages(\"httr\")\n",
        "#install.packages(\"rvest\")"
      ],
      "execution_count": null
    },
    {
      "cell_type": "code",
      "source": [],
      "metadata": {
        "id": "Jb4kpG__uM7M"
      },
      "execution_count": null,
      "outputs": []
    },
    {
      "cell_type": "code",
      "metadata": {
        "id": "3bf7b159-a737-4e0d-8466-6be869f8e9be"
      },
      "outputs": [],
      "source": [
        "library(httr)\n",
        "library(rvest)"
      ],
      "execution_count": null
    },
    {
      "cell_type": "markdown",
      "metadata": {
        "id": "1472c4a4-2bd7-41c1-a6dc-381a8b1856d4"
      },
      "source": [
        "Note: if you can import above libraries, please use install.packages() to install them first.\n"
      ]
    },
    {
      "cell_type": "markdown",
      "metadata": {
        "id": "6658c949-5639-48af-b0cd-fdf4939da49f"
      },
      "source": [
        "## TASK 1: Get a `COVID-19 pandemic` Wiki page using HTTP request\n"
      ]
    },
    {
      "cell_type": "markdown",
      "metadata": {
        "id": "8304c4f8-2f85-4334-bb03-cc86febbe33c"
      },
      "source": [
        "First, let's write a function to use HTTP request to get a public COVID-19 Wiki page.\n",
        "\n",
        "Before you write the function, you can open this public page from this\n",
        "\n",
        "URL https://en.wikipedia.org/w/index.php?title=Template:COVID-19_testing_by_country using a web browser.\n",
        "\n",
        "The goal of task 1 is to get the html page using HTTP request (`httr` library)\n"
      ]
    },
    {
      "cell_type": "code",
      "metadata": {
        "id": "54f8882f-6042-4e6c-afb2-1646ed9c3faa"
      },
      "outputs": [],
      "source": [
        "\n",
        "get_wiki_covid19_page <- function() {\n",
        "\n",
        "  # Our target COVID-19 wiki page URL is: https://en.wikipedia.org/w/index.php?title=Template:COVID-19_testing_by_country\n",
        "  # Which has two parts:\n",
        "    # 1) base URL `https://en.wikipedia.org/w/index.php\n",
        "    # 2) URL parameter: `title=Template:COVID-19_testing_by_country`, seperated by question mark ?\n",
        "\n",
        "  # Wiki page base\n",
        "  wiki_base_url <- \"https://en.wikipedia.org/w/index.php\"\n",
        "  # You will need to create a List which has an element called `title` to specify which page you want to get from Wiki\n",
        "  # in our case, it will be `Template:COVID-19_testing_by_country`\n",
        "\n",
        "  # - Use the `GET` function in httr library with a `url` argument and a `query` arugment to get a HTTP response\n",
        "\n",
        "  # Use the `return` function to return the response\n",
        "  query_list <- list(title =\"Template:COVID-19_testing_by_country\")\n",
        "  response <- GET(url = wiki_base_url, query = query_list)\n",
        "  return (response)\n",
        "\n",
        "}\n",
        "\n",
        "\n"
      ],
      "execution_count": null
    },
    {
      "cell_type": "markdown",
      "metadata": {
        "id": "4d5b7b7f-7820-4ba5-bde9-6c4936b153bd"
      },
      "source": [
        "Call the `get_wiki_covid19_page` function to get a http response with the target html page\n"
      ]
    },
    {
      "cell_type": "code",
      "metadata": {
        "colab": {
          "base_uri": "https://localhost:8080/"
        },
        "id": "8ed184ae-762c-4b3d-b0e0-f54a9449b13d",
        "outputId": "67dc5137-7ac3-4a95-bc54-705060c994e4"
      },
      "outputs": [
        {
          "output_type": "stream",
          "name": "stdout",
          "text": [
            "Response [https://en.wikipedia.org/w/index.php?title=Template%3ACOVID-19_testing_by_country]\n",
            "  Date: 2025-06-16 16:57\n",
            "  Status: 200\n",
            "  Content-Type: text/html; charset=UTF-8\n",
            "  Size: 451 kB\n",
            "<!DOCTYPE html>\n",
            "<html class=\"client-nojs vector-feature-language-in-header-enabled vector-fea...\n",
            "<head>\n",
            "<meta charset=\"UTF-8\">\n",
            "<title>Template:COVID-19 testing by country - Wikipedia</title>\n",
            "<script>(function(){var className=\"client-js vector-feature-language-in-heade...\n",
            "RLSTATE={\"ext.globalCssJs.user.styles\":\"ready\",\"site.styles\":\"ready\",\"user.st...\n",
            "<script>(RLQ=window.RLQ||[]).push(function(){mw.loader.impl(function(){return...\n",
            "}];});});</script>\n",
            "<link rel=\"stylesheet\" href=\"/w/load.php?lang=en&amp;modules=ext.cite.styles%...\n",
            "...\n"
          ]
        }
      ],
      "source": [
        "# Call the get_wiki_covid19_page function and print the response\n",
        "response <- get_wiki_covid19_page()\n",
        "print(response)"
      ],
      "execution_count": null
    },
    {
      "cell_type": "markdown",
      "metadata": {
        "id": "826f472b-b84d-4e76-8cd6-a210032f3b2f"
      },
      "source": [
        "## TASK 2: Extract COVID-19 testing data table from the wiki HTML page\n"
      ]
    },
    {
      "cell_type": "markdown",
      "metadata": {
        "id": "dc7ecad0-3a4a-402d-9200-76b7e209008b"
      },
      "source": [
        "On the COVID-19 testing wiki page, you should see a data table `<table>` node contains COVID-19 testing data by country on the page:\n",
        "\n",
        "<a href=\"https://cognitiveclass.ai/\">\n",
        "    <img src=\"https://cf-courses-data.s3.us.cloud-object-storage.appdomain.cloud/IBMDeveloperSkillsNetwork-RP0101EN-Coursera/v2/M5_Final/images/covid-19-by-country.png\" width=\"400\" align=\"center\">\n",
        "</a>\n",
        "\n",
        "Note the numbers you actually see on your page may be different from above because it is still an on-going pandemic when creating this notebook.\n",
        "\n",
        "The goal of task 2 is to extract above data table and convert it into a data frame\n"
      ]
    },
    {
      "cell_type": "markdown",
      "metadata": {
        "id": "07ed8eae-cf66-41ac-b838-977a361b5159"
      },
      "source": [
        "Now use the `read_html` function in rvest library to get the root html node from response\n"
      ]
    },
    {
      "cell_type": "code",
      "metadata": {
        "id": "534a1dfc-81c9-4fb1-aee2-20c35a1c5a13"
      },
      "outputs": [],
      "source": [
        "# Get the root html node from the http response in task 1\n",
        "root_node <- read_html(response)\n"
      ],
      "execution_count": null
    },
    {
      "cell_type": "markdown",
      "metadata": {
        "id": "8dfd59ba-4c94-4ee1-9fb3-e194075db92d"
      },
      "source": [
        "Get the tables in the HTML root node using `html_nodes` function.\n"
      ]
    },
    {
      "cell_type": "code",
      "metadata": {
        "colab": {
          "base_uri": "https://localhost:8080/"
        },
        "id": "7e9b3225-521a-4be6-a000-758a11704e35",
        "outputId": "6f5eb5f1-daba-4a27-b8e4-b89449ba2b8f"
      },
      "outputs": [
        {
          "output_type": "stream",
          "name": "stdout",
          "text": [
            "{xml_nodeset (4)}\n",
            "[1] <table class=\"box-Update plainlinks ombox ombox-content ambox-Update\" rol ...\n",
            "[2] <table class=\"wikitable plainrowheaders sortable collapsible autocollapse ...\n",
            "[3] <table class=\"plainlinks ombox mbox-small ombox-notice\" role=\"presentatio ...\n",
            "[4] <table class=\"wikitable mw-templatedata-doc-params\">\\n<caption><p class=\" ...\n"
          ]
        }
      ],
      "source": [
        "# Get the table node from the root html node\n",
        "# Get all <table> nodes from the root HTML\n",
        "table_nodes <- html_elements(root_node, \"table\")\n",
        "\n",
        "# Inspect the number of tables found\n",
        "print(table_nodes)"
      ],
      "execution_count": null
    },
    {
      "cell_type": "markdown",
      "metadata": {
        "id": "452b5d7a-b82b-4aeb-9313-83d6da59c8f9"
      },
      "source": [
        "Read the specific table from the multiple tables in the `table_node` using the `html_table` function and convert it into dataframe using `as.data.frame`\n",
        "\n",
        "_Hint:- Please read the `table_node` with index 2(ex:- table_node[2])._\n"
      ]
    },
    {
      "cell_type": "code",
      "metadata": {
        "colab": {
          "base_uri": "https://localhost:8080/"
        },
        "id": "5e82c535-d476-4ce4-9bee-8ad85e0d787a",
        "outputId": "1aa1085c-e372-42ac-d0b7-99db8e71728b"
      },
      "outputs": [
        {
          "output_type": "stream",
          "name": "stdout",
          "text": [
            "\u001b[90m# A tibble: 173 × 9\u001b[39m\n",
            "   `Country or region` `Date[a]`   Tested      `Units[b]` `Confirmed(cases)`\n",
            "   \u001b[3m\u001b[90m<chr>\u001b[39m\u001b[23m               \u001b[3m\u001b[90m<chr>\u001b[39m\u001b[23m       \u001b[3m\u001b[90m<chr>\u001b[39m\u001b[23m       \u001b[3m\u001b[90m<chr>\u001b[39m\u001b[23m      \u001b[3m\u001b[90m<chr>\u001b[39m\u001b[23m             \n",
            "\u001b[90m 1\u001b[39m Afghanistan         17 Dec 2020 154,767     samples    49,621            \n",
            "\u001b[90m 2\u001b[39m Albania             18 Feb 2021 428,654     samples    96,838            \n",
            "\u001b[90m 3\u001b[39m Algeria             2 Nov 2020  230,553     samples    58,574            \n",
            "\u001b[90m 4\u001b[39m Andorra             23 Feb 2022 300,307     samples    37,958            \n",
            "\u001b[90m 5\u001b[39m Angola              2 Feb 2021  399,228     samples    20,981            \n",
            "\u001b[90m 6\u001b[39m Antigua and Barbuda 6 Mar 2021  15,268      samples    832               \n",
            "\u001b[90m 7\u001b[39m Argentina           16 Apr 2022 35,716,069  samples    9,060,495         \n",
            "\u001b[90m 8\u001b[39m Armenia             29 May 2022 3,099,602   samples    422,963           \n",
            "\u001b[90m 9\u001b[39m Australia           9 Sep 2022  78,548,492  samples    10,112,229        \n",
            "\u001b[90m10\u001b[39m Austria             1 Feb 2023  205,817,752 samples    5,789,991         \n",
            "\u001b[90m# ℹ 163 more rows\u001b[39m\n",
            "\u001b[90m# ℹ 4 more variables: `Confirmed /tested,%` <chr>,\u001b[39m\n",
            "\u001b[90m#   `Tested /population,%` <chr>, `Confirmed /population,%` <chr>, Ref. <chr>\u001b[39m\n"
          ]
        }
      ],
      "source": [
        "# Read the table node and convert it into a data frame, and print the data frame for review\n",
        "covid_df <- html_table(table_nodes[[2]], fill = TRUE)\n",
        "\n",
        "print(covid_df)\n"
      ],
      "execution_count": null
    },
    {
      "cell_type": "markdown",
      "metadata": {
        "id": "ffff7698-93e1-44f8-ad81-f5c98fcaa4ed"
      },
      "source": [
        "## TASK 3: Pre-process and export the extracted data frame\n",
        "\n",
        "The goal of task 3 is to pre-process the extracted data frame from the previous step, and export it as a csv file\n"
      ]
    },
    {
      "cell_type": "markdown",
      "metadata": {
        "id": "aa90416a-a1d9-4047-92d0-b8fe086d136c"
      },
      "source": [
        "Let's get a summary of the data frame\n"
      ]
    },
    {
      "cell_type": "code",
      "metadata": {
        "colab": {
          "base_uri": "https://localhost:8080/",
          "height": 225
        },
        "id": "5f09cc58-a2d5-4ac4-aa1d-e7ccb71915af",
        "outputId": "73a5f697-ed6b-4dc6-a77c-92e5f4400a44"
      },
      "outputs": [
        {
          "output_type": "display_data",
          "data": {
            "text/plain": [
              " Country or region    Date[a]             Tested            Units[b]        \n",
              " Length:173         Length:173         Length:173         Length:173        \n",
              " Class :character   Class :character   Class :character   Class :character  \n",
              " Mode  :character   Mode  :character   Mode  :character   Mode  :character  \n",
              " Confirmed(cases)   Confirmed /tested,% Tested /population,%\n",
              " Length:173         Length:173          Length:173          \n",
              " Class :character   Class :character    Class :character    \n",
              " Mode  :character   Mode  :character    Mode  :character    \n",
              " Confirmed /population,%     Ref.          \n",
              " Length:173              Length:173        \n",
              " Class :character        Class :character  \n",
              " Mode  :character        Mode  :character  "
            ]
          },
          "metadata": {}
        }
      ],
      "source": [
        "# Print the summary of the data frame\n",
        "summary(covid_df)\n"
      ],
      "execution_count": null
    },
    {
      "cell_type": "markdown",
      "metadata": {
        "id": "8c8b077e-8d1f-4cff-863c-cd9a5a94a017"
      },
      "source": [
        "As you can see from the summary, the columns names are little bit different to understand and some column data types are not correct. For example, the `Tested` column shows as `character`.\n",
        "\n",
        "As such, the data frame read from HTML table will need some pre-processing such as removing irrelvant columns, renaming columns, and convert columns into proper data types.\n"
      ]
    },
    {
      "cell_type": "markdown",
      "metadata": {
        "id": "c0e58c3c-0f3f-41ed-bded-f619456ea1c4"
      },
      "source": [
        "We have prepared a pre-processing function for you to conver the data frame but you can also try to write one by yourself\n"
      ]
    },
    {
      "cell_type": "code",
      "metadata": {
        "id": "e93bbc03-f6f5-4159-b1f1-9d6e8af401e3"
      },
      "outputs": [],
      "source": [
        "preprocess_covid_data_frame <- function(data_frame) {\n",
        "\n",
        "    shape <- dim(data_frame)\n",
        "\n",
        "    # Remove the World row\n",
        "    data_frame<-data_frame[!(data_frame$`Country or region`==\"World\"),]\n",
        "    # Remove the last row\n",
        "    data_frame <- data_frame[1:172, ]\n",
        "\n",
        "    # We dont need the Units and Ref columns, so can be removed\n",
        "    data_frame[\"Ref.\"] <- NULL\n",
        "    data_frame[\"Units[b]\"] <- NULL\n",
        "\n",
        "\n",
        "    # Renaming the columns\n",
        "    names(data_frame) <- c(\"country\", \"date\", \"tested\", \"confirmed\", \"confirmed.tested.ratio\", \"tested.population.ratio\", \"confirmed.population.ratio\")\n",
        "\n",
        "    # Convert column data types\n",
        "    data_frame$country <- as.factor(data_frame$country)\n",
        "    data_frame$date <- as.factor(data_frame$date)\n",
        "    data_frame$tested <- as.numeric(gsub(\",\",\"\",data_frame$tested))\n",
        "    data_frame$confirmed <- as.numeric(gsub(\",\",\"\",data_frame$confirmed))\n",
        "    data_frame$'confirmed.tested.ratio' <- as.numeric(gsub(\",\",\"\",data_frame$`confirmed.tested.ratio`))\n",
        "    data_frame$'tested.population.ratio' <- as.numeric(gsub(\",\",\"\",data_frame$`tested.population.ratio`))\n",
        "    data_frame$'confirmed.population.ratio' <- as.numeric(gsub(\",\",\"\",data_frame$`confirmed.population.ratio`))\n",
        "\n",
        "    return(data_frame)\n",
        "}\n"
      ],
      "execution_count": null
    },
    {
      "cell_type": "markdown",
      "metadata": {
        "id": "6ea581c8-3dd8-4729-95fc-cbb88a4bccad"
      },
      "source": [
        "Call the `preprocess_covid_data_frame` function\n"
      ]
    },
    {
      "cell_type": "code",
      "metadata": {
        "id": "a74e9267-6f30-4dca-bb05-c3a44c72a21c"
      },
      "outputs": [],
      "source": [
        "# call `preprocess_covid_data_frame` function and assign it to a new data frame\n",
        "new_df <- preprocess_covid_data_frame(covid_df)"
      ],
      "execution_count": null
    },
    {
      "cell_type": "markdown",
      "metadata": {
        "id": "65cb5c8c-c010-49c7-b731-3e3f47bd9aa2"
      },
      "source": [
        "Get the summary of the processed data frame again\n"
      ]
    },
    {
      "cell_type": "code",
      "metadata": {
        "colab": {
          "base_uri": "https://localhost:8080/"
        },
        "id": "6f65dff3-bae9-4d97-9e0e-47c3b2e0695c",
        "outputId": "87c0db33-b80a-4202-b1fa-6c4d6fc47bb2"
      },
      "outputs": [
        {
          "output_type": "stream",
          "name": "stdout",
          "text": [
            "                country             date         tested         \n",
            " Afghanistan        :  1   2 Feb 2023 :  6   Min.   :     3880  \n",
            " Albania            :  1   1 Feb 2023 :  4   1st Qu.:   512037  \n",
            " Algeria            :  1   31 Jan 2023:  4   Median :  3029859  \n",
            " Andorra            :  1   1 Mar 2021 :  3   Mean   : 31377219  \n",
            " Angola             :  1   23 Jul 2021:  3   3rd Qu.: 12386725  \n",
            " Antigua and Barbuda:  1   29 Jan 2023:  3   Max.   :929349291  \n",
            " (Other)            :166   (Other)    :149                      \n",
            "   confirmed        confirmed.tested.ratio tested.population.ratio\n",
            " Min.   :       0   Min.   : 0.00          Min.   :   0.0065      \n",
            " 1st Qu.:   37839   1st Qu.: 5.00          1st Qu.:   9.4750      \n",
            " Median :  281196   Median :10.05          Median :  46.9500      \n",
            " Mean   : 2508340   Mean   :11.25          Mean   : 175.5043      \n",
            " 3rd Qu.: 1278105   3rd Qu.:15.25          3rd Qu.: 156.5000      \n",
            " Max.   :90749469   Max.   :46.80          Max.   :3223.0000      \n",
            "                                                                  \n",
            " confirmed.population.ratio\n",
            " Min.   : 0.000            \n",
            " 1st Qu.: 0.425            \n",
            " Median : 6.100            \n",
            " Mean   :12.769            \n",
            " 3rd Qu.:16.250            \n",
            " Max.   :74.400            \n",
            "                           \n"
          ]
        }
      ],
      "source": [
        "# Print the summary of the processed data frame again\n",
        "print(summary(new_df))"
      ],
      "execution_count": null
    },
    {
      "cell_type": "markdown",
      "metadata": {
        "id": "3b2cdbe2-5f38-491b-8448-0821d21f2a02"
      },
      "source": [
        "After pre-processing, you can see the columns and columns names are simplified, and columns types are converted into correct types.\n"
      ]
    },
    {
      "cell_type": "markdown",
      "metadata": {
        "id": "9edfc9b0-44f8-4545-a05d-bb554c6a2fd5"
      },
      "source": [
        "The data frame has following columns:\n",
        "\n",
        "- **country** - The name of the country\n",
        "- **date** - Reported date\n",
        "- **tested** - Total tested cases by the reported date\n",
        "- **confirmed** - Total confirmed cases by the reported date\n",
        "- **confirmed.tested.ratio** - The ratio of confirmed cases to the tested cases\n",
        "- **tested.population.ratio** - The ratio of tested cases to the population of the country\n",
        "- **confirmed.population.ratio** - The ratio of confirmed cases to the population of the country\n"
      ]
    },
    {
      "cell_type": "markdown",
      "metadata": {
        "id": "a0761862-0478-4583-b2d4-9ee9080f9d9d"
      },
      "source": [
        "OK, we can call `write.csv()` function to save the csv file into a file.\n"
      ]
    },
    {
      "cell_type": "code",
      "metadata": {
        "id": "3fef4620-019b-41f7-838a-07ca1bca9ac1"
      },
      "outputs": [],
      "source": [
        "# Export the data frame to a csv file\n",
        "write.csv(new_df, \"new_df.csv\", row.names = FALSE)"
      ],
      "execution_count": null
    },
    {
      "cell_type": "markdown",
      "metadata": {
        "id": "790e85c1-6936-461a-8589-d7da2b2a3420"
      },
      "source": [
        "Note for IBM Waston Studio, there is no traditional \"hard disk\" associated with a R workspace.\n",
        "\n",
        "Even if you call `write.csv()` method to save the data frame as a csv file, it won't be shown in IBM Cloud Object Storage asset UI automatically.\n",
        "\n",
        "However, you may still check if the `covid.csv` exists using following code snippet:\n"
      ]
    },
    {
      "cell_type": "code",
      "metadata": {
        "colab": {
          "base_uri": "https://localhost:8080/",
          "height": 69
        },
        "id": "65a4bedb-b064-4b32-bd8e-ce083d104448",
        "outputId": "2202ba89-dc2a-4c07-e836-f973be5eb227"
      },
      "outputs": [
        {
          "output_type": "stream",
          "name": "stdout",
          "text": [
            "[1] \"/content\"\n",
            "[1] \"/content/new_df.csv\"\n"
          ]
        },
        {
          "output_type": "display_data",
          "data": {
            "text/html": [
              "TRUE"
            ],
            "text/markdown": "TRUE",
            "text/latex": "TRUE",
            "text/plain": [
              "[1] TRUE"
            ]
          },
          "metadata": {}
        }
      ],
      "source": [
        "# Get working directory\n",
        "wd <- getwd()\n",
        "print(wd)\n",
        "# Get exported\n",
        "file_path <- paste(wd, sep=\"\", \"/new_df.csv\")\n",
        "# File path\n",
        "print(file_path)\n",
        "file.exists(file_path)"
      ],
      "execution_count": null
    },
    {
      "cell_type": "markdown",
      "metadata": {
        "id": "86c9db97-3081-4311-9c4d-52787ccc0eb7"
      },
      "source": [
        "**Optional Step**: If you have difficulties finishing above webscraping tasks, you may still continue with next tasks by downloading a provided csv file from here:\n"
      ]
    },
    {
      "cell_type": "code",
      "metadata": {
        "id": "841ecb2e-f5f4-4bc9-8783-798facce8df0"
      },
      "outputs": [],
      "source": [
        "## Download a sample csv file\n",
        "# covid_csv_file <- download.file(\"https://cf-courses-data.s3.us.cloud-object-storage.appdomain.cloud/IBMDeveloperSkillsNetwork-RP0101EN-Coursera/v2/dataset/covid.csv\", destfile=\"covid.csv\")\n",
        "# covid_data_frame_csv <- read.csv(\"covid.csv\", header=TRUE, sep=\",\")"
      ],
      "execution_count": null
    },
    {
      "cell_type": "markdown",
      "metadata": {
        "id": "603dfbf4-530d-4293-99fb-f5e75e28c974"
      },
      "source": [
        "## TASK 4: Get a subset of the extracted data frame\n",
        "\n",
        "The goal of task 4 is to get the 5th to 10th rows from the data frame with only `country` and `confirmed` columns selected\n"
      ]
    },
    {
      "cell_type": "code",
      "metadata": {
        "colab": {
          "base_uri": "https://localhost:8080/",
          "height": 286
        },
        "id": "bbb34235-655e-47f0-b3b2-4502f4cf353b",
        "outputId": "ee5073c7-24d5-454b-d054-0853c4abc241"
      },
      "outputs": [
        {
          "output_type": "display_data",
          "data": {
            "text/html": [
              "<table class=\"dataframe\">\n",
              "<caption>A tibble: 6 × 2</caption>\n",
              "<thead>\n",
              "\t<tr><th scope=col>country</th><th scope=col>confirmed</th></tr>\n",
              "\t<tr><th scope=col>&lt;fct&gt;</th><th scope=col>&lt;dbl&gt;</th></tr>\n",
              "</thead>\n",
              "<tbody>\n",
              "\t<tr><td>Angola             </td><td>   20981</td></tr>\n",
              "\t<tr><td>Antigua and Barbuda</td><td>     832</td></tr>\n",
              "\t<tr><td>Argentina          </td><td> 9060495</td></tr>\n",
              "\t<tr><td>Armenia            </td><td>  422963</td></tr>\n",
              "\t<tr><td>Australia          </td><td>10112229</td></tr>\n",
              "\t<tr><td>Austria            </td><td> 5789991</td></tr>\n",
              "</tbody>\n",
              "</table>\n"
            ],
            "text/markdown": "\nA tibble: 6 × 2\n\n| country &lt;fct&gt; | confirmed &lt;dbl&gt; |\n|---|---|\n| Angola              |    20981 |\n| Antigua and Barbuda |      832 |\n| Argentina           |  9060495 |\n| Armenia             |   422963 |\n| Australia           | 10112229 |\n| Austria             |  5789991 |\n\n",
            "text/latex": "A tibble: 6 × 2\n\\begin{tabular}{ll}\n country & confirmed\\\\\n <fct> & <dbl>\\\\\n\\hline\n\t Angola              &    20981\\\\\n\t Antigua and Barbuda &      832\\\\\n\t Argentina           &  9060495\\\\\n\t Armenia             &   422963\\\\\n\t Australia           & 10112229\\\\\n\t Austria             &  5789991\\\\\n\\end{tabular}\n",
            "text/plain": [
              "  country             confirmed\n",
              "1 Angola                 20981 \n",
              "2 Antigua and Barbuda      832 \n",
              "3 Argentina            9060495 \n",
              "4 Armenia               422963 \n",
              "5 Australia           10112229 \n",
              "6 Austria              5789991 "
            ]
          },
          "metadata": {}
        }
      ],
      "source": [
        "# Read covid_data_frame_csv from the csv file\n",
        "\n",
        "# Get the 5th to 10th rows, with two \"country\" \"confirmed\" columns\n",
        "new_df[5:10,c('country','confirmed')]\n"
      ],
      "execution_count": null
    },
    {
      "cell_type": "markdown",
      "metadata": {
        "id": "86b9f45c-2892-4205-a1ff-09b60a1a4e12"
      },
      "source": [
        "## TASK 5: Calculate worldwide COVID testing positive ratio\n",
        "\n",
        "The goal of task 5 is to get the total confirmed and tested cases worldwide, and try to figure the overall positive ratio using `confirmed cases / tested cases`\n"
      ]
    },
    {
      "cell_type": "code",
      "metadata": {
        "colab": {
          "base_uri": "https://localhost:8080/"
        },
        "id": "2dc8361f-81f3-4feb-966e-15e28e32dcb3",
        "outputId": "ff9bba65-148e-48a7-efdf-f1c1f8c4d02c"
      },
      "outputs": [
        {
          "output_type": "stream",
          "name": "stdout",
          "text": [
            "[1] 431434555\n",
            "[1] 5396881644\n",
            "[1] 0.07994145\n"
          ]
        }
      ],
      "source": [
        "# Get the total confirmed cases worldwide\n",
        "total_confirmed <- sum(new_df$confirmed, na.rm = TRUE)\n",
        "print(total_confirmed)\n",
        "\n",
        "# Get the total tested cases worldwide\n",
        "total_tested <-sum(new_df$tested, na.rm = TRUE)\n",
        "print(total_tested)\n",
        "\n",
        "# Get the positive ratio (confirmed / tested)\n",
        "positive_ratio <- total_confirmed/total_tested\n",
        "print(positive_ratio)\n",
        "\n"
      ],
      "execution_count": null
    },
    {
      "cell_type": "markdown",
      "metadata": {
        "id": "9b5c1ade-4e4f-433b-b6c2-765f599733a7"
      },
      "source": [
        "## TASK 6: Get a country list which reported their testing data\n",
        "\n",
        "The goal of task 6 is to get a catalog or sorted list of countries who have reported their COVID-19 testing data\n"
      ]
    },
    {
      "cell_type": "code",
      "metadata": {
        "colab": {
          "base_uri": "https://localhost:8080/",
          "height": 1000
        },
        "id": "92c50f1d-af07-444b-881d-d2bf5095d31b",
        "outputId": "ca569653-5d41-466d-8f16-9ee8c28f2629"
      },
      "outputs": [
        {
          "output_type": "display_data",
          "data": {
            "text/html": [
              "<style>\n",
              ".list-inline {list-style: none; margin:0; padding: 0}\n",
              ".list-inline>li {display: inline-block}\n",
              ".list-inline>li:not(:last-child)::after {content: \"\\00b7\"; padding: 0 .5ex}\n",
              "</style>\n",
              "<ol class=list-inline><li>Afghanistan</li><li>Albania</li><li>Algeria</li><li>Andorra</li><li>Angola</li><li>Antigua and Barbuda</li><li>Argentina</li><li>Armenia</li><li>Australia</li><li>Austria</li><li>Azerbaijan</li><li>Bahamas</li><li>Bahrain</li><li>Bangladesh</li><li>Barbados</li><li>Belarus</li><li>Belgium</li><li>Belize</li><li>Benin</li><li>Bhutan</li><li>Bolivia</li><li>Bosnia and Herzegovina</li><li>Botswana</li><li>Brazil</li><li>Brunei</li><li>Bulgaria</li><li>Burkina Faso</li><li>Burundi</li><li>Cambodia</li><li>Cameroon</li><li>Canada</li><li>Chad</li><li>Chile</li><li>China[c]</li><li>Colombia</li><li>Costa Rica</li><li>Croatia</li><li>Cuba</li><li>Cyprus[d]</li><li>Czechia</li><li>Denmark[e]</li><li>Djibouti</li><li>Dominica</li><li>Dominican Republic</li><li>DR Congo</li><li>Ecuador</li><li>Egypt</li><li>El Salvador</li><li>Equatorial Guinea</li><li>Estonia</li><li>Eswatini</li><li>Ethiopia</li><li>Faroe Islands</li><li>Fiji</li><li>Finland</li><li>France[f][g]</li><li>Gabon</li><li>Gambia</li><li>Georgia[h]</li><li>Germany</li><li>Ghana</li><li>Greece</li><li>Greenland</li><li>Grenada</li><li>Guatemala</li><li>Guinea</li><li>Guinea-Bissau</li><li>Guyana</li><li>Haiti</li><li>Honduras</li><li>Hungary</li><li>Iceland</li><li>India</li><li>Indonesia</li><li>Iran</li><li>Iraq</li><li>Ireland</li><li>Israel</li><li>Italy</li><li>Ivory Coast</li><li>Jamaica</li><li>Japan</li><li>Jordan</li><li>Kazakhstan</li><li>Kenya</li><li>Kosovo</li><li>Kuwait</li><li>Kyrgyzstan</li><li>Laos</li><li>Latvia</li><li>Lebanon</li><li>Lesotho</li><li>Liberia</li><li>Libya</li><li>Lithuania</li><li>Luxembourg[i]</li><li>Madagascar</li><li>Malawi</li><li>Malaysia</li><li>Maldives</li><li>Mali</li><li>Malta</li><li>Mauritania</li><li>Mauritius</li><li>Mexico</li><li>Moldova[j]</li><li>Mongolia</li><li>Montenegro</li><li>Morocco</li><li>Mozambique</li><li>Myanmar</li><li>Namibia</li><li>Nepal</li><li>Netherlands</li><li>New Caledonia</li><li>New Zealand</li><li>Niger</li><li>Nigeria</li><li>North Korea</li><li>North Macedonia</li><li>Northern Cyprus[k]</li><li>Norway</li><li>Oman</li><li>Pakistan</li><li>Palestine</li><li>Panama</li><li>Papua New Guinea</li><li>Paraguay</li><li>Peru</li><li>Philippines</li><li>Poland</li><li>Portugal</li><li>Qatar</li><li>Romania</li><li>Russia</li><li>Rwanda</li><li>Saint Kitts and Nevis</li><li>Saint Lucia</li><li>Saint Vincent</li><li>San Marino</li><li>Saudi Arabia</li><li>Senegal</li><li>Serbia</li><li>Singapore</li><li>Slovakia</li><li>Slovenia</li><li>South Africa</li><li>South Korea</li><li>South Sudan</li><li>Spain</li><li>Sri Lanka</li><li>Sudan</li><li>Sweden</li><li>Switzerland[l]</li><li>Taiwan[m]</li><li>Tanzania</li><li>Thailand</li><li>Togo</li><li>Trinidad and Tobago</li><li>Tunisia</li><li>Turkey</li><li>Uganda</li><li>Ukraine</li><li>United Arab Emirates</li><li>United Kingdom</li><li>United States</li><li>Uruguay</li><li>Uzbekistan</li><li>Venezuela</li><li>Vietnam</li><li>Zambia</li><li>Zimbabwe</li></ol>\n",
              "\n",
              "<details>\n",
              "\t<summary style=display:list-item;cursor:pointer>\n",
              "\t\t<strong>Levels</strong>:\n",
              "\t</summary>\n",
              "\t<style>\n",
              "\t.list-inline {list-style: none; margin:0; padding: 0}\n",
              "\t.list-inline>li {display: inline-block}\n",
              "\t.list-inline>li:not(:last-child)::after {content: \"\\00b7\"; padding: 0 .5ex}\n",
              "\t</style>\n",
              "\t<ol class=list-inline><li>'Afghanistan'</li><li>'Albania'</li><li>'Algeria'</li><li>'Andorra'</li><li>'Angola'</li><li>'Antigua and Barbuda'</li><li>'Argentina'</li><li>'Armenia'</li><li>'Australia'</li><li>'Austria'</li><li>'Azerbaijan'</li><li>'Bahamas'</li><li>'Bahrain'</li><li>'Bangladesh'</li><li>'Barbados'</li><li>'Belarus'</li><li>'Belgium'</li><li>'Belize'</li><li>'Benin'</li><li>'Bhutan'</li><li>'Bolivia'</li><li>'Bosnia and Herzegovina'</li><li>'Botswana'</li><li>'Brazil'</li><li>'Brunei'</li><li>'Bulgaria'</li><li>'Burkina Faso'</li><li>'Burundi'</li><li>'Cambodia'</li><li>'Cameroon'</li><li>'Canada'</li><li>'Chad'</li><li>'Chile'</li><li>'China[c]'</li><li>'Colombia'</li><li>'Costa Rica'</li><li>'Croatia'</li><li>'Cuba'</li><li>'Cyprus[d]'</li><li>'Czechia'</li><li>'Denmark[e]'</li><li>'Djibouti'</li><li>'Dominica'</li><li>'Dominican Republic'</li><li>'DR Congo'</li><li>'Ecuador'</li><li>'Egypt'</li><li>'El Salvador'</li><li>'Equatorial Guinea'</li><li>'Estonia'</li><li>'Eswatini'</li><li>'Ethiopia'</li><li>'Faroe Islands'</li><li>'Fiji'</li><li>'Finland'</li><li>'France[f][g]'</li><li>'Gabon'</li><li>'Gambia'</li><li>'Georgia[h]'</li><li>'Germany'</li><li>'Ghana'</li><li>'Greece'</li><li>'Greenland'</li><li>'Grenada'</li><li>'Guatemala'</li><li>'Guinea'</li><li>'Guinea-Bissau'</li><li>'Guyana'</li><li>'Haiti'</li><li>'Honduras'</li><li>'Hungary'</li><li>'Iceland'</li><li>'India'</li><li>'Indonesia'</li><li>'Iran'</li><li>'Iraq'</li><li>'Ireland'</li><li>'Israel'</li><li>'Italy'</li><li>'Ivory Coast'</li><li>'Jamaica'</li><li>'Japan'</li><li>'Jordan'</li><li>'Kazakhstan'</li><li>'Kenya'</li><li>'Kosovo'</li><li>'Kuwait'</li><li>'Kyrgyzstan'</li><li>'Laos'</li><li>'Latvia'</li><li>'Lebanon'</li><li>'Lesotho'</li><li>'Liberia'</li><li>'Libya'</li><li>'Lithuania'</li><li>'Luxembourg[i]'</li><li>'Madagascar'</li><li>'Malawi'</li><li>'Malaysia'</li><li>'Maldives'</li><li>'Mali'</li><li>'Malta'</li><li>'Mauritania'</li><li>'Mauritius'</li><li>'Mexico'</li><li>'Moldova[j]'</li><li>'Mongolia'</li><li>'Montenegro'</li><li>'Morocco'</li><li>'Mozambique'</li><li>'Myanmar'</li><li>'Namibia'</li><li>'Nepal'</li><li>'Netherlands'</li><li>'New Caledonia'</li><li>'New Zealand'</li><li>'Niger'</li><li>'Nigeria'</li><li>'North Korea'</li><li>'North Macedonia'</li><li>'Northern Cyprus[k]'</li><li>'Norway'</li><li>'Oman'</li><li>'Pakistan'</li><li>'Palestine'</li><li>'Panama'</li><li>'Papua New Guinea'</li><li>'Paraguay'</li><li>'Peru'</li><li>'Philippines'</li><li>'Poland'</li><li>'Portugal'</li><li>'Qatar'</li><li>'Romania'</li><li>'Russia'</li><li>'Rwanda'</li><li>'Saint Kitts and Nevis'</li><li>'Saint Lucia'</li><li>'Saint Vincent'</li><li>'San Marino'</li><li>'Saudi Arabia'</li><li>'Senegal'</li><li>'Serbia'</li><li>'Singapore'</li><li>'Slovakia'</li><li>'Slovenia'</li><li>'South Africa'</li><li>'South Korea'</li><li>'South Sudan'</li><li>'Spain'</li><li>'Sri Lanka'</li><li>'Sudan'</li><li>'Sweden'</li><li>'Switzerland[l]'</li><li>'Taiwan[m]'</li><li>'Tanzania'</li><li>'Thailand'</li><li>'Togo'</li><li>'Trinidad and Tobago'</li><li>'Tunisia'</li><li>'Turkey'</li><li>'Uganda'</li><li>'Ukraine'</li><li>'United Arab Emirates'</li><li>'United Kingdom'</li><li>'United States'</li><li>'Uruguay'</li><li>'Uzbekistan'</li><li>'Venezuela'</li><li>'Vietnam'</li><li>'Zambia'</li><li>'Zimbabwe'</li></ol>\n",
              "</details>"
            ],
            "text/markdown": "1. Afghanistan\n2. Albania\n3. Algeria\n4. Andorra\n5. Angola\n6. Antigua and Barbuda\n7. Argentina\n8. Armenia\n9. Australia\n10. Austria\n11. Azerbaijan\n12. Bahamas\n13. Bahrain\n14. Bangladesh\n15. Barbados\n16. Belarus\n17. Belgium\n18. Belize\n19. Benin\n20. Bhutan\n21. Bolivia\n22. Bosnia and Herzegovina\n23. Botswana\n24. Brazil\n25. Brunei\n26. Bulgaria\n27. Burkina Faso\n28. Burundi\n29. Cambodia\n30. Cameroon\n31. Canada\n32. Chad\n33. Chile\n34. China[c]\n35. Colombia\n36. Costa Rica\n37. Croatia\n38. Cuba\n39. Cyprus[d]\n40. Czechia\n41. Denmark[e]\n42. Djibouti\n43. Dominica\n44. Dominican Republic\n45. DR Congo\n46. Ecuador\n47. Egypt\n48. El Salvador\n49. Equatorial Guinea\n50. Estonia\n51. Eswatini\n52. Ethiopia\n53. Faroe Islands\n54. Fiji\n55. Finland\n56. France[f][g]\n57. Gabon\n58. Gambia\n59. Georgia[h]\n60. Germany\n61. Ghana\n62. Greece\n63. Greenland\n64. Grenada\n65. Guatemala\n66. Guinea\n67. Guinea-Bissau\n68. Guyana\n69. Haiti\n70. Honduras\n71. Hungary\n72. Iceland\n73. India\n74. Indonesia\n75. Iran\n76. Iraq\n77. Ireland\n78. Israel\n79. Italy\n80. Ivory Coast\n81. Jamaica\n82. Japan\n83. Jordan\n84. Kazakhstan\n85. Kenya\n86. Kosovo\n87. Kuwait\n88. Kyrgyzstan\n89. Laos\n90. Latvia\n91. Lebanon\n92. Lesotho\n93. Liberia\n94. Libya\n95. Lithuania\n96. Luxembourg[i]\n97. Madagascar\n98. Malawi\n99. Malaysia\n100. Maldives\n101. Mali\n102. Malta\n103. Mauritania\n104. Mauritius\n105. Mexico\n106. Moldova[j]\n107. Mongolia\n108. Montenegro\n109. Morocco\n110. Mozambique\n111. Myanmar\n112. Namibia\n113. Nepal\n114. Netherlands\n115. New Caledonia\n116. New Zealand\n117. Niger\n118. Nigeria\n119. North Korea\n120. North Macedonia\n121. Northern Cyprus[k]\n122. Norway\n123. Oman\n124. Pakistan\n125. Palestine\n126. Panama\n127. Papua New Guinea\n128. Paraguay\n129. Peru\n130. Philippines\n131. Poland\n132. Portugal\n133. Qatar\n134. Romania\n135. Russia\n136. Rwanda\n137. Saint Kitts and Nevis\n138. Saint Lucia\n139. Saint Vincent\n140. San Marino\n141. Saudi Arabia\n142. Senegal\n143. Serbia\n144. Singapore\n145. Slovakia\n146. Slovenia\n147. South Africa\n148. South Korea\n149. South Sudan\n150. Spain\n151. Sri Lanka\n152. Sudan\n153. Sweden\n154. Switzerland[l]\n155. Taiwan[m]\n156. Tanzania\n157. Thailand\n158. Togo\n159. Trinidad and Tobago\n160. Tunisia\n161. Turkey\n162. Uganda\n163. Ukraine\n164. United Arab Emirates\n165. United Kingdom\n166. United States\n167. Uruguay\n168. Uzbekistan\n169. Venezuela\n170. Vietnam\n171. Zambia\n172. Zimbabwe\n\n\n\n**Levels**: 1. 'Afghanistan'\n2. 'Albania'\n3. 'Algeria'\n4. 'Andorra'\n5. 'Angola'\n6. 'Antigua and Barbuda'\n7. 'Argentina'\n8. 'Armenia'\n9. 'Australia'\n10. 'Austria'\n11. 'Azerbaijan'\n12. 'Bahamas'\n13. 'Bahrain'\n14. 'Bangladesh'\n15. 'Barbados'\n16. 'Belarus'\n17. 'Belgium'\n18. 'Belize'\n19. 'Benin'\n20. 'Bhutan'\n21. 'Bolivia'\n22. 'Bosnia and Herzegovina'\n23. 'Botswana'\n24. 'Brazil'\n25. 'Brunei'\n26. 'Bulgaria'\n27. 'Burkina Faso'\n28. 'Burundi'\n29. 'Cambodia'\n30. 'Cameroon'\n31. 'Canada'\n32. 'Chad'\n33. 'Chile'\n34. 'China[c]'\n35. 'Colombia'\n36. 'Costa Rica'\n37. 'Croatia'\n38. 'Cuba'\n39. 'Cyprus[d]'\n40. 'Czechia'\n41. 'Denmark[e]'\n42. 'Djibouti'\n43. 'Dominica'\n44. 'Dominican Republic'\n45. 'DR Congo'\n46. 'Ecuador'\n47. 'Egypt'\n48. 'El Salvador'\n49. 'Equatorial Guinea'\n50. 'Estonia'\n51. 'Eswatini'\n52. 'Ethiopia'\n53. 'Faroe Islands'\n54. 'Fiji'\n55. 'Finland'\n56. 'France[f][g]'\n57. 'Gabon'\n58. 'Gambia'\n59. 'Georgia[h]'\n60. 'Germany'\n61. 'Ghana'\n62. 'Greece'\n63. 'Greenland'\n64. 'Grenada'\n65. 'Guatemala'\n66. 'Guinea'\n67. 'Guinea-Bissau'\n68. 'Guyana'\n69. 'Haiti'\n70. 'Honduras'\n71. 'Hungary'\n72. 'Iceland'\n73. 'India'\n74. 'Indonesia'\n75. 'Iran'\n76. 'Iraq'\n77. 'Ireland'\n78. 'Israel'\n79. 'Italy'\n80. 'Ivory Coast'\n81. 'Jamaica'\n82. 'Japan'\n83. 'Jordan'\n84. 'Kazakhstan'\n85. 'Kenya'\n86. 'Kosovo'\n87. 'Kuwait'\n88. 'Kyrgyzstan'\n89. 'Laos'\n90. 'Latvia'\n91. 'Lebanon'\n92. 'Lesotho'\n93. 'Liberia'\n94. 'Libya'\n95. 'Lithuania'\n96. 'Luxembourg[i]'\n97. 'Madagascar'\n98. 'Malawi'\n99. 'Malaysia'\n100. 'Maldives'\n101. 'Mali'\n102. 'Malta'\n103. 'Mauritania'\n104. 'Mauritius'\n105. 'Mexico'\n106. 'Moldova[j]'\n107. 'Mongolia'\n108. 'Montenegro'\n109. 'Morocco'\n110. 'Mozambique'\n111. 'Myanmar'\n112. 'Namibia'\n113. 'Nepal'\n114. 'Netherlands'\n115. 'New Caledonia'\n116. 'New Zealand'\n117. 'Niger'\n118. 'Nigeria'\n119. 'North Korea'\n120. 'North Macedonia'\n121. 'Northern Cyprus[k]'\n122. 'Norway'\n123. 'Oman'\n124. 'Pakistan'\n125. 'Palestine'\n126. 'Panama'\n127. 'Papua New Guinea'\n128. 'Paraguay'\n129. 'Peru'\n130. 'Philippines'\n131. 'Poland'\n132. 'Portugal'\n133. 'Qatar'\n134. 'Romania'\n135. 'Russia'\n136. 'Rwanda'\n137. 'Saint Kitts and Nevis'\n138. 'Saint Lucia'\n139. 'Saint Vincent'\n140. 'San Marino'\n141. 'Saudi Arabia'\n142. 'Senegal'\n143. 'Serbia'\n144. 'Singapore'\n145. 'Slovakia'\n146. 'Slovenia'\n147. 'South Africa'\n148. 'South Korea'\n149. 'South Sudan'\n150. 'Spain'\n151. 'Sri Lanka'\n152. 'Sudan'\n153. 'Sweden'\n154. 'Switzerland[l]'\n155. 'Taiwan[m]'\n156. 'Tanzania'\n157. 'Thailand'\n158. 'Togo'\n159. 'Trinidad and Tobago'\n160. 'Tunisia'\n161. 'Turkey'\n162. 'Uganda'\n163. 'Ukraine'\n164. 'United Arab Emirates'\n165. 'United Kingdom'\n166. 'United States'\n167. 'Uruguay'\n168. 'Uzbekistan'\n169. 'Venezuela'\n170. 'Vietnam'\n171. 'Zambia'\n172. 'Zimbabwe'\n\n\n",
            "text/latex": "\\begin{enumerate*}\n\\item Afghanistan\n\\item Albania\n\\item Algeria\n\\item Andorra\n\\item Angola\n\\item Antigua and Barbuda\n\\item Argentina\n\\item Armenia\n\\item Australia\n\\item Austria\n\\item Azerbaijan\n\\item Bahamas\n\\item Bahrain\n\\item Bangladesh\n\\item Barbados\n\\item Belarus\n\\item Belgium\n\\item Belize\n\\item Benin\n\\item Bhutan\n\\item Bolivia\n\\item Bosnia and Herzegovina\n\\item Botswana\n\\item Brazil\n\\item Brunei\n\\item Bulgaria\n\\item Burkina Faso\n\\item Burundi\n\\item Cambodia\n\\item Cameroon\n\\item Canada\n\\item Chad\n\\item Chile\n\\item China{[}c{]}\n\\item Colombia\n\\item Costa Rica\n\\item Croatia\n\\item Cuba\n\\item Cyprus{[}d{]}\n\\item Czechia\n\\item Denmark{[}e{]}\n\\item Djibouti\n\\item Dominica\n\\item Dominican Republic\n\\item DR Congo\n\\item Ecuador\n\\item Egypt\n\\item El Salvador\n\\item Equatorial Guinea\n\\item Estonia\n\\item Eswatini\n\\item Ethiopia\n\\item Faroe Islands\n\\item Fiji\n\\item Finland\n\\item France{[}f{]}{[}g{]}\n\\item Gabon\n\\item Gambia\n\\item Georgia{[}h{]}\n\\item Germany\n\\item Ghana\n\\item Greece\n\\item Greenland\n\\item Grenada\n\\item Guatemala\n\\item Guinea\n\\item Guinea-Bissau\n\\item Guyana\n\\item Haiti\n\\item Honduras\n\\item Hungary\n\\item Iceland\n\\item India\n\\item Indonesia\n\\item Iran\n\\item Iraq\n\\item Ireland\n\\item Israel\n\\item Italy\n\\item Ivory Coast\n\\item Jamaica\n\\item Japan\n\\item Jordan\n\\item Kazakhstan\n\\item Kenya\n\\item Kosovo\n\\item Kuwait\n\\item Kyrgyzstan\n\\item Laos\n\\item Latvia\n\\item Lebanon\n\\item Lesotho\n\\item Liberia\n\\item Libya\n\\item Lithuania\n\\item Luxembourg{[}i{]}\n\\item Madagascar\n\\item Malawi\n\\item Malaysia\n\\item Maldives\n\\item Mali\n\\item Malta\n\\item Mauritania\n\\item Mauritius\n\\item Mexico\n\\item Moldova{[}j{]}\n\\item Mongolia\n\\item Montenegro\n\\item Morocco\n\\item Mozambique\n\\item Myanmar\n\\item Namibia\n\\item Nepal\n\\item Netherlands\n\\item New Caledonia\n\\item New Zealand\n\\item Niger\n\\item Nigeria\n\\item North Korea\n\\item North Macedonia\n\\item Northern Cyprus{[}k{]}\n\\item Norway\n\\item Oman\n\\item Pakistan\n\\item Palestine\n\\item Panama\n\\item Papua New Guinea\n\\item Paraguay\n\\item Peru\n\\item Philippines\n\\item Poland\n\\item Portugal\n\\item Qatar\n\\item Romania\n\\item Russia\n\\item Rwanda\n\\item Saint Kitts and Nevis\n\\item Saint Lucia\n\\item Saint Vincent\n\\item San Marino\n\\item Saudi Arabia\n\\item Senegal\n\\item Serbia\n\\item Singapore\n\\item Slovakia\n\\item Slovenia\n\\item South Africa\n\\item South Korea\n\\item South Sudan\n\\item Spain\n\\item Sri Lanka\n\\item Sudan\n\\item Sweden\n\\item Switzerland{[}l{]}\n\\item Taiwan{[}m{]}\n\\item Tanzania\n\\item Thailand\n\\item Togo\n\\item Trinidad and Tobago\n\\item Tunisia\n\\item Turkey\n\\item Uganda\n\\item Ukraine\n\\item United Arab Emirates\n\\item United Kingdom\n\\item United States\n\\item Uruguay\n\\item Uzbekistan\n\\item Venezuela\n\\item Vietnam\n\\item Zambia\n\\item Zimbabwe\n\\end{enumerate*}\n\n\\emph{Levels}: \\begin{enumerate*}\n\\item 'Afghanistan'\n\\item 'Albania'\n\\item 'Algeria'\n\\item 'Andorra'\n\\item 'Angola'\n\\item 'Antigua and Barbuda'\n\\item 'Argentina'\n\\item 'Armenia'\n\\item 'Australia'\n\\item 'Austria'\n\\item 'Azerbaijan'\n\\item 'Bahamas'\n\\item 'Bahrain'\n\\item 'Bangladesh'\n\\item 'Barbados'\n\\item 'Belarus'\n\\item 'Belgium'\n\\item 'Belize'\n\\item 'Benin'\n\\item 'Bhutan'\n\\item 'Bolivia'\n\\item 'Bosnia and Herzegovina'\n\\item 'Botswana'\n\\item 'Brazil'\n\\item 'Brunei'\n\\item 'Bulgaria'\n\\item 'Burkina Faso'\n\\item 'Burundi'\n\\item 'Cambodia'\n\\item 'Cameroon'\n\\item 'Canada'\n\\item 'Chad'\n\\item 'Chile'\n\\item 'China{[}c{]}'\n\\item 'Colombia'\n\\item 'Costa Rica'\n\\item 'Croatia'\n\\item 'Cuba'\n\\item 'Cyprus{[}d{]}'\n\\item 'Czechia'\n\\item 'Denmark{[}e{]}'\n\\item 'Djibouti'\n\\item 'Dominica'\n\\item 'Dominican Republic'\n\\item 'DR Congo'\n\\item 'Ecuador'\n\\item 'Egypt'\n\\item 'El Salvador'\n\\item 'Equatorial Guinea'\n\\item 'Estonia'\n\\item 'Eswatini'\n\\item 'Ethiopia'\n\\item 'Faroe Islands'\n\\item 'Fiji'\n\\item 'Finland'\n\\item 'France{[}f{]}{[}g{]}'\n\\item 'Gabon'\n\\item 'Gambia'\n\\item 'Georgia{[}h{]}'\n\\item 'Germany'\n\\item 'Ghana'\n\\item 'Greece'\n\\item 'Greenland'\n\\item 'Grenada'\n\\item 'Guatemala'\n\\item 'Guinea'\n\\item 'Guinea-Bissau'\n\\item 'Guyana'\n\\item 'Haiti'\n\\item 'Honduras'\n\\item 'Hungary'\n\\item 'Iceland'\n\\item 'India'\n\\item 'Indonesia'\n\\item 'Iran'\n\\item 'Iraq'\n\\item 'Ireland'\n\\item 'Israel'\n\\item 'Italy'\n\\item 'Ivory Coast'\n\\item 'Jamaica'\n\\item 'Japan'\n\\item 'Jordan'\n\\item 'Kazakhstan'\n\\item 'Kenya'\n\\item 'Kosovo'\n\\item 'Kuwait'\n\\item 'Kyrgyzstan'\n\\item 'Laos'\n\\item 'Latvia'\n\\item 'Lebanon'\n\\item 'Lesotho'\n\\item 'Liberia'\n\\item 'Libya'\n\\item 'Lithuania'\n\\item 'Luxembourg{[}i{]}'\n\\item 'Madagascar'\n\\item 'Malawi'\n\\item 'Malaysia'\n\\item 'Maldives'\n\\item 'Mali'\n\\item 'Malta'\n\\item 'Mauritania'\n\\item 'Mauritius'\n\\item 'Mexico'\n\\item 'Moldova{[}j{]}'\n\\item 'Mongolia'\n\\item 'Montenegro'\n\\item 'Morocco'\n\\item 'Mozambique'\n\\item 'Myanmar'\n\\item 'Namibia'\n\\item 'Nepal'\n\\item 'Netherlands'\n\\item 'New Caledonia'\n\\item 'New Zealand'\n\\item 'Niger'\n\\item 'Nigeria'\n\\item 'North Korea'\n\\item 'North Macedonia'\n\\item 'Northern Cyprus{[}k{]}'\n\\item 'Norway'\n\\item 'Oman'\n\\item 'Pakistan'\n\\item 'Palestine'\n\\item 'Panama'\n\\item 'Papua New Guinea'\n\\item 'Paraguay'\n\\item 'Peru'\n\\item 'Philippines'\n\\item 'Poland'\n\\item 'Portugal'\n\\item 'Qatar'\n\\item 'Romania'\n\\item 'Russia'\n\\item 'Rwanda'\n\\item 'Saint Kitts and Nevis'\n\\item 'Saint Lucia'\n\\item 'Saint Vincent'\n\\item 'San Marino'\n\\item 'Saudi Arabia'\n\\item 'Senegal'\n\\item 'Serbia'\n\\item 'Singapore'\n\\item 'Slovakia'\n\\item 'Slovenia'\n\\item 'South Africa'\n\\item 'South Korea'\n\\item 'South Sudan'\n\\item 'Spain'\n\\item 'Sri Lanka'\n\\item 'Sudan'\n\\item 'Sweden'\n\\item 'Switzerland{[}l{]}'\n\\item 'Taiwan{[}m{]}'\n\\item 'Tanzania'\n\\item 'Thailand'\n\\item 'Togo'\n\\item 'Trinidad and Tobago'\n\\item 'Tunisia'\n\\item 'Turkey'\n\\item 'Uganda'\n\\item 'Ukraine'\n\\item 'United Arab Emirates'\n\\item 'United Kingdom'\n\\item 'United States'\n\\item 'Uruguay'\n\\item 'Uzbekistan'\n\\item 'Venezuela'\n\\item 'Vietnam'\n\\item 'Zambia'\n\\item 'Zimbabwe'\n\\end{enumerate*}\n",
            "text/plain": [
              "  [1] Afghanistan            Albania                Algeria               \n",
              "  [4] Andorra                Angola                 Antigua and Barbuda   \n",
              "  [7] Argentina              Armenia                Australia             \n",
              " [10] Austria                Azerbaijan             Bahamas               \n",
              " [13] Bahrain                Bangladesh             Barbados              \n",
              " [16] Belarus                Belgium                Belize                \n",
              " [19] Benin                  Bhutan                 Bolivia               \n",
              " [22] Bosnia and Herzegovina Botswana               Brazil                \n",
              " [25] Brunei                 Bulgaria               Burkina Faso          \n",
              " [28] Burundi                Cambodia               Cameroon              \n",
              " [31] Canada                 Chad                   Chile                 \n",
              " [34] China[c]               Colombia               Costa Rica            \n",
              " [37] Croatia                Cuba                   Cyprus[d]             \n",
              " [40] Czechia                Denmark[e]             Djibouti              \n",
              " [43] Dominica               Dominican Republic     DR Congo              \n",
              " [46] Ecuador                Egypt                  El Salvador           \n",
              " [49] Equatorial Guinea      Estonia                Eswatini              \n",
              " [52] Ethiopia               Faroe Islands          Fiji                  \n",
              " [55] Finland                France[f][g]           Gabon                 \n",
              " [58] Gambia                 Georgia[h]             Germany               \n",
              " [61] Ghana                  Greece                 Greenland             \n",
              " [64] Grenada                Guatemala              Guinea                \n",
              " [67] Guinea-Bissau          Guyana                 Haiti                 \n",
              " [70] Honduras               Hungary                Iceland               \n",
              " [73] India                  Indonesia              Iran                  \n",
              " [76] Iraq                   Ireland                Israel                \n",
              " [79] Italy                  Ivory Coast            Jamaica               \n",
              " [82] Japan                  Jordan                 Kazakhstan            \n",
              " [85] Kenya                  Kosovo                 Kuwait                \n",
              " [88] Kyrgyzstan             Laos                   Latvia                \n",
              " [91] Lebanon                Lesotho                Liberia               \n",
              " [94] Libya                  Lithuania              Luxembourg[i]         \n",
              " [97] Madagascar             Malawi                 Malaysia              \n",
              "[100] Maldives               Mali                   Malta                 \n",
              "[103] Mauritania             Mauritius              Mexico                \n",
              "[106] Moldova[j]             Mongolia               Montenegro            \n",
              "[109] Morocco                Mozambique             Myanmar               \n",
              "[112] Namibia                Nepal                  Netherlands           \n",
              "[115] New Caledonia          New Zealand            Niger                 \n",
              "[118] Nigeria                North Korea            North Macedonia       \n",
              "[121] Northern Cyprus[k]     Norway                 Oman                  \n",
              "[124] Pakistan               Palestine              Panama                \n",
              "[127] Papua New Guinea       Paraguay               Peru                  \n",
              "[130] Philippines            Poland                 Portugal              \n",
              "[133] Qatar                  Romania                Russia                \n",
              "[136] Rwanda                 Saint Kitts and Nevis  Saint Lucia           \n",
              "[139] Saint Vincent          San Marino             Saudi Arabia          \n",
              "[142] Senegal                Serbia                 Singapore             \n",
              "[145] Slovakia               Slovenia               South Africa          \n",
              "[148] South Korea            South Sudan            Spain                 \n",
              "[151] Sri Lanka              Sudan                  Sweden                \n",
              "[154] Switzerland[l]         Taiwan[m]              Tanzania              \n",
              "[157] Thailand               Togo                   Trinidad and Tobago   \n",
              "[160] Tunisia                Turkey                 Uganda                \n",
              "[163] Ukraine                United Arab Emirates   United Kingdom        \n",
              "[166] United States          Uruguay                Uzbekistan            \n",
              "[169] Venezuela              Vietnam                Zambia                \n",
              "[172] Zimbabwe              \n",
              "172 Levels: Afghanistan Albania Algeria Andorra Angola ... Zimbabwe"
            ]
          },
          "metadata": {}
        },
        {
          "output_type": "display_data",
          "data": {
            "text/html": [
              "'factor'"
            ],
            "text/markdown": "'factor'",
            "text/latex": "'factor'",
            "text/plain": [
              "[1] \"factor\""
            ]
          },
          "metadata": {}
        },
        {
          "output_type": "stream",
          "name": "stdout",
          "text": [
            "  [1] \"Zimbabwe\"               \"Zambia\"                 \"Vietnam\"               \n",
            "  [4] \"Venezuela\"              \"Uzbekistan\"             \"Uruguay\"               \n",
            "  [7] \"United States\"          \"United Kingdom\"         \"United Arab Emirates\"  \n",
            " [10] \"Ukraine\"                \"Uganda\"                 \"Turkey\"                \n",
            " [13] \"Tunisia\"                \"Trinidad and Tobago\"    \"Togo\"                  \n",
            " [16] \"Thailand\"               \"Tanzania\"               \"Taiwan[m]\"             \n",
            " [19] \"Switzerland[l]\"         \"Sweden\"                 \"Sudan\"                 \n",
            " [22] \"Sri Lanka\"              \"Spain\"                  \"South Sudan\"           \n",
            " [25] \"South Korea\"            \"South Africa\"           \"Slovenia\"              \n",
            " [28] \"Slovakia\"               \"Singapore\"              \"Serbia\"                \n",
            " [31] \"Senegal\"                \"Saudi Arabia\"           \"San Marino\"            \n",
            " [34] \"Saint Vincent\"          \"Saint Lucia\"            \"Saint Kitts and Nevis\" \n",
            " [37] \"Rwanda\"                 \"Russia\"                 \"Romania\"               \n",
            " [40] \"Qatar\"                  \"Portugal\"               \"Poland\"                \n",
            " [43] \"Philippines\"            \"Peru\"                   \"Paraguay\"              \n",
            " [46] \"Papua New Guinea\"       \"Panama\"                 \"Palestine\"             \n",
            " [49] \"Pakistan\"               \"Oman\"                   \"Norway\"                \n",
            " [52] \"Northern Cyprus[k]\"     \"North Macedonia\"        \"North Korea\"           \n",
            " [55] \"Nigeria\"                \"Niger\"                  \"New Zealand\"           \n",
            " [58] \"New Caledonia\"          \"Netherlands\"            \"Nepal\"                 \n",
            " [61] \"Namibia\"                \"Myanmar\"                \"Mozambique\"            \n",
            " [64] \"Morocco\"                \"Montenegro\"             \"Mongolia\"              \n",
            " [67] \"Moldova[j]\"             \"Mexico\"                 \"Mauritius\"             \n",
            " [70] \"Mauritania\"             \"Malta\"                  \"Mali\"                  \n",
            " [73] \"Maldives\"               \"Malaysia\"               \"Malawi\"                \n",
            " [76] \"Madagascar\"             \"Luxembourg[i]\"          \"Lithuania\"             \n",
            " [79] \"Libya\"                  \"Liberia\"                \"Lesotho\"               \n",
            " [82] \"Lebanon\"                \"Latvia\"                 \"Laos\"                  \n",
            " [85] \"Kyrgyzstan\"             \"Kuwait\"                 \"Kosovo\"                \n",
            " [88] \"Kenya\"                  \"Kazakhstan\"             \"Jordan\"                \n",
            " [91] \"Japan\"                  \"Jamaica\"                \"Ivory Coast\"           \n",
            " [94] \"Italy\"                  \"Israel\"                 \"Ireland\"               \n",
            " [97] \"Iraq\"                   \"Iran\"                   \"Indonesia\"             \n",
            "[100] \"India\"                  \"Iceland\"                \"Hungary\"               \n",
            "[103] \"Honduras\"               \"Haiti\"                  \"Guyana\"                \n",
            "[106] \"Guinea-Bissau\"          \"Guinea\"                 \"Guatemala\"             \n",
            "[109] \"Grenada\"                \"Greenland\"              \"Greece\"                \n",
            "[112] \"Ghana\"                  \"Germany\"                \"Georgia[h]\"            \n",
            "[115] \"Gambia\"                 \"Gabon\"                  \"France[f][g]\"          \n",
            "[118] \"Finland\"                \"Fiji\"                   \"Faroe Islands\"         \n",
            "[121] \"Ethiopia\"               \"Eswatini\"               \"Estonia\"               \n",
            "[124] \"Equatorial Guinea\"      \"El Salvador\"            \"Egypt\"                 \n",
            "[127] \"Ecuador\"                \"DR Congo\"               \"Dominican Republic\"    \n",
            "[130] \"Dominica\"               \"Djibouti\"               \"Denmark[e]\"            \n",
            "[133] \"Czechia\"                \"Cyprus[d]\"              \"Cuba\"                  \n",
            "[136] \"Croatia\"                \"Costa Rica\"             \"Colombia\"              \n",
            "[139] \"China[c]\"               \"Chile\"                  \"Chad\"                  \n",
            "[142] \"Canada\"                 \"Cameroon\"               \"Cambodia\"              \n",
            "[145] \"Burundi\"                \"Burkina Faso\"           \"Bulgaria\"              \n",
            "[148] \"Brunei\"                 \"Brazil\"                 \"Botswana\"              \n",
            "[151] \"Bosnia and Herzegovina\" \"Bolivia\"                \"Bhutan\"                \n",
            "[154] \"Benin\"                  \"Belize\"                 \"Belgium\"               \n",
            "[157] \"Belarus\"                \"Barbados\"               \"Bangladesh\"            \n",
            "[160] \"Bahrain\"                \"Bahamas\"                \"Azerbaijan\"            \n",
            "[163] \"Austria\"                \"Australia\"              \"Armenia\"               \n",
            "[166] \"Argentina\"              \"Antigua and Barbuda\"    \"Angola\"                \n",
            "[169] \"Andorra\"                \"Algeria\"                \"Albania\"               \n",
            "[172] \"Afghanistan\"           \n"
          ]
        }
      ],
      "source": [
        "# Get the `country` column\n",
        "new_df$country\n",
        "# Check its class (should be Factor)\n",
        "class(new_df$country)\n",
        "\n",
        "# Convert the country column into character so that you can easily sort them\n",
        "new_df$country <- as.character(new_df$country)\n",
        "# Sort the countries AtoZ\n",
        "new_df_az <- new_df[order(new_df$country), ]\n",
        "\n",
        "# Sort the countries ZtoA\n",
        "new_df_za <- new_df[order(new_df$country,decreasing = TRUE),]\n",
        "\n",
        "# Print the sorted ZtoA list\n",
        "print(new_df_za$country)"
      ],
      "execution_count": null
    },
    {
      "cell_type": "markdown",
      "metadata": {
        "id": "fc4e6442-f5fc-4c93-aa44-e4823ce0e408"
      },
      "source": [
        "## TASK 7: Identify countries names with a specific pattern\n",
        "\n",
        "The goal of task 7 is using a regular expression to find any countires start with `United`\n"
      ]
    },
    {
      "cell_type": "code",
      "metadata": {
        "id": "60318164-e582-4ecc-aba7-ccd9f1458e14",
        "colab": {
          "base_uri": "https://localhost:8080/"
        },
        "outputId": "f45246bc-c4b3-466b-f50e-9fc74a4bfefc"
      },
      "outputs": [
        {
          "output_type": "stream",
          "name": "stdout",
          "text": [
            "[1] \"United Arab Emirates\" \"United Kingdom\"       \"United States\"       \n"
          ]
        }
      ],
      "source": [
        "# Use a regular expression `United.+` to find matches\n",
        "matched_names <- grep(\"United.+\", new_df$country, value = TRUE)\n",
        "\n",
        "# Print the matched country names\n",
        "print(matched_names)"
      ],
      "execution_count": null
    },
    {
      "cell_type": "markdown",
      "metadata": {
        "id": "e14f54f6-6f43-415e-9b8d-dc964a2c1d02"
      },
      "source": [
        "## TASK 8: Pick two countries you are interested, and then review their testing data\n",
        "\n",
        "The goal of task 8 is to compare the COVID-19 test data between two countires, you will need to select two rows from the dataframe, and select `country`, `confirmed`, `confirmed-population-ratio` columns\n"
      ]
    },
    {
      "cell_type": "code",
      "metadata": {
        "id": "8b7e2213-36c6-4008-bc2d-fae420f28559",
        "colab": {
          "base_uri": "https://localhost:8080/"
        },
        "outputId": "d513abad-7a2e-4793-efde-7323576fb112"
      },
      "outputs": [
        {
          "output_type": "stream",
          "name": "stdout",
          "text": [
            "\u001b[90m# A tibble: 2 × 3\u001b[39m\n",
            "  country confirmed confirmed.population.ratio\n",
            "  \u001b[3m\u001b[90m<chr>\u001b[39m\u001b[23m       \u001b[3m\u001b[90m<dbl>\u001b[39m\u001b[23m                      \u001b[3m\u001b[90m<dbl>\u001b[39m\u001b[23m\n",
            "\u001b[90m1\u001b[39m Albania     \u001b[4m9\u001b[24m\u001b[4m6\u001b[24m838                       3.4 \n",
            "\u001b[90m2\u001b[39m Algeria     \u001b[4m5\u001b[24m\u001b[4m8\u001b[24m574                       0.13\n"
          ]
        }
      ],
      "source": [
        "# Select a subset (should be only one row) of data frame based on a selected country name and columns\n",
        "selected_countries <-c(\"Albania\", \"Algeria\")\n",
        "selected_row<-new_df[new_df$country %in% selected_countries,\n",
        "                        c(\"country\", \"confirmed\", \"confirmed.population.ratio\")]\n",
        "print(selected_row)\n",
        "\n",
        "# Select a subset (should be only one row) of data frame based on a selected country name and columns\n"
      ],
      "execution_count": null
    },
    {
      "cell_type": "markdown",
      "metadata": {
        "id": "5f69c455-4061-4a64-a9e2-ef2f1f6edaa9"
      },
      "source": [
        "## TASK 9: Compare which one of the selected countries has a larger ratio of confirmed cases to population\n",
        "\n",
        "The goal of task 9 is to find out which country you have selected before has larger ratio of confirmed cases to population, which may indicate that country has higher COVID-19 infection risk\n"
      ]
    },
    {
      "cell_type": "code",
      "metadata": {
        "id": "85d88bed-9b00-488c-98d3-e711febd785c",
        "colab": {
          "base_uri": "https://localhost:8080/"
        },
        "outputId": "7fb71119-8ea0-462a-bf25-be69cb20bafc"
      },
      "outputs": [
        {
          "output_type": "stream",
          "name": "stdout",
          "text": [
            "[1] \"Albania has a higher confirmed-to-population ratio.\"\n"
          ]
        }
      ],
      "source": [
        "# Subset the rows for Albania and Algeria\n",
        "albania_ratio <- new_df[new_df$country == \"Albania\", \"confirmed.population.ratio\"]\n",
        "algeria_ratio <- new_df[new_df$country == \"Algeria\", \"confirmed.population.ratio\"]\n",
        "# Use if-else statement\n",
        "if (albania_ratio > algeria_ratio) {\n",
        "  print(\"Albania has a higher confirmed-to-population ratio.\")\n",
        "} else if (albania_ratio < algeria_ratio) {\n",
        "  print(\"Algeria has a higher confirmed-to-population ratio.\")\n",
        "} else {\n",
        "  print(\"Both countries have the same confirmed-to-population ratio.\")\n",
        "}"
      ],
      "execution_count": null
    },
    {
      "cell_type": "markdown",
      "metadata": {
        "id": "1a85fa60-1e89-4360-8c4e-adb8312c9385"
      },
      "source": [
        "## TASK 10: Find countries with confirmed to population ratio rate less than a threshold\n",
        "\n",
        "The goal of task 10 is to find out which countries have the confirmed to population ratio less than 1%, it may indicate the risk of those countries are relatively low\n"
      ]
    },
    {
      "cell_type": "code",
      "metadata": {
        "id": "8494ec1b-0d51-45c6-bf42-2608640f95ee",
        "colab": {
          "base_uri": "https://localhost:8080/"
        },
        "outputId": "c8883a11-a4d3-481d-8572-7b9e044b90bd"
      },
      "outputs": [
        {
          "output_type": "stream",
          "name": "stdout",
          "text": [
            "\u001b[90m# A tibble: 53 × 2\u001b[39m\n",
            "   country             confirmed.population.ratio\n",
            "   \u001b[3m\u001b[90m<chr>\u001b[39m\u001b[23m                                    \u001b[3m\u001b[90m<dbl>\u001b[39m\u001b[23m\n",
            "\u001b[90m 1\u001b[39m Afghanistan                             0.13  \n",
            "\u001b[90m 2\u001b[39m Algeria                                 0.13  \n",
            "\u001b[90m 3\u001b[39m Angola                                  0.067 \n",
            "\u001b[90m 4\u001b[39m Antigua and Barbuda                     0.86  \n",
            "\u001b[90m 5\u001b[39m Bangladesh                              0.7   \n",
            "\u001b[90m 6\u001b[39m Benin                                   0.067 \n",
            "\u001b[90m 7\u001b[39m Brunei                                  0.074 \n",
            "\u001b[90m 8\u001b[39m Burkina Faso                            0.058 \n",
            "\u001b[90m 9\u001b[39m Burundi                                 0.007\u001b[4m4\u001b[24m\n",
            "\u001b[90m10\u001b[39m Cambodia                                0.48  \n",
            "\u001b[90m# ℹ 43 more rows\u001b[39m\n"
          ]
        }
      ],
      "source": [
        "# Get a subset of any countries with `confirmed.population.ratio` less than the threshold\n",
        "\n",
        "low_ratio_df <- new_df[new_df$confirmed.population.ratio < 1,\n",
        "                       c(\"country\", \"confirmed.population.ratio\")]\n",
        "\n",
        "# View the result\n",
        "print(low_ratio_df)"
      ],
      "execution_count": null
    }
  ],
  "metadata": {
    "kernelspec": {
      "display_name": "R",
      "name": "ir"
    },
    "language_info": {
      "name": "R"
    },
    "colab": {
      "provenance": []
    }
  },
  "nbformat": 4,
  "nbformat_minor": 0
}