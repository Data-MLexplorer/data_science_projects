{
 "cells": [
  {
   "cell_type": "code",
   "execution_count": 5,
   "id": "fd89a32d-0b7a-48a3-8509-1efcafd26bbd",
   "metadata": {},
   "outputs": [],
   "source": [
    "import pandas as pd\n",
    "import seaborn as sns\n",
    "import statsmodels.formula.api as smf"
   ]
  },
  {
   "cell_type": "code",
   "execution_count": 10,
   "id": "711de5bc-195e-46c8-8827-85d904c163b5",
   "metadata": {},
   "outputs": [
    {
     "name": "stdout",
     "output_type": "stream",
     "text": [
      "     total_bill   tip     sex smoker   day    time  size\n",
      "0         16.99  1.01  Female     No   Sun  Dinner     2\n",
      "1         10.34  1.66    Male     No   Sun  Dinner     3\n",
      "2         21.01  3.50    Male     No   Sun  Dinner     3\n",
      "3         23.68  3.31    Male     No   Sun  Dinner     2\n",
      "4         24.59  3.61  Female     No   Sun  Dinner     4\n",
      "..          ...   ...     ...    ...   ...     ...   ...\n",
      "239       29.03  5.92    Male     No   Sat  Dinner     3\n",
      "240       27.18  2.00  Female    Yes   Sat  Dinner     2\n",
      "241       22.67  2.00    Male    Yes   Sat  Dinner     2\n",
      "242       17.82  1.75    Male     No   Sat  Dinner     2\n",
      "243       18.78  3.00  Female     No  Thur  Dinner     2\n",
      "\n",
      "[244 rows x 7 columns]\n"
     ]
    }
   ],
   "source": [
    "tips = sns.load_dataset('tips')\n",
    "print(tips)"
   ]
  },
  {
   "cell_type": "code",
   "execution_count": 18,
   "id": "0c3a43c7-b95f-4b39-8419-96f6ea6e2850",
   "metadata": {},
   "outputs": [],
   "source": [
    "model = smf.ols(formula='tip~total_bill',data=tips)"
   ]
  },
  {
   "cell_type": "code",
   "execution_count": 20,
   "id": "2278c0a5-90bb-4d21-be57-d591524f28b6",
   "metadata": {},
   "outputs": [
    {
     "name": "stdout",
     "output_type": "stream",
     "text": [
      "                            OLS Regression Results                            \n",
      "==============================================================================\n",
      "Dep. Variable:                    tip   R-squared:                       0.457\n",
      "Model:                            OLS   Adj. R-squared:                  0.454\n",
      "Method:                 Least Squares   F-statistic:                     203.4\n",
      "Date:                Wed, 02 Apr 2025   Prob (F-statistic):           6.69e-34\n",
      "Time:                        18:44:09   Log-Likelihood:                -350.54\n",
      "No. Observations:                 244   AIC:                             705.1\n",
      "Df Residuals:                     242   BIC:                             712.1\n",
      "Df Model:                           1                                         \n",
      "Covariance Type:            nonrobust                                         \n",
      "==============================================================================\n",
      "                 coef    std err          t      P>|t|      [0.025      0.975]\n",
      "------------------------------------------------------------------------------\n",
      "Intercept      0.9203      0.160      5.761      0.000       0.606       1.235\n",
      "total_bill     0.1050      0.007     14.260      0.000       0.091       0.120\n",
      "==============================================================================\n",
      "Omnibus:                       20.185   Durbin-Watson:                   2.151\n",
      "Prob(Omnibus):                  0.000   Jarque-Bera (JB):               37.750\n",
      "Skew:                           0.443   Prob(JB):                     6.35e-09\n",
      "Kurtosis:                       4.711   Cond. No.                         53.0\n",
      "==============================================================================\n",
      "\n",
      "Notes:\n",
      "[1] Standard Errors assume that the covariance matrix of the errors is correctly specified.\n"
     ]
    }
   ],
   "source": [
    "results = model.fit()\n",
    "print(results.summary())"
   ]
  },
  {
   "cell_type": "code",
   "execution_count": 23,
   "id": "1b0ce7ef-c7e1-4833-b66d-044b55a5691e",
   "metadata": {},
   "outputs": [
    {
     "name": "stdout",
     "output_type": "stream",
     "text": [
      "Intercept     0.920270\n",
      "total_bill    0.105025\n",
      "dtype: float64\n"
     ]
    }
   ],
   "source": [
    "print(results.params)"
   ]
  },
  {
   "cell_type": "code",
   "execution_count": 26,
   "id": "60e0700f-c992-44ac-a70b-913555c3f161",
   "metadata": {},
   "outputs": [
    {
     "name": "stdout",
     "output_type": "stream",
     "text": [
      "                   0         1\n",
      "Intercept   0.605622  1.234918\n",
      "total_bill  0.090517  0.119532\n"
     ]
    }
   ],
   "source": [
    "print(results.conf_int())"
   ]
  },
  {
   "cell_type": "code",
   "execution_count": null,
   "id": "3be29329-8670-4928-b609-9260239d4b96",
   "metadata": {},
   "outputs": [],
   "source": [
    "************************************"
   ]
  },
  {
   "cell_type": "code",
   "execution_count": 29,
   "id": "3d5d64ed-9185-41e1-90c3-0618024c35f9",
   "metadata": {},
   "outputs": [
    {
     "name": "stdout",
     "output_type": "stream",
     "text": [
      "     survived  pclass     sex   age  sibsp  parch     fare embarked   class  \\\n",
      "0           0       3    male  22.0      1      0   7.2500        S   Third   \n",
      "1           1       1  female  38.0      1      0  71.2833        C   First   \n",
      "2           1       3  female  26.0      0      0   7.9250        S   Third   \n",
      "3           1       1  female  35.0      1      0  53.1000        S   First   \n",
      "4           0       3    male  35.0      0      0   8.0500        S   Third   \n",
      "..        ...     ...     ...   ...    ...    ...      ...      ...     ...   \n",
      "886         0       2    male  27.0      0      0  13.0000        S  Second   \n",
      "887         1       1  female  19.0      0      0  30.0000        S   First   \n",
      "888         0       3  female   NaN      1      2  23.4500        S   Third   \n",
      "889         1       1    male  26.0      0      0  30.0000        C   First   \n",
      "890         0       3    male  32.0      0      0   7.7500        Q   Third   \n",
      "\n",
      "       who  adult_male deck  embark_town alive  alone  \n",
      "0      man        True  NaN  Southampton    no  False  \n",
      "1    woman       False    C    Cherbourg   yes  False  \n",
      "2    woman       False  NaN  Southampton   yes   True  \n",
      "3    woman       False    C  Southampton   yes  False  \n",
      "4      man        True  NaN  Southampton    no   True  \n",
      "..     ...         ...  ...          ...   ...    ...  \n",
      "886    man        True  NaN  Southampton    no   True  \n",
      "887  woman       False    B  Southampton   yes   True  \n",
      "888  woman       False  NaN  Southampton    no  False  \n",
      "889    man        True    C    Cherbourg   yes   True  \n",
      "890    man        True  NaN   Queenstown    no   True  \n",
      "\n",
      "[891 rows x 15 columns]\n"
     ]
    }
   ],
   "source": [
    "titanic=pd.read_csv('titanic.csv')\n",
    "print(titanic)"
   ]
  },
  {
   "cell_type": "code",
   "execution_count": 32,
   "id": "6eac3567-94d9-4df5-9a69-fc21fd227474",
   "metadata": {},
   "outputs": [
    {
     "name": "stdout",
     "output_type": "stream",
     "text": [
      "     survived     sex   age embarked\n",
      "0           0    male  22.0        S\n",
      "1           1  female  38.0        C\n",
      "2           1  female  26.0        S\n",
      "3           1  female  35.0        S\n",
      "4           0    male  35.0        S\n",
      "..        ...     ...   ...      ...\n",
      "885         0  female  39.0        Q\n",
      "886         0    male  27.0        S\n",
      "887         1  female  19.0        S\n",
      "889         1    male  26.0        C\n",
      "890         0    male  32.0        Q\n",
      "\n",
      "[712 rows x 4 columns]\n"
     ]
    }
   ],
   "source": [
    "titanic_sub=(\n",
    "    titanic[[\"survived\",\"sex\",\"age\",\"embarked\"]].copy().dropna()\n",
    ")\n",
    "print(titanic_sub)"
   ]
  },
  {
   "cell_type": "code",
   "execution_count": 35,
   "id": "736de4e1-d183-4bb9-91cc-0730c9c5a25f",
   "metadata": {},
   "outputs": [
    {
     "name": "stdout",
     "output_type": "stream",
     "text": [
      "survived\n",
      "0    424\n",
      "1    288\n",
      "Name: count, dtype: int64\n"
     ]
    }
   ],
   "source": [
    "print(titanic_sub[\"survived\"].value_counts())"
   ]
  },
  {
   "cell_type": "code",
   "execution_count": 38,
   "id": "fd2db4a4-f115-408e-a5ae-ad6753e70893",
   "metadata": {},
   "outputs": [
    {
     "name": "stdout",
     "output_type": "stream",
     "text": [
      "Optimization terminated successfully.\n",
      "         Current function value: 0.509889\n",
      "         Iterations 6\n",
      "                           Logit Regression Results                           \n",
      "==============================================================================\n",
      "Dep. Variable:               survived   No. Observations:                  712\n",
      "Model:                          Logit   Df Residuals:                      707\n",
      "Method:                           MLE   Df Model:                            4\n",
      "Date:                Wed, 02 Apr 2025   Pseudo R-squ.:                  0.2444\n",
      "Time:                        20:07:25   Log-Likelihood:                -363.04\n",
      "converged:                       True   LL-Null:                       -480.45\n",
      "Covariance Type:            nonrobust   LLR p-value:                 1.209e-49\n",
      "=================================================================================\n",
      "                    coef    std err          z      P>|z|      [0.025      0.975]\n",
      "---------------------------------------------------------------------------------\n",
      "Intercept         2.2046      0.322      6.851      0.000       1.574       2.835\n",
      "sex[T.male]      -2.4760      0.191    -12.976      0.000      -2.850      -2.102\n",
      "embarked[T.Q]    -1.8156      0.535     -3.393      0.001      -2.864      -0.767\n",
      "embarked[T.S]    -1.0069      0.237     -4.251      0.000      -1.471      -0.543\n",
      "age              -0.0081      0.007     -1.233      0.217      -0.021       0.005\n",
      "=================================================================================\n"
     ]
    }
   ],
   "source": [
    "form ='survived~sex+age+embarked'\n",
    "#fitting the logistic regression model\n",
    "\n",
    "py_logistic_smf=smf.logit(formula =form, data=titanic_sub).fit()\n",
    "print(py_logistic_smf.summary())\n"
   ]
  },
  {
   "cell_type": "code",
   "execution_count": 43,
   "id": "0ebef08b-0bfb-40c9-b997-6e9f143a7a77",
   "metadata": {},
   "outputs": [
    {
     "name": "stdout",
     "output_type": "stream",
     "text": [
      "               coefs_sm  odds_sm\n",
      "Intercept         2.205    9.066\n",
      "sex[T.male]      -2.476    0.084\n",
      "embarked[T.Q]    -1.816    0.163\n",
      "embarked[T.S]    -1.007    0.365\n",
      "age              -0.008    0.992\n"
     ]
    }
   ],
   "source": [
    "import numpy as np\n",
    "res_sm=pd.DataFrame(py_logistic_smf.params,columns=[\"coefs_sm\"])\n",
    "\n",
    "#calculate the odds\n",
    "res_sm[\"odds_sm\"]=np.exp(res_sm[\"coefs_sm\"])\n",
    "\n",
    "#round the decimals\n",
    "print(res_sm.round(3))"
   ]
  },
  {
   "cell_type": "code",
   "execution_count": 46,
   "id": "4afc3f5c-4ece-4c85-a4b1-5d1441a6031b",
   "metadata": {},
   "outputs": [
    {
     "name": "stdout",
     "output_type": "stream",
     "text": [
      "     survived   age  sex_male  embarked_Q  embarked_S\n",
      "0           0  22.0      True       False        True\n",
      "1           1  38.0     False       False       False\n",
      "2           1  26.0     False       False        True\n",
      "3           1  35.0     False       False        True\n",
      "4           0  35.0      True       False        True\n",
      "..        ...   ...       ...         ...         ...\n",
      "885         0  39.0     False        True       False\n",
      "886         0  27.0      True       False        True\n",
      "887         1  19.0     False       False        True\n",
      "889         1  26.0      True       False       False\n",
      "890         0  32.0      True        True       False\n",
      "\n",
      "[712 rows x 5 columns]\n"
     ]
    }
   ],
   "source": [
    "titanic_dummy= pd.get_dummies(\n",
    "    titanic_sub[[\"survived\",\"sex\",\"age\",\"embarked\"]],\n",
    "    drop_first=True\n",
    ")\n",
    "print(titanic_dummy)"
   ]
  },
  {
   "cell_type": "code",
   "execution_count": 52,
   "id": "90c94753-97ae-4292-8643-7655746f88fe",
   "metadata": {},
   "outputs": [
    {
     "name": "stdout",
     "output_type": "stream",
     "text": [
      "            coef_sk1  odds_sk1\n",
      "Intercept      2.024     7.568\n",
      "age           -0.008     0.992\n",
      "sex_male      -2.371     0.093\n",
      "embarked_Q    -1.368     0.255\n",
      "embarked_S    -0.887     0.412\n"
     ]
    }
   ],
   "source": [
    "from sklearn import linear_model\n",
    "\n",
    "py_logistic_sklearn1=(\n",
    "    linear_model.LogisticRegression().fit(\n",
    "        X=titanic_dummy.iloc[:,1:], #all columns expect 1st\n",
    "        y=titanic_dummy.iloc[:,0] #just the 1st column\n",
    "    )\n",
    ")\n",
    "\n",
    "#get the names of dummy variable \n",
    "dummy_names= titanic_dummy.columns.to_list()\n",
    "sk1_res1=pd.DataFrame(\n",
    "    py_logistic_sklearn1.intercept_,\n",
    "    index=[\"Intercept\"],\n",
    "    columns=[\"coef_sk1\"],\n",
    ")\n",
    "sk1_res2=pd.DataFrame(\n",
    "    py_logistic_sklearn1.coef_.T,\n",
    "    index=dummy_names[1:],\n",
    "    columns=[\"coef_sk1\"],\n",
    ")\n",
    "\n",
    "#put the results into a 1 DF to show the results\n",
    "\n",
    "res_sklearn_pd_1=pd.concat([sk1_res1,sk1_res2])\n",
    "#calculate the odds\n",
    "res_sklearn_pd_1[\"odds_sk1\"]=np.exp(res_sklearn_pd_1[\"coef_sk1\"])\n",
    "print(res_sklearn_pd_1.round(3))"
   ]
  },
  {
   "cell_type": "code",
   "execution_count": null,
   "id": "7a53f103-cd30-485d-a90c-13438b09ef30",
   "metadata": {},
   "outputs": [],
   "source": []
  }
 ],
 "metadata": {
  "kernelspec": {
   "display_name": "Python [conda env:venv]",
   "language": "python",
   "name": "conda-env-venv-py"
  },
  "language_info": {
   "codemirror_mode": {
    "name": "ipython",
    "version": 3
   },
   "file_extension": ".py",
   "mimetype": "text/x-python",
   "name": "python",
   "nbconvert_exporter": "python",
   "pygments_lexer": "ipython3",
   "version": "3.12.0"
  }
 },
 "nbformat": 4,
 "nbformat_minor": 5
}
