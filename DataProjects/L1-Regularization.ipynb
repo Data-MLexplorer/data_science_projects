{
 "cells": [
  {
   "cell_type": "code",
   "execution_count": 2,
   "id": "ecf447e1-10fe-4ec4-9013-8d2a9ab92c2a",
   "metadata": {},
   "outputs": [
    {
     "name": "stdout",
     "output_type": "stream",
     "text": [
      "Index(['Acres', 'FamilyIncome', 'FamilyType', 'NumBedrooms', 'NumChildren',\n",
      "       'NumPeople', 'NumRooms', 'NumUnits', 'NumVehicles', 'NumWorkers',\n",
      "       'OwnRent', 'YearBuilt', 'HouseCosts', 'ElectricBill', 'FoodStamp',\n",
      "       'HeatingFuel', 'Insurance', 'Language'],\n",
      "      dtype='object')\n"
     ]
    }
   ],
   "source": [
    "import pandas as pd\n",
    "acs =pd.read_csv('acs_ny.csv')\n",
    "print(acs.columns)"
   ]
  },
  {
   "cell_type": "code",
   "execution_count": 3,
   "id": "79683cf9-4e62-4ab3-937b-e83a06fdc3af",
   "metadata": {},
   "outputs": [],
   "source": [
    "from patsy import dmatrices\n",
    "\n",
    "#sequential strings get concatenated together in Python\n",
    "\n",
    "response,predictors= dmatrices(\n",
    "   \"FamilyIncome~NumBedrooms + NumChildren +NumPeople +\"\n",
    "   \"NumRooms + NumUnits +NumVehicles +NumWorkers+OwnRent+\"\n",
    "   \"YearBuilt +ElectricBill+FoodStamp+HeatingFuel +\"\n",
    "    \"Insurance + Language\",\n",
    "     data= acs,\n",
    "  \n",
    ")"
   ]
  },
  {
   "cell_type": "code",
   "execution_count": 4,
   "id": "a3c5b829-e9f2-4c99-b8dd-0d4097230f57",
   "metadata": {},
   "outputs": [],
   "source": [
    "from sklearn.model_selection import train_test_split\n",
    "\n",
    "X_train,X_test, y_train, y_test = train_test_split(\n",
    "    predictors, response, random_state = 0\n",
    ")\n",
    "\n"
   ]
  },
  {
   "cell_type": "code",
   "execution_count": 5,
   "id": "c4dd6b0f-dffc-48fe-a6b4-6a59b24c5f15",
   "metadata": {},
   "outputs": [
    {
     "name": "stdout",
     "output_type": "stream",
     "text": [
      "Pipeline(steps=[('standardscaler', StandardScaler(with_mean=False)),\n",
      "                ('linearregression', LinearRegression())])\n"
     ]
    }
   ],
   "source": [
    "from sklearn.linear_model import LinearRegression\n",
    "from sklearn.pipeline import make_pipeline\n",
    "from sklearn.preprocessing import StandardScaler \n",
    "\n",
    "lr= make_pipeline(\n",
    "    StandardScaler(with_mean =False), LinearRegression()\n",
    ")\n",
    "lr = lr.fit(X_train,y_train)\n",
    "print(lr)\n"
   ]
  },
  {
   "cell_type": "code",
   "execution_count": 6,
   "id": "324b1f1f-3a30-469b-89db-36fb7cbd8bd1",
   "metadata": {},
   "outputs": [
    {
     "name": "stdout",
     "output_type": "stream",
     "text": [
      "                       variable       coef_lr\n",
      "0                     Intercept  6.682651e-14\n",
      "1   NumUnits[T.Single attached]  8.936384e+03\n",
      "2   NumUnits[T.Single detached]  7.833083e+03\n",
      "3           OwnRent[T.Outright]  1.818126e+03\n",
      "4             OwnRent[T.Rented]  1.613850e+03\n",
      "5        YearBuilt[T.1940-1949]  2.204366e+03\n",
      "6        YearBuilt[T.1950-1959]  5.775934e+03\n",
      "7        YearBuilt[T.1960-1969]  4.345828e+03\n",
      "8        YearBuilt[T.1970-1979]  3.911641e+03\n",
      "9        YearBuilt[T.1980-1989]  6.042011e+03\n",
      "10       YearBuilt[T.1990-1999]  7.411342e+03\n",
      "11       YearBuilt[T.2000-2004]  5.382651e+03\n",
      "12            YearBuilt[T.2005]  4.008482e+03\n",
      "13            YearBuilt[T.2006]  3.226638e+03\n",
      "14            YearBuilt[T.2007]  3.369052e+03\n",
      "15            YearBuilt[T.2008]  1.276426e+03\n",
      "16            YearBuilt[T.2009]  1.318172e+03\n",
      "17            YearBuilt[T.2010]  2.792588e+03\n",
      "18     YearBuilt[T.Before 1939]  3.959058e+03\n",
      "19             FoodStamp[T.Yes] -6.988396e+03\n",
      "20   HeatingFuel[T.Electricity]  2.926929e+03\n",
      "21           HeatingFuel[T.Gas]  1.101943e+04\n",
      "22           HeatingFuel[T.Oil]  9.627465e+03\n",
      "23         HeatingFuel[T.Other]  8.549268e+02\n",
      "24         HeatingFuel[T.Solar]  1.346582e+02\n",
      "25          HeatingFuel[T.Wood] -4.163403e+01\n",
      "26          Language[T.English] -6.267174e+03\n",
      "27            Language[T.Other] -1.484725e+02\n",
      "28   Language[T.Other European] -3.288103e+03\n",
      "29          Language[T.Spanish] -5.874578e+03\n",
      "30                  NumBedrooms  3.369413e+03\n",
      "31                  NumChildren  8.511459e+03\n",
      "32                    NumPeople -1.078822e+04\n",
      "33                     NumRooms  1.331710e+04\n",
      "34                  NumVehicles  6.861637e+03\n",
      "35                   NumWorkers  1.838647e+04\n",
      "36                 ElectricBill  1.061880e+04\n",
      "37                    Insurance  3.107453e+04\n"
     ]
    }
   ],
   "source": [
    "model_coefs = pd.DataFrame(\n",
    "    data=list(\n",
    "        zip(\n",
    "            predictors.design_info.column_names,\n",
    "            lr.named_steps[\"linearregression\"].coef_[0],\n",
    "        )\n",
    "    ),\n",
    "    columns = [\"variable\", \"coef_lr\"],\n",
    ")\n",
    "print(model_coefs)"
   ]
  },
  {
   "cell_type": "code",
   "execution_count": 7,
   "id": "3d369aa2-8516-4671-a75e-31797a1b8947",
   "metadata": {},
   "outputs": [
    {
     "name": "stdout",
     "output_type": "stream",
     "text": [
      "0.27430887322923125\n",
      "0.261070805023913\n"
     ]
    }
   ],
   "source": [
    "#score on the training data \n",
    "\n",
    "print(lr.score(X_train, y_train))\n",
    "\n",
    "#score on the testing data\n",
    "print(lr.score(X_test, y_test))"
   ]
  },
  {
   "cell_type": "code",
   "execution_count": 8,
   "id": "c36b6177-12e8-4138-8a69-123b27813ef7",
   "metadata": {},
   "outputs": [],
   "source": [
    "# R2 (coeeficient of determination)\n",
    "\n",
    "#LASSO( Least Absolute Shrinkage and selection operator)  is one type of regualarization technique. Also known as\n",
    "#L1 Regularization"
   ]
  },
  {
   "cell_type": "code",
   "execution_count": 9,
   "id": "728fc1ae-91c5-44ed-bd2a-5cc74742a59b",
   "metadata": {},
   "outputs": [
    {
     "name": "stdout",
     "output_type": "stream",
     "text": [
      "Pipeline(steps=[('standardscaler', StandardScaler(with_mean=False)),\n",
      "                ('lasso', Lasso(max_iter=10000, random_state=42))])\n"
     ]
    }
   ],
   "source": [
    "from sklearn.linear_model import Lasso\n",
    "\n",
    "lasso = make_pipeline(\n",
    "    StandardScaler(with_mean=False),\n",
    "    Lasso(max_iter= 10000, random_state=42)\n",
    ")\n",
    "\n",
    "lasso = lasso.fit(X_test,y_test)\n",
    "print(lasso)\n"
   ]
  },
  {
   "cell_type": "code",
   "execution_count": 10,
   "id": "b1a71874-d541-40a8-aeaf-86972c0b0be5",
   "metadata": {},
   "outputs": [
    {
     "name": "stdout",
     "output_type": "stream",
     "text": [
      "                       variable       coef_lr    coef_lasso\n",
      "0                     Intercept  6.682651e-14      0.000000\n",
      "1   NumUnits[T.Single attached]  8.936384e+03   9868.623799\n",
      "2   NumUnits[T.Single detached]  7.833083e+03   8924.389171\n",
      "3           OwnRent[T.Outright]  1.818126e+03   4202.789333\n",
      "4             OwnRent[T.Rented]  1.613850e+03   2401.078639\n",
      "5        YearBuilt[T.1940-1949]  2.204366e+03  -9668.313004\n",
      "6        YearBuilt[T.1950-1959]  5.775934e+03 -11094.600837\n",
      "7        YearBuilt[T.1960-1969]  4.345828e+03 -10366.952862\n",
      "8        YearBuilt[T.1970-1979]  3.911641e+03 -10221.594524\n",
      "9        YearBuilt[T.1980-1989]  6.042011e+03  -6626.846652\n",
      "10       YearBuilt[T.1990-1999]  7.411342e+03  -8764.121654\n",
      "11       YearBuilt[T.2000-2004]  5.382651e+03  -4134.316213\n",
      "12            YearBuilt[T.2005]  4.008482e+03  -2912.219235\n",
      "13            YearBuilt[T.2006]  3.226638e+03  -1809.412093\n",
      "14            YearBuilt[T.2007]  3.369052e+03  -2405.616328\n",
      "15            YearBuilt[T.2008]  1.276426e+03   1321.639988\n",
      "16            YearBuilt[T.2009]  1.318172e+03  -1026.830064\n",
      "17            YearBuilt[T.2010]  2.792588e+03    121.484703\n",
      "18     YearBuilt[T.Before 1939]  3.959058e+03 -17549.082064\n",
      "19             FoodStamp[T.Yes] -6.988396e+03  -7566.817491\n",
      "20   HeatingFuel[T.Electricity]  2.926929e+03   5315.514051\n",
      "21           HeatingFuel[T.Gas]  1.101943e+04  15242.859705\n",
      "22           HeatingFuel[T.Oil]  9.627465e+03  14096.709968\n",
      "23         HeatingFuel[T.Other]  8.549268e+02   2080.842313\n",
      "24         HeatingFuel[T.Solar]  1.346582e+02      0.000000\n",
      "25          HeatingFuel[T.Wood] -4.163403e+01    633.275718\n",
      "26          Language[T.English] -6.267174e+03  -8102.909326\n",
      "27            Language[T.Other] -1.484725e+02  -2673.214660\n",
      "28   Language[T.Other European] -3.288103e+03  -5120.735520\n",
      "29          Language[T.Spanish] -5.874578e+03  -7777.745676\n",
      "30                  NumBedrooms  3.369413e+03   5418.291274\n",
      "31                  NumChildren  8.511459e+03   9969.841098\n",
      "32                    NumPeople -1.078822e+04 -10668.553797\n",
      "33                     NumRooms  1.331710e+04  10731.981668\n",
      "34                  NumVehicles  6.861637e+03   8744.347168\n",
      "35                   NumWorkers  1.838647e+04  18031.941678\n",
      "36                 ElectricBill  1.061880e+04   7752.982196\n",
      "37                    Insurance  3.107453e+04  30808.539980\n"
     ]
    }
   ],
   "source": [
    "coefs_lasso = pd.DataFrame(\n",
    "    data = list(\n",
    "        zip(\n",
    "            predictors.design_info.column_names,\n",
    "            lasso.named_steps[\"lasso\"].coef_.tolist(),\n",
    "        )\n",
    "    ),\n",
    "    columns = [\"variable\" , \"coef_lasso\"],\n",
    ")\n",
    "model_coefs = pd.merge(model_coefs, coefs_lasso, on='variable')\n",
    "print(model_coefs)"
   ]
  },
  {
   "cell_type": "code",
   "execution_count": 33,
   "id": "c648e3bd-e613-43c2-b5ac-a304cca58556",
   "metadata": {},
   "outputs": [
    {
     "name": "stdout",
     "output_type": "stream",
     "text": [
      "0.2677491984844108\n",
      "0.26786561861744373\n"
     ]
    }
   ],
   "source": [
    "print(lasso.score(X_train,y_train))\n",
    "print(lasso.score(X_test, y_test))"
   ]
  },
  {
   "cell_type": "code",
   "execution_count": 12,
   "id": "cb6c50bf-a420-401e-b0a8-8875e5e1bb82",
   "metadata": {},
   "outputs": [],
   "source": [
    "#Ridge Regression , L2 Regularization "
   ]
  },
  {
   "cell_type": "code",
   "execution_count": 13,
   "id": "3ac8add1-23b2-4efb-a822-89463782f9e5",
   "metadata": {},
   "outputs": [
    {
     "name": "stdout",
     "output_type": "stream",
     "text": [
      "Pipeline(steps=[('standardscaler', StandardScaler(with_mean=False)),\n",
      "                ('ridge', Ridge(random_state=42))])\n"
     ]
    }
   ],
   "source": [
    "from sklearn.linear_model import Ridge\n",
    "ridge = make_pipeline(\n",
    "    StandardScaler(with_mean=False),Ridge(random_state=42)\n",
    ")\n",
    "ridge = ridge.fit(X_train, y_train)\n",
    "print(ridge)\n"
   ]
  },
  {
   "cell_type": "code",
   "execution_count": 14,
   "id": "c677094b-cdde-4386-a40f-7cfce79e02d0",
   "metadata": {},
   "outputs": [
    {
     "name": "stdout",
     "output_type": "stream",
     "text": [
      "                       variable       coef_lr    coef_lasso    coef_ridge\n",
      "0                     Intercept  6.682651e-14      0.000000      0.000000\n",
      "1   NumUnits[T.Single attached]  8.936384e+03   9868.623799   8933.916923\n",
      "2   NumUnits[T.Single detached]  7.833083e+03   8924.389171   7830.186855\n",
      "3           OwnRent[T.Outright]  1.818126e+03   4202.789333   1817.081756\n",
      "4             OwnRent[T.Rented]  1.613850e+03   2401.078639   1612.894064\n",
      "5        YearBuilt[T.1940-1949]  2.204366e+03  -9668.313004   1872.387871\n",
      "6        YearBuilt[T.1950-1959]  5.775934e+03 -11094.600837   5311.584955\n",
      "7        YearBuilt[T.1960-1969]  4.345828e+03 -10366.952862   3944.776874\n",
      "8        YearBuilt[T.1970-1979]  3.911641e+03 -10221.594524   3538.961340\n",
      "9        YearBuilt[T.1980-1989]  6.042011e+03  -6626.846652   5693.363620\n",
      "10       YearBuilt[T.1990-1999]  7.411342e+03  -8764.121654   7059.944934\n",
      "11       YearBuilt[T.2000-2004]  5.382651e+03  -4134.316213   5125.923192\n",
      "12            YearBuilt[T.2005]  4.008482e+03  -2912.219235   3888.470276\n",
      "13            YearBuilt[T.2006]  3.226638e+03  -1809.412093   3118.254274\n",
      "14            YearBuilt[T.2007]  3.369052e+03  -2405.616328   3266.505204\n",
      "15            YearBuilt[T.2008]  1.276426e+03   1321.639988   1192.276016\n",
      "16            YearBuilt[T.2009]  1.318172e+03  -1026.830064   1242.811278\n",
      "17            YearBuilt[T.2010]  2.792588e+03    121.484703   2735.220948\n",
      "18     YearBuilt[T.Before 1939]  3.959058e+03 -17549.082064   3413.847583\n",
      "19             FoodStamp[T.Yes] -6.988396e+03  -7566.817491  -6988.878413\n",
      "20   HeatingFuel[T.Electricity]  2.926929e+03   5315.514051   2909.092207\n",
      "21           HeatingFuel[T.Gas]  1.101943e+04  15242.859705  10976.920252\n",
      "22           HeatingFuel[T.Oil]  9.627465e+03  14096.709968   9588.514677\n",
      "23         HeatingFuel[T.Other]  8.549268e+02   2080.842313    847.108312\n",
      "24         HeatingFuel[T.Solar]  1.346582e+02      0.000000    133.212298\n",
      "25          HeatingFuel[T.Wood] -4.163403e+01    633.275718    -61.395217\n",
      "26          Language[T.English] -6.267174e+03  -8102.909326  -6263.790157\n",
      "27            Language[T.Other] -1.484725e+02  -2673.214660   -147.391431\n",
      "28   Language[T.Other European] -3.288103e+03  -5120.735520  -3285.791521\n",
      "29          Language[T.Spanish] -5.874578e+03  -7777.745676  -5872.252408\n",
      "30                  NumBedrooms  3.369413e+03   5418.291274   3369.573380\n",
      "31                  NumChildren  8.511459e+03   9969.841098   8507.980786\n",
      "32                    NumPeople -1.078822e+04 -10668.553797 -10784.698843\n",
      "33                     NumRooms  1.331710e+04  10731.981668  13316.877283\n",
      "34                  NumVehicles  6.861637e+03   8744.347168   6861.062342\n",
      "35                   NumWorkers  1.838647e+04  18031.941678  18384.311663\n",
      "36                 ElectricBill  1.061880e+04   7752.982196  10619.329785\n",
      "37                    Insurance  3.107453e+04  30808.539980  31072.616239\n"
     ]
    }
   ],
   "source": [
    "coefs_ridge =pd.DataFrame(\n",
    "    data=list(\n",
    "        zip(\n",
    "            predictors.design_info.column_names,\n",
    "            ridge.named_steps[\"ridge\"].coef_.tolist(),\n",
    "        )\n",
    "    ),\n",
    "    columns= [\"variable\",\"coef_ridge\"],\n",
    ")\n",
    "model_coefs=pd.merge(model_coefs, coefs_ridge , on=\"variable\")\n",
    "print(model_coefs)"
   ]
  },
  {
   "cell_type": "code",
   "execution_count": 15,
   "id": "f614c048-d041-4b9c-ba73-f0e9996d3e62",
   "metadata": {},
   "outputs": [
    {
     "name": "stdout",
     "output_type": "stream",
     "text": [
      "                       variable       coef_lr    coef_lasso    coef_ridge  \\\n",
      "0                     Intercept  6.682651e-14      0.000000      0.000000   \n",
      "1   NumUnits[T.Single attached]  8.936384e+03   9868.623799   8933.916923   \n",
      "2   NumUnits[T.Single detached]  7.833083e+03   8924.389171   7830.186855   \n",
      "3           OwnRent[T.Outright]  1.818126e+03   4202.789333   1817.081756   \n",
      "4             OwnRent[T.Rented]  1.613850e+03   2401.078639   1612.894064   \n",
      "5        YearBuilt[T.1940-1949]  2.204366e+03  -9668.313004   1872.387871   \n",
      "6        YearBuilt[T.1950-1959]  5.775934e+03 -11094.600837   5311.584955   \n",
      "7        YearBuilt[T.1960-1969]  4.345828e+03 -10366.952862   3944.776874   \n",
      "8        YearBuilt[T.1970-1979]  3.911641e+03 -10221.594524   3538.961340   \n",
      "9        YearBuilt[T.1980-1989]  6.042011e+03  -6626.846652   5693.363620   \n",
      "10       YearBuilt[T.1990-1999]  7.411342e+03  -8764.121654   7059.944934   \n",
      "11       YearBuilt[T.2000-2004]  5.382651e+03  -4134.316213   5125.923192   \n",
      "12            YearBuilt[T.2005]  4.008482e+03  -2912.219235   3888.470276   \n",
      "13            YearBuilt[T.2006]  3.226638e+03  -1809.412093   3118.254274   \n",
      "14            YearBuilt[T.2007]  3.369052e+03  -2405.616328   3266.505204   \n",
      "15            YearBuilt[T.2008]  1.276426e+03   1321.639988   1192.276016   \n",
      "16            YearBuilt[T.2009]  1.318172e+03  -1026.830064   1242.811278   \n",
      "17            YearBuilt[T.2010]  2.792588e+03    121.484703   2735.220948   \n",
      "18     YearBuilt[T.Before 1939]  3.959058e+03 -17549.082064   3413.847583   \n",
      "19             FoodStamp[T.Yes] -6.988396e+03  -7566.817491  -6988.878413   \n",
      "20   HeatingFuel[T.Electricity]  2.926929e+03   5315.514051   2909.092207   \n",
      "21           HeatingFuel[T.Gas]  1.101943e+04  15242.859705  10976.920252   \n",
      "22           HeatingFuel[T.Oil]  9.627465e+03  14096.709968   9588.514677   \n",
      "23         HeatingFuel[T.Other]  8.549268e+02   2080.842313    847.108312   \n",
      "24         HeatingFuel[T.Solar]  1.346582e+02      0.000000    133.212298   \n",
      "25          HeatingFuel[T.Wood] -4.163403e+01    633.275718    -61.395217   \n",
      "26          Language[T.English] -6.267174e+03  -8102.909326  -6263.790157   \n",
      "27            Language[T.Other] -1.484725e+02  -2673.214660   -147.391431   \n",
      "28   Language[T.Other European] -3.288103e+03  -5120.735520  -3285.791521   \n",
      "29          Language[T.Spanish] -5.874578e+03  -7777.745676  -5872.252408   \n",
      "30                  NumBedrooms  3.369413e+03   5418.291274   3369.573380   \n",
      "31                  NumChildren  8.511459e+03   9969.841098   8507.980786   \n",
      "32                    NumPeople -1.078822e+04 -10668.553797 -10784.698843   \n",
      "33                     NumRooms  1.331710e+04  10731.981668  13316.877283   \n",
      "34                  NumVehicles  6.861637e+03   8744.347168   6861.062342   \n",
      "35                   NumWorkers  1.838647e+04  18031.941678  18384.311663   \n",
      "36                 ElectricBill  1.061880e+04   7752.982196  10619.329785   \n",
      "37                    Insurance  3.107453e+04  30808.539980  31072.616239   \n",
      "\n",
      "         coef_en  \n",
      "0       0.000000  \n",
      "1    1126.611877  \n",
      "2     193.785837  \n",
      "3     322.477182  \n",
      "4    -818.898810  \n",
      "5    -896.277726  \n",
      "6     257.603149  \n",
      "7    -302.346995  \n",
      "8    -634.259145  \n",
      "9     652.302181  \n",
      "10   1369.671040  \n",
      "11    799.633937  \n",
      "12    482.810950  \n",
      "13    331.445124  \n",
      "14    357.869279  \n",
      "15     29.045954  \n",
      "16     60.700628  \n",
      "17    193.787791  \n",
      "18  -2686.725173  \n",
      "19  -4229.955094  \n",
      "20   -281.333074  \n",
      "21   2026.713366  \n",
      "22    330.015048  \n",
      "23   -157.788698  \n",
      "24      0.597413  \n",
      "25  -1674.151564  \n",
      "26   -734.639383  \n",
      "27    317.004036  \n",
      "28    543.280864  \n",
      "29  -1248.549342  \n",
      "30   1839.779625  \n",
      "31   2128.021576  \n",
      "32  -2523.147774  \n",
      "33   5714.342354  \n",
      "34   5948.815834  \n",
      "35  11991.405498  \n",
      "36    102.164855  \n",
      "37     33.128426  \n"
     ]
    }
   ],
   "source": [
    "#combines lasso n ridge\n",
    "from sklearn.linear_model import ElasticNet\n",
    "en= ElasticNet(random_state=42).fit(X_train, y_train)\n",
    "\n",
    "coefs_en = pd.DataFrame(\n",
    "    list(zip( predictors.design_info.column_names , en.coef_)),\n",
    "    columns =[\"variable\",\"coef_en\"],\n",
    ")\n",
    "\n",
    "model_coefs= pd.merge(model_coefs, coefs_en, on=\"variable\")\n",
    "print(model_coefs)\n",
    "\n"
   ]
  },
  {
   "cell_type": "code",
   "execution_count": 16,
   "id": "d68f9a6d-2ba3-49bf-888d-2393d752ce58",
   "metadata": {},
   "outputs": [
    {
     "name": "stdout",
     "output_type": "stream",
     "text": [
      "                       variable       coef_lr    coef_lasso    coef_ridge  \\\n",
      "0                     Intercept  6.682651e-14      0.000000      0.000000   \n",
      "1   NumUnits[T.Single attached]  8.936384e+03   9868.623799   8933.916923   \n",
      "2   NumUnits[T.Single detached]  7.833083e+03   8924.389171   7830.186855   \n",
      "3           OwnRent[T.Outright]  1.818126e+03   4202.789333   1817.081756   \n",
      "4             OwnRent[T.Rented]  1.613850e+03   2401.078639   1612.894064   \n",
      "5        YearBuilt[T.1940-1949]  2.204366e+03  -9668.313004   1872.387871   \n",
      "6        YearBuilt[T.1950-1959]  5.775934e+03 -11094.600837   5311.584955   \n",
      "7        YearBuilt[T.1960-1969]  4.345828e+03 -10366.952862   3944.776874   \n",
      "8        YearBuilt[T.1970-1979]  3.911641e+03 -10221.594524   3538.961340   \n",
      "9        YearBuilt[T.1980-1989]  6.042011e+03  -6626.846652   5693.363620   \n",
      "10       YearBuilt[T.1990-1999]  7.411342e+03  -8764.121654   7059.944934   \n",
      "11       YearBuilt[T.2000-2004]  5.382651e+03  -4134.316213   5125.923192   \n",
      "12            YearBuilt[T.2005]  4.008482e+03  -2912.219235   3888.470276   \n",
      "13            YearBuilt[T.2006]  3.226638e+03  -1809.412093   3118.254274   \n",
      "14            YearBuilt[T.2007]  3.369052e+03  -2405.616328   3266.505204   \n",
      "15            YearBuilt[T.2008]  1.276426e+03   1321.639988   1192.276016   \n",
      "16            YearBuilt[T.2009]  1.318172e+03  -1026.830064   1242.811278   \n",
      "17            YearBuilt[T.2010]  2.792588e+03    121.484703   2735.220948   \n",
      "18     YearBuilt[T.Before 1939]  3.959058e+03 -17549.082064   3413.847583   \n",
      "19             FoodStamp[T.Yes] -6.988396e+03  -7566.817491  -6988.878413   \n",
      "20   HeatingFuel[T.Electricity]  2.926929e+03   5315.514051   2909.092207   \n",
      "21           HeatingFuel[T.Gas]  1.101943e+04  15242.859705  10976.920252   \n",
      "22           HeatingFuel[T.Oil]  9.627465e+03  14096.709968   9588.514677   \n",
      "23         HeatingFuel[T.Other]  8.549268e+02   2080.842313    847.108312   \n",
      "24         HeatingFuel[T.Solar]  1.346582e+02      0.000000    133.212298   \n",
      "25          HeatingFuel[T.Wood] -4.163403e+01    633.275718    -61.395217   \n",
      "26          Language[T.English] -6.267174e+03  -8102.909326  -6263.790157   \n",
      "27            Language[T.Other] -1.484725e+02  -2673.214660   -147.391431   \n",
      "28   Language[T.Other European] -3.288103e+03  -5120.735520  -3285.791521   \n",
      "29          Language[T.Spanish] -5.874578e+03  -7777.745676  -5872.252408   \n",
      "30                  NumBedrooms  3.369413e+03   5418.291274   3369.573380   \n",
      "31                  NumChildren  8.511459e+03   9969.841098   8507.980786   \n",
      "32                    NumPeople -1.078822e+04 -10668.553797 -10784.698843   \n",
      "33                     NumRooms  1.331710e+04  10731.981668  13316.877283   \n",
      "34                  NumVehicles  6.861637e+03   8744.347168   6861.062342   \n",
      "35                   NumWorkers  1.838647e+04  18031.941678  18384.311663   \n",
      "36                 ElectricBill  1.061880e+04   7752.982196  10619.329785   \n",
      "37                    Insurance  3.107453e+04  30808.539980  31072.616239   \n",
      "\n",
      "         coef_en  \n",
      "0       0.000000  \n",
      "1    1126.611877  \n",
      "2     193.785837  \n",
      "3     322.477182  \n",
      "4    -818.898810  \n",
      "5    -896.277726  \n",
      "6     257.603149  \n",
      "7    -302.346995  \n",
      "8    -634.259145  \n",
      "9     652.302181  \n",
      "10   1369.671040  \n",
      "11    799.633937  \n",
      "12    482.810950  \n",
      "13    331.445124  \n",
      "14    357.869279  \n",
      "15     29.045954  \n",
      "16     60.700628  \n",
      "17    193.787791  \n",
      "18  -2686.725173  \n",
      "19  -4229.955094  \n",
      "20   -281.333074  \n",
      "21   2026.713366  \n",
      "22    330.015048  \n",
      "23   -157.788698  \n",
      "24      0.597413  \n",
      "25  -1674.151564  \n",
      "26   -734.639383  \n",
      "27    317.004036  \n",
      "28    543.280864  \n",
      "29  -1248.549342  \n",
      "30   1839.779625  \n",
      "31   2128.021576  \n",
      "32  -2523.147774  \n",
      "33   5714.342354  \n",
      "34   5948.815834  \n",
      "35  11991.405498  \n",
      "36    102.164855  \n",
      "37     33.128426  \n"
     ]
    }
   ],
   "source": [
    "#cross validation used to pick optimal parameters for regularization. it can be used to try out various \n",
    "#combinations of these hyper-parameters to pick the best model\n",
    "\n",
    "from sklearn.linear_model import ElasticNetCV\n",
    "\n",
    "en_cv =ElasticNetCV(cv=5, random_state=42).fit(\n",
    "    X_train,y_train.ravel()  #ravel is used to remove the 1d warning\n",
    ")\n",
    "coefs_en_cv= pd.DataFrame(\n",
    "    list(zip(predictors.design_info.column_names, en_cv.coef_)),\n",
    "    columns=[\"variable\",\"coef_en_cv\"],\n",
    ")\n",
    "model=coefs = pd.merge(model_coefs, coefs_en_cv, on= \"variable\")\n",
    "print(model_coefs)"
   ]
  },
  {
   "cell_type": "code",
   "execution_count": null,
   "id": "b939cda7-e7ec-4da1-af9f-d9bb6c1dc67a",
   "metadata": {},
   "outputs": [],
   "source": []
  }
 ],
 "metadata": {
  "kernelspec": {
   "display_name": "Python [conda env:venv]",
   "language": "python",
   "name": "conda-env-venv-py"
  },
  "language_info": {
   "codemirror_mode": {
    "name": "ipython",
    "version": 3
   },
   "file_extension": ".py",
   "mimetype": "text/x-python",
   "name": "python",
   "nbconvert_exporter": "python",
   "pygments_lexer": "ipython3",
   "version": "3.12.0"
  }
 },
 "nbformat": 4,
 "nbformat_minor": 5
}
