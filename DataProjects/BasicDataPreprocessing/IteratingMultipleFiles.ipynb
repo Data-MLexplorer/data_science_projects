{
 "cells": [
  {
   "cell_type": "code",
   "execution_count": 36,
   "id": "8c85e3b8-6ff8-4c97-b7bb-e2945c65629d",
   "metadata": {},
   "outputs": [
    {
     "name": "stdout",
     "output_type": "stream",
     "text": [
      "BILLBOARD FILES SPLIT INTO SEPARATE WEEK FILES SUCCESSFULLY WITH WEEK COLUMN INCLUDED!\n"
     ]
    }
   ],
   "source": [
    "import pandas as pd\n",
    "from pathlib import Path\n",
    "\n",
    "# LOAD THE ORIGINAL FILE\n",
    "df = pd.read_csv(\"billboard.csv\")\n",
    "\n",
    "# CREATE OUTPUT DIRECTORY IF NEEDED\n",
    "output_dir = Path(\"DataFiles\")\n",
    "output_dir.mkdir(exist_ok=True)\n",
    "\n",
    "# LOOP THROUGH WEEKS 1 TO 76\n",
    "for i in range(1, 77): # 76 WEEKS\n",
    "    week_col = f\"wk{i}\" # COLUMN NAME (WK1, WK2, ..., WK76)\n",
    "\n",
    "    if week_col in df.columns: # CHECK IF COLUMN EXISTS\n",
    "        week_df = df[['year', 'artist', 'track', 'time', 'date.entered', week_col]].copy()\n",
    "        week_df = week_df.rename(columns={week_col: \"rank\"}) # RENAME WEEK COLUMN TO \"RANK\"\n",
    "\n",
    "    # ADD A NEW \"WEEK\" COLUMN TO RETAIN THE WEEK NUMBER\n",
    "        week_df[\"week\"] = i\n",
    "\n",
    "        file_name = output_dir / f\"billboard-{i:02d}.csv\" # FORMAT AS billboard-01.csv, billboard-02.csv, etc.\n",
    "        week_df.to_csv(file_name, index=False)\n",
    "\n",
    "print(\"BILLBOARD FILES SPLIT INTO SEPARATE WEEK FILES SUCCESSFULLY WITH WEEK COLUMN INCLUDED!\")"
   ]
  },
  {
   "cell_type": "code",
   "execution_count": 38,
   "id": "c55557da-04f0-4a9d-89b6-7133366c1a3f",
   "metadata": {},
   "outputs": [
    {
     "name": "stdout",
     "output_type": "stream",
     "text": [
      "[PosixPath('DataFiles/billboard-01.csv'), PosixPath('DataFiles/billboard-02.csv'), PosixPath('DataFiles/billboard-03.csv'), PosixPath('DataFiles/billboard-04.csv'), PosixPath('DataFiles/billboard-05.csv'), PosixPath('DataFiles/billboard-06.csv'), PosixPath('DataFiles/billboard-07.csv'), PosixPath('DataFiles/billboard-08.csv'), PosixPath('DataFiles/billboard-09.csv'), PosixPath('DataFiles/billboard-10.csv'), PosixPath('DataFiles/billboard-11.csv'), PosixPath('DataFiles/billboard-12.csv'), PosixPath('DataFiles/billboard-13.csv'), PosixPath('DataFiles/billboard-14.csv'), PosixPath('DataFiles/billboard-15.csv'), PosixPath('DataFiles/billboard-16.csv'), PosixPath('DataFiles/billboard-17.csv'), PosixPath('DataFiles/billboard-18.csv'), PosixPath('DataFiles/billboard-19.csv'), PosixPath('DataFiles/billboard-20.csv'), PosixPath('DataFiles/billboard-21.csv'), PosixPath('DataFiles/billboard-22.csv'), PosixPath('DataFiles/billboard-23.csv'), PosixPath('DataFiles/billboard-24.csv'), PosixPath('DataFiles/billboard-25.csv'), PosixPath('DataFiles/billboard-26.csv'), PosixPath('DataFiles/billboard-27.csv'), PosixPath('DataFiles/billboard-28.csv'), PosixPath('DataFiles/billboard-29.csv'), PosixPath('DataFiles/billboard-30.csv'), PosixPath('DataFiles/billboard-31.csv'), PosixPath('DataFiles/billboard-32.csv'), PosixPath('DataFiles/billboard-33.csv'), PosixPath('DataFiles/billboard-34.csv'), PosixPath('DataFiles/billboard-35.csv'), PosixPath('DataFiles/billboard-36.csv'), PosixPath('DataFiles/billboard-37.csv'), PosixPath('DataFiles/billboard-38.csv'), PosixPath('DataFiles/billboard-39.csv'), PosixPath('DataFiles/billboard-40.csv'), PosixPath('DataFiles/billboard-41.csv'), PosixPath('DataFiles/billboard-42.csv'), PosixPath('DataFiles/billboard-43.csv'), PosixPath('DataFiles/billboard-44.csv'), PosixPath('DataFiles/billboard-45.csv'), PosixPath('DataFiles/billboard-46.csv'), PosixPath('DataFiles/billboard-47.csv'), PosixPath('DataFiles/billboard-48.csv'), PosixPath('DataFiles/billboard-49.csv'), PosixPath('DataFiles/billboard-50.csv'), PosixPath('DataFiles/billboard-51.csv'), PosixPath('DataFiles/billboard-52.csv'), PosixPath('DataFiles/billboard-53.csv'), PosixPath('DataFiles/billboard-54.csv'), PosixPath('DataFiles/billboard-55.csv'), PosixPath('DataFiles/billboard-56.csv'), PosixPath('DataFiles/billboard-57.csv'), PosixPath('DataFiles/billboard-58.csv'), PosixPath('DataFiles/billboard-59.csv'), PosixPath('DataFiles/billboard-60.csv'), PosixPath('DataFiles/billboard-61.csv'), PosixPath('DataFiles/billboard-62.csv'), PosixPath('DataFiles/billboard-63.csv'), PosixPath('DataFiles/billboard-64.csv'), PosixPath('DataFiles/billboard-65.csv'), PosixPath('DataFiles/billboard-66.csv'), PosixPath('DataFiles/billboard-67.csv'), PosixPath('DataFiles/billboard-68.csv'), PosixPath('DataFiles/billboard-69.csv'), PosixPath('DataFiles/billboard-70.csv'), PosixPath('DataFiles/billboard-71.csv'), PosixPath('DataFiles/billboard-72.csv'), PosixPath('DataFiles/billboard-73.csv'), PosixPath('DataFiles/billboard-74.csv'), PosixPath('DataFiles/billboard-75.csv'), PosixPath('DataFiles/billboard-76.csv')]\n"
     ]
    }
   ],
   "source": [
    "billboard_data_files = sorted(list(Path(\"DataFiles\").glob(\"billboard-*.csv\")))\n",
    "print(billboard_data_files)"
   ]
  },
  {
   "cell_type": "code",
   "execution_count": 40,
   "id": "47e2dae6-b153-4fec-b42e-212b13c510c5",
   "metadata": {},
   "outputs": [
    {
     "name": "stdout",
     "output_type": "stream",
     "text": [
      "     year            artist                    track  time date.entered  rank  \\\n",
      "0    2000             2 Pac  Baby Don't Cry (Keep...  4:22   2000-02-26    87   \n",
      "1    2000           2Ge+her  The Hardest Part Of ...  3:15   2000-09-02    91   \n",
      "2    2000      3 Doors Down               Kryptonite  3:53   2000-04-08    81   \n",
      "3    2000      3 Doors Down                    Loser  4:24   2000-10-21    76   \n",
      "4    2000          504 Boyz            Wobble Wobble  3:35   2000-04-15    57   \n",
      "..    ...               ...                      ...   ...          ...   ...   \n",
      "312  2000       Yankee Grey     Another Nine Minutes  3:10   2000-04-29    86   \n",
      "313  2000  Yearwood, Trisha          Real Live Woman  3:55   2000-04-01    85   \n",
      "314  2000   Ying Yang Twins  Whistle While You Tw...  4:19   2000-03-18    95   \n",
      "315  2000     Zombie Nation            Kernkraft 400  3:30   2000-09-02    99   \n",
      "316  2000   matchbox twenty                     Bent  4:12   2000-04-29    60   \n",
      "\n",
      "     week  \n",
      "0       1  \n",
      "1       1  \n",
      "2       1  \n",
      "3       1  \n",
      "4       1  \n",
      "..    ...  \n",
      "312     1  \n",
      "313     1  \n",
      "314     1  \n",
      "315     1  \n",
      "316     1  \n",
      "\n",
      "[317 rows x 7 columns]\n"
     ]
    }
   ],
   "source": [
    "billboard01= pd.read_csv(billboard_data_files[0])\n",
    "billboard02=pd.read_csv(billboard_data_files[1])\n",
    "billboard03=pd.read_csv(billboard_data_files[2])\n",
    "print(billboard01)"
   ]
  },
  {
   "cell_type": "code",
   "execution_count": 42,
   "id": "8fae0f5e-bba7-4895-aaa7-a30563cab161",
   "metadata": {},
   "outputs": [
    {
     "name": "stdout",
     "output_type": "stream",
     "text": [
      "(951, 7)\n"
     ]
    }
   ],
   "source": [
    "billboard=pd.concat([billboard01,billboard02,billboard03])\n",
    "print(billboard.shape)\n"
   ]
  },
  {
   "cell_type": "code",
   "execution_count": null,
   "id": "06194bdd-a444-45c8-a1fb-93263716be59",
   "metadata": {},
   "outputs": [],
   "source": []
  }
 ],
 "metadata": {
  "kernelspec": {
   "display_name": "Python [conda env:base] *",
   "language": "python",
   "name": "conda-base-py"
  },
  "language_info": {
   "codemirror_mode": {
    "name": "ipython",
    "version": 3
   },
   "file_extension": ".py",
   "mimetype": "text/x-python",
   "name": "python",
   "nbconvert_exporter": "python",
   "pygments_lexer": "ipython3",
   "version": "3.12.2"
  }
 },
 "nbformat": 4,
 "nbformat_minor": 5
}
