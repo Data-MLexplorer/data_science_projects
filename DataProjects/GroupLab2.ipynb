{
 "cells": [
  {
   "cell_type": "code",
   "execution_count": 4,
   "id": "dffba815-64a3-4482-be6d-cffee333d829",
   "metadata": {},
   "outputs": [
    {
     "name": "stdout",
     "output_type": "stream",
     "text": [
      "     total_bill   tip     sex smoker   day    time  size\n",
      "0         16.99  1.01  Female     No   Sun  Dinner     2\n",
      "1         10.34  1.66    Male     No   Sun  Dinner     3\n",
      "2         21.01  3.50    Male     No   Sun  Dinner     3\n",
      "3         23.68  3.31    Male     No   Sun  Dinner     2\n",
      "4         24.59  3.61  Female     No   Sun  Dinner     4\n",
      "..          ...   ...     ...    ...   ...     ...   ...\n",
      "239       29.03  5.92    Male     No   Sat  Dinner     3\n",
      "240       27.18  2.00  Female    Yes   Sat  Dinner     2\n",
      "241       22.67  2.00    Male    Yes   Sat  Dinner     2\n",
      "242       17.82  1.75    Male     No   Sat  Dinner     2\n",
      "243       18.78  3.00  Female     No  Thur  Dinner     2\n",
      "\n",
      "[244 rows x 7 columns]\n"
     ]
    }
   ],
   "source": [
    "import pandas as pd\n",
    "import seaborn as sns\n",
    "\n",
    "\n",
    "tips = sns.load_dataset(\"tips\")\n",
    "print(tips)"
   ]
  },
  {
   "cell_type": "code",
   "execution_count": 15,
   "id": "78223a94-0ce9-49ff-9f40-1e9503415ca9",
   "metadata": {},
   "outputs": [
    {
     "name": "stdout",
     "output_type": "stream",
     "text": [
      "total_bill  tip    sex     smoker  day   time    size\n",
      "13.00       2.00   Female  Yes     Thur  Lunch   2       2\n",
      "3.07        1.00   Female  Yes     Sat   Dinner  1       1\n",
      "22.23       5.00   Male    No      Sun   Dinner  2       1\n",
      "20.69       2.45   Female  No      Sat   Dinner  4       1\n",
      "            5.00   Male    No      Sun   Dinner  5       1\n",
      "                                                        ..\n",
      "15.53       3.00   Male    Yes     Sat   Dinner  2       1\n",
      "15.69       1.50   Male    Yes     Sun   Dinner  2       1\n",
      "            3.00   Male    Yes     Sat   Dinner  3       1\n",
      "15.77       2.23   Female  No      Sat   Dinner  2       1\n",
      "50.81       10.00  Male    Yes     Sat   Dinner  3       1\n",
      "Name: count, Length: 243, dtype: int64\n"
     ]
    }
   ],
   "source": [
    "print(\"THE FREQUENCY COUNTS IN THE ORIGINAL DATASET\")\n",
    "\n",
    "frequency_counts = tips.value_counts()\n",
    "print(frequency_counts)"
   ]
  },
  {
   "cell_type": "code",
   "execution_count": 36,
   "id": "993e2f97-a68e-4e91-b2f3-97accc479968",
   "metadata": {},
   "outputs": [
    {
     "name": "stdout",
     "output_type": "stream",
     "text": [
      "size\n",
      "2    156\n",
      "3     38\n",
      "4     37\n",
      "5      5\n",
      "1      4\n",
      "6      4\n",
      "Name: count, dtype: int64\n"
     ]
    }
   ],
   "source": [
    "party_size = tips['size'].value_counts()\n",
    "print(party_size)"
   ]
  },
  {
   "cell_type": "code",
   "execution_count": 25,
   "id": "1fb84fff-fb17-4cec-9c84-50b148e821f2",
   "metadata": {},
   "outputs": [
    {
     "name": "stdout",
     "output_type": "stream",
     "text": [
      "(3,)\n"
     ]
    }
   ],
   "source": [
    "print (filtered_size_groups.shape)"
   ]
  },
  {
   "cell_type": "code",
   "execution_count": 72,
   "id": "ef8b5579-3c3a-4bce-bb59-d77b6629c25f",
   "metadata": {},
   "outputs": [
    {
     "name": "stdout",
     "output_type": "stream",
     "text": [
      "size\n",
      "2    156\n",
      "3     38\n",
      "4     37\n",
      "Name: count, dtype: int64\n"
     ]
    }
   ],
   "source": [
    "tips_filtered = party_size[party_size > 35]\n",
    "print(tips_filtered)"
   ]
  },
  {
   "cell_type": "code",
   "execution_count": 86,
   "id": "7f03cef6-b737-4761-9fe1-48f733f1438e",
   "metadata": {},
   "outputs": [
    {
     "name": "stdout",
     "output_type": "stream",
     "text": [
      "size\n",
      "2    156\n",
      "3     38\n",
      "4     37\n",
      "Name: count, dtype: int64\n"
     ]
    }
   ],
   "source": [
    "tips_filtered = party_size[party_size > 35]\n",
    "\n",
    "print(tips_filtered)"
   ]
  },
  {
   "cell_type": "code",
   "execution_count": 98,
   "id": "16a48a02-c2c9-400e-99b6-3988f373f0e1",
   "metadata": {},
   "outputs": [
    {
     "name": "stdout",
     "output_type": "stream",
     "text": [
      "To get the party size we need to index to filtered dataframe\n",
      "Index([2, 3, 4], dtype='int64', name='size')\n",
      "size\n",
      "2    156\n",
      "3     38\n",
      "4     37\n",
      "Name: count, dtype: int64\n"
     ]
    }
   ],
   "source": [
    "print('To get the party size we need to index to filtered dataframe')\n",
    "filtered_sizes = tips_filtered.index\n",
    "print(filtered_sizes)\n",
    "\n",
    "\n",
    "print(tips_filtered)"
   ]
  },
  {
   "cell_type": "code",
   "execution_count": 100,
   "id": "1732f908-d4cb-4dc8-b352-613a63b219b1",
   "metadata": {},
   "outputs": [
    {
     "name": "stdout",
     "output_type": "stream",
     "text": [
      "Sample of 10 rows from the 'tips' dataset:\n",
      "     total_bill   tip     sex smoker   day    time  size\n",
      "24        19.82  3.18    Male     No   Sat  Dinner     2\n",
      "6          8.77  2.00    Male     No   Sun  Dinner     2\n",
      "153       24.55  2.00    Male     No   Sun  Dinner     4\n",
      "211       25.89  5.16    Male    Yes   Sat  Dinner     4\n",
      "198       13.00  2.00  Female    Yes  Thur   Lunch     2\n",
      "176       17.89  2.00    Male    Yes   Sun  Dinner     2\n",
      "192       28.44  2.56    Male    Yes  Thur   Lunch     2\n",
      "124       12.48  2.52  Female     No  Thur   Lunch     2\n",
      "9         14.78  3.23    Male     No   Sun  Dinner     2\n",
      "101       15.38  3.00  Female    Yes   Fri  Dinner     2\n"
     ]
    }
   ],
   "source": [
    "import seaborn as sns\n",
    "import pandas as pd\n",
    "\n",
    "tips = sns.load_dataset('tips')\n",
    "tips_10 = tips.sample(n=10, random_state=42)\n",
    "print(\"Sample of 10 rows from the 'tips' dataset:\")\n",
    "print(tips_10)"
   ]
  },
  {
   "cell_type": "code",
   "execution_count": null,
   "id": "81f38077-8327-489e-ad63-3a8e13e022ff",
   "metadata": {},
   "outputs": [],
   "source": [
    " GROUP THE DATA IN TIPS_10 BY THE COLUMN 'SEX'. \n",
    "ASSIGN THE GROUPED OBJECT TO A VARIABLE NAMED GROUPED. \n",
    "DISPLAY THE VARIABLE GROUPED TO VERIFY THE GROUPING."
   ]
  },
  {
   "cell_type": "code",
   "execution_count": 111,
   "id": "4057dfca-db1b-4e11-a6c2-4312bb0d8382",
   "metadata": {},
   "outputs": [
    {
     "name": "stdout",
     "output_type": "stream",
     "text": [
      "<pandas.core.groupby.generic.DataFrameGroupBy object at 0x15a8e0350>\n"
     ]
    },
    {
     "name": "stderr",
     "output_type": "stream",
     "text": [
      "/var/folders/jd/746wbsm133x23cvkw2qlxzmh0000gp/T/ipykernel_25553/1549211312.py:1: FutureWarning: The default of observed=False is deprecated and will be changed to True in a future version of pandas. Pass observed=False to retain current behavior or observed=True to adopt the future default and silence this warning.\n",
      "  grouped = tips_10.groupby('sex')\n"
     ]
    }
   ],
   "source": [
    "grouped = tips_10.groupby('sex')\n",
    "print(grouped)"
   ]
  },
  {
   "cell_type": "code",
   "execution_count": 113,
   "id": "49709b25-c5fd-4832-8b03-f3b3ac74727d",
   "metadata": {},
   "outputs": [
    {
     "name": "stdout",
     "output_type": "stream",
     "text": [
      "        total_bill       tip      size\n",
      "sex                                   \n",
      "Male         20.02  2.875714  2.571429\n",
      "Female       13.62  2.506667  2.000000\n"
     ]
    }
   ],
   "source": [
    "avgs = grouped[['total_bill', 'tip', 'size']].mean()\n",
    "print(avgs)"
   ]
  },
  {
   "cell_type": "code",
   "execution_count": 131,
   "id": "edeb17e9-780c-48b4-973b-e8a8945eac35",
   "metadata": {},
   "outputs": [
    {
     "name": "stdout",
     "output_type": "stream",
     "text": [
      "        total_bill       tip  size\n",
      "sex                               \n",
      "Female       13.62  2.506667   2.0\n"
     ]
    }
   ],
   "source": [
    "# female = avgs.loc['Female']\n",
    "female = avgs.iloc[1:2]\n",
    "print(female)"
   ]
  },
  {
   "cell_type": "code",
   "execution_count": 133,
   "id": "6fcb6655-e6a3-41bf-988b-0ea9d8dce25b",
   "metadata": {},
   "outputs": [
    {
     "name": "stdout",
     "output_type": "stream",
     "text": [
      "total_bill    20.020000\n",
      "tip            2.875714\n",
      "size           2.571429\n",
      "Name: Male, dtype: float64\n"
     ]
    }
   ],
   "source": [
    "male = avgs.loc['Male']\n",
    "print(male) "
   ]
  },
  {
   "cell_type": "code",
   "execution_count": 139,
   "id": "dcae54fa-40e1-4206-ba4d-00a1bb3dea11",
   "metadata": {},
   "outputs": [
    {
     "name": "stdout",
     "output_type": "stream",
     "text": [
      "Group: Male\n",
      "     total_bill   tip   sex smoker   day    time  size\n",
      "24        19.82  3.18  Male     No   Sat  Dinner     2\n",
      "6          8.77  2.00  Male     No   Sun  Dinner     2\n",
      "153       24.55  2.00  Male     No   Sun  Dinner     4\n",
      "211       25.89  5.16  Male    Yes   Sat  Dinner     4\n",
      "176       17.89  2.00  Male    Yes   Sun  Dinner     2\n",
      "192       28.44  2.56  Male    Yes  Thur   Lunch     2\n",
      "9         14.78  3.23  Male     No   Sun  Dinner     2\n",
      "\n",
      "\n",
      "Group: Female\n",
      "     total_bill   tip     sex smoker   day    time  size\n",
      "198       13.00  2.00  Female    Yes  Thur   Lunch     2\n",
      "124       12.48  2.52  Female     No  Thur   Lunch     2\n",
      "101       15.38  3.00  Female    Yes   Fri  Dinner     2\n",
      "\n",
      "\n"
     ]
    }
   ],
   "source": [
    "for name, group in grouped:\n",
    "    print(f\"Group: {name}\")\n",
    "    print(group)\n",
    "    print(\"\\n\")"
   ]
  },
  {
   "cell_type": "code",
   "execution_count": 141,
   "id": "042f7c1b-bfea-426d-9303-ad9727d1c9dd",
   "metadata": {},
   "outputs": [
    {
     "name": "stdout",
     "output_type": "stream",
     "text": [
      "<pandas.core.groupby.generic.DataFrameGroupBy object at 0x15d648350>\n"
     ]
    },
    {
     "name": "stderr",
     "output_type": "stream",
     "text": [
      "/var/folders/jd/746wbsm133x23cvkw2qlxzmh0000gp/T/ipykernel_25553/3194255394.py:1: FutureWarning: The default of observed=False is deprecated and will be changed to True in a future version of pandas. Pass observed=False to retain current behavior or observed=True to adopt the future default and silence this warning.\n",
      "  bill_sex_time = tips_10.groupby(['sex','time'])\n"
     ]
    }
   ],
   "source": [
    "bill_sex_time = tips_10.groupby(['sex','time'])\n",
    "print(bill_sex_time)"
   ]
  },
  {
   "cell_type": "code",
   "execution_count": 143,
   "id": "d4818655-c71f-4c71-9bca-6572bc24a8c5",
   "metadata": {},
   "outputs": [
    {
     "name": "stdout",
     "output_type": "stream",
     "text": [
      "               total_bill       tip      size\n",
      "sex    time                                  \n",
      "Male   Lunch    28.440000  2.560000  2.000000\n",
      "       Dinner   18.616667  2.928333  2.666667\n",
      "Female Lunch    12.740000  2.260000  2.000000\n",
      "       Dinner   15.380000  3.000000  2.000000\n"
     ]
    }
   ],
   "source": [
    "group_avg = bill_sex_time.mean(numeric_only=True)\n",
    "print(group_avg)"
   ]
  },
  {
   "cell_type": "code",
   "execution_count": null,
   "id": "9c50e157-65f0-413d-9eda-e7092d457307",
   "metadata": {},
   "outputs": [],
   "source": []
  }
 ],
 "metadata": {
  "kernelspec": {
   "display_name": "Python [conda env:base] *",
   "language": "python",
   "name": "conda-base-py"
  },
  "language_info": {
   "codemirror_mode": {
    "name": "ipython",
    "version": 3
   },
   "file_extension": ".py",
   "mimetype": "text/x-python",
   "name": "python",
   "nbconvert_exporter": "python",
   "pygments_lexer": "ipython3",
   "version": "3.12.2"
  }
 },
 "nbformat": 4,
 "nbformat_minor": 5
}
