{
 "cells": [
  {
   "cell_type": "code",
   "execution_count": 20,
   "id": "b3f63837-6823-4416-944a-802a7dec516e",
   "metadata": {},
   "outputs": [
    {
     "name": "stdout",
     "output_type": "stream",
     "text": [
      "Index(['year', 'artist', 'track', 'time', 'date.entered', 'wk1', 'wk2', 'wk3',\n",
      "       'wk4', 'wk5', 'wk6', 'wk7', 'wk8', 'wk9', 'wk10', 'wk11', 'wk12',\n",
      "       'wk13', 'wk14', 'wk15', 'wk16', 'wk17', 'wk18', 'wk19', 'wk20', 'wk21',\n",
      "       'wk22', 'wk23', 'wk24', 'wk25', 'wk26', 'wk27', 'wk28', 'wk29', 'wk30',\n",
      "       'wk31', 'wk32', 'wk33', 'wk34', 'wk35', 'wk36', 'wk37', 'wk38', 'wk39',\n",
      "       'wk40', 'wk41', 'wk42', 'wk43', 'wk44', 'wk45', 'wk46', 'wk47', 'wk48',\n",
      "       'wk49', 'wk50', 'wk51', 'wk52', 'wk53', 'wk54', 'wk55', 'wk56', 'wk57',\n",
      "       'wk58', 'wk59', 'wk60', 'wk61', 'wk62', 'wk63', 'wk64', 'wk65', 'wk66',\n",
      "       'wk67', 'wk68', 'wk69', 'wk70', 'wk71', 'wk72', 'wk73', 'wk74', 'wk75',\n",
      "       'wk76'],\n",
      "      dtype='object')\n"
     ]
    }
   ],
   "source": [
    "import pandas as pd\n",
    "\n",
    "billboard = pd.read_csv('BILLBOARD.CSV')\n",
    "print(billboard.columns)\n",
    "\n"
   ]
  },
  {
   "cell_type": "code",
   "execution_count": 26,
   "id": "3d2a7fb9-904b-4095-8c75-18a88ba803bb",
   "metadata": {},
   "outputs": [
    {
     "name": "stdout",
     "output_type": "stream",
     "text": [
      "       year            artist                    track  time date.entered  \\\n",
      "0      2000             2 Pac  Baby Don't Cry (Keep...  4:22   2000-02-26   \n",
      "1      2000           2Ge+her  The Hardest Part Of ...  3:15   2000-09-02   \n",
      "2      2000      3 Doors Down               Kryptonite  3:53   2000-04-08   \n",
      "3      2000      3 Doors Down                    Loser  4:24   2000-10-21   \n",
      "4      2000          504 Boyz            Wobble Wobble  3:35   2000-04-15   \n",
      "...     ...               ...                      ...   ...          ...   \n",
      "24087  2000       Yankee Grey     Another Nine Minutes  3:10   2000-04-29   \n",
      "24088  2000  Yearwood, Trisha          Real Live Woman  3:55   2000-04-01   \n",
      "24089  2000   Ying Yang Twins  Whistle While You Tw...  4:19   2000-03-18   \n",
      "24090  2000     Zombie Nation            Kernkraft 400  3:30   2000-09-02   \n",
      "24091  2000   matchbox twenty                     Bent  4:12   2000-04-29   \n",
      "\n",
      "       week  rating  \n",
      "0       wk1    87.0  \n",
      "1       wk1    91.0  \n",
      "2       wk1    81.0  \n",
      "3       wk1    76.0  \n",
      "4       wk1    57.0  \n",
      "...     ...     ...  \n",
      "24087  wk76     NaN  \n",
      "24088  wk76     NaN  \n",
      "24089  wk76     NaN  \n",
      "24090  wk76     NaN  \n",
      "24091  wk76     NaN  \n",
      "\n",
      "[24092 rows x 7 columns]\n"
     ]
    }
   ],
   "source": [
    "billboard_Long = billboard.melt(\n",
    "    id_vars=[\"year\", \"artist\", \"track\", \"time\", \"date.entered\"], \n",
    "    var_name=\"week\", \n",
    "    value_name=\"rating\"  \n",
    ")\n",
    "print(billboard_Long)"
   ]
  },
  {
   "cell_type": "code",
   "execution_count": 33,
   "id": "110518e1-c3c5-47da-9c1c-c9c7f5b39bd9",
   "metadata": {},
   "outputs": [
    {
     "name": "stdout",
     "output_type": "stream",
     "text": [
      "       year        artist  track  time date.entered  week  rating\n",
      "3      2000  3 Doors Down  Loser  4:24   2000-10-21   wk1    76.0\n",
      "320    2000  3 Doors Down  Loser  4:24   2000-10-21   wk2    76.0\n",
      "637    2000  3 Doors Down  Loser  4:24   2000-10-21   wk3    72.0\n",
      "954    2000  3 Doors Down  Loser  4:24   2000-10-21   wk4    69.0\n",
      "1271   2000  3 Doors Down  Loser  4:24   2000-10-21   wk5    67.0\n",
      "...     ...           ...    ...   ...          ...   ...     ...\n",
      "22510  2000  3 Doors Down  Loser  4:24   2000-10-21  wk72     NaN\n",
      "22827  2000  3 Doors Down  Loser  4:24   2000-10-21  wk73     NaN\n",
      "23144  2000  3 Doors Down  Loser  4:24   2000-10-21  wk74     NaN\n",
      "23461  2000  3 Doors Down  Loser  4:24   2000-10-21  wk75     NaN\n",
      "23778  2000  3 Doors Down  Loser  4:24   2000-10-21  wk76     NaN\n",
      "\n",
      "[76 rows x 7 columns]\n"
     ]
    }
   ],
   "source": [
    "df_filter = billboard_Long.loc[billboard_Long['track'] =='Loser']\n",
    "print(df_filter)"
   ]
  },
  {
   "cell_type": "code",
   "execution_count": 35,
   "id": "f1f2a159-1663-4a5e-90e5-51a4f9d27146",
   "metadata": {},
   "outputs": [
    {
     "name": "stdout",
     "output_type": "stream",
     "text": [
      "(24092, 4)\n"
     ]
    }
   ],
   "source": [
    "billboard_Songs = billboard_Long[['year','artist','track','time']]\n",
    "print(billboard_Songs.shape)"
   ]
  },
  {
   "cell_type": "code",
   "execution_count": 41,
   "id": "f758e3a6-afd6-4699-a0f0-ce2b4ced0e4e",
   "metadata": {},
   "outputs": [
    {
     "name": "stdout",
     "output_type": "stream",
     "text": [
      "(317, 4)\n"
     ]
    }
   ],
   "source": [
    "billboard_Songs = billboard_Songs.drop_duplicates()\n",
    "print(billboard_Songs.shape)"
   ]
  },
  {
   "cell_type": "code",
   "execution_count": 43,
   "id": "7eb42a45-8152-4907-9f09-1f309cfb795f",
   "metadata": {},
   "outputs": [
    {
     "name": "stdout",
     "output_type": "stream",
     "text": [
      "     year            artist                    track  time   id\n",
      "0    2000             2 Pac  Baby Don't Cry (Keep...  4:22    1\n",
      "1    2000           2Ge+her  The Hardest Part Of ...  3:15    2\n",
      "2    2000      3 Doors Down               Kryptonite  3:53    3\n",
      "3    2000      3 Doors Down                    Loser  4:24    4\n",
      "4    2000          504 Boyz            Wobble Wobble  3:35    5\n",
      "..    ...               ...                      ...   ...  ...\n",
      "312  2000       Yankee Grey     Another Nine Minutes  3:10  313\n",
      "313  2000  Yearwood, Trisha          Real Live Woman  3:55  314\n",
      "314  2000   Ying Yang Twins  Whistle While You Tw...  4:19  315\n",
      "315  2000     Zombie Nation            Kernkraft 400  3:30  316\n",
      "316  2000   matchbox twenty                     Bent  4:12  317\n",
      "\n",
      "[317 rows x 5 columns]\n"
     ]
    }
   ],
   "source": [
    "billboard_Songs['id']= billboard_Songs.index +1 \n",
    "print(billboard_Songs)"
   ]
  },
  {
   "cell_type": "code",
   "execution_count": 49,
   "id": "282397f8-24da-4e5c-9761-f28f984022a8",
   "metadata": {},
   "outputs": [
    {
     "name": "stdout",
     "output_type": "stream",
     "text": [
      "(24092, 8)\n",
      "   year        artist                    track  time date.entered week  \\\n",
      "0  2000         2 Pac  Baby Don't Cry (Keep...  4:22   2000-02-26  wk1   \n",
      "1  2000       2Ge+her  The Hardest Part Of ...  3:15   2000-09-02  wk1   \n",
      "2  2000  3 Doors Down               Kryptonite  3:53   2000-04-08  wk1   \n",
      "3  2000  3 Doors Down                    Loser  4:24   2000-10-21  wk1   \n",
      "4  2000      504 Boyz            Wobble Wobble  3:35   2000-04-15  wk1   \n",
      "\n",
      "   rating  id  \n",
      "0    87.0   1  \n",
      "1    91.0   2  \n",
      "2    81.0   3  \n",
      "3    76.0   4  \n",
      "4    57.0   5  \n"
     ]
    }
   ],
   "source": [
    "billboard_Ratings = pd.merge(billboard_Long, billboard_Songs, on=[\"year\",\"artist\",\"track\",\"time\"])\n",
    "\n",
    "print(billboard_Ratings.shape)\n",
    "print(billboard_Ratings.head())"
   ]
  },
  {
   "cell_type": "code",
   "execution_count": 51,
   "id": "f3c00b99-7289-4896-a7b3-7b70651ef0cc",
   "metadata": {},
   "outputs": [
    {
     "name": "stdout",
     "output_type": "stream",
     "text": [
      "        id date.entered  week  rating\n",
      "0        1   2000-02-26   wk1    87.0\n",
      "1        2   2000-09-02   wk1    91.0\n",
      "2        3   2000-04-08   wk1    81.0\n",
      "3        4   2000-10-21   wk1    76.0\n",
      "4        5   2000-04-15   wk1    57.0\n",
      "...    ...          ...   ...     ...\n",
      "24087  313   2000-04-29  wk76     NaN\n",
      "24088  314   2000-04-01  wk76     NaN\n",
      "24089  315   2000-03-18  wk76     NaN\n",
      "24090  316   2000-09-02  wk76     NaN\n",
      "24091  317   2000-04-29  wk76     NaN\n",
      "\n",
      "[24092 rows x 4 columns]\n"
     ]
    }
   ],
   "source": [
    "billboard_Ratings = billboard_Ratings[[\"id\", \"date.entered\", \"week\", \"rating\"]]\n",
    "print(billboard_Ratings)"
   ]
  },
  {
   "cell_type": "code",
   "execution_count": null,
   "id": "e9b88c79-26f7-45f1-9cf6-d854a6f2c6c1",
   "metadata": {},
   "outputs": [],
   "source": [
    "# Lab4_2"
   ]
  },
  {
   "cell_type": "code",
   "execution_count": 11,
   "id": "7ca89e2f-a5a6-4b08-911f-a81e7f5ebe72",
   "metadata": {},
   "outputs": [
    {
     "name": "stdout",
     "output_type": "stream",
     "text": [
      "          country continent  year  lifeExp       pop   gdpPercap\n",
      "0     Afghanistan      Asia  1952   28.801   8425333  779.445314\n",
      "1     Afghanistan      Asia  1957   30.332   9240934  820.853030\n",
      "2     Afghanistan      Asia  1962   31.997  10267083  853.100710\n",
      "3     Afghanistan      Asia  1967   34.020  11537966  836.197138\n",
      "4     Afghanistan      Asia  1972   36.088  13079460  739.981106\n",
      "...           ...       ...   ...      ...       ...         ...\n",
      "1699     Zimbabwe    Africa  1987   62.351   9216418  706.157306\n",
      "1700     Zimbabwe    Africa  1992   60.377  10704340  693.420786\n",
      "1701     Zimbabwe    Africa  1997   46.809  11404948  792.449960\n",
      "1702     Zimbabwe    Africa  2002   39.989  11926563  672.038623\n",
      "1703     Zimbabwe    Africa  2007   43.487  12311143  469.709298\n",
      "\n",
      "[1704 rows x 6 columns]\n"
     ]
    }
   ],
   "source": [
    "import pandas as pd\n",
    "\n",
    "df=pd.read_csv('GAPMINDER.TSV', sep='\\t')\n",
    "print(df)\n"
   ]
  },
  {
   "cell_type": "code",
   "execution_count": 13,
   "id": "b190159c-8caf-49d2-b21b-d11ed1d03ca7",
   "metadata": {},
   "outputs": [
    {
     "name": "stdout",
     "output_type": "stream",
     "text": [
      "year\n",
      "1952    49.057620\n",
      "1957    51.507401\n",
      "1962    53.609249\n",
      "1967    55.678290\n",
      "1972    57.647386\n",
      "1977    59.570157\n",
      "1982    61.533197\n",
      "1987    63.212613\n",
      "1992    64.160338\n",
      "1997    65.014676\n",
      "2002    65.694923\n",
      "2007    67.007423\n",
      "Name: lifeExp, dtype: float64\n"
     ]
    }
   ],
   "source": [
    "avg_life_exp_year = df.groupby('year')['lifeExp'].mean()\n",
    "print(avg_life_exp_year)"
   ]
  },
  {
   "cell_type": "code",
   "execution_count": 15,
   "id": "daf11d3d-6b27-4b08-9dc7-abf6244344c1",
   "metadata": {},
   "outputs": [
    {
     "name": "stdout",
     "output_type": "stream",
     "text": [
      "[1952 1957 1962 1967 1972 1977 1982 1987 1992 1997 2002 2007]\n"
     ]
    }
   ],
   "source": [
    "df_year = df['year'].unique()\n",
    "print(df_year)"
   ]
  },
  {
   "cell_type": "code",
   "execution_count": 31,
   "id": "86cc0fe7-9a55-4f3b-a6e7-b89cd41dfe9b",
   "metadata": {},
   "outputs": [
    {
     "name": "stdout",
     "output_type": "stream",
     "text": [
      "                 country continent  year  lifeExp       pop    gdpPercap\n",
      "0            Afghanistan      Asia  1952   28.801   8425333   779.445314\n",
      "12               Albania    Europe  1952   55.230   1282697  1601.056136\n",
      "24               Algeria    Africa  1952   43.077   9279525  2449.008185\n",
      "36                Angola    Africa  1952   30.015   4232095  3520.610273\n",
      "48             Argentina  Americas  1952   62.485  17876956  5911.315053\n",
      "...                  ...       ...   ...      ...       ...          ...\n",
      "1644             Vietnam      Asia  1952   40.412  26246839   605.066492\n",
      "1656  West Bank and Gaza      Asia  1952   43.160   1030585  1515.592329\n",
      "1668         Yemen, Rep.      Asia  1952   32.548   4963829   781.717576\n",
      "1680              Zambia    Africa  1952   42.038   2672000  1147.388831\n",
      "1692            Zimbabwe    Africa  1952   48.451   3080907   406.884115\n",
      "\n",
      "[142 rows x 6 columns]\n"
     ]
    }
   ],
   "source": [
    "df_year_1952 =df.loc[df['year'] == 1952, :]\n",
    "print(df_year_1952)"
   ]
  },
  {
   "cell_type": "code",
   "execution_count": 33,
   "id": "5e997d3f-dfde-412a-b03c-2569d5a1ee04",
   "metadata": {},
   "outputs": [
    {
     "name": "stdout",
     "output_type": "stream",
     "text": [
      "49.057619718309866\n"
     ]
    }
   ],
   "source": [
    "Y1952_MEAN = df_year_1952['lifeExp'].mean()\n",
    "print(Y1952_MEAN)"
   ]
  },
  {
   "cell_type": "code",
   "execution_count": null,
   "id": "d9462a45-ff22-455a-8185-6d3595f344be",
   "metadata": {},
   "outputs": [],
   "source": []
  }
 ],
 "metadata": {
  "kernelspec": {
   "display_name": "Python [conda env:base] *",
   "language": "python",
   "name": "conda-base-py"
  },
  "language_info": {
   "codemirror_mode": {
    "name": "ipython",
    "version": 3
   },
   "file_extension": ".py",
   "mimetype": "text/x-python",
   "name": "python",
   "nbconvert_exporter": "python",
   "pygments_lexer": "ipython3",
   "version": "3.12.2"
  }
 },
 "nbformat": 4,
 "nbformat_minor": 5
}
