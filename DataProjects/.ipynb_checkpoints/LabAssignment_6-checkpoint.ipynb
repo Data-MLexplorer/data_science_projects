{
 "cells": [
  {
   "cell_type": "code",
   "execution_count": 13,
   "id": "e43b103a-e80f-4076-b846-fc5c1a00c8b1",
   "metadata": {},
   "outputs": [],
   "source": [
    "import re"
   ]
  },
  {
   "cell_type": "code",
   "execution_count": 19,
   "id": "2cc96680-6ede-4f47-a04a-26ff8c628710",
   "metadata": {},
   "outputs": [
    {
     "name": "stdout",
     "output_type": "stream",
     "text": [
      "\n",
      " GUARD: WHAT? THERE ARE 14 EMPLOYEES IN THE OFFICE?\n",
      " WORKER: YES! \n",
      " GUARD: BUT, IT IS GOING BEYOND THE CLOSING TIME.\n",
      " WORKER: WHAT? \n",
      " GUARD: WE NEED TO INFORM THE HEAD REPRESENTATIVES\n",
      "\n"
     ]
    }
   ],
   "source": [
    "multi_str =\"\"\"\n",
    " GUARD: WHAT? THERE ARE 14 EMPLOYEES IN THE OFFICE?\n",
    " WORKER: YES! \n",
    " GUARD: BUT, IT IS GOING BEYOND THE CLOSING TIME.\n",
    " WORKER: WHAT? \n",
    " GUARD: WE NEED TO INFORM THE HEAD REPRESENTATIVES\n",
    "\"\"\"\n",
    "print(multi_str)"
   ]
  },
  {
   "cell_type": "code",
   "execution_count": 24,
   "id": "6fb10942-eb55-4952-a809-54c1cd227627",
   "metadata": {},
   "outputs": [
    {
     "name": "stdout",
     "output_type": "stream",
     "text": [
      "D: WHAT\n"
     ]
    }
   ],
   "source": [
    "sliced_str = multi_str[6:13]\n",
    "print(sliced_str)"
   ]
  },
  {
   "cell_type": "code",
   "execution_count": 28,
   "id": "e92449e0-739a-40b5-a04a-179ce4e11ce1",
   "metadata": {},
   "outputs": [
    {
     "name": "stdout",
     "output_type": "stream",
     "text": [
      "INFORM THE HEAD\n"
     ]
    }
   ],
   "source": [
    "sliced_str2 = multi_str[-32:-17]  # End index is exclusive\n",
    "print(sliced_str2)"
   ]
  },
  {
   "cell_type": "code",
   "execution_count": 31,
   "id": "6be54612-407b-4ad1-b971-05fd11a23fa5",
   "metadata": {},
   "outputs": [
    {
     "name": "stdout",
     "output_type": "stream",
     "text": [
      "185\n"
     ]
    }
   ],
   "source": [
    "s_multi_str =len(multi_str)\n",
    "print(s_multi_str)"
   ]
  },
  {
   "cell_type": "code",
   "execution_count": null,
   "id": "70c5bdbb-0cbf-4d19-b531-1f079d37a013",
   "metadata": {},
   "outputs": [],
   "source": []
  }
 ],
 "metadata": {
  "kernelspec": {
   "display_name": "Python [conda env:venv]",
   "language": "python",
   "name": "conda-env-venv-py"
  },
  "language_info": {
   "codemirror_mode": {
    "name": "ipython",
    "version": 3
   },
   "file_extension": ".py",
   "mimetype": "text/x-python",
   "name": "python",
   "nbconvert_exporter": "python",
   "pygments_lexer": "ipython3",
   "version": "3.12.0"
  }
 },
 "nbformat": 4,
 "nbformat_minor": 5
}
