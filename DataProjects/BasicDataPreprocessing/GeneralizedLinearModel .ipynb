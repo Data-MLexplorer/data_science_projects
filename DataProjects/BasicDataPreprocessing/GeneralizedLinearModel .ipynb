{
 "cells": [
  {
   "cell_type": "code",
   "execution_count": 6,
   "id": "724100fe-2a19-4edf-8191-3b50aa690e9b",
   "metadata": {
    "editable": true,
    "slideshow": {
     "slide_type": ""
    },
    "tags": []
   },
   "outputs": [
    {
     "name": "stdout",
     "output_type": "stream",
     "text": [
      "     survived  pclass     sex   age  sibsp  parch     fare embarked   class  \\\n",
      "0           0       3    male  22.0      1      0   7.2500        S   Third   \n",
      "1           1       1  female  38.0      1      0  71.2833        C   First   \n",
      "2           1       3  female  26.0      0      0   7.9250        S   Third   \n",
      "3           1       1  female  35.0      1      0  53.1000        S   First   \n",
      "4           0       3    male  35.0      0      0   8.0500        S   Third   \n",
      "..        ...     ...     ...   ...    ...    ...      ...      ...     ...   \n",
      "886         0       2    male  27.0      0      0  13.0000        S  Second   \n",
      "887         1       1  female  19.0      0      0  30.0000        S   First   \n",
      "888         0       3  female   NaN      1      2  23.4500        S   Third   \n",
      "889         1       1    male  26.0      0      0  30.0000        C   First   \n",
      "890         0       3    male  32.0      0      0   7.7500        Q   Third   \n",
      "\n",
      "       who  adult_male deck  embark_town alive  alone  \n",
      "0      man        True  NaN  Southampton    no  False  \n",
      "1    woman       False    C    Cherbourg   yes  False  \n",
      "2    woman       False  NaN  Southampton   yes   True  \n",
      "3    woman       False    C  Southampton   yes  False  \n",
      "4      man        True  NaN  Southampton    no   True  \n",
      "..     ...         ...  ...          ...   ...    ...  \n",
      "886    man        True  NaN  Southampton    no   True  \n",
      "887  woman       False    B  Southampton   yes   True  \n",
      "888  woman       False  NaN  Southampton    no  False  \n",
      "889    man        True    C    Cherbourg   yes   True  \n",
      "890    man        True  NaN   Queenstown    no   True  \n",
      "\n",
      "[891 rows x 15 columns]\n"
     ]
    }
   ],
   "source": [
    "#Generalized Linear Models \n",
    "\n",
    "\n",
    "import pandas as pd\n",
    "\n",
    "titanic=pd.read_csv('titanic.csv')\n",
    "print(titanic)"
   ]
  },
  {
   "cell_type": "code",
   "execution_count": 10,
   "id": "d91d29df-e176-4285-9af9-f819450c1d34",
   "metadata": {
    "editable": true,
    "slideshow": {
     "slide_type": ""
    },
    "tags": []
   },
   "outputs": [
    {
     "name": "stdout",
     "output_type": "stream",
     "text": [
      "     survived     sex   age embarked\n",
      "0           0    male  22.0        S\n",
      "1           1  female  38.0        C\n",
      "2           1  female  26.0        S\n",
      "3           1  female  35.0        S\n",
      "4           0    male  35.0        S\n",
      "..        ...     ...   ...      ...\n",
      "885         0  female  39.0        Q\n",
      "886         0    male  27.0        S\n",
      "887         1  female  19.0        S\n",
      "889         1    male  26.0        C\n",
      "890         0    male  32.0        Q\n",
      "\n",
      "[712 rows x 4 columns]\n"
     ]
    }
   ],
   "source": [
    "titanic_sub=(\n",
    "    titanic[[\"survived\",\"sex\",\"age\",\"embarked\"]].copy().dropna()\n",
    ")\n",
    "print(titanic_sub)"
   ]
  },
  {
   "cell_type": "code",
   "execution_count": 12,
   "id": "240e9e0d-c7cd-481c-9efe-03ca29ce0ea5",
   "metadata": {
    "editable": true,
    "slideshow": {
     "slide_type": ""
    },
    "tags": []
   },
   "outputs": [
    {
     "name": "stdout",
     "output_type": "stream",
     "text": [
      "survived\n",
      "0    424\n",
      "1    288\n",
      "Name: count, dtype: int64\n"
     ]
    }
   ],
   "source": [
    "#count of values in the survived column 0-dead, 1-survived\n",
    "\n",
    "print(titanic_sub[\"survived\"].value_counts())"
   ]
  },
  {
   "cell_type": "code",
   "execution_count": 16,
   "id": "c2a72c6e-68cd-455a-989e-ada7ca0f2b26",
   "metadata": {
    "editable": true,
    "slideshow": {
     "slide_type": ""
    },
    "tags": []
   },
   "outputs": [
    {
     "name": "stdout",
     "output_type": "stream",
     "text": [
      "embarked\n",
      "S    554\n",
      "C    130\n",
      "Q     28\n",
      "Name: count, dtype: int64\n"
     ]
    }
   ],
   "source": [
    "#embarked - where they boarded titanic , Southhapmptom S, \n",
    "print(titanic_sub[\"embarked\"].value_counts())\n",
    "      "
   ]
  },
  {
   "cell_type": "code",
   "execution_count": null,
   "id": "feb5d9f4-09ac-4069-9c57-bf652656178b",
   "metadata": {
    "editable": true,
    "slideshow": {
     "slide_type": ""
    },
    "tags": []
   },
   "outputs": [],
   "source": [
    "# The Link Function\n",
    "#  logit(p) = LOG (p/ 1-p)\n",
    "\n",
    "# p/(1-p)  is the odds of the event, the odds can only be greater than 0, \n",
    "# and it can never be negative"
   ]
  },
  {
   "cell_type": "code",
   "execution_count": 19,
   "id": "34fce5bb-f52e-4edf-a5a3-7ac32d9c3a8b",
   "metadata": {
    "editable": true,
    "slideshow": {
     "slide_type": ""
    },
    "tags": []
   },
   "outputs": [
    {
     "name": "stdout",
     "output_type": "stream",
     "text": [
      "Optimization terminated successfully.\n",
      "         Current function value: 0.509889\n",
      "         Iterations 6\n",
      "                           Logit Regression Results                           \n",
      "==============================================================================\n",
      "Dep. Variable:               survived   No. Observations:                  712\n",
      "Model:                          Logit   Df Residuals:                      707\n",
      "Method:                           MLE   Df Model:                            4\n",
      "Date:                Thu, 27 Mar 2025   Pseudo R-squ.:                  0.2444\n",
      "Time:                        20:42:09   Log-Likelihood:                -363.04\n",
      "converged:                       True   LL-Null:                       -480.45\n",
      "Covariance Type:            nonrobust   LLR p-value:                 1.209e-49\n",
      "=================================================================================\n",
      "                    coef    std err          z      P>|z|      [0.025      0.975]\n",
      "---------------------------------------------------------------------------------\n",
      "Intercept         2.2046      0.322      6.851      0.000       1.574       2.835\n",
      "sex[T.male]      -2.4760      0.191    -12.976      0.000      -2.850      -2.102\n",
      "embarked[T.Q]    -1.8156      0.535     -3.393      0.001      -2.864      -0.767\n",
      "embarked[T.S]    -1.0069      0.237     -4.251      0.000      -1.471      -0.543\n",
      "age              -0.0081      0.007     -1.233      0.217      -0.021       0.005\n",
      "=================================================================================\n"
     ]
    }
   ],
   "source": [
    "import statsmodels.formula.api as smf\n",
    "#formula for the model\n",
    "form ='survived~sex+age+embarked'\n",
    "#fitting the logistic regression model\n",
    "\n",
    "py_logistic_smf=smf.logit(formula =form, data=titanic_sub).fit()\n",
    "print(py_logistic_smf.summary())\n"
   ]
  },
  {
   "cell_type": "code",
   "execution_count": 21,
   "id": "a5d6b925-dcb8-442a-ba4d-b1737304e032",
   "metadata": {
    "editable": true,
    "slideshow": {
     "slide_type": ""
    },
    "tags": []
   },
   "outputs": [
    {
     "name": "stdout",
     "output_type": "stream",
     "text": [
      "               coefs_sm  odds_sm\n",
      "Intercept         2.205    9.066\n",
      "sex[T.male]      -2.476    0.084\n",
      "embarked[T.Q]    -1.816    0.163\n",
      "embarked[T.S]    -1.007    0.365\n",
      "age              -0.008    0.992\n"
     ]
    }
   ],
   "source": [
    "import numpy as np\n",
    "\n",
    "#get the coeff in a DF \n",
    "\n",
    "res_sm=pd.DataFrame(py_logistic_smf.params,columns=[\"coefs_sm\"])\n",
    "\n",
    "#calculate the odds\n",
    "res_sm[\"odds_sm\"]=np.exp(res_sm[\"coefs_sm\"])\n",
    "\n",
    "#round the decimals\n",
    "print(res_sm.round(3))"
   ]
  },
  {
   "cell_type": "code",
   "execution_count": 23,
   "id": "0d81399f-c936-4273-b622-b3f7bcc7a302",
   "metadata": {
    "editable": true,
    "slideshow": {
     "slide_type": ""
    },
    "tags": []
   },
   "outputs": [
    {
     "name": "stdout",
     "output_type": "stream",
     "text": [
      "     survived   age  sex_male  embarked_Q  embarked_S\n",
      "0           0  22.0      True       False        True\n",
      "1           1  38.0     False       False       False\n",
      "2           1  26.0     False       False        True\n",
      "3           1  35.0     False       False        True\n",
      "4           0  35.0      True       False        True\n",
      "..        ...   ...       ...         ...         ...\n",
      "885         0  39.0     False        True       False\n",
      "886         0  27.0      True       False        True\n",
      "887         1  19.0     False       False        True\n",
      "889         1  26.0      True       False       False\n",
      "890         0  32.0      True        True       False\n",
      "\n",
      "[712 rows x 5 columns]\n"
     ]
    }
   ],
   "source": [
    "titanic_dummy= pd.get_dummies(\n",
    "    titanic_sub[[\"survived\",\"sex\",\"age\",\"embarked\"]],\n",
    "    drop_first=True\n",
    ")\n",
    "print(titanic_dummy)"
   ]
  },
  {
   "cell_type": "code",
   "execution_count": 27,
   "id": "5be32f65-f399-466d-aa49-59887225c655",
   "metadata": {
    "editable": true,
    "slideshow": {
     "slide_type": ""
    },
    "tags": []
   },
   "outputs": [
    {
     "name": "stdout",
     "output_type": "stream",
     "text": [
      "            coef_sk1  odds_sk1\n",
      "Intercept      2.024     7.568\n",
      "age           -0.008     0.992\n",
      "sex_male      -2.371     0.093\n",
      "embarked_Q    -1.368     0.255\n",
      "embarked_S    -0.887     0.412\n"
     ]
    }
   ],
   "source": [
    "from sklearn import linear_model\n",
    "\n",
    "py_logistic_sklearn1=(\n",
    "    linear_model.LogisticRegression().fit(\n",
    "        X=titanic_dummy.iloc[:,1:], #all columns expect 1st\n",
    "        y=titanic_dummy.iloc[:,0] #just the 1st column\n",
    "    )\n",
    ")\n",
    "\n",
    "#get the names of dummy variable \n",
    "dummy_names= titanic_dummy.columns.to_list()\n",
    "\n",
    "#get the intercept and coef into a df\n",
    "\n",
    "sk1_res1=pd.DataFrame(\n",
    "    py_logistic_sklearn1.intercept_,\n",
    "    index=[\"Intercept\"],\n",
    "    columns=[\"coef_sk1\"],\n",
    ")\n",
    "sk1_res2=pd.DataFrame(\n",
    "    py_logistic_sklearn1.coef_.T,\n",
    "    index=dummy_names[1:],\n",
    "    columns=[\"coef_sk1\"],\n",
    ")\n",
    "\n",
    "#put the results into a 1 DF to show the results\n",
    "\n",
    "res_sklearn_pd_1=pd.concat([sk1_res1,sk1_res2])\n",
    "#calculate the odds\n",
    "res_sklearn_pd_1[\"odds_sk1\"]=np.exp(res_sklearn_pd_1[\"coef_sk1\"])\n",
    "print(res_sklearn_pd_1.round(3))"
   ]
  },
  {
   "cell_type": "code",
   "execution_count": 29,
   "id": "69d8b4b9-ec7e-482b-97ee-b68885bcc879",
   "metadata": {
    "editable": true,
    "slideshow": {
     "slide_type": ""
    },
    "tags": []
   },
   "outputs": [
    {
     "name": "stdout",
     "output_type": "stream",
     "text": [
      "Index(['Acres', 'FamilyIncome', 'FamilyType', 'NumBedrooms', 'NumChildren',\n",
      "       'NumPeople', 'NumRooms', 'NumUnits', 'NumVehicles', 'NumWorkers',\n",
      "       'OwnRent', 'YearBuilt', 'HouseCosts', 'ElectricBill', 'FoodStamp',\n",
      "       'HeatingFuel', 'Insurance', 'Language'],\n",
      "      dtype='object')\n"
     ]
    }
   ],
   "source": [
    "#POISSON Regression is performed when the respose variable involves count data\n",
    "\n",
    "acs=pd.read_csv('acs_ny.csv')\n",
    "print(acs.columns)\n"
   ]
  },
  {
   "cell_type": "code",
   "execution_count": 31,
   "id": "576e5791-8f65-4240-ab58-67c63d1ba3ea",
   "metadata": {
    "editable": true,
    "slideshow": {
     "slide_type": ""
    },
    "tags": []
   },
   "outputs": [
    {
     "name": "stdout",
     "output_type": "stream",
     "text": [
      "0        1\n",
      "1        2\n",
      "2        0\n",
      "3        1\n",
      "4        1\n",
      "        ..\n",
      "22740    3\n",
      "22741    0\n",
      "22742    1\n",
      "22743    2\n",
      "22744    2\n",
      "Name: NumChildren, Length: 22745, dtype: int64\n"
     ]
    }
   ],
   "source": [
    "#Numchildren example of count data\n",
    "print(acs[\"NumChildren\"])"
   ]
  },
  {
   "cell_type": "code",
   "execution_count": 33,
   "id": "08d51641-ab1e-4039-b0ba-3c9c9e221700",
   "metadata": {
    "editable": true,
    "slideshow": {
     "slide_type": ""
    },
    "tags": []
   },
   "outputs": [
    {
     "data": {
      "image/png": "[encoded data removed]",
      "text/plain": [
       "<Figure size 640x480 with 1 Axes>"
      ]
     },
     "metadata": {},
     "output_type": "display_data"
    }
   ],
   "source": [
    "import matplotlib.pyplot as plt\n",
    "import seaborn as sns\n",
    "\n",
    "fig,ax=plt.subplots()\n",
    "sns.countplot(data=acs,x=\"NumBedrooms\",ax=ax)\n",
    "ax.set_title('Number of Bedrooms')\n",
    "ax.set_xlabel('Number of bedrooms in a house')\n",
    "ax.set_ylabel('Count')\n",
    "plt.show()"
   ]
  },
  {
   "cell_type": "code",
   "execution_count": 35,
   "id": "67c8fdd8-f4f1-4da4-b721-1e070eff198d",
   "metadata": {
    "editable": true,
    "slideshow": {
     "slide_type": ""
    },
    "tags": []
   },
   "outputs": [
    {
     "name": "stdout",
     "output_type": "stream",
     "text": [
      "Optimization terminated successfully.\n",
      "         Current function value: 1.680998\n",
      "         Iterations 10\n",
      "                          Poisson Regression Results                          \n",
      "==============================================================================\n",
      "Dep. Variable:            NumBedrooms   No. Observations:                22745\n",
      "Model:                        Poisson   Df Residuals:                    22741\n",
      "Method:                           MLE   Df Model:                            3\n",
      "Date:                Thu, 27 Mar 2025   Pseudo R-squ.:                0.008309\n",
      "Time:                        21:07:13   Log-Likelihood:                -38234.\n",
      "converged:                       True   LL-Null:                       -38555.\n",
      "Covariance Type:            nonrobust   LLR p-value:                1.512e-138\n",
      "=======================================================================================\n",
      "                          coef    std err          z      P>|z|      [0.025      0.975]\n",
      "---------------------------------------------------------------------------------------\n",
      "Intercept               1.1387      0.006    184.928      0.000       1.127       1.151\n",
      "OwnRent[T.Outright]    -0.2659      0.051     -5.182      0.000      -0.367      -0.165\n",
      "OwnRent[T.Rented]      -0.1237      0.012     -9.996      0.000      -0.148      -0.099\n",
      "HouseCosts           6.217e-05   2.96e-06     21.017      0.000    5.64e-05     6.8e-05\n",
      "=======================================================================================\n"
     ]
    }
   ],
   "source": [
    "model=smf.poisson(\n",
    "    \"NumBedrooms~HouseCosts+OwnRent\",data=acs\n",
    ")\n",
    "results = model.fit()\n",
    "print(results.summary())"
   ]
  },
  {
   "cell_type": "code",
   "execution_count": 39,
   "id": "e27a7746-d6cf-4c99-ba98-3520b809f00c",
   "metadata": {
    "editable": true,
    "slideshow": {
     "slide_type": ""
    },
    "tags": []
   },
   "outputs": [
    {
     "data": {
      "image/png": "[encoded data removed]",
      "text/plain": [
       "<Figure size 640x480 with 1 Axes>"
      ]
     },
     "metadata": {},
     "output_type": "display_data"
    }
   ],
   "source": [
    "fig,ax=plt.subplots()\n",
    "sns.countplot(data=acs, x=\"NumPeople\", ax=ax)\n",
    "ax.set_title('Number of People')\n",
    "ax.set_xlabel('Number of people in a household')\n",
    "ax.set_ylabel('Count')\n",
    "plt.show()"
   ]
  },
  {
   "cell_type": "code",
   "execution_count": 49,
   "id": "eab8eddc-f075-467d-b911-5bd051ae1a82",
   "metadata": {
    "editable": true,
    "slideshow": {
     "slide_type": ""
    },
    "tags": []
   },
   "outputs": [
    {
     "name": "stdout",
     "output_type": "stream",
     "text": [
      "                 Generalized Linear Model Regression Results                  \n",
      "==============================================================================\n",
      "Dep. Variable:              NumPeople   No. Observations:                22745\n",
      "Model:                            GLM   Df Residuals:                    22741\n",
      "Model Family:        NegativeBinomial   Df Model:                            3\n",
      "Link Function:                    log   Scale:                          1.0000\n",
      "Method:                          IRLS   Log-Likelihood:                -53542.\n",
      "Date:                Thu, 27 Mar 2025   Deviance:                       2605.6\n",
      "Time:                        21:13:12   Pearson chi2:                 2.99e+03\n",
      "No. Iterations:                     6   Pseudo R-squ. (CS):           0.003504\n",
      "Covariance Type:            nonrobust                                         \n",
      "==================================================================================\n",
      "                     coef    std err          z      P>|z|      [0.025      0.975]\n",
      "----------------------------------------------------------------------------------\n",
      "Intercept          1.0418      0.025     41.580      0.000       0.993       1.091\n",
      "Acres[T.10+]      -0.0225      0.040     -0.564      0.573      -0.101       0.056\n",
      "Acres[T.Sub 1]     0.0509      0.019      2.671      0.008       0.014       0.088\n",
      "NumVehicles        0.0661      0.008      8.423      0.000       0.051       0.081\n",
      "==================================================================================\n"
     ]
    },
    {
     "name": "stderr",
     "output_type": "stream",
     "text": [
      "/Users/Deep/venv/lib/python3.12/site-packages/statsmodels/genmod/families/links.py:13: FutureWarning: The log link alias is deprecated. Use Log instead. The log link alias will be removed after the 0.15.0 release.\n",
      "  warnings.warn(\n",
      "/Users/Deep/venv/lib/python3.12/site-packages/statsmodels/genmod/families/family.py:1367: ValueWarning: Negative binomial dispersion parameter alpha not set. Using default value alpha=1.0.\n",
      "  warnings.warn(\"Negative binomial dispersion parameter alpha not \"\n"
     ]
    }
   ],
   "source": [
    "import statsmodels.api as sm\n",
    "from statsmodels.genmod import families\n",
    "\n",
    "model = smf.glm(\n",
    "    \"NumPeople~Acres+NumVehicles\",\n",
    "    data=acs,\n",
    "    family=sm.families.NegativeBinomial(\n",
    "        sm.genmod.families.links.log()\n",
    "    ),\n",
    ")\n",
    "results =model.fit()\n",
    "print(results.summary())"
   ]
  },
  {
   "cell_type": "code",
   "execution_count": 55,
   "id": "f2a6d9cc-716b-4600-b047-10e2ad534f37",
   "metadata": {
    "editable": true,
    "slideshow": {
     "slide_type": ""
    },
    "tags": []
   },
   "outputs": [
    {
     "name": "stdout",
     "output_type": "stream",
     "text": [
      "['1-10' 'Sub 1' '10+']\n"
     ]
    }
   ],
   "source": [
    "print(acs[\"Acres\"].unique())"
   ]
  },
  {
   "cell_type": "code",
   "execution_count": null,
   "id": "daebfcc7-e7fc-4bf5-95ef-482f24195c37",
   "metadata": {
    "editable": true,
    "slideshow": {
     "slide_type": ""
    },
    "tags": []
   },
   "outputs": [],
   "source": []
  }
 ],
 "metadata": {
  "kernelspec": {
   "display_name": "Python [conda env:venv]",
   "language": "python",
   "name": "conda-env-venv-py"
  },
  "language_info": {
   "codemirror_mode": {
    "name": "ipython",
    "version": 3
   },
   "file_extension": ".py",
   "mimetype": "text/x-python",
   "name": "python",
   "nbconvert_exporter": "python",
   "pygments_lexer": "ipython3",
   "version": "3.12.0"
  }
 },
 "nbformat": 4,
 "nbformat_minor": 5
}
