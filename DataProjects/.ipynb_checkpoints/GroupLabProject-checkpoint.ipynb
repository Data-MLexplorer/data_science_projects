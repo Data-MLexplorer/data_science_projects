{
 "cells": [
  {
   "cell_type": "markdown",
   "id": "a83566a4-04e6-4f59-aff0-80565db4d658",
   "metadata": {},
   "source": [
    "# Group Lab 3 Code\n",
    "\n",
    "\n",
    "### Imports"
   ]
  },
  {
   "cell_type": "code",
   "execution_count": 53,
   "id": "c958fa46-caf5-4cef-9ee4-8301693e9def",
   "metadata": {},
   "outputs": [
    {
     "data": {
      "text/plain": [
       "Index(['Poster_Link', 'Series_Title', 'Released_Year', 'Certificate',\n",
       "       'Runtime', 'Genre', 'IMDB_Rating', 'Overview', 'Meta_score', 'Director',\n",
       "       'Star1', 'Star2', 'Star3', 'Star4', 'No_of_Votes', 'Gross'],\n",
       "      dtype='object')"
      ]
     },
     "execution_count": 53,
     "metadata": {},
     "output_type": "execute_result"
    }
   ],
   "source": [
    "import pandas as pd\n",
    "import statsmodels.formula.api as smf\n",
    "from sklearn import linear_model\n",
    "\n",
    "# load in the IMDB movie dataset\n",
    "df = pd.read_csv('imdb_top_1000.csv')\n",
    "\n",
    "# display the dataset info\n",
    "# print(df.info())\n",
    "df.columns"
   ]
  },
  {
   "cell_type": "markdown",
   "id": "01d5a782-259a-478d-ab88-aa95b4615fee",
   "metadata": {},
   "source": [
    "### Preprocessing"
   ]
  },
  {
   "cell_type": "code",
   "execution_count": 57,
   "id": "4d175954-819a-4e78-afa3-f0d1985c8d01",
   "metadata": {},
   "outputs": [
    {
     "name": "stdout",
     "output_type": "stream",
     "text": [
      "<class 'pandas.core.frame.DataFrame'>\n",
      "Index: 830 entries, 0 to 997\n",
      "Data columns (total 7 columns):\n",
      " #   Column           Non-Null Count  Dtype  \n",
      "---  ------           --------------  -----  \n",
      " 0   Series_Title     830 non-null    object \n",
      " 1   Certificate      830 non-null    object \n",
      " 2   Runtime          830 non-null    float64\n",
      " 3   Genre            830 non-null    object \n",
      " 4   Gross            830 non-null    float64\n",
      " 5   Release_Year     830 non-null    float64\n",
      " 6   Combined_Rating  830 non-null    float64\n",
      "dtypes: float64(4), object(3)\n",
      "memory usage: 51.9+ KB\n",
      "None\n"
     ]
    }
   ],
   "source": [
    "# create a copy of the dataframe\n",
    "df1 = df.copy()\n",
    "\n",
    "# drop any irrelevant columns\n",
    "df1.drop(columns=['Poster_Link', 'Overview', 'No_of_Votes', 'Director', 'Star1', 'Star2', 'Star3', 'Star4'], inplace=True)\n",
    "\n",
    "# convert the release year to numeric\n",
    "df1['Release_Year'] = pd.to_numeric(df1['Released_Year'], errors='coerce') # turns any bad values to NaN\n",
    "df1.drop(columns=['Released_Year'], inplace=True)\n",
    "\n",
    "# convert gross to numeric\n",
    "df1['Gross'] = df1['Gross'].str.replace(',', '')\n",
    "df1['Gross'] = pd.to_numeric(df1['Gross'], errors='coerce')\n",
    "\n",
    "# check and drop the rows that weren't able to be converted to numeric\n",
    "df1 = df1[df1['Release_Year'].notna()]\n",
    "df1 = df1[df1['Gross'].notna()]\n",
    "\n",
    "# convert runtime to numeric\n",
    "df1['Runtime'] = df1['Runtime'].str.replace(' min', '', regex=False)\n",
    "df1['Runtime'] = df1['Runtime'].fillna(0).astype(float)\n",
    "\n",
    "# handle missing values in the certificate column by filling with a placeholder string\n",
    "df1['Certificate'] = df1['Certificate'].fillna('Unrated')\n",
    "\n",
    "# remove any whitespaces in the certificate columns\n",
    "df1['Certificate'] = df1['Certificate'].str.strip()\n",
    "\n",
    "# ensure all certificates fall under the same naming conventions\n",
    "df1['Certificate'] = df1['Certificate'].str.replace('/', '', regex=False)\n",
    "df1['Certificate'] = df1['Certificate'].str.replace('TV-PG', 'PG', regex=False)\n",
    "df1['Certificate'] = df1['Certificate'].str.replace('GP', 'PG', regex=False)\n",
    "\n",
    "# Handle missing values in meta_Score by filling with the median\n",
    "df1['Meta_score'] = pd.to_numeric(df1['Meta_score'], errors='coerce')  # Ensure it's numeric\n",
    "df1['Meta_score'] = df1['Meta_score'].fillna(df1['Meta_score'].median())\n",
    "\n",
    "# normalize the meta score (out of 100) to a scale of 0 to 1\n",
    "df1['Meta_score'] = df1['Meta_score'] / 100\n",
    "\n",
    "# normalize the IMDB score (out of 10) to a scale of 0 to 1\n",
    "df1['IMDB_Rating'] = df1['IMDB_Rating'] / 10\n",
    "\n",
    "# combine the two scores (simple average in this case)\n",
    "df1['Combined_Rating'] = ((df1['Meta_score'] + df1['IMDB_Rating']) / 2) * 10\n",
    "\n",
    "# drop the two original rating columns\n",
    "df1.drop(columns=['Meta_score', 'IMDB_Rating'], inplace=True)\n",
    "\n",
    "# check that all cells contain values\n",
    "print(df1.info())"
   ]
  },
  {
   "cell_type": "markdown",
   "id": "563c2e26-d6d0-497b-8075-693936d1baa6",
   "metadata": {},
   "source": [
    "### Preprocessing Continued\n",
    "#### Separating the genre column into separate rows"
   ]
  },
  {
   "cell_type": "code",
   "execution_count": 15,
   "id": "23618c31-b720-44e5-8292-b73b575cf9cb",
   "metadata": {},
   "outputs": [
    {
     "name": "stdout",
     "output_type": "stream",
     "text": [
      "    Genre              Series_Title\n",
      "0   Drama  The Shawshank Redemption\n",
      "1   Crime             The Godfather\n",
      "2   Drama             The Godfather\n",
      "3  Action           The Dark Knight\n",
      "4   Crime           The Dark Knight\n"
     ]
    }
   ],
   "source": [
    "# # split the genres column by comma\n",
    "# df_genres = df1['Genre'].str.split(',', expand=True)\n",
    "\n",
    "# # count the number of genres for each movie (i.e., the number of splits)\n",
    "# genre_counts = df_genres.notna().sum(axis=1)\n",
    "\n",
    "# # repeat the series title for each movie according to the genre count\n",
    "# df_titles_repeated = df1[['Series_Title']].loc[df1.index].copy()\n",
    "# df_titles_repeated = df_titles_repeated.loc[df_titles_repeated.index.repeat(genre_counts)].reset_index(drop=True)\n",
    "\n",
    "# # flatten the dataFrame by stacking the genre columns into a single column\n",
    "# df_genres_flat = df_genres.stack().reset_index(drop=True)\n",
    "\n",
    "# # merge the repeated titles back into the genres DataFrame\n",
    "# df_genres_flat = pd.DataFrame(df_genres_flat, columns=['Genre'])\n",
    "# df_genres_flat['Series_Title'] = df_titles_repeated['Series_Title']\n",
    "\n",
    "# # strip any whitespaces from the genres\n",
    "# df_genres_flat['Genre'] = df_genres_flat['Genre'].str.strip()\n",
    "\n",
    "# print(df_genres_flat.head())"
   ]
  },
  {
   "cell_type": "markdown",
   "id": "eb4ceaa7-b45d-44d0-92c5-6f64fec0390a",
   "metadata": {},
   "source": [
    "### One-Hot Encoding"
   ]
  },
  {
   "cell_type": "code",
   "execution_count": 17,
   "id": "f291914e-fc6a-4864-bf0e-364744b96f0a",
   "metadata": {},
   "outputs": [
    {
     "name": "stdout",
     "output_type": "stream",
     "text": [
      "<bound method NDFrame.head of                  Series_Title  Runtime        Gross  Release_Year  \\\n",
      "0    The Shawshank Redemption    142.0   28341469.0        1994.0   \n",
      "1               The Godfather    175.0  134966411.0        1972.0   \n",
      "2             The Dark Knight    152.0  534858444.0        2008.0   \n",
      "3      The Godfather: Part II    202.0   57300000.0        1974.0   \n",
      "4                12 Angry Men     96.0    4360000.0        1957.0   \n",
      "..                        ...      ...          ...           ...   \n",
      "825              Giù la testa    157.0     696690.0        1971.0   \n",
      "826            Kelly's Heroes    144.0    1378435.0        1970.0   \n",
      "827           The Jungle Book     78.0  141843612.0        1967.0   \n",
      "828        A Hard Day's Night     87.0   13780024.0        1964.0   \n",
      "829     From Here to Eternity    118.0   30500000.0        1953.0   \n",
      "\n",
      "     Combined_Rating  Genre_Adventure  Genre_Animation  Genre_Biography  \\\n",
      "0               8.65            False            False            False   \n",
      "1               9.60            False            False            False   \n",
      "2               8.70            False            False            False   \n",
      "3               9.00            False            False            False   \n",
      "4               9.30            False            False            False   \n",
      "..               ...              ...              ...              ...   \n",
      "825             7.65            False            False            False   \n",
      "826             6.30             True            False            False   \n",
      "827             7.05             True             True            False   \n",
      "828             8.60            False            False            False   \n",
      "829             8.05            False            False            False   \n",
      "\n",
      "     Genre_Comedy  Genre_Crime  ...  Genre_Western  Certificate_Approved  \\\n",
      "0           False        False  ...          False                 False   \n",
      "1           False         True  ...          False                 False   \n",
      "2           False         True  ...          False                 False   \n",
      "3           False         True  ...          False                 False   \n",
      "4           False         True  ...          False                 False   \n",
      "..            ...          ...  ...            ...                   ...   \n",
      "825         False        False  ...           True                 False   \n",
      "826          True        False  ...          False                 False   \n",
      "827         False        False  ...          False                 False   \n",
      "828          True        False  ...          False                 False   \n",
      "829         False        False  ...          False                 False   \n",
      "\n",
      "     Certificate_G  Certificate_PG  Certificate_PG-13  Certificate_Passed  \\\n",
      "0            False           False              False               False   \n",
      "1            False           False              False               False   \n",
      "2            False           False              False               False   \n",
      "3            False           False              False               False   \n",
      "4            False           False              False               False   \n",
      "..             ...             ...                ...                 ...   \n",
      "825          False            True              False               False   \n",
      "826          False            True              False               False   \n",
      "827          False           False              False               False   \n",
      "828          False           False              False               False   \n",
      "829          False           False              False                True   \n",
      "\n",
      "     Certificate_R  Certificate_U  Certificate_UA  Certificate_Unrated  \n",
      "0            False          False           False                False  \n",
      "1            False          False           False                False  \n",
      "2            False          False            True                False  \n",
      "3            False          False           False                False  \n",
      "4            False           True           False                False  \n",
      "..             ...            ...             ...                  ...  \n",
      "825          False          False           False                False  \n",
      "826          False          False           False                False  \n",
      "827          False           True           False                False  \n",
      "828          False           True           False                False  \n",
      "829          False          False           False                False  \n",
      "\n",
      "[830 rows x 34 columns]>\n"
     ]
    }
   ],
   "source": [
    "# # one-hot encode the genres\n",
    "# df_genres_encoded = pd.get_dummies(df_genres_flat['Genre'], prefix='Genre', drop_first=True)\n",
    "\n",
    "# # merge the one-hot encoded genres back into df_genres\n",
    "# df_genres_flat = pd.concat([df_genres_flat, df_genres_encoded], axis=1)\n",
    "\n",
    "# # group by Series_Title and aggregate by taking the max (since 0/1 values)\n",
    "# df_genres_grouped = df_genres_flat.groupby('Series_Title', as_index=False).max()\n",
    "\n",
    "# # merge df1 with df_genres_grouped based on Series_Title\n",
    "# df1 = pd.merge(df1, df_genres_grouped, on='Series_Title', how='left')\n",
    "\n",
    "# # one-hot encode the certificate column\n",
    "# df_certificate_encoded = pd.get_dummies(df1['Certificate'], prefix='Certificate', drop_first=True)\n",
    "# #print(df_certificate_encoded.columns)\n",
    "\n",
    "# # merge the one-hot encoded certificate back into df1\n",
    "# df1 = pd.concat([df1, df_certificate_encoded], axis=1)\n",
    "\n",
    "# # drop the original original genre and cerificate columns\n",
    "# df1.drop(columns=['Genre_x', 'Genre_y', 'Certificate'], inplace=True)\n",
    "\n",
    "# print(df1.head)"
   ]
  },
  {
   "cell_type": "markdown",
   "id": "2c183e8e-b3f0-4785-9536-f17c09474cdc",
   "metadata": {},
   "source": [
    "### Linear Regression"
   ]
  },
  {
   "cell_type": "code",
   "execution_count": 47,
   "id": "e7a40353-9ae8-4555-a1a6-54981b67bc89",
   "metadata": {},
   "outputs": [
    {
     "name": "stdout",
     "output_type": "stream",
     "text": [
      "               Series_Title  Runtime        Gross  Release_Year  \\\n",
      "0  The Shawshank Redemption    142.0   28341469.0        1994.0   \n",
      "1             The Godfather    175.0  134966411.0        1972.0   \n",
      "2           The Dark Knight    152.0  534858444.0        2008.0   \n",
      "3    The Godfather: Part II    202.0   57300000.0        1974.0   \n",
      "\n",
      "   Combined_Rating  Genre_Adventure  Genre_Animation  Genre_Biography  \\\n",
      "0             8.65            False            False            False   \n",
      "1             9.60            False            False            False   \n",
      "2             8.70            False            False            False   \n",
      "3             9.00            False            False            False   \n",
      "\n",
      "   Genre_Comedy  Genre_Crime  ...  Genre_Western  Certificate_Approved  \\\n",
      "0         False        False  ...          False                 False   \n",
      "1         False         True  ...          False                 False   \n",
      "2         False         True  ...          False                 False   \n",
      "3         False         True  ...          False                 False   \n",
      "\n",
      "   Certificate_G  Certificate_PG  Certificate_PG-13  Certificate_Passed  \\\n",
      "0          False           False              False               False   \n",
      "1          False           False              False               False   \n",
      "2          False           False              False               False   \n",
      "3          False           False              False               False   \n",
      "\n",
      "   Certificate_R  Certificate_U  Certificate_UA  Certificate_Unrated  \n",
      "0          False          False           False                False  \n",
      "1          False          False           False                False  \n",
      "2          False          False            True                False  \n",
      "3          False          False           False                False  \n",
      "\n",
      "[4 rows x 34 columns]\n"
     ]
    }
   ],
   "source": [
    "# print(df1.info())\n"
   ]
  },
  {
   "cell_type": "code",
   "execution_count": 20,
   "id": "1d476356-e9fb-4d80-af14-ef779030fd4d",
   "metadata": {},
   "outputs": [
    {
     "name": "stdout",
     "output_type": "stream",
     "text": [
      "                            OLS Regression Results                            \n",
      "==============================================================================\n",
      "Dep. Variable:        Combined_Rating   R-squared:                       0.153\n",
      "Model:                            OLS   Adj. R-squared:                  0.119\n",
      "Method:                 Least Squares   F-statistic:                     4.485\n",
      "Date:                Tue, 08 Apr 2025   Prob (F-statistic):           1.64e-14\n",
      "Time:                        23:42:39   Log-Likelihood:                -747.60\n",
      "No. Observations:                 830   AIC:                             1561.\n",
      "Df Residuals:                     797   BIC:                             1717.\n",
      "Df Model:                          32                                         \n",
      "Covariance Type:            nonrobust                                         \n",
      "========================================================================================\n",
      "                           coef    std err          t      P>|t|      [0.025      0.975]\n",
      "----------------------------------------------------------------------------------------\n",
      "Intercept               27.9507      2.709     10.316      0.000      22.632      33.269\n",
      "Certificate_Approved    -0.3428      0.271     -1.265      0.206      -0.874       0.189\n",
      "Certificate_G            0.0775      0.214      0.362      0.718      -0.343       0.498\n",
      "Certificate_PG          -0.1486      0.132     -1.122      0.262      -0.409       0.111\n",
      "Certificate_PG_13       -0.1999      0.113     -1.764      0.078      -0.422       0.023\n",
      "Certificate_Passed      -0.3577      0.158     -2.268      0.024      -0.667      -0.048\n",
      "Certificate_R           -0.1780      0.072     -2.466      0.014      -0.320      -0.036\n",
      "Certificate_U           -0.0928      0.072     -1.292      0.197      -0.234       0.048\n",
      "Certificate_UA          -0.0493      0.070     -0.701      0.484      -0.187       0.089\n",
      "Certificate_Unrated     -0.0053      0.105     -0.051      0.960      -0.211       0.200\n",
      "Genre_Adventure          0.0263      0.072      0.364      0.716      -0.116       0.168\n",
      "Genre_Animation          0.4527      0.098      4.630      0.000       0.261       0.645\n",
      "Genre_Biography         -0.0053      0.077     -0.069      0.945      -0.156       0.145\n",
      "Genre_Comedy             0.0131      0.061      0.216      0.829      -0.106       0.132\n",
      "Genre_Crime             -0.1411      0.061     -2.297      0.022      -0.262      -0.021\n",
      "Genre_Drama              0.1421      0.066      2.157      0.031       0.013       0.271\n",
      "Genre_Family            -0.1030      0.104     -0.993      0.321      -0.307       0.101\n",
      "Genre_Fantasy           -0.1067      0.092     -1.162      0.246      -0.287       0.074\n",
      "Genre_Film_Noir          0.3944      0.204      1.937      0.053      -0.005       0.794\n",
      "Genre_History           -0.0630      0.106     -0.592      0.554      -0.272       0.146\n",
      "Genre_Horror            -0.0055      0.141     -0.039      0.969      -0.282       0.271\n",
      "Genre_Music              0.0181      0.115      0.157      0.876      -0.208       0.245\n",
      "Genre_Musical           -0.1927      0.177     -1.091      0.276      -0.539       0.154\n",
      "Genre_Mystery            0.0816      0.076      1.072      0.284      -0.068       0.231\n",
      "Genre_Romance            0.1239      0.071      1.747      0.081      -0.015       0.263\n",
      "Genre_Sci_Fi            -0.0567      0.092     -0.616      0.538      -0.238       0.124\n",
      "Genre_Sport             -0.1681      0.148     -1.136      0.256      -0.459       0.122\n",
      "Genre_Thriller          -0.0390      0.071     -0.552      0.581      -0.178       0.100\n",
      "Genre_War                0.0024      0.108      0.022      0.982      -0.210       0.215\n",
      "Genre_Western            0.0518      0.163      0.317      0.751      -0.269       0.373\n",
      "Gross                 2.281e-10   2.38e-10      0.958      0.339   -2.39e-10    6.96e-10\n",
      "Release_Year            -0.0102      0.001     -7.508      0.000      -0.013      -0.008\n",
      "Runtime                  0.0022      0.001      2.379      0.018       0.000       0.004\n",
      "==============================================================================\n",
      "Omnibus:                       52.237   Durbin-Watson:                   1.538\n",
      "Prob(Omnibus):                  0.000   Jarque-Bera (JB):               63.651\n",
      "Skew:                          -0.586   Prob(JB):                     1.51e-14\n",
      "Kurtosis:                       3.683   Cond. No.                     1.66e+10\n",
      "==============================================================================\n",
      "\n",
      "Notes:\n",
      "[1] Standard Errors assume that the covariance matrix of the errors is correctly specified.\n",
      "[2] The condition number is large, 1.66e+10. This might indicate that there are\n",
      "strong multicollinearity or other numerical problems.\n"
     ]
    }
   ],
   "source": [
    "# # drop series title column as it is non-numeric\n",
    "# df_rating = df1.drop(columns=['Series_Title'])\n",
    "\n",
    "# # rename columns with special characters\n",
    "# df_rating.columns = df_rating.columns.str.replace('-', '_')\n",
    "\n",
    "# # drop rows with missing values\n",
    "# df_rating = df_rating.dropna()\n",
    "\n",
    "# # list of columns that are continuous (i.e., they should not be converted to bool)\n",
    "# continuous_columns = ['Runtime', 'Gross', 'Release_Year', 'Combined_Rating']\n",
    "\n",
    "# # identify columns that are one-hot encoded (i.e., the categorical variables)\n",
    "# one_hot_columns = df_rating.columns.difference(continuous_columns)\n",
    "\n",
    "# # convert one-hot encoded columns (categorical) to integers (0 or 1)\n",
    "# df_rating[one_hot_columns] = df_rating[one_hot_columns].apply(lambda col: col.map({True: 1, False: 0}).fillna(col))\n",
    "\n",
    "# # ensure combined rating is numeric\n",
    "# df_rating['Combined_Rating'] = pd.to_numeric(df_rating['Combined_Rating'], errors='coerce')\n",
    "\n",
    "# # define the formula for the model\n",
    "# formula = 'Combined_Rating ~ ' + ' + '.join(df_rating.columns.difference(['Combined_Rating']))\n",
    "\n",
    "# # fit the model\n",
    "# model_rating = smf.ols(formula, data=df_rating).fit()\n",
    "\n",
    "# # view the summary of the model\n",
    "# print(model_rating.summary())"
   ]
  },
  {
   "cell_type": "markdown",
   "id": "8fb06172-1015-4903-af3f-0d55fa206cba",
   "metadata": {},
   "source": [
    "### Predict"
   ]
  },
  {
   "cell_type": "code",
   "execution_count": 39,
   "id": "0ad07e87-7313-4192-9133-6200b4e53d54",
   "metadata": {},
   "outputs": [
    {
     "name": "stdout",
     "output_type": "stream",
     "text": [
      "Predicted Rating for M : 7.598297203858047\n"
     ]
    }
   ],
   "source": [
    "# # define the function to predict the rating for a movie\n",
    "# def predict_rating(genre, release_year, gross, runtime, certificate):\n",
    "#     # prepare a dataFrame with the new input data\n",
    "#     input_data = {\n",
    "#         'Release_Year': [release_year],\n",
    "#         'Gross': [gross],\n",
    "#         'Runtime': [runtime],\n",
    "#         'Certificate_Approved': [1 if certificate == 'Approved' else 0],\n",
    "#         'Certificate_G': [1 if certificate == 'G' else 0],\n",
    "#         'Certificate_PG': [1 if certificate == 'PG' else 0],\n",
    "#         'Certificate_PG_13': [1 if certificate == 'PG-13' else 0],\n",
    "#         'Certificate_Passed': [1 if certificate == 'Passed' else 0],\n",
    "#         'Certificate_R': [1 if certificate == 'R' else 0],\n",
    "#         'Certificate_U': [1 if certificate == 'U' else 0],\n",
    "#         'Certificate_UA': [1 if certificate == 'UA' else 0],\n",
    "#         'Certificate_Unrated': [1 if certificate == 'Unrated' else 0],\n",
    "#         'Genre_Adventure': [1 if genre == 'Adventure' else 0],\n",
    "#         'Genre_Animation': [1 if genre == 'Animation' else 0],\n",
    "#         'Genre_Biography': [1 if genre == 'Biography' else 0],\n",
    "#         'Genre_Comedy': [1 if genre == 'Comedy' else 0],\n",
    "#         'Genre_Crime': [1 if genre == 'Crime' else 0],\n",
    "#         'Genre_Drama': [1 if genre == 'Drama' else 0],\n",
    "#         'Genre_Family': [1 if genre == 'Family' else 0],\n",
    "#         'Genre_Fantasy': [1 if genre == 'Fantasy' else 0],\n",
    "#         'Genre_Film_Noir': [1 if genre == 'Film-Noir' else 0],\n",
    "#         'Genre_History': [1 if genre == 'History' else 0],\n",
    "#         'Genre_Horror': [1 if genre == 'Horror' else 0],\n",
    "#         'Genre_Music': [1 if genre == 'Music' else 0],\n",
    "#         'Genre_Musical': [1 if genre == 'Musical' else 0],\n",
    "#         'Genre_Mystery': [1 if genre == 'Mystery' else 0],\n",
    "#         'Genre_Romance': [1 if genre == 'Romance' else 0],\n",
    "#         'Genre_Sci_Fi': [1 if genre == 'Sci-Fi' else 0],\n",
    "#         'Genre_Sport': [1 if genre == 'Sport' else 0],\n",
    "#         'Genre_Thriller': [1 if genre == 'Thriller' else 0],\n",
    "#         'Genre_War': [1 if genre == 'War' else 0],\n",
    "#         'Genre_Western': [1 if genre == 'Western' else 0]\n",
    "#     }\n",
    "\n",
    "#     # convert the input dictionary into a DataFrame\n",
    "#     input_df = pd.DataFrame(input_data)\n",
    "\n",
    "#     # ensure the columns match exactly with the training data\n",
    "#     input_df = input_df[df_rating.columns.difference(['Combined_Rating'])]\n",
    "\n",
    "#     # make the prediction using the trained model\n",
    "#     predicted_rating = model_rating.predict(input_df)\n",
    "    \n",
    "#     return predicted_rating[0]\n",
    "\n",
    "# # predict the rating for a movie\n",
    "# predicted_rating = predict_rating(genre=['Action', 'Fantasy', 'Romance', 'Adventure'], release_year=2024, gross=747400000, runtime=160, certificate='PG')\n",
    "# # print(\"Predicted Rating for wicked :\", predicted_rating)"
   ]
  },
  {
   "cell_type": "code",
   "execution_count": 37,
   "id": "f1992c92-40b3-4f42-89a4-eef338e044ba",
   "metadata": {},
   "outputs": [],
   "source": [
    "# name = input(\"Enter Movie name: \")\n",
    "# age = int(input(\"Enter your age: \"))\n",
    "# print(f\"Hello {name}, you are {age} years old!\")"
   ]
  },
  {
   "cell_type": "code",
   "execution_count": null,
   "id": "b219657b-c501-4d69-a99c-76db79f86e70",
   "metadata": {},
   "outputs": [],
   "source": []
  },
  {
   "cell_type": "code",
   "execution_count": 59,
   "id": "18a5c5ed-7391-4c4c-990d-5c392381fbac",
   "metadata": {},
   "outputs": [
    {
     "name": "stdout",
     "output_type": "stream",
     "text": [
      "               Series_Title Certificate  Runtime                 Genre  \\\n",
      "0  The Shawshank Redemption           A    142.0                 Drama   \n",
      "1             The Godfather           A    175.0          Crime, Drama   \n",
      "2           The Dark Knight          UA    152.0  Action, Crime, Drama   \n",
      "3    The Godfather: Part II           A    202.0          Crime, Drama   \n",
      "\n",
      "         Gross  Release_Year  Combined_Rating  Cert_Approved  Cert_G  Cert_PG  \\\n",
      "0   28341469.0        1994.0             8.65          False   False    False   \n",
      "1  134966411.0        1972.0             9.60          False   False    False   \n",
      "2  534858444.0        2008.0             8.70          False   False    False   \n",
      "3   57300000.0        1974.0             9.00          False   False    False   \n",
      "\n",
      "   Cert_PG-13  Cert_Passed  Cert_R  Cert_U  Cert_UA  Cert_Unrated  \n",
      "0       False        False   False   False    False         False  \n",
      "1       False        False   False   False    False         False  \n",
      "2       False        False   False   False     True         False  \n",
      "3       False        False   False   False    False         False  \n"
     ]
    }
   ],
   "source": [
    "#converting Genre ,Certificate  column  to One-hot encoding\n",
    "\n",
    "df_certificate_encoded = pd.get_dummies(df1['Certificate'], prefix='Cert', drop_first=True)\n",
    "df1 = pd.concat([df1, df_certificate_encoded], axis=1)\n",
    "\n",
    "print(df1.head(4))"
   ]
  },
  {
   "cell_type": "code",
   "execution_count": 69,
   "id": "bf79b6a3-5b31-47a8-8a1a-f31284eaa97c",
   "metadata": {},
   "outputs": [],
   "source": [
    "def predict_rating(genre_list, release_year, gross, runtime, certificate):\n",
    "    input_data = {\n",
    "        'Release_Year': [release_year],\n",
    "        'Gross': [gross],\n",
    "        'Runtime': [runtime],\n",
    "    }\n",
    "\n",
    "    # Dynamically get all one-hot encoded Cert_ columns from training data\n",
    "    cert_columns = [col for col in df_rating.columns if col.startswith('Cert_')]\n",
    "    for col in cert_columns:\n",
    "        input_data[col] = [1 if col == f'Cert_{certificate}' else 0]\n",
    "\n",
    "    # Dynamically get all one-hot encoded Genre_ columns\n",
    "    genre_columns = [col for col in df_rating.columns if col.startswith('Genre_')]\n",
    "    for col in genre_columns:\n",
    "        genre_name = col.replace('Genre_', '')\n",
    "        input_data[col] = [1 if genre_name in genre_list else 0]\n",
    "\n",
    "    # Convert input to DataFrame\n",
    "    input_df = pd.DataFrame(input_data)\n",
    "\n",
    "    # Ensure input_df has the same columns as training data (excluding target column)\n",
    "    expected_features = [col for col in df_rating.columns if col != 'Combined_Rating']\n",
    "    for col in expected_features:\n",
    "        if col not in input_df.columns:\n",
    "            input_df[col] = 0  # fill missing columns with 0\n",
    "\n",
    "    input_df = input_df[expected_features]  # ensure correct column order\n",
    "\n",
    "    # Make prediction\n",
    "    predicted_rating = model_rating.predict(input_df)\n",
    "\n",
    "    return predicted_rating[0]\n"
   ]
  },
  {
   "cell_type": "code",
   "execution_count": 71,
   "id": "2c83ef44-7bd6-4a13-a074-ef90b07e96ee",
   "metadata": {},
   "outputs": [
    {
     "name": "stdout",
     "output_type": "stream",
     "text": [
      "Predicted Rating: 7.67\n"
     ]
    }
   ],
   "source": [
    "predicted_rating = predict_rating(\n",
    "    genre_list=['Action', 'Adventure', 'Fantasy'],\n",
    "    release_year=2024,\n",
    "    gross=747400000,\n",
    "    runtime=160,\n",
    "    certificate='PG' \n",
    ")\n",
    "print(f\"Predicted Rating: {predicted_rating:.2f}\")"
   ]
  },
  {
   "cell_type": "code",
   "execution_count": null,
   "id": "79a9852b-5454-4c06-aae8-7b2f7813e64d",
   "metadata": {},
   "outputs": [],
   "source": []
  }
 ],
 "metadata": {
  "kernelspec": {
   "display_name": "Python [conda env:base] *",
   "language": "python",
   "name": "conda-base-py"
  },
  "language_info": {
   "codemirror_mode": {
    "name": "ipython",
    "version": 3
   },
   "file_extension": ".py",
   "mimetype": "text/x-python",
   "name": "python",
   "nbconvert_exporter": "python",
   "pygments_lexer": "ipython3",
   "version": "3.12.7"
  }
 },
 "nbformat": 4,
 "nbformat_minor": 5
}
