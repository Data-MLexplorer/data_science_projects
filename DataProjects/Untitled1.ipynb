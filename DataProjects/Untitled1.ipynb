{
 "cells": [
  {
   "cell_type": "code",
   "execution_count": 3,
   "id": "358bb957-52e2-410f-a5a5-eab772ddd596",
   "metadata": {},
   "outputs": [
    {
     "name": "stdout",
     "output_type": "stream",
     "text": [
      "Collecting faiss-cpu\n",
      "  Downloading faiss_cpu-1.12.0-cp312-cp312-macosx_13_0_x86_64.whl.metadata (5.1 kB)\n",
      "Requirement already satisfied: numpy<3.0,>=1.25.0 in /Users/Deep/venv/lib/python3.12/site-packages (from faiss-cpu) (2.2.4)\n",
      "Requirement already satisfied: packaging in /Users/Deep/venv/lib/python3.12/site-packages (from faiss-cpu) (24.2)\n",
      "Downloading faiss_cpu-1.12.0-cp312-cp312-macosx_13_0_x86_64.whl (8.0 MB)\n",
      "\u001b[2K   \u001b[38;2;114;156;31m━━━━━━━━━━━━━━━━━━━━━━━━━━━━━━━━━━━━━━━━\u001b[0m \u001b[32m8.0/8.0 MB\u001b[0m \u001b[31m14.3 MB/s\u001b[0m eta \u001b[36m0:00:00\u001b[0m MB/s\u001b[0m eta \u001b[36m0:00:01\u001b[0m:01\u001b[0m\n",
      "Installing collected packages: faiss-cpu\n",
      "Successfully installed faiss-cpu-1.12.0\n"
     ]
    }
   ],
   "source": [
    "!pip install faiss-cpu"
   ]
  },
  {
   "cell_type": "code",
   "execution_count": 4,
   "id": "339235cb-9e7c-4302-9e7c-489c19ce20c0",
   "metadata": {},
   "outputs": [
    {
     "name": "stdout",
     "output_type": "stream",
     "text": [
      "Indices of closest vectors: [[0 1]]\n",
      "Distances from query: [[0.0025 0.0325]]\n"
     ]
    }
   ],
   "source": [
    "import faiss\n",
    "import numpy as np\n",
    "data_vectors = np.array([\n",
    "    [0.1, 0.2, 0.3, 0.4],\n",
    "    [0.2, 0.1, 0.4, 0.3],\n",
    "    [0.9, 0.8, 0.7, 0.6],\n",
    "], dtype='float32')\n",
    "dimension = data_vectors.shape[1]  \n",
    "index = faiss.IndexFlatL2(dimension)  \n",
    "index.add(data_vectors)\n",
    "query_vector = np.array([[0.1, 0.2, 0.3, 0.35]], dtype='float32')\n",
    "distances, indices = index.search(query_vector, k=2)\n",
    "print(\"Indices of closest vectors:\", indices)\n",
    "print(\"Distances from query:\", distances)"
   ]
  },
  {
   "cell_type": "code",
   "execution_count": null,
   "id": "e872578c-606f-439c-9753-699d903b2d81",
   "metadata": {},
   "outputs": [],
   "source": []
  },
  {
   "cell_type": "code",
   "execution_count": null,
   "id": "0f33abba-1da8-41b0-8373-93dd8521bf93",
   "metadata": {},
   "outputs": [],
   "source": []
  }
 ],
 "metadata": {
  "kernelspec": {
   "display_name": "Python [conda env:venv]",
   "language": "python",
   "name": "conda-env-venv-py"
  },
  "language_info": {
   "codemirror_mode": {
    "name": "ipython",
    "version": 3
   },
   "file_extension": ".py",
   "mimetype": "text/x-python",
   "name": "python",
   "nbconvert_exporter": "python",
   "pygments_lexer": "ipython3",
   "version": "3.12.0"
  }
 },
 "nbformat": 4,
 "nbformat_minor": 5
}
