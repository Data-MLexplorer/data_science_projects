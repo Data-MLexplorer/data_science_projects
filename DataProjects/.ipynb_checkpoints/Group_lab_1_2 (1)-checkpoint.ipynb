{
 "cells": [
  {
   "cell_type": "code",
   "execution_count": 68,
   "id": "8af0e643-90ad-4bba-b201-c0a540ab7c22",
   "metadata": {},
   "outputs": [
    {
     "name": "stdout",
     "output_type": "stream",
     "text": [
      "Step 1\n"
     ]
    }
   ],
   "source": [
    "print('Step 1')\n",
    "import matplotlib.pyplot as plt\n",
    "import numpy as np\n",
    "import pandas as pd"
   ]
  },
  {
   "cell_type": "code",
   "execution_count": 70,
   "id": "c0f65d2b-dfba-4f38-9d2d-09d5516cb2a4",
   "metadata": {},
   "outputs": [
    {
     "name": "stdout",
     "output_type": "stream",
     "text": [
      "Step 2\n",
      "    P   Q\n",
      "0  10  20\n",
      "1  20  30\n",
      "2  30  40\n",
      "    R    S\n",
      "0  50   80\n",
      "1  60   90\n",
      "2  70  100\n"
     ]
    }
   ],
   "source": [
    "print('Step 2')\n",
    "df1 = pd.DataFrame({'P': [10, 20, 30], 'Q': [20, 30, 40]})\n",
    "df2 = pd.DataFrame({'R': [50, 60, 70], 'S': [80, 90, 100]})\n",
    "print(df1)\n",
    "print(df2)"
   ]
  },
  {
   "cell_type": "code",
   "execution_count": 72,
   "id": "b717e5b7-e726-4dbf-ab6e-78f26569837e",
   "metadata": {},
   "outputs": [
    {
     "name": "stdout",
     "output_type": "stream",
     "text": [
      "Step 3\n"
     ]
    }
   ],
   "source": [
    "print('Step 3')\n",
    "def avg(row):\n",
    "    return np.nan if row.iloc[0] == 20 else (row.iloc[0] + row.iloc[1]) / 2\n"
   ]
  },
  {
   "cell_type": "code",
   "execution_count": 74,
   "id": "e5e8b66f-f54c-4d94-8348-5a3ab3742c91",
   "metadata": {},
   "outputs": [
    {
     "name": "stdout",
     "output_type": "stream",
     "text": [
      "Step 4\n",
      "    P   Q  Average\n",
      "0  10  20     15.0\n",
      "1  20  30      NaN\n",
      "2  30  40     35.0\n"
     ]
    }
   ],
   "source": [
    "print('Step 4')\n",
    "df1['Average'] = df1.apply(avg, axis=1)\n",
    "print(df1)"
   ]
  },
  {
   "cell_type": "code",
   "execution_count": 76,
   "id": "0fa30adc-a072-4dd2-99be-f8a33b2b1290",
   "metadata": {},
   "outputs": [
    {
     "name": "stdout",
     "output_type": "stream",
     "text": [
      "Step 5\n",
      "    R    S  Average\n",
      "0  50   80     65.0\n",
      "1  60   90     75.0\n",
      "2  70  100     85.0\n"
     ]
    }
   ],
   "source": [
    "print('Step 5')\n",
    "df2['Average'] = df2.apply(avg, axis=1)\n",
    "print(df2)"
   ]
  },
  {
   "cell_type": "code",
   "execution_count": null,
   "id": "a6031e09-734c-4afc-b35f-6d782c0b782e",
   "metadata": {},
   "outputs": [],
   "source": []
  }
 ],
 "metadata": {
  "kernelspec": {
   "display_name": "anaconda-panel-2023.05-py310",
   "language": "python",
   "name": "conda-env-anaconda-panel-2023.05-py310-py"
  },
  "language_info": {
   "codemirror_mode": {
    "name": "ipython",
    "version": 3
   },
   "file_extension": ".py",
   "mimetype": "text/x-python",
   "name": "python",
   "nbconvert_exporter": "python",
   "pygments_lexer": "ipython3",
   "version": "3.11.5"
  }
 },
 "nbformat": 4,
 "nbformat_minor": 5
}
