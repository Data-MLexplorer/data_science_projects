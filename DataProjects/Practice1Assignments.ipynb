{
 "cells": [
  {
   "cell_type": "code",
   "execution_count": 4,
   "id": "f36081dd-2a1a-4b6b-9773-1c2f21a77f16",
   "metadata": {},
   "outputs": [
    {
     "name": "stdout",
     "output_type": "stream",
     "text": [
      "          country continent  year  lifeExp       pop   gdpPercap\n",
      "0     Afghanistan      Asia  1952   28.801   8425333  779.445314\n",
      "1     Afghanistan      Asia  1957   30.332   9240934  820.853030\n",
      "2     Afghanistan      Asia  1962   31.997  10267083  853.100710\n",
      "3     Afghanistan      Asia  1967   34.020  11537966  836.197138\n",
      "4     Afghanistan      Asia  1972   36.088  13079460  739.981106\n",
      "...           ...       ...   ...      ...       ...         ...\n",
      "1699     Zimbabwe    Africa  1987   62.351   9216418  706.157306\n",
      "1700     Zimbabwe    Africa  1992   60.377  10704340  693.420786\n",
      "1701     Zimbabwe    Africa  1997   46.809  11404948  792.449960\n",
      "1702     Zimbabwe    Africa  2002   39.989  11926563  672.038623\n",
      "1703     Zimbabwe    Africa  2007   43.487  12311143  469.709298\n",
      "\n",
      "[1704 rows x 6 columns]\n"
     ]
    }
   ],
   "source": [
    "import pandas as pd\n",
    "df = pd.read_csv('gapminder.tsv', sep='\\t')\n",
    "print(df)"
   ]
  },
  {
   "cell_type": "code",
   "execution_count": 128,
   "id": "1756b5a8-0739-452c-b2fc-8d55f3bceb96",
   "metadata": {},
   "outputs": [
    {
     "name": "stdout",
     "output_type": "stream",
     "text": [
      "         country continent  year  lifeExp       pop     gdpPercap\n",
      "0    Afghanistan      Asia  1952   28.801   8425333    779.445314\n",
      "1    Afghanistan      Asia  1957   30.332   9240934    820.853030\n",
      "2    Afghanistan      Asia  1962   31.997  10267083    853.100710\n",
      "3    Afghanistan      Asia  1967   34.020  11537966    836.197138\n",
      "4    Afghanistan      Asia  1972   36.088  13079460    739.981106\n",
      "..           ...       ...   ...      ...       ...           ...\n",
      "595       Greece    Europe  1987   76.670   9974490  16120.528390\n",
      "596       Greece    Europe  1992   77.030  10325429  17541.496340\n",
      "597       Greece    Europe  1997   77.869  10502372  18747.698140\n",
      "598       Greece    Europe  2002   78.256  10603863  22514.254800\n",
      "599       Greece    Europe  2007   79.483  10706290  27538.411880\n",
      "\n",
      "[600 rows x 6 columns]\n"
     ]
    }
   ],
   "source": [
    "grouped_year_df= df.groupby('year')\n",
    "print(type(grouped_year_df_lifeexp))"
   ]
  },
  {
   "cell_type": "code",
   "execution_count": 111,
   "id": "1f89138a-4f7b-468d-80bf-07eb8bcc389b",
   "metadata": {},
   "outputs": [
    {
     "name": "stdout",
     "output_type": "stream",
     "text": [
      "year\n",
      "1952    28.801\n",
      "1957    30.332\n",
      "1962    31.997\n",
      "1967    34.020\n",
      "1972    36.088\n",
      "1977    38.438\n",
      "1982    39.854\n",
      "1987    40.822\n",
      "1992    41.674\n",
      "1997    41.763\n",
      "2002    42.129\n",
      "2007    43.828\n",
      "Name: lifeExp, dtype: float64\n"
     ]
    }
   ],
   "source": [
    "grouped_year_df_lifeExp=grouped_year_df['lifeExp']\n",
    "print(grouped_year_df_lifeExp.first())"
   ]
  },
  {
   "cell_type": "code",
   "execution_count": 130,
   "id": "89485a5d-bc02-4827-a079-639c308ad0f8",
   "metadata": {},
   "outputs": [
    {
     "name": "stdout",
     "output_type": "stream",
     "text": [
      "year\n",
      "1952    49.057620\n",
      "1957    51.507401\n",
      "1962    53.609249\n",
      "1967    55.678290\n",
      "1972    57.647386\n",
      "1977    59.570157\n",
      "1982    61.533197\n",
      "1987    63.212613\n",
      "1992    64.160338\n",
      "1997    65.014676\n",
      "2002    65.694923\n",
      "2007    67.007423\n",
      "Name: lifeExp, dtype: float64\n"
     ]
    }
   ],
   "source": [
    "mean_lifeexp_by_year =grouped_year_df_lifeExp.mean()\n",
    "print(mean_lifeexp_by_year)"
   ]
  },
  {
   "cell_type": "code",
   "execution_count": 132,
   "id": "0ec7819b-5888-46eb-9547-14b9b0de5a55",
   "metadata": {},
   "outputs": [
    {
     "name": "stdout",
     "output_type": "stream",
     "text": [
      "continent\n",
      "Africa      52\n",
      "Americas    25\n",
      "Asia        33\n",
      "Europe      30\n",
      "Oceania      2\n",
      "Name: country, dtype: int64\n"
     ]
    }
   ],
   "source": [
    "distinct_countries =df.groupby('continent')['country'].nunique()\n",
    "print(distinct_countries)"
   ]
  },
  {
   "cell_type": "code",
   "execution_count": 141,
   "id": "1747d91f-9de2-4bc6-b743-20db34fc9da0",
   "metadata": {},
   "outputs": [
    {
     "name": "stdout",
     "output_type": "stream",
     "text": [
      "           Name Occupation        Born        Died  Age\n",
      "0   Madam Curie  Physicist  1867-11-07  1934-07-04   66\n",
      "1  Nikola Tesla   Engineer  1856-07-10  1943-01-07   86\n"
     ]
    }
   ],
   "source": [
    "scientists = pd.DataFrame(\n",
    "    {\n",
    "       \"Name\":[\"Madam Curie\",\"Nikola Tesla\"],\n",
    "        \"Occupation\":[\"Physicist\",\"Engineer\"],\n",
    "        \"Born\":[\"1867-11-07\",\"1856-07-10\"],\n",
    "        \"Died\":[\"1934-07-04\",\"1943-01-07\"],\n",
    "        \"Age\":[66,86],  \n",
    "    }\n",
    ")\n",
    "print(scientists)"
   ]
  },
  {
   "cell_type": "code",
   "execution_count": 156,
   "id": "a0a6d423-4e93-47ec-9b1b-30f497138334",
   "metadata": {},
   "outputs": [
    {
     "name": "stdout",
     "output_type": "stream",
     "text": [
      "             Occupation        Born        Died  Age\n",
      "Madam Curie   Physicist  1867-11-07  1934-07-04   66\n",
      "Nikola Tesla   Engineer  1856-07-10  1943-01-07   86\n"
     ]
    }
   ],
   "source": [
    "scientists = pd.DataFrame(\n",
    "    {\n",
    "       \"Name\":[\"Madam Curie\",\"Nikola Tesla\"],\n",
    "        \"Occupation\":[\"Physicist\",\"Engineer\"],\n",
    "        \"Born\":[\"1867-11-07\",\"1856-07-10\"],\n",
    "        \"Died\":[\"1934-07-04\",\"1943-01-07\"],\n",
    "        \"Age\":[66,86],  \n",
    "    },\n",
    "    index = [\"Madam Curie\",\"Nikola Tesla\"],\n",
    "    columns =[\"Occupation\",\"Born\",\"Died\",\"Age\"]\n",
    ")\n",
    "print(scientists)"
   ]
  },
  {
   "cell_type": "code",
   "execution_count": 159,
   "id": "7058f721-e458-41c3-8a48-6bcab4f1c634",
   "metadata": {},
   "outputs": [
    {
     "name": "stdout",
     "output_type": "stream",
     "text": [
      "Madam Curie    1867-11-07\n",
      "Nikola Tesla   1856-07-10\n",
      "Name: Born, dtype: datetime64[ns]\n"
     ]
    }
   ],
   "source": [
    "born_datetime=pd.to_datetime(scientists['Born'],format='%Y-%m-%d')\n",
    "print(born_datetime)"
   ]
  },
  {
   "cell_type": "code",
   "execution_count": 162,
   "id": "0f11fe58-063e-4800-b264-b85ed14625ee",
   "metadata": {},
   "outputs": [
    {
     "name": "stdout",
     "output_type": "stream",
     "text": [
      "Madam Curie    1934-07-04\n",
      "Nikola Tesla   1943-01-07\n",
      "Name: Died, dtype: datetime64[ns]\n"
     ]
    }
   ],
   "source": [
    "died_datetime=pd.to_datetime(scientists['Died'],format='%Y-%m-%d')\n",
    "print(died_datetime)"
   ]
  },
  {
   "cell_type": "code",
   "execution_count": 165,
   "id": "b799ec14-bc29-48c3-b954-4c963df1f931",
   "metadata": {},
   "outputs": [],
   "source": [
    "scientists['Born_dt'] = born_datetime\n",
    "scientists['Died_dt'] = died_datetime"
   ]
  },
  {
   "cell_type": "code",
   "execution_count": 169,
   "id": "07e4f041-cee5-49bc-b4eb-b4f9ec359351",
   "metadata": {},
   "outputs": [
    {
     "name": "stdout",
     "output_type": "stream",
     "text": [
      "             Occupation        Born        Died  Age    Born_dt    Died_dt\n",
      "Madam Curie   Physicist  1867-11-07  1934-07-04   66 1867-11-07 1934-07-04\n",
      "Nikola Tesla   Engineer  1856-07-10  1943-01-07   86 1856-07-10 1943-01-07\n"
     ]
    }
   ],
   "source": [
    "print(scientists.head())"
   ]
  },
  {
   "cell_type": "code",
   "execution_count": 172,
   "id": "1b35f970-c804-4286-b3b9-2d7b93b24fe7",
   "metadata": {},
   "outputs": [
    {
     "name": "stdout",
     "output_type": "stream",
     "text": [
      "Index(['Occupation', 'Born', 'Died', 'Born_dt', 'Died_dt'], dtype='object')\n"
     ]
    }
   ],
   "source": [
    "scientists_dropped= scientists.drop(['Age'], axis= \"columns\")\n",
    "print(scientists_dropped.columns)"
   ]
  },
  {
   "cell_type": "code",
   "execution_count": null,
   "id": "cc12f5f6-9c09-42b9-9388-e37a616e53c1",
   "metadata": {},
   "outputs": [],
   "source": [
    "# Assignment -3 "
   ]
  },
  {
   "cell_type": "code",
   "execution_count": 82,
   "id": "41e24fe8-9ab0-4943-b81c-1957c12e14d5",
   "metadata": {},
   "outputs": [],
   "source": [
    "my_dict={\"JACK\" : [25,30,40] ,\"Edward\": [23,38,33] , \"Melissa\":[31,44,60]}"
   ]
  },
  {
   "cell_type": "code",
   "execution_count": 84,
   "id": "dadcfdba-6315-4cf4-a7fb-9fbc83c0d38d",
   "metadata": {},
   "outputs": [
    {
     "name": "stdout",
     "output_type": "stream",
     "text": [
      "   JACK  Edward  Melissa\n",
      "0    25      23       31\n",
      "1    30      38       44\n",
      "2    40      33       60\n"
     ]
    }
   ],
   "source": [
    "import pandas as pd\n",
    "df =pd.DataFrame(my_dict)\n",
    "print(df)"
   ]
  },
  {
   "cell_type": "code",
   "execution_count": 86,
   "id": "e16b9654-0bf9-4015-aace-caf138ff8cab",
   "metadata": {},
   "outputs": [],
   "source": [
    "def avg_3_apply(col):\n",
    "    x=col[0]\n",
    "    y=col[1]\n",
    "    z=col[2]\n",
    "    return (x+y+z)/3"
   ]
  },
  {
   "cell_type": "code",
   "execution_count": 88,
   "id": "2cfd3f71-ab88-48da-9001-76f72e9a81de",
   "metadata": {},
   "outputs": [
    {
     "name": "stdout",
     "output_type": "stream",
     "text": [
      "JACK       31.666667\n",
      "Edward     31.333333\n",
      "Melissa    45.000000\n",
      "dtype: float64\n"
     ]
    }
   ],
   "source": [
    "print(df.apply(avg_3_apply))"
   ]
  },
  {
   "cell_type": "code",
   "execution_count": 90,
   "id": "986eed79-0332-45d4-aefb-ef13da7a5a17",
   "metadata": {},
   "outputs": [],
   "source": [
    "def avg_subject_apply(row):\n",
    "    x = row[0]\n",
    "    y = row[1]\n",
    "    z = row[2]\n",
    "    return round((x + y + z) / 3, 2)"
   ]
  },
  {
   "cell_type": "code",
   "execution_count": 92,
   "id": "eb447d59-fe93-4388-b6b4-c8e3a0517699",
   "metadata": {},
   "outputs": [
    {
     "name": "stdout",
     "output_type": "stream",
     "text": [
      "0    26.33\n",
      "1    37.33\n",
      "2    44.33\n",
      "dtype: float64\n"
     ]
    },
    {
     "name": "stderr",
     "output_type": "stream",
     "text": [
      "/var/folders/jd/746wbsm133x23cvkw2qlxzmh0000gp/T/ipykernel_1548/1625818168.py:2: FutureWarning: Series.__getitem__ treating keys as positions is deprecated. In a future version, integer keys will always be treated as labels (consistent with DataFrame behavior). To access a value by position, use `ser.iloc[pos]`\n",
      "  x = row[0]\n",
      "/var/folders/jd/746wbsm133x23cvkw2qlxzmh0000gp/T/ipykernel_1548/1625818168.py:3: FutureWarning: Series.__getitem__ treating keys as positions is deprecated. In a future version, integer keys will always be treated as labels (consistent with DataFrame behavior). To access a value by position, use `ser.iloc[pos]`\n",
      "  y = row[1]\n",
      "/var/folders/jd/746wbsm133x23cvkw2qlxzmh0000gp/T/ipykernel_1548/1625818168.py:4: FutureWarning: Series.__getitem__ treating keys as positions is deprecated. In a future version, integer keys will always be treated as labels (consistent with DataFrame behavior). To access a value by position, use `ser.iloc[pos]`\n",
      "  z = row[2]\n"
     ]
    }
   ],
   "source": [
    "print(df.apply(avg_subject_apply ,axis=1))"
   ]
  },
  {
   "cell_type": "code",
   "execution_count": 95,
   "id": "256be320-530b-471a-ab3b-9e8baef9865b",
   "metadata": {},
   "outputs": [
    {
     "name": "stdout",
     "output_type": "stream",
     "text": [
      "    A   B   C   D\n",
      "0  a0  b0  c0  d0\n",
      "1  a1  b1  c1  d1\n",
      "2  a2  b2  c2  d2\n",
      "3  a3  b3  c3  d3\n",
      "    A   B   C   D\n",
      "0  a4  b4  c4  d4\n",
      "1  a5  b5  c5  d5\n",
      "2  a6  b6  c6  d6\n",
      "3  a7  b7  c7  d7\n",
      "     A    B    C    D\n",
      "0   a8   b8   c8   d8\n",
      "1   a9   b9   c9   d9\n",
      "2  a10  b10  c10  d10\n",
      "3  a11  b11  c11  d11\n"
     ]
    }
   ],
   "source": [
    "import pandas as pd\n",
    "\n",
    "df1= pd.read_csv('concat_1.csv')\n",
    "df2= pd.read_csv('concat_2.csv')\n",
    "df3= pd.read_csv('concat_3.csv')\n",
    "print(df1)\n",
    "print(df2)\n",
    "print(df3)"
   ]
  },
  {
   "cell_type": "code",
   "execution_count": 126,
   "id": "2e704fc0-652e-4b70-90bb-98179fcf016d",
   "metadata": {},
   "outputs": [
    {
     "name": "stdout",
     "output_type": "stream",
     "text": [
      "     A    B    C    D    E    F    G    H    A    C    F    H\n",
      "0   a0   b0   c0   d0  NaN  NaN  NaN  NaN   a8   b8   c8   d8\n",
      "1   a1   b1   c1   d1  NaN  NaN  NaN  NaN  NaN  NaN  NaN  NaN\n",
      "2   a2   b2   c2   d2  NaN  NaN  NaN  NaN   a9   b9   c9   d9\n",
      "3   a3   b3   c3   d3  NaN  NaN  NaN  NaN  NaN  NaN  NaN  NaN\n",
      "4  NaN  NaN  NaN  NaN   a4   b4   c4   d4  NaN  NaN  NaN  NaN\n",
      "5  NaN  NaN  NaN  NaN   a5   b5   c5   d5  a10  b10  c10  d10\n",
      "6  NaN  NaN  NaN  NaN   a6   b6   c6   d6  NaN  NaN  NaN  NaN\n",
      "7  NaN  NaN  NaN  NaN   a7   b7   c7   d7  a11  b11  c11  d11\n"
     ]
    }
   ],
   "source": [
    "col_concat= pd.concat([df1,df2,df3], axis=\"columns\")\n",
    "print(col_concat)"
   ]
  },
  {
   "cell_type": "code",
   "execution_count": 103,
   "id": "5cfa857d-7ee6-4431-9a84-c4eb55e2fd06",
   "metadata": {},
   "outputs": [
    {
     "name": "stdout",
     "output_type": "stream",
     "text": [
      "    A   B   C   D   A   B   C   D    A    B    C    D new_col_list\n",
      "0  a0  b0  c0  d0  a4  b4  c4  d4   a8   b8   c8   d8           n1\n",
      "1  a1  b1  c1  d1  a5  b5  c5  d5   a9   b9   c9   d9           n2\n",
      "2  a2  b2  c2  d2  a6  b6  c6  d6  a10  b10  c10  d10           n3\n",
      "3  a3  b3  c3  d3  a7  b7  c7  d7  a11  b11  c11  d11           n4\n"
     ]
    }
   ],
   "source": [
    "col_concat['new_col_list']=['n1','n2','n3','n4']\n",
    "print(col_concat)"
   ]
  },
  {
   "cell_type": "code",
   "execution_count": 106,
   "id": "6688a6ef-dc21-4b93-8186-fdb4079206e7",
   "metadata": {},
   "outputs": [],
   "source": [
    "df1.columns=['A','B','C','D']\n",
    "df2.columns=['E','F','G','H']\n",
    "df3.columns=['A','C','F','H']\n"
   ]
  },
  {
   "cell_type": "code",
   "execution_count": 109,
   "id": "eb27b1f0-da1f-4b15-bd9d-195ff710c7d1",
   "metadata": {},
   "outputs": [
    {
     "name": "stdout",
     "output_type": "stream",
     "text": [
      "     A    B    C    D    E    F    G    H\n",
      "0   a0   b0   c0   d0  NaN  NaN  NaN  NaN\n",
      "1   a1   b1   c1   d1  NaN  NaN  NaN  NaN\n",
      "2   a2   b2   c2   d2  NaN  NaN  NaN  NaN\n",
      "3   a3   b3   c3   d3  NaN  NaN  NaN  NaN\n",
      "0  NaN  NaN  NaN  NaN   a4   b4   c4   d4\n",
      "1  NaN  NaN  NaN  NaN   a5   b5   c5   d5\n",
      "2  NaN  NaN  NaN  NaN   a6   b6   c6   d6\n",
      "3  NaN  NaN  NaN  NaN   a7   b7   c7   d7\n",
      "0   a8  NaN   b8  NaN  NaN   c8  NaN   d8\n",
      "1   a9  NaN   b9  NaN  NaN   c9  NaN   d9\n",
      "2  a10  NaN  b10  NaN  NaN  c10  NaN  d10\n",
      "3  a11  NaN  b11  NaN  NaN  c11  NaN  d11\n"
     ]
    }
   ],
   "source": [
    "row_concat=pd.concat([df1,df2,df3])\n",
    "print(row_concat)"
   ]
  },
  {
   "cell_type": "code",
   "execution_count": 113,
   "id": "8d8e1c95-6771-4e1a-89d7-6a9e3f2eb0da",
   "metadata": {},
   "outputs": [
    {
     "name": "stdout",
     "output_type": "stream",
     "text": [
      "    A   B   C   D\n",
      "0  a0  b0  c0  d0\n",
      "1  a1  b1  c1  d1\n",
      "2  a2  b2  c2  d2\n",
      "3  a3  b3  c3  d3\n",
      "    E   F   G   H\n",
      "4  a4  b4  c4  d4\n",
      "5  a5  b5  c5  d5\n",
      "6  a6  b6  c6  d6\n",
      "7  a7  b7  c7  d7\n",
      "     A    C    F    H\n",
      "0   a8   b8   c8   d8\n",
      "2   a9   b9   c9   d9\n",
      "5  a10  b10  c10  d10\n",
      "7  a11  b11  c11  d11\n"
     ]
    }
   ],
   "source": [
    "# Set the index for df1\n",
    "df1.index = [0, 1, 2, 3]\n",
    "\n",
    "# Set the index for df2\n",
    "df2.index = [4, 5, 6, 7]\n",
    "\n",
    "# Set the index for df3\n",
    "df3.index = [0, 2, 5, 7]\n",
    "\n",
    "print(df1)\n",
    "print(df2)\n",
    "print(df3)"
   ]
  },
  {
   "cell_type": "code",
   "execution_count": 119,
   "id": "1db73d18-48f9-409d-b1b3-e65dde9b7eed",
   "metadata": {},
   "outputs": [
    {
     "name": "stdout",
     "output_type": "stream",
     "text": [
      "     A    C\n",
      "0   a0   c0\n",
      "1   a1   c1\n",
      "2   a2   c2\n",
      "3   a3   c3\n",
      "0   a8   b8\n",
      "2   a9   b9\n",
      "5  a10  b10\n",
      "7  a11  b11\n"
     ]
    }
   ],
   "source": [
    "print(pd.concat([df1,df3],ignore_index=False, join=\"inner\"))"
   ]
  },
  {
   "cell_type": "code",
   "execution_count": 144,
   "id": "fbe2d51b-0268-490f-b9ad-024941c8388e",
   "metadata": {},
   "outputs": [
    {
     "name": "stdout",
     "output_type": "stream",
     "text": [
      "{'P': ['p0', 'p1', 'p2'], 'Q': ['q0', 'q1', 'q2'], 'R': ['r0', 'r1', 'r2'], 'S': ['s0', 's1', 's2']}\n"
     ]
    }
   ],
   "source": [
    "dict1 = {\"P\":['p0','p1','p2'], \"Q\":['q0','q1','q2'],\"R\":['r0','r1','r2'],\"S\":['s0','s1','s2']}\n",
    "print(dict1)"
   ]
  },
  {
   "cell_type": "code",
   "execution_count": 146,
   "id": "79baf549-ce81-48c6-93f9-6ba6815310f6",
   "metadata": {},
   "outputs": [
    {
     "name": "stdout",
     "output_type": "stream",
     "text": [
      "    P   Q   R   S\n",
      "0  p0  q0  r0  s0\n",
      "1  p1  q1  r1  s1\n",
      "2  p2  q2  r2  s2\n"
     ]
    }
   ],
   "source": [
    "df = pd.DataFrame(dict1)\n",
    "print(df)"
   ]
  },
  {
   "cell_type": "code",
   "execution_count": 154,
   "id": "61057bc9-6efa-46b2-9249-1027e3339723",
   "metadata": {},
   "outputs": [
    {
     "name": "stdout",
     "output_type": "stream",
     "text": [
      "{'P': [45], 'Q': [20], 'R': [29], 'S': [7]}\n"
     ]
    }
   ],
   "source": [
    "dict2= {\"P\":[45],\"Q\":[20],\"R\":[29],\"S\":[7]}\n",
    "print(dict2)"
   ]
  },
  {
   "cell_type": "code",
   "execution_count": 156,
   "id": "9572a793-08f9-4014-a5c5-49e0d021c9de",
   "metadata": {},
   "outputs": [
    {
     "name": "stdout",
     "output_type": "stream",
     "text": [
      "    P   Q   R  S\n",
      "0  45  20  29  7\n"
     ]
    }
   ],
   "source": [
    "df1=pd.DataFrame(dict2)\n",
    "print(df1)"
   ]
  },
  {
   "cell_type": "code",
   "execution_count": 160,
   "id": "528f3760-cbe3-4d6a-ad71-e182ca25caea",
   "metadata": {},
   "outputs": [
    {
     "name": "stdout",
     "output_type": "stream",
     "text": [
      "    P   Q   R   S\n",
      "0  p0  q0  r0  s0\n",
      "1  p1  q1  r1  s1\n",
      "2  p2  q2  r2  s2\n",
      "0  45  20  29   7\n"
     ]
    }
   ],
   "source": [
    "con = pd.concat([df,df1])\n",
    "print(con)"
   ]
  },
  {
   "cell_type": "code",
   "execution_count": null,
   "id": "c5507cc2-587f-46e9-8349-f15ca45ad787",
   "metadata": {},
   "outputs": [],
   "source": [
    "#Group Lab - 3 "
   ]
  },
  {
   "cell_type": "code",
   "execution_count": 245,
   "id": "8260172c-1e6b-4cd5-8189-d09d79d60c70",
   "metadata": {},
   "outputs": [
    {
     "name": "stdout",
     "output_type": "stream",
     "text": [
      "      ident   personal    family\n",
      "0      dyer    William      Dyer\n",
      "1        pb      Frank   Pabodie\n",
      "2      lake   Anderson      Lake\n",
      "3       roe  Valentina   Roerich\n",
      "4  danforth      Frank  Danforth\n",
      "    taken person quant  reading\n",
      "0     619   dyer   rad     9.82\n",
      "1     619   dyer   sal     0.13\n",
      "2     622   dyer   rad     7.80\n",
      "3     622   dyer   sal     0.09\n",
      "4     734     pb   rad     8.41\n",
      "5     734   lake   sal     0.05\n",
      "6     734     pb  temp   -21.50\n",
      "7     735     pb   rad     7.22\n",
      "8     735    NaN   sal     0.06\n",
      "9     735    NaN  temp   -26.00\n",
      "10    751     pb   rad     4.35\n",
      "11    751     pb  temp   -18.50\n",
      "12    751   lake   sal     0.10\n",
      "13    752   lake   rad     2.19\n",
      "14    752   lake   sal     0.09\n",
      "15    752   lake  temp   -16.00\n",
      "16    752    roe   sal    41.60\n",
      "17    837   lake   rad     1.46\n",
      "18    837   lake   sal     0.21\n",
      "19    837    roe   sal    22.50\n",
      "20    844    roe   rad    11.25\n",
      "    name    lat    long\n",
      "0   DR-1 -49.85 -128.57\n",
      "1   DR-3 -47.15 -126.72\n",
      "2  MSK-4 -48.87 -123.40\n",
      "   ident   site       dated\n",
      "0    619   DR-1  1927-02-08\n",
      "1    622   DR-1  1927-02-10\n",
      "2    734   DR-3  1939-01-07\n",
      "3    735   DR-3  1930-01-12\n",
      "4    751   DR-3  1930-02-26\n",
      "5    752   DR-3         NaN\n",
      "6    837  MSK-4  1932-01-14\n",
      "7    844   DR-1  1932-03-22\n"
     ]
    }
   ],
   "source": [
    "import pandas as pd\n",
    "\n",
    "df_person = pd.read_csv('SURVEY_PERSON.CSV')\n",
    "df_survey =pd.read_csv('SURVEY_SURVEY.CSV')\n",
    "df_site = pd.read_csv('SURVEY_SITE.CSV')\n",
    "df_visited =pd.read_csv('SURVEY_VISITED.CSV')\n",
    "\n",
    "print(df_person)\n",
    "print(df_survey)\n",
    "print(df_site)\n",
    "print(df_visited)"
   ]
  },
  {
   "cell_type": "code",
   "execution_count": 144,
   "id": "c00fbd0d-8570-4c7e-b6c5-cadb876d6560",
   "metadata": {},
   "outputs": [
    {
     "name": "stdout",
     "output_type": "stream",
     "text": [
      "   ident   site       dated\n",
      "0    619   DR-1  1927-02-08\n",
      "2    734   DR-3  1939-01-07\n",
      "6    837  MSK-4  1932-01-14\n"
     ]
    }
   ],
   "source": [
    "visited_subset = df_visited.iloc[[0, 2, 6]]\n",
    "print(visited_subset)"
   ]
  },
  {
   "cell_type": "code",
   "execution_count": 241,
   "id": "74ff426c-ff6c-481c-9426-c75b52f62920",
   "metadata": {},
   "outputs": [
    {
     "name": "stdout",
     "output_type": "stream",
     "text": [
      "    ident   site       dated  taken person quant  reading\n",
      "0   619.0   DR-1  1927-02-08    619   dyer   rad     9.82\n",
      "2   734.0   DR-3  1939-01-07    622   dyer   rad     7.80\n",
      "6   837.0  MSK-4  1932-01-14    734     pb  temp   -21.50\n",
      "1     NaN    NaN         NaN    619   dyer   sal     0.13\n",
      "3     NaN    NaN         NaN    622   dyer   sal     0.09\n",
      "4     NaN    NaN         NaN    734     pb   rad     8.41\n",
      "5     NaN    NaN         NaN    734   lake   sal     0.05\n",
      "7     NaN    NaN         NaN    735     pb   rad     7.22\n",
      "8     NaN    NaN         NaN    735    NaN   sal     0.06\n",
      "9     NaN    NaN         NaN    735    NaN  temp   -26.00\n",
      "10    NaN    NaN         NaN    751     pb   rad     4.35\n",
      "11    NaN    NaN         NaN    751     pb  temp   -18.50\n",
      "12    NaN    NaN         NaN    751   lake   sal     0.10\n",
      "13    NaN    NaN         NaN    752   lake   rad     2.19\n",
      "14    NaN    NaN         NaN    752   lake   sal     0.09\n",
      "15    NaN    NaN         NaN    752   lake  temp   -16.00\n",
      "16    NaN    NaN         NaN    752    roe   sal    41.60\n",
      "17    NaN    NaN         NaN    837   lake   rad     1.46\n",
      "18    NaN    NaN         NaN    837   lake   sal     0.21\n",
      "19    NaN    NaN         NaN    837    roe   sal    22.50\n",
      "20    NaN    NaN         NaN    844    roe   rad    11.25\n"
     ]
    }
   ],
   "source": [
    "o20_merge = pd.concat([visited_subset,df_site], axis=1)\n",
    "print(o20_merge)"
   ]
  },
  {
   "cell_type": "code",
   "execution_count": 239,
   "id": "1e871a2e-e22a-43b5-b2f4-6f22da7f3a19",
   "metadata": {},
   "outputs": [
    {
     "ename": "KeyError",
     "evalue": "\"None of ['name'] are in the columns\"",
     "output_type": "error",
     "traceback": [
      "\u001b[0;31m---------------------------------------------------------------------------\u001b[0m",
      "\u001b[0;31mKeyError\u001b[0m                                  Traceback (most recent call last)",
      "\u001b[0;32m/var/folders/jd/746wbsm133x23cvkw2qlxzmh0000gp/T/ipykernel_10387/968309327.py\u001b[0m in \u001b[0;36m?\u001b[0;34m()\u001b[0m\n\u001b[0;32m----> 1\u001b[0;31m \u001b[0mm20_merge\u001b[0m\u001b[0;34m=\u001b[0m\u001b[0mpd\u001b[0m\u001b[0;34m.\u001b[0m\u001b[0mconcat\u001b[0m\u001b[0;34m(\u001b[0m\u001b[0;34m[\u001b[0m\u001b[0mdf_site\u001b[0m\u001b[0;34m.\u001b[0m\u001b[0mset_index\u001b[0m\u001b[0;34m(\u001b[0m\u001b[0;34m'name'\u001b[0m\u001b[0;34m)\u001b[0m\u001b[0;34m,\u001b[0m\u001b[0mvisited_subset\u001b[0m\u001b[0;34m.\u001b[0m\u001b[0mset_index\u001b[0m\u001b[0;34m(\u001b[0m\u001b[0;34m'name'\u001b[0m\u001b[0;34m)\u001b[0m\u001b[0;34m]\u001b[0m\u001b[0;34m,\u001b[0m\u001b[0maxis\u001b[0m\u001b[0;34m=\u001b[0m\u001b[0;36m1\u001b[0m\u001b[0;34m,\u001b[0m \u001b[0mjoin\u001b[0m \u001b[0;34m=\u001b[0m\u001b[0;34m'inner'\u001b[0m\u001b[0;34m)\u001b[0m\u001b[0;34m\u001b[0m\u001b[0;34m\u001b[0m\u001b[0m\n\u001b[0m\u001b[1;32m      2\u001b[0m \u001b[0mprint\u001b[0m\u001b[0;34m(\u001b[0m\u001b[0mm20_merge\u001b[0m\u001b[0;34m)\u001b[0m\u001b[0;34m\u001b[0m\u001b[0;34m\u001b[0m\u001b[0m\n",
      "\u001b[0;32m/opt/anaconda3/lib/python3.12/site-packages/pandas/core/frame.py\u001b[0m in \u001b[0;36m?\u001b[0;34m(self, keys, drop, append, inplace, verify_integrity)\u001b[0m\n\u001b[1;32m   6118\u001b[0m                     \u001b[0;32mif\u001b[0m \u001b[0;32mnot\u001b[0m \u001b[0mfound\u001b[0m\u001b[0;34m:\u001b[0m\u001b[0;34m\u001b[0m\u001b[0;34m\u001b[0m\u001b[0m\n\u001b[1;32m   6119\u001b[0m                         \u001b[0mmissing\u001b[0m\u001b[0;34m.\u001b[0m\u001b[0mappend\u001b[0m\u001b[0;34m(\u001b[0m\u001b[0mcol\u001b[0m\u001b[0;34m)\u001b[0m\u001b[0;34m\u001b[0m\u001b[0;34m\u001b[0m\u001b[0m\n\u001b[1;32m   6120\u001b[0m \u001b[0;34m\u001b[0m\u001b[0m\n\u001b[1;32m   6121\u001b[0m         \u001b[0;32mif\u001b[0m \u001b[0mmissing\u001b[0m\u001b[0;34m:\u001b[0m\u001b[0;34m\u001b[0m\u001b[0;34m\u001b[0m\u001b[0m\n\u001b[0;32m-> 6122\u001b[0;31m             \u001b[0;32mraise\u001b[0m \u001b[0mKeyError\u001b[0m\u001b[0;34m(\u001b[0m\u001b[0;34mf\"\u001b[0m\u001b[0;34mNone of \u001b[0m\u001b[0;34m{\u001b[0m\u001b[0mmissing\u001b[0m\u001b[0;34m}\u001b[0m\u001b[0;34m are in the columns\u001b[0m\u001b[0;34m\"\u001b[0m\u001b[0;34m)\u001b[0m\u001b[0;34m\u001b[0m\u001b[0;34m\u001b[0m\u001b[0m\n\u001b[0m\u001b[1;32m   6123\u001b[0m \u001b[0;34m\u001b[0m\u001b[0m\n\u001b[1;32m   6124\u001b[0m         \u001b[0;32mif\u001b[0m \u001b[0minplace\u001b[0m\u001b[0;34m:\u001b[0m\u001b[0;34m\u001b[0m\u001b[0;34m\u001b[0m\u001b[0m\n\u001b[1;32m   6125\u001b[0m             \u001b[0mframe\u001b[0m \u001b[0;34m=\u001b[0m \u001b[0mself\u001b[0m\u001b[0;34m\u001b[0m\u001b[0;34m\u001b[0m\u001b[0m\n",
      "\u001b[0;31mKeyError\u001b[0m: \"None of ['name'] are in the columns\""
     ]
    }
   ],
   "source": [
    "m20_merge=pd.concat([df_site.set_index('name'),visited_subset.set_index('name')],axis=1, join ='inner')\n",
    "print(m20_merge)"
   ]
  },
  {
   "cell_type": "code",
   "execution_count": 229,
   "id": "a66b352a-356f-4948-9382-31f5fe23cf4d",
   "metadata": {},
   "outputs": [
    {
     "name": "stdout",
     "output_type": "stream",
     "text": [
      "           personal    family  taken person quant  reading\n",
      "dyer        William      Dyer    NaN    NaN   NaN      NaN\n",
      "pb            Frank   Pabodie    NaN    NaN   NaN      NaN\n",
      "lake       Anderson      Lake    NaN    NaN   NaN      NaN\n",
      "roe       Valentina   Roerich    NaN    NaN   NaN      NaN\n",
      "danforth      Frank  Danforth    NaN    NaN   NaN      NaN\n",
      "0               NaN       NaN  619.0   dyer   rad     9.82\n",
      "1               NaN       NaN  619.0   dyer   sal     0.13\n",
      "2               NaN       NaN  622.0   dyer   rad     7.80\n",
      "3               NaN       NaN  622.0   dyer   sal     0.09\n",
      "4               NaN       NaN  734.0     pb   rad     8.41\n",
      "5               NaN       NaN  734.0   lake   sal     0.05\n",
      "6               NaN       NaN  734.0     pb  temp   -21.50\n",
      "7               NaN       NaN  735.0     pb   rad     7.22\n",
      "8               NaN       NaN  735.0    NaN   sal     0.06\n",
      "9               NaN       NaN  735.0    NaN  temp   -26.00\n",
      "10              NaN       NaN  751.0     pb   rad     4.35\n",
      "11              NaN       NaN  751.0     pb  temp   -18.50\n",
      "12              NaN       NaN  751.0   lake   sal     0.10\n",
      "13              NaN       NaN  752.0   lake   rad     2.19\n",
      "14              NaN       NaN  752.0   lake   sal     0.09\n",
      "15              NaN       NaN  752.0   lake  temp   -16.00\n",
      "16              NaN       NaN  752.0    roe   sal    41.60\n",
      "17              NaN       NaN  837.0   lake   rad     1.46\n",
      "18              NaN       NaN  837.0   lake   sal     0.21\n",
      "19              NaN       NaN  837.0    roe   sal    22.50\n",
      "20              NaN       NaN  844.0    roe   rad    11.25\n"
     ]
    }
   ],
   "source": [
    "ps=pd.concat([df_person.set_index('ident'),df_site],axis=1)\n",
    "print(ps)"
   ]
  },
  {
   "cell_type": "code",
   "execution_count": 215,
   "id": "ca9f1942-3077-4056-b8f4-d088e9aa8431",
   "metadata": {},
   "outputs": [
    {
     "name": "stdout",
     "output_type": "stream",
     "text": [
      "Empty DataFrame\n",
      "Columns: []\n",
      "Index: [619, 622, 734, 735, 751, 752, 837, 844, 619, 619, 622, 622, 734, 734, 734, 735, 735, 735, 751, 751, 751, 752, 752, 752, 752, 837, 837, 837, 844]\n"
     ]
    }
   ],
   "source": [
    "vs=pd.concat([df_visited.set_index('ident'),df_site.set_index('taken')],join='inner')\n",
    "print(vs)"
   ]
  },
  {
   "cell_type": "code",
   "execution_count": 225,
   "id": "3dbbbdb9-d4f4-420c-8f2f-f12afa4f42c8",
   "metadata": {},
   "outputs": [
    {
     "ename": "KeyError",
     "evalue": "'quant'",
     "output_type": "error",
     "traceback": [
      "\u001b[0;31m---------------------------------------------------------------------------\u001b[0m",
      "\u001b[0;31mKeyError\u001b[0m                                  Traceback (most recent call last)",
      "\u001b[0;32m/var/folders/jd/746wbsm133x23cvkw2qlxzmh0000gp/T/ipykernel_10387/1164824503.py\u001b[0m in \u001b[0;36m?\u001b[0;34m()\u001b[0m\n\u001b[1;32m      1\u001b[0m \u001b[0;31m# vs_ps = pd.concat([ps.set_index('quant'),vs.set_index('quant')],axis=1)\u001b[0m\u001b[0;34m\u001b[0m\u001b[0;34m\u001b[0m\u001b[0m\n\u001b[1;32m      2\u001b[0m \u001b[0;31m# print(vs_ps)\u001b[0m\u001b[0;34m\u001b[0m\u001b[0;34m\u001b[0m\u001b[0m\n\u001b[1;32m      3\u001b[0m \u001b[0;34m\u001b[0m\u001b[0m\n\u001b[0;32m----> 4\u001b[0;31m \u001b[0mps_vs\u001b[0m \u001b[0;34m=\u001b[0m \u001b[0mpd\u001b[0m\u001b[0;34m.\u001b[0m\u001b[0mmerge\u001b[0m\u001b[0;34m(\u001b[0m\u001b[0mps\u001b[0m\u001b[0;34m,\u001b[0m\u001b[0mvs\u001b[0m\u001b[0;34m,\u001b[0m \u001b[0mon\u001b[0m\u001b[0;34m=\u001b[0m\u001b[0;34m\"quant\"\u001b[0m\u001b[0;34m,\u001b[0m \u001b[0mhow\u001b[0m\u001b[0;34m=\u001b[0m\u001b[0;34m\"inner\"\u001b[0m\u001b[0;34m)\u001b[0m\u001b[0;34m\u001b[0m\u001b[0;34m\u001b[0m\u001b[0m\n\u001b[0m\u001b[1;32m      5\u001b[0m \u001b[0;31m# ps_vs = pd.concat([ps,vs],keys= \"quant\",axis=1)\u001b[0m\u001b[0;34m\u001b[0m\u001b[0;34m\u001b[0m\u001b[0m\n\u001b[1;32m      6\u001b[0m \u001b[0mprint\u001b[0m\u001b[0;34m(\u001b[0m\u001b[0mps_vs\u001b[0m\u001b[0;34m)\u001b[0m\u001b[0;34m\u001b[0m\u001b[0;34m\u001b[0m\u001b[0m\n",
      "\u001b[0;32m/opt/anaconda3/lib/python3.12/site-packages/pandas/core/reshape/merge.py\u001b[0m in \u001b[0;36m?\u001b[0;34m(left, right, how, on, left_on, right_on, left_index, right_index, sort, suffixes, copy, indicator, validate)\u001b[0m\n\u001b[1;32m    166\u001b[0m             \u001b[0mvalidate\u001b[0m\u001b[0;34m=\u001b[0m\u001b[0mvalidate\u001b[0m\u001b[0;34m,\u001b[0m\u001b[0;34m\u001b[0m\u001b[0;34m\u001b[0m\u001b[0m\n\u001b[1;32m    167\u001b[0m             \u001b[0mcopy\u001b[0m\u001b[0;34m=\u001b[0m\u001b[0mcopy\u001b[0m\u001b[0;34m,\u001b[0m\u001b[0;34m\u001b[0m\u001b[0;34m\u001b[0m\u001b[0m\n\u001b[1;32m    168\u001b[0m         \u001b[0;34m)\u001b[0m\u001b[0;34m\u001b[0m\u001b[0;34m\u001b[0m\u001b[0m\n\u001b[1;32m    169\u001b[0m     \u001b[0;32melse\u001b[0m\u001b[0;34m:\u001b[0m\u001b[0;34m\u001b[0m\u001b[0;34m\u001b[0m\u001b[0m\n\u001b[0;32m--> 170\u001b[0;31m         op = _MergeOperation(\n\u001b[0m\u001b[1;32m    171\u001b[0m             \u001b[0mleft_df\u001b[0m\u001b[0;34m,\u001b[0m\u001b[0;34m\u001b[0m\u001b[0;34m\u001b[0m\u001b[0m\n\u001b[1;32m    172\u001b[0m             \u001b[0mright_df\u001b[0m\u001b[0;34m,\u001b[0m\u001b[0;34m\u001b[0m\u001b[0;34m\u001b[0m\u001b[0m\n\u001b[1;32m    173\u001b[0m             \u001b[0mhow\u001b[0m\u001b[0;34m=\u001b[0m\u001b[0mhow\u001b[0m\u001b[0;34m,\u001b[0m\u001b[0;34m\u001b[0m\u001b[0;34m\u001b[0m\u001b[0m\n",
      "\u001b[0;32m/opt/anaconda3/lib/python3.12/site-packages/pandas/core/reshape/merge.py\u001b[0m in \u001b[0;36m?\u001b[0;34m(self, left, right, how, on, left_on, right_on, left_index, right_index, sort, suffixes, indicator, validate)\u001b[0m\n\u001b[1;32m    790\u001b[0m             \u001b[0mself\u001b[0m\u001b[0;34m.\u001b[0m\u001b[0mright_join_keys\u001b[0m\u001b[0;34m,\u001b[0m\u001b[0;34m\u001b[0m\u001b[0;34m\u001b[0m\u001b[0m\n\u001b[1;32m    791\u001b[0m             \u001b[0mself\u001b[0m\u001b[0;34m.\u001b[0m\u001b[0mjoin_names\u001b[0m\u001b[0;34m,\u001b[0m\u001b[0;34m\u001b[0m\u001b[0;34m\u001b[0m\u001b[0m\n\u001b[1;32m    792\u001b[0m             \u001b[0mleft_drop\u001b[0m\u001b[0;34m,\u001b[0m\u001b[0;34m\u001b[0m\u001b[0;34m\u001b[0m\u001b[0m\n\u001b[1;32m    793\u001b[0m             \u001b[0mright_drop\u001b[0m\u001b[0;34m,\u001b[0m\u001b[0;34m\u001b[0m\u001b[0;34m\u001b[0m\u001b[0m\n\u001b[0;32m--> 794\u001b[0;31m         \u001b[0;34m)\u001b[0m \u001b[0;34m=\u001b[0m \u001b[0mself\u001b[0m\u001b[0;34m.\u001b[0m\u001b[0m_get_merge_keys\u001b[0m\u001b[0;34m(\u001b[0m\u001b[0;34m)\u001b[0m\u001b[0;34m\u001b[0m\u001b[0;34m\u001b[0m\u001b[0m\n\u001b[0m\u001b[1;32m    795\u001b[0m \u001b[0;34m\u001b[0m\u001b[0m\n\u001b[1;32m    796\u001b[0m         \u001b[0;32mif\u001b[0m \u001b[0mleft_drop\u001b[0m\u001b[0;34m:\u001b[0m\u001b[0;34m\u001b[0m\u001b[0;34m\u001b[0m\u001b[0m\n\u001b[1;32m    797\u001b[0m             \u001b[0mself\u001b[0m\u001b[0;34m.\u001b[0m\u001b[0mleft\u001b[0m \u001b[0;34m=\u001b[0m \u001b[0mself\u001b[0m\u001b[0;34m.\u001b[0m\u001b[0mleft\u001b[0m\u001b[0;34m.\u001b[0m\u001b[0m_drop_labels_or_levels\u001b[0m\u001b[0;34m(\u001b[0m\u001b[0mleft_drop\u001b[0m\u001b[0;34m)\u001b[0m\u001b[0;34m\u001b[0m\u001b[0;34m\u001b[0m\u001b[0m\n",
      "\u001b[0;32m/opt/anaconda3/lib/python3.12/site-packages/pandas/core/reshape/merge.py\u001b[0m in \u001b[0;36m?\u001b[0;34m(self)\u001b[0m\n\u001b[1;32m   1293\u001b[0m                         \u001b[0;31m# Then we're either Hashable or a wrong-length arraylike,\u001b[0m\u001b[0;34m\u001b[0m\u001b[0;34m\u001b[0m\u001b[0m\n\u001b[1;32m   1294\u001b[0m                         \u001b[0;31m#  the latter of which will raise\u001b[0m\u001b[0;34m\u001b[0m\u001b[0;34m\u001b[0m\u001b[0m\n\u001b[1;32m   1295\u001b[0m                         \u001b[0mrk\u001b[0m \u001b[0;34m=\u001b[0m \u001b[0mcast\u001b[0m\u001b[0;34m(\u001b[0m\u001b[0mHashable\u001b[0m\u001b[0;34m,\u001b[0m \u001b[0mrk\u001b[0m\u001b[0;34m)\u001b[0m\u001b[0;34m\u001b[0m\u001b[0;34m\u001b[0m\u001b[0m\n\u001b[1;32m   1296\u001b[0m                         \u001b[0;32mif\u001b[0m \u001b[0mrk\u001b[0m \u001b[0;32mis\u001b[0m \u001b[0;32mnot\u001b[0m \u001b[0;32mNone\u001b[0m\u001b[0;34m:\u001b[0m\u001b[0;34m\u001b[0m\u001b[0;34m\u001b[0m\u001b[0m\n\u001b[0;32m-> 1297\u001b[0;31m                             \u001b[0mright_keys\u001b[0m\u001b[0;34m.\u001b[0m\u001b[0mappend\u001b[0m\u001b[0;34m(\u001b[0m\u001b[0mright\u001b[0m\u001b[0;34m.\u001b[0m\u001b[0m_get_label_or_level_values\u001b[0m\u001b[0;34m(\u001b[0m\u001b[0mrk\u001b[0m\u001b[0;34m)\u001b[0m\u001b[0;34m)\u001b[0m\u001b[0;34m\u001b[0m\u001b[0;34m\u001b[0m\u001b[0m\n\u001b[0m\u001b[1;32m   1298\u001b[0m                         \u001b[0;32melse\u001b[0m\u001b[0;34m:\u001b[0m\u001b[0;34m\u001b[0m\u001b[0;34m\u001b[0m\u001b[0m\n\u001b[1;32m   1299\u001b[0m                             \u001b[0;31m# work-around for merge_asof(right_index=True)\u001b[0m\u001b[0;34m\u001b[0m\u001b[0;34m\u001b[0m\u001b[0m\n\u001b[1;32m   1300\u001b[0m                             \u001b[0mright_keys\u001b[0m\u001b[0;34m.\u001b[0m\u001b[0mappend\u001b[0m\u001b[0;34m(\u001b[0m\u001b[0mright\u001b[0m\u001b[0;34m.\u001b[0m\u001b[0mindex\u001b[0m\u001b[0;34m.\u001b[0m\u001b[0m_values\u001b[0m\u001b[0;34m)\u001b[0m\u001b[0;34m\u001b[0m\u001b[0;34m\u001b[0m\u001b[0m\n",
      "\u001b[0;32m/opt/anaconda3/lib/python3.12/site-packages/pandas/core/generic.py\u001b[0m in \u001b[0;36m?\u001b[0;34m(self, key, axis)\u001b[0m\n\u001b[1;32m   1907\u001b[0m             \u001b[0mvalues\u001b[0m \u001b[0;34m=\u001b[0m \u001b[0mself\u001b[0m\u001b[0;34m.\u001b[0m\u001b[0mxs\u001b[0m\u001b[0;34m(\u001b[0m\u001b[0mkey\u001b[0m\u001b[0;34m,\u001b[0m \u001b[0maxis\u001b[0m\u001b[0;34m=\u001b[0m\u001b[0mother_axes\u001b[0m\u001b[0;34m[\u001b[0m\u001b[0;36m0\u001b[0m\u001b[0;34m]\u001b[0m\u001b[0;34m)\u001b[0m\u001b[0;34m.\u001b[0m\u001b[0m_values\u001b[0m\u001b[0;34m\u001b[0m\u001b[0;34m\u001b[0m\u001b[0m\n\u001b[1;32m   1908\u001b[0m         \u001b[0;32melif\u001b[0m \u001b[0mself\u001b[0m\u001b[0;34m.\u001b[0m\u001b[0m_is_level_reference\u001b[0m\u001b[0;34m(\u001b[0m\u001b[0mkey\u001b[0m\u001b[0;34m,\u001b[0m \u001b[0maxis\u001b[0m\u001b[0;34m=\u001b[0m\u001b[0maxis\u001b[0m\u001b[0;34m)\u001b[0m\u001b[0;34m:\u001b[0m\u001b[0;34m\u001b[0m\u001b[0;34m\u001b[0m\u001b[0m\n\u001b[1;32m   1909\u001b[0m             \u001b[0mvalues\u001b[0m \u001b[0;34m=\u001b[0m \u001b[0mself\u001b[0m\u001b[0;34m.\u001b[0m\u001b[0maxes\u001b[0m\u001b[0;34m[\u001b[0m\u001b[0maxis\u001b[0m\u001b[0;34m]\u001b[0m\u001b[0;34m.\u001b[0m\u001b[0mget_level_values\u001b[0m\u001b[0;34m(\u001b[0m\u001b[0mkey\u001b[0m\u001b[0;34m)\u001b[0m\u001b[0;34m.\u001b[0m\u001b[0m_values\u001b[0m\u001b[0;34m\u001b[0m\u001b[0;34m\u001b[0m\u001b[0m\n\u001b[1;32m   1910\u001b[0m         \u001b[0;32melse\u001b[0m\u001b[0;34m:\u001b[0m\u001b[0;34m\u001b[0m\u001b[0;34m\u001b[0m\u001b[0m\n\u001b[0;32m-> 1911\u001b[0;31m             \u001b[0;32mraise\u001b[0m \u001b[0mKeyError\u001b[0m\u001b[0;34m(\u001b[0m\u001b[0mkey\u001b[0m\u001b[0;34m)\u001b[0m\u001b[0;34m\u001b[0m\u001b[0;34m\u001b[0m\u001b[0m\n\u001b[0m\u001b[1;32m   1912\u001b[0m \u001b[0;34m\u001b[0m\u001b[0m\n\u001b[1;32m   1913\u001b[0m         \u001b[0;31m# Check for duplicates\u001b[0m\u001b[0;34m\u001b[0m\u001b[0;34m\u001b[0m\u001b[0m\n\u001b[1;32m   1914\u001b[0m         \u001b[0;32mif\u001b[0m \u001b[0mvalues\u001b[0m\u001b[0;34m.\u001b[0m\u001b[0mndim\u001b[0m \u001b[0;34m>\u001b[0m \u001b[0;36m1\u001b[0m\u001b[0;34m:\u001b[0m\u001b[0;34m\u001b[0m\u001b[0;34m\u001b[0m\u001b[0m\n",
      "\u001b[0;31mKeyError\u001b[0m: 'quant'"
     ]
    }
   ],
   "source": [
    "# vs_ps = pd.concat([ps.set_index('quant'),vs.set_index('quant')],axis=1)\n",
    "# print(vs_ps)\n",
    "\n",
    "ps_vs = pd.merge(ps,vs, on=\"quant\", how=\"inner\")\n",
    "# ps_vs = pd.concat([ps,vs],keys= \"quant\",axis=1)\n",
    "print(ps_vs)"
   ]
  },
  {
   "cell_type": "code",
   "execution_count": 207,
   "id": "55f150cc-f74f-4d0d-9010-e6868f7895e2",
   "metadata": {},
   "outputs": [
    {
     "name": "stdout",
     "output_type": "stream",
     "text": [
      "personal        William\n",
      "family             Dyer\n",
      "taken               NaN\n",
      "person_x            NaN\n",
      "quant               NaN\n",
      "reading_x           NaN\n",
      "site               DR-1\n",
      "dated        1927-02-08\n",
      "person_y            NaN\n",
      "reading_y           NaN\n",
      "Name: 0, dtype: object\n"
     ]
    }
   ],
   "source": [
    "first_row = ps_vs.iloc[0]\n",
    "print(first_row)"
   ]
  },
  {
   "cell_type": "code",
   "execution_count": null,
   "id": "cc51584a-3f82-4ec1-af28-02a07494c840",
   "metadata": {},
   "outputs": [],
   "source": []
  }
 ],
 "metadata": {
  "kernelspec": {
   "display_name": "Python [conda env:base] *",
   "language": "python",
   "name": "conda-base-py"
  },
  "language_info": {
   "codemirror_mode": {
    "name": "ipython",
    "version": 3
   },
   "file_extension": ".py",
   "mimetype": "text/x-python",
   "name": "python",
   "nbconvert_exporter": "python",
   "pygments_lexer": "ipython3",
   "version": "3.12.2"
  }
 },
 "nbformat": 4,
 "nbformat_minor": 5
}
