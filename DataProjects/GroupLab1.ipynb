{
 "cells": [
  {
   "cell_type": "code",
   "execution_count": 5,
   "id": "eb016b96-969e-45a0-ab48-8475265b695d",
   "metadata": {},
   "outputs": [],
   "source": [
    "import pandas as pd\n",
    "\n",
    "df_person = pd.read_csv('SURVEY_PERSON.CSV')\n",
    "df_survey =pd.read_csv('SURVEY_SURVEY.CSV')\n",
    "df_site = pd.read_csv('SURVEY_SITE.CSV')\n",
    "df_visited =pd.read_csv('SURVEY_VISITED.CSV')\n"
   ]
  },
  {
   "cell_type": "code",
   "execution_count": 7,
   "id": "05903105-a353-4c3b-b88d-5900408dde5c",
   "metadata": {},
   "outputs": [
    {
     "name": "stdout",
     "output_type": "stream",
     "text": [
      "      ident   personal    family\n",
      "0      dyer    William      Dyer\n",
      "1        pb      Frank   Pabodie\n",
      "2      lake   Anderson      Lake\n",
      "3       roe  Valentina   Roerich\n",
      "4  danforth      Frank  Danforth\n"
     ]
    }
   ],
   "source": [
    "print(df_person)"
   ]
  },
  {
   "cell_type": "code",
   "execution_count": 9,
   "id": "768966a4-678c-41a8-aa2f-9263f2e53d2e",
   "metadata": {},
   "outputs": [
    {
     "name": "stdout",
     "output_type": "stream",
     "text": [
      "    taken person quant  reading\n",
      "0     619   dyer   rad     9.82\n",
      "1     619   dyer   sal     0.13\n",
      "2     622   dyer   rad     7.80\n",
      "3     622   dyer   sal     0.09\n",
      "4     734     pb   rad     8.41\n",
      "5     734   lake   sal     0.05\n",
      "6     734     pb  temp   -21.50\n",
      "7     735     pb   rad     7.22\n",
      "8     735    NaN   sal     0.06\n",
      "9     735    NaN  temp   -26.00\n",
      "10    751     pb   rad     4.35\n",
      "11    751     pb  temp   -18.50\n",
      "12    751   lake   sal     0.10\n",
      "13    752   lake   rad     2.19\n",
      "14    752   lake   sal     0.09\n",
      "15    752   lake  temp   -16.00\n",
      "16    752    roe   sal    41.60\n",
      "17    837   lake   rad     1.46\n",
      "18    837   lake   sal     0.21\n",
      "19    837    roe   sal    22.50\n",
      "20    844    roe   rad    11.25\n"
     ]
    }
   ],
   "source": [
    "print(df_survey)"
   ]
  },
  {
   "cell_type": "code",
   "execution_count": 11,
   "id": "b15ff31f-4fae-44ce-9b57-2795e60273f7",
   "metadata": {},
   "outputs": [
    {
     "name": "stdout",
     "output_type": "stream",
     "text": [
      "    name    lat    long\n",
      "0   DR-1 -49.85 -128.57\n",
      "1   DR-3 -47.15 -126.72\n",
      "2  MSK-4 -48.87 -123.40\n"
     ]
    }
   ],
   "source": [
    "print(df_site)"
   ]
  },
  {
   "cell_type": "code",
   "execution_count": 13,
   "id": "8a38e5aa-2262-4953-be3f-995b6f54339a",
   "metadata": {},
   "outputs": [
    {
     "name": "stdout",
     "output_type": "stream",
     "text": [
      "   ident   site       dated\n",
      "0    619   DR-1  1927-02-08\n",
      "1    622   DR-1  1927-02-10\n",
      "2    734   DR-3  1939-01-07\n",
      "3    735   DR-3  1930-01-12\n",
      "4    751   DR-3  1930-02-26\n",
      "5    752   DR-3         NaN\n",
      "6    837  MSK-4  1932-01-14\n",
      "7    844   DR-1  1932-03-22\n"
     ]
    }
   ],
   "source": [
    "print(df_visited)"
   ]
  },
  {
   "cell_type": "code",
   "execution_count": 17,
   "id": "f3c72e94-aee1-48fd-ab87-d20c5973140c",
   "metadata": {},
   "outputs": [
    {
     "name": "stdout",
     "output_type": "stream",
     "text": [
      "   ident   site       dated\n",
      "0    619   DR-1  1927-02-08\n",
      "2    734   DR-3  1939-01-07\n",
      "6    837  MSK-4  1932-01-14\n"
     ]
    }
   ],
   "source": [
    "visited_subset = df_visited.iloc[[0, 2, 6]]\n",
    "print(visited_subset)"
   ]
  },
  {
   "cell_type": "code",
   "execution_count": 32,
   "id": "e23739ba-1b48-4558-ae88-30b0e440011c",
   "metadata": {},
   "outputs": [
    {
     "name": "stdout",
     "output_type": "stream",
     "text": [
      "   ident   site       dated   name    lat    long\n",
      "0    619   DR-1  1927-02-08   DR-1 -49.85 -128.57\n",
      "1    734   DR-3  1939-01-07   DR-3 -47.15 -126.72\n",
      "2    837  MSK-4  1932-01-14  MSK-4 -48.87 -123.40\n"
     ]
    }
   ],
   "source": [
    "o2o_merge = pd.merge(visited_subset, df_site , left_on=\"site\", right_on=\"name\")\n",
    "print(o2o_merge)"
   ]
  },
  {
   "cell_type": "code",
   "execution_count": 34,
   "id": "6c9dbab2-9879-4032-84b6-0b95bbe9b1ff",
   "metadata": {},
   "outputs": [
    {
     "name": "stdout",
     "output_type": "stream",
     "text": [
      "    name    lat    long  ident   site       dated\n",
      "0   DR-1 -49.85 -128.57    619   DR-1  1927-02-08\n",
      "1   DR-1 -49.85 -128.57    622   DR-1  1927-02-10\n",
      "2   DR-1 -49.85 -128.57    844   DR-1  1932-03-22\n",
      "3   DR-3 -47.15 -126.72    734   DR-3  1939-01-07\n",
      "4   DR-3 -47.15 -126.72    735   DR-3  1930-01-12\n",
      "5   DR-3 -47.15 -126.72    751   DR-3  1930-02-26\n",
      "6   DR-3 -47.15 -126.72    752   DR-3         NaN\n",
      "7  MSK-4 -48.87 -123.40    837  MSK-4  1932-01-14\n"
     ]
    }
   ],
   "source": [
    "m2o_merge = pd.merge(df_site, df_visited, left_on=\"name\", right_on=\"site\")\n",
    "print(m2o_merge)"
   ]
  },
  {
   "cell_type": "code",
   "execution_count": 53,
   "id": "87cd2fc0-29f1-473f-b385-206924254ce4",
   "metadata": {},
   "outputs": [
    {
     "name": "stdout",
     "output_type": "stream",
     "text": [
      "       ident   personal    family  taken person quant  reading\n",
      "0       dyer    William      Dyer    619   dyer   rad     9.82\n",
      "1         pb      Frank   Pabodie    619   dyer   sal     0.13\n",
      "2       lake   Anderson      Lake    622   dyer   rad     7.80\n",
      "3        roe  Valentina   Roerich    622   dyer   sal     0.09\n",
      "4   danforth      Frank  Danforth    734     pb   rad     8.41\n",
      "5        NaN        NaN       NaN    734   lake   sal     0.05\n",
      "6        NaN        NaN       NaN    734     pb  temp   -21.50\n",
      "7        NaN        NaN       NaN    735     pb   rad     7.22\n",
      "8        NaN        NaN       NaN    735    NaN   sal     0.06\n",
      "9        NaN        NaN       NaN    735    NaN  temp   -26.00\n",
      "10       NaN        NaN       NaN    751     pb   rad     4.35\n",
      "11       NaN        NaN       NaN    751     pb  temp   -18.50\n",
      "12       NaN        NaN       NaN    751   lake   sal     0.10\n",
      "13       NaN        NaN       NaN    752   lake   rad     2.19\n",
      "14       NaN        NaN       NaN    752   lake   sal     0.09\n",
      "15       NaN        NaN       NaN    752   lake  temp   -16.00\n",
      "16       NaN        NaN       NaN    752    roe   sal    41.60\n",
      "17       NaN        NaN       NaN    837   lake   rad     1.46\n",
      "18       NaN        NaN       NaN    837   lake   sal     0.21\n",
      "19       NaN        NaN       NaN    837    roe   sal    22.50\n",
      "20       NaN        NaN       NaN    844    roe   rad    11.25\n"
     ]
    }
   ],
   "source": [
    "ps= pd.concat([df_person,df_survey],axis =1)\n",
    "print(ps)"
   ]
  },
  {
   "cell_type": "code",
   "execution_count": 55,
   "id": "75572998-b955-450c-ae8c-7448a310d44e",
   "metadata": {},
   "outputs": [
    {
     "name": "stdout",
     "output_type": "stream",
     "text": [
      "    ident   site       dated  taken person quant  reading\n",
      "0     619   DR-1  1927-02-08    619   dyer   rad     9.82\n",
      "1     619   DR-1  1927-02-08    619   dyer   sal     0.13\n",
      "2     622   DR-1  1927-02-10    622   dyer   rad     7.80\n",
      "3     622   DR-1  1927-02-10    622   dyer   sal     0.09\n",
      "4     734   DR-3  1939-01-07    734     pb   rad     8.41\n",
      "5     734   DR-3  1939-01-07    734   lake   sal     0.05\n",
      "6     734   DR-3  1939-01-07    734     pb  temp   -21.50\n",
      "7     735   DR-3  1930-01-12    735     pb   rad     7.22\n",
      "8     735   DR-3  1930-01-12    735    NaN   sal     0.06\n",
      "9     735   DR-3  1930-01-12    735    NaN  temp   -26.00\n",
      "10    751   DR-3  1930-02-26    751     pb   rad     4.35\n",
      "11    751   DR-3  1930-02-26    751     pb  temp   -18.50\n",
      "12    751   DR-3  1930-02-26    751   lake   sal     0.10\n",
      "13    752   DR-3         NaN    752   lake   rad     2.19\n",
      "14    752   DR-3         NaN    752   lake   sal     0.09\n",
      "15    752   DR-3         NaN    752   lake  temp   -16.00\n",
      "16    752   DR-3         NaN    752    roe   sal    41.60\n",
      "17    837  MSK-4  1932-01-14    837   lake   rad     1.46\n",
      "18    837  MSK-4  1932-01-14    837   lake   sal     0.21\n",
      "19    837  MSK-4  1932-01-14    837    roe   sal    22.50\n",
      "20    844   DR-1  1932-03-22    844    roe   rad    11.25\n"
     ]
    }
   ],
   "source": [
    "vs= pd.merge(df_visited,df_survey, left_on ='ident', right_on ='taken')\n",
    "print(vs)"
   ]
  },
  {
   "cell_type": "code",
   "execution_count": 57,
   "id": "ae0ded3b-ffe1-4223-b128-716ef47eedda",
   "metadata": {},
   "outputs": [
    {
     "name": "stdout",
     "output_type": "stream",
     "text": [
      "    ident_x personal family  taken_x person_x quant  reading_x  ident_y  \\\n",
      "0      dyer  William   Dyer      619     dyer   rad       9.82      619   \n",
      "1      dyer  William   Dyer      619     dyer   rad       9.82      622   \n",
      "2      dyer  William   Dyer      619     dyer   rad       9.82      734   \n",
      "3      dyer  William   Dyer      619     dyer   rad       9.82      735   \n",
      "4      dyer  William   Dyer      619     dyer   rad       9.82      751   \n",
      "..      ...      ...    ...      ...      ...   ...        ...      ...   \n",
      "156     NaN      NaN    NaN      844      roe   rad      11.25      735   \n",
      "157     NaN      NaN    NaN      844      roe   rad      11.25      751   \n",
      "158     NaN      NaN    NaN      844      roe   rad      11.25      752   \n",
      "159     NaN      NaN    NaN      844      roe   rad      11.25      837   \n",
      "160     NaN      NaN    NaN      844      roe   rad      11.25      844   \n",
      "\n",
      "      site       dated  taken_y person_y  reading_y  \n",
      "0     DR-1  1927-02-08      619     dyer       9.82  \n",
      "1     DR-1  1927-02-10      622     dyer       7.80  \n",
      "2     DR-3  1939-01-07      734       pb       8.41  \n",
      "3     DR-3  1930-01-12      735       pb       7.22  \n",
      "4     DR-3  1930-02-26      751       pb       4.35  \n",
      "..     ...         ...      ...      ...        ...  \n",
      "156   DR-3  1930-01-12      735       pb       7.22  \n",
      "157   DR-3  1930-02-26      751       pb       4.35  \n",
      "158   DR-3         NaN      752     lake       2.19  \n",
      "159  MSK-4  1932-01-14      837     lake       1.46  \n",
      "160   DR-1  1932-03-22      844      roe      11.25  \n",
      "\n",
      "[161 rows x 13 columns]\n"
     ]
    }
   ],
   "source": [
    "ps_vs = pd.merge(ps,vs , on ='quant')\n",
    "print(ps_vs)"
   ]
  },
  {
   "cell_type": "code",
   "execution_count": 60,
   "id": "e5d43e80-2aa3-4b1b-804a-9f95c4b0f94e",
   "metadata": {},
   "outputs": [
    {
     "name": "stdout",
     "output_type": "stream",
     "text": [
      "ident_x            dyer\n",
      "personal        William\n",
      "family             Dyer\n",
      "taken_x             619\n",
      "person_x           dyer\n",
      "quant               rad\n",
      "reading_x          9.82\n",
      "ident_y             619\n",
      "site               DR-1\n",
      "dated        1927-02-08\n",
      "taken_y             619\n",
      "person_y           dyer\n",
      "reading_y          9.82\n",
      "Name: 0, dtype: object\n"
     ]
    }
   ],
   "source": [
    "first_row = ps_vs.iloc[0]\n",
    "print(first_row)"
   ]
  },
  {
   "cell_type": "code",
   "execution_count": null,
   "id": "49e31048-6e4a-4076-8e1e-3f89c2b8dc42",
   "metadata": {},
   "outputs": [],
   "source": []
  }
 ],
 "metadata": {
  "kernelspec": {
   "display_name": "Python [conda env:base] *",
   "language": "python",
   "name": "conda-base-py"
  },
  "language_info": {
   "codemirror_mode": {
    "name": "ipython",
    "version": 3
   },
   "file_extension": ".py",
   "mimetype": "text/x-python",
   "name": "python",
   "nbconvert_exporter": "python",
   "pygments_lexer": "ipython3",
   "version": "3.12.2"
  }
 },
 "nbformat": 4,
 "nbformat_minor": 5
}
