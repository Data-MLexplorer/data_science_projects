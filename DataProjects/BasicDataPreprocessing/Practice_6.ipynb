{
 "cells": [
  {
   "cell_type": "code",
   "execution_count": 3,
   "id": "e43b103a-e80f-4076-b846-fc5c1a00c8b1",
   "metadata": {},
   "outputs": [],
   "source": [
    "import re"
   ]
  },
  {
   "cell_type": "code",
   "execution_count": 28,
   "id": "2cc96680-6ede-4f47-a04a-26ff8c628710",
   "metadata": {},
   "outputs": [
    {
     "name": "stdout",
     "output_type": "stream",
     "text": [
      "GUARD: WHAT? THERE ARE 14 EMPLOYEES IN THE OFFICE?\n",
      " WORKER: YES! \n",
      " GUARD: BUT, IT IS GOING BEYOND THE CLOSING TIME.\n",
      " WORKER: WHAT? \n",
      " GUARD: WE NEED TO INFORM THE HEAD REPRESENTATIVES\n",
      "\n"
     ]
    }
   ],
   "source": [
    "multi_str =\"\"\"GUARD: WHAT? THERE ARE 14 EMPLOYEES IN THE OFFICE?\n",
    " WORKER: YES! \n",
    " GUARD: BUT, IT IS GOING BEYOND THE CLOSING TIME.\n",
    " WORKER: WHAT? \n",
    " GUARD: WE NEED TO INFORM THE HEAD REPRESENTATIVES\n",
    "\"\"\"\n",
    "print(multi_str)"
   ]
  },
  {
   "cell_type": "code",
   "execution_count": 7,
   "id": "6fb10942-eb55-4952-a809-54c1cd227627",
   "metadata": {},
   "outputs": [
    {
     "name": "stdout",
     "output_type": "stream",
     "text": [
      "D: WHAT\n"
     ]
    }
   ],
   "source": [
    "sliced_str = multi_str[6:13]\n",
    "print(sliced_str)"
   ]
  },
  {
   "cell_type": "code",
   "execution_count": 9,
   "id": "e92449e0-739a-40b5-a04a-179ce4e11ce1",
   "metadata": {},
   "outputs": [
    {
     "name": "stdout",
     "output_type": "stream",
     "text": [
      "INFORM THE HEAD\n"
     ]
    }
   ],
   "source": [
    "sliced_str2 = multi_str[-32:-17]  # End index is exclusive\n",
    "print(sliced_str2)"
   ]
  },
  {
   "cell_type": "code",
   "execution_count": 13,
   "id": "6be54612-407b-4ad1-b971-05fd11a23fa5",
   "metadata": {},
   "outputs": [
    {
     "name": "stdout",
     "output_type": "stream",
     "text": [
      "185\n"
     ]
    }
   ],
   "source": [
    "s_multi_str =len(multi_str)\n",
    "print(s_multi_str)"
   ]
  },
  {
   "cell_type": "code",
   "execution_count": 15,
   "id": "70c5bdbb-0cbf-4d19-b531-1f079d37a013",
   "metadata": {},
   "outputs": [
    {
     "name": "stdout",
     "output_type": "stream",
     "text": [
      "\n",
      "RHT 1PE OEO:!U  SNYTLGEO:TG:NTFTEEEI\n"
     ]
    }
   ],
   "source": [
    "sliced_str = multi_str[::5]  \n",
    "print(sliced_str)"
   ]
  },
  {
   "cell_type": "code",
   "execution_count": 17,
   "id": "239ab1b0-588d-47c8-82b7-d820ea6daf64",
   "metadata": {},
   "outputs": [
    {
     "name": "stdout",
     "output_type": "stream",
     "text": [
      "4\n"
     ]
    }
   ],
   "source": [
    "u_count = multi_str.count('U')\n",
    "print(u_count)"
   ]
  },
  {
   "cell_type": "code",
   "execution_count": 19,
   "id": "63310340-a966-48b3-a218-961dea3687bd",
   "metadata": {},
   "outputs": [
    {
     "name": "stdout",
     "output_type": "stream",
     "text": [
      "False\n"
     ]
    }
   ],
   "source": [
    "is_alpha_result = multi_str.isalpha()\n",
    "print(is_alpha_result)"
   ]
  },
  {
   "cell_type": "code",
   "execution_count": 30,
   "id": "71db3843-7fcf-4973-95ab-a39a43ddfada",
   "metadata": {},
   "outputs": [
    {
     "name": "stdout",
     "output_type": "stream",
     "text": [
      "['GUARD: WHAT? THERE ARE 14 EMPLOYEES IN THE OFFICE?', ' WORKER: YES! ', ' GUARD: BUT, IT IS GOING BEYOND THE CLOSING TIME.', ' WORKER: WHAT? ', ' GUARD: WE NEED TO INFORM THE HEAD REPRESENTATIVES']\n"
     ]
    }
   ],
   "source": [
    "multi_str_split= multi_str.splitlines()\n",
    "print(multi_str_split)"
   ]
  },
  {
   "cell_type": "code",
   "execution_count": 32,
   "id": "17011671-5f87-4537-ac67-05716206d266",
   "metadata": {},
   "outputs": [
    {
     "name": "stdout",
     "output_type": "stream",
     "text": [
      "['GUARD: WHAT? THERE ARE 14 EMPLOYEES IN THE OFFICE?', ' GUARD: BUT, IT IS GOING BEYOND THE CLOSING TIME.', ' GUARD: WE NEED TO INFORM THE HEAD REPRESENTATIVES']\n"
     ]
    }
   ],
   "source": [
    "guard = multi_str_split[::2]\n",
    "\n",
    "print(guard)"
   ]
  },
  {
   "cell_type": "code",
   "execution_count": 34,
   "id": "8d4a2db1-9781-49eb-ba6a-4393e3ce6070",
   "metadata": {},
   "outputs": [
    {
     "name": "stdout",
     "output_type": "stream",
     "text": [
      "\\W+\\S?\\W+:\\S?\n",
      "\\W+\\S?\\W+:\\S?\n"
     ]
    }
   ],
   "source": [
    "p = \"\\\\W+\\\\S?\\\\W+:\\\\S?\"\n",
    "\n",
    "\n",
    "p_raw = r\"\\W+\\S?\\W+:\\S?\"\n",
    "\n",
    "\n",
    "print(p)\n",
    "print(p_raw)"
   ]
  },
  {
   "cell_type": "code",
   "execution_count": 36,
   "id": "ced68484-5f15-4005-88c0-f319a8cfe13d",
   "metadata": {},
   "outputs": [
    {
     "name": "stdout",
     "output_type": "stream",
     "text": [
      "GUARD: WHAT? THERE ARE 14 EMPLOYEES IN THE OFFICE?\n",
      " WORKER: YES! \n",
      " GUARD: BUT, IT IS GOING BEYOND THE CLOSING TIME.\n",
      " WORKER: WHAT? \n",
      " GUARD: WE NEED TO INFORM THE HEAD REPRESENTATIVES\n",
      "\n"
     ]
    }
   ],
   "source": [
    "import re\n",
    "\n",
    "# Defining the regular expression pattern\n",
    "p = r\"\\W+\\S?\\W+:\\S?\"  # Ensure this pattern correctly matches intended text\n",
    "\n",
    "\n",
    "# Performing the substitution\n",
    "s = re.sub(p, ' ', multi_str)\n",
    "\n",
    "# Print the modified string\n",
    "print(s)"
   ]
  },
  {
   "cell_type": "code",
   "execution_count": 40,
   "id": "645976ca-11a1-4afc-8ed7-8db125655322",
   "metadata": {},
   "outputs": [
    {
     "name": "stdout",
     "output_type": "stream",
     "text": [
      "Numbers found in the string: ['14']\n"
     ]
    }
   ],
   "source": [
    "pattern = r\"\\d+\"\n",
    "\n",
    "matches = re.findall(pattern, multi_str)\n",
    "\n",
    "if matches:\n",
    "    print(f\"Numbers found in the string: {matches}\")\n",
    "else:\n",
    "    print(\"No numbers were found in the string.\")"
   ]
  },
  {
   "cell_type": "code",
   "execution_count": 42,
   "id": "b93abf59-411d-42b8-8e77-fe2002c302c5",
   "metadata": {},
   "outputs": [],
   "source": [
    "import pandas as pd"
   ]
  },
  {
   "cell_type": "code",
   "execution_count": 50,
   "id": "5821655c-2a23-4ddc-b41a-5590b61071a5",
   "metadata": {},
   "outputs": [
    {
     "name": "stdout",
     "output_type": "stream",
     "text": [
      "           Date        Open        High         Low       Close   Adj Close  \\\n",
      "0    2010-06-29   19.000000   25.000000   17.540001   23.889999   23.889999   \n",
      "1    2010-06-30   25.790001   30.420000   23.299999   23.830000   23.830000   \n",
      "2    2010-07-01   25.000000   25.920000   20.270000   21.959999   21.959999   \n",
      "3    2010-07-02   23.000000   23.100000   18.709999   19.200001   19.200001   \n",
      "4    2010-07-06   20.000000   20.000000   15.830000   16.110001   16.110001   \n",
      "...         ...         ...         ...         ...         ...         ...   \n",
      "1786 2017-08-02  318.940002  327.119995  311.220001  325.890015  325.890015   \n",
      "1787 2017-08-03  345.329987  350.000000  343.149994  347.089996  347.089996   \n",
      "1788 2017-08-04  347.000000  357.269989  343.299988  356.910004  356.910004   \n",
      "1789 2017-08-07  357.350006  359.480011  352.750000  355.170013  355.170013   \n",
      "1790 2017-08-08  357.529999  368.579987  357.399994  365.220001  365.220001   \n",
      "\n",
      "        Volume  \n",
      "0     18766300  \n",
      "1     17187100  \n",
      "2      8218800  \n",
      "3      5139800  \n",
      "4      6866900  \n",
      "...        ...  \n",
      "1786  13091500  \n",
      "1787  13535000  \n",
      "1788   9198400  \n",
      "1789   6276900  \n",
      "1790   7449837  \n",
      "\n",
      "[1791 rows x 7 columns]\n",
      "\n",
      "Dataset Information:\n",
      "<class 'pandas.core.frame.DataFrame'>\n",
      "RangeIndex: 1791 entries, 0 to 1790\n",
      "Data columns (total 7 columns):\n",
      " #   Column     Non-Null Count  Dtype         \n",
      "---  ------     --------------  -----         \n",
      " 0   Date       1791 non-null   datetime64[ns]\n",
      " 1   Open       1791 non-null   float64       \n",
      " 2   High       1791 non-null   float64       \n",
      " 3   Low        1791 non-null   float64       \n",
      " 4   Close      1791 non-null   float64       \n",
      " 5   Adj Close  1791 non-null   float64       \n",
      " 6   Volume     1791 non-null   int64         \n",
      "dtypes: datetime64[ns](1), float64(5), int64(1)\n",
      "memory usage: 98.1 KB\n",
      "None\n",
      "\n",
      "Date Column Data Type:\n",
      "datetime64[ns]\n"
     ]
    }
   ],
   "source": [
    "tesla = pd.read_csv('tesla_stock_yahoo.csv', parse_dates=['Date'])\n",
    "\n",
    "print(tesla)\n",
    "\n",
    "\n",
    "print(\"\\nDataset Information:\")\n",
    "print(tesla.info())\n",
    "\n",
    "print(\"\\nDate Column Data Type:\")\n",
    "print(tesla['Date'].dtype)"
   ]
  },
  {
   "cell_type": "code",
   "execution_count": 52,
   "id": "53625bd4-d513-481b-a189-b26cc3753cb2",
   "metadata": {},
   "outputs": [
    {
     "name": "stdout",
     "output_type": "stream",
     "text": [
      "Rows for June 2010:\n",
      "        Date       Open   High        Low      Close  Adj Close    Volume\n",
      "0 2010-06-29  19.000000  25.00  17.540001  23.889999  23.889999  18766300\n",
      "1 2010-06-30  25.790001  30.42  23.299999  23.830000  23.830000  17187100\n",
      "\n",
      "Number of rows in June 2010: 2\n",
      "\n",
      "Unique years and months in the filtered data:\n",
      "<PeriodArray>\n",
      "['2010-06']\n",
      "Length: 1, dtype: period[M]\n"
     ]
    }
   ],
   "source": [
    "filtered_tesla = tesla[(tesla['Date'].dt.year == 2010) & (tesla['Date'].dt.month == 6)]\n",
    "\n",
    "\n",
    "print(\"Rows for June 2010:\")\n",
    "print(filtered_tesla)\n",
    "\n",
    "print(\"\\nNumber of rows in June 2010:\", len(filtered_tesla))\n",
    "print(\"\\nUnique years and months in the filtered data:\")\n",
    "print(filtered_tesla['Date'].dt.to_period('M').unique())"
   ]
  },
  {
   "cell_type": "code",
   "execution_count": 54,
   "id": "5a8339ac-4f28-4eb5-a70c-5dfc247e4431",
   "metadata": {},
   "outputs": [
    {
     "name": "stdout",
     "output_type": "stream",
     "text": [
      "Tesla DataFrame with Date as Index:\n",
      "                  Open        High         Low       Close   Adj Close  \\\n",
      "Date                                                                     \n",
      "2010-06-29   19.000000   25.000000   17.540001   23.889999   23.889999   \n",
      "2010-06-30   25.790001   30.420000   23.299999   23.830000   23.830000   \n",
      "2010-07-01   25.000000   25.920000   20.270000   21.959999   21.959999   \n",
      "2010-07-02   23.000000   23.100000   18.709999   19.200001   19.200001   \n",
      "2010-07-06   20.000000   20.000000   15.830000   16.110001   16.110001   \n",
      "...                ...         ...         ...         ...         ...   \n",
      "2017-08-02  318.940002  327.119995  311.220001  325.890015  325.890015   \n",
      "2017-08-03  345.329987  350.000000  343.149994  347.089996  347.089996   \n",
      "2017-08-04  347.000000  357.269989  343.299988  356.910004  356.910004   \n",
      "2017-08-07  357.350006  359.480011  352.750000  355.170013  355.170013   \n",
      "2017-08-08  357.529999  368.579987  357.399994  365.220001  365.220001   \n",
      "\n",
      "              Volume  \n",
      "Date                  \n",
      "2010-06-29  18766300  \n",
      "2010-06-30  17187100  \n",
      "2010-07-01   8218800  \n",
      "2010-07-02   5139800  \n",
      "2010-07-06   6866900  \n",
      "...              ...  \n",
      "2017-08-02  13091500  \n",
      "2017-08-03  13535000  \n",
      "2017-08-04   9198400  \n",
      "2017-08-07   6276900  \n",
      "2017-08-08   7449837  \n",
      "\n",
      "[1791 rows x 6 columns]\n"
     ]
    }
   ],
   "source": [
    "tesla.set_index('Date', inplace=True)\n",
    "print(\"Tesla DataFrame with Date as Index:\")\n",
    "print(tesla)"
   ]
  },
  {
   "cell_type": "code",
   "execution_count": 56,
   "id": "d01d026d-2c51-48ba-8fab-1a6341402daa",
   "metadata": {},
   "outputs": [
    {
     "name": "stdout",
     "output_type": "stream",
     "text": [
      "Tesla Stock Data for 2015:\n",
      "                  Open        High         Low       Close   Adj Close  \\\n",
      "Date                                                                     \n",
      "2015-01-02  222.869995  223.250000  213.259995  219.309998  219.309998   \n",
      "2015-01-05  214.550003  216.500000  207.160004  210.089996  210.089996   \n",
      "2015-01-06  210.059998  214.199997  204.210007  211.279999  211.279999   \n",
      "2015-01-07  213.350006  214.779999  209.779999  210.949997  210.949997   \n",
      "2015-01-08  212.809998  213.800003  210.009995  210.619995  210.619995   \n",
      "...                ...         ...         ...         ...         ...   \n",
      "2015-12-24  230.559998  231.880005  228.279999  230.570007  230.570007   \n",
      "2015-12-28  231.490005  231.979996  225.539993  228.949997  228.949997   \n",
      "2015-12-29  230.059998  237.720001  229.550003  237.190002  237.190002   \n",
      "2015-12-30  236.600006  243.630005  235.669998  238.089996  238.089996   \n",
      "2015-12-31  238.509995  243.449997  238.369995  240.009995  240.009995   \n",
      "\n",
      "             Volume  \n",
      "Date                 \n",
      "2015-01-02  4764400  \n",
      "2015-01-05  5368500  \n",
      "2015-01-06  6261900  \n",
      "2015-01-07  2968400  \n",
      "2015-01-08  3442500  \n",
      "...             ...  \n",
      "2015-12-24   708000  \n",
      "2015-12-28  1901300  \n",
      "2015-12-29  2406300  \n",
      "2015-12-30  3697900  \n",
      "2015-12-31  2683200  \n",
      "\n",
      "[252 rows x 6 columns]\n",
      "\n",
      "Number of rows in 2015: 252\n",
      "\n",
      "First and last dates in the filtered data:\n",
      "First date: 2015-01-02 00:00:00\n",
      "Last date: 2015-12-31 00:00:00\n",
      "\n",
      "Unique years in the filtered data:\n",
      "Index([2015], dtype='int32', name='Date')\n"
     ]
    }
   ],
   "source": [
    "tesla_2015 = tesla.loc['2015']\n",
    "\n",
    "# Display the filtered dataset\n",
    "print(\"Tesla Stock Data for 2015:\")\n",
    "print(tesla_2015)\n",
    "\n",
    "# Verification steps\n",
    "print(\"\\nNumber of rows in 2015:\", len(tesla_2015))\n",
    "print(\"\\nFirst and last dates in the filtered data:\")\n",
    "print(\"First date:\", tesla_2015.index[0])\n",
    "print(\"Last date:\", tesla_2015.index[-1])\n",
    "\n",
    "# Additional verification of year\n",
    "print(\"\\nUnique years in the filtered data:\")\n",
    "print(tesla_2015.index.year.unique())"
   ]
  },
  {
   "cell_type": "code",
   "execution_count": 60,
   "id": "4b0bdbb4-2f96-4963-b8ca-a9e7d31527ef",
   "metadata": {},
   "outputs": [
    {
     "name": "stdout",
     "output_type": "stream",
     "text": [
      "Tesla Stock Data for June 2010:\n",
      "                 Open   High        Low      Close  Adj Close    Volume\n",
      "Date                                                                   \n",
      "2010-06-29  19.000000  25.00  17.540001  23.889999  23.889999  18766300\n",
      "2010-06-30  25.790001  30.42  23.299999  23.830000  23.830000  17187100\n",
      "\n",
      "Number of rows in June 2010: 2\n"
     ]
    }
   ],
   "source": [
    "tesla_june_2010 = tesla.loc['2010-06']\n",
    "\n",
    "# Display the filtered dataset\n",
    "print(\"Tesla Stock Data for June 2010:\")\n",
    "print(tesla_june_2010)\n",
    "\n",
    "print(\"\\nNumber of rows in June 2010:\", len(tesla_june_2010))"
   ]
  },
  {
   "cell_type": "code",
   "execution_count": null,
   "id": "e4e06ddb-c603-4e95-9be4-c5ed2f9cab18",
   "metadata": {},
   "outputs": [],
   "source": []
  }
 ],
 "metadata": {
  "kernelspec": {
   "display_name": "Python [conda env:venv]",
   "language": "python",
   "name": "conda-env-venv-py"
  },
  "language_info": {
   "codemirror_mode": {
    "name": "ipython",
    "version": 3
   },
   "file_extension": ".py",
   "mimetype": "text/x-python",
   "name": "python",
   "nbconvert_exporter": "python",
   "pygments_lexer": "ipython3",
   "version": "3.12.0"
  }
 },
 "nbformat": 4,
 "nbformat_minor": 5
}
