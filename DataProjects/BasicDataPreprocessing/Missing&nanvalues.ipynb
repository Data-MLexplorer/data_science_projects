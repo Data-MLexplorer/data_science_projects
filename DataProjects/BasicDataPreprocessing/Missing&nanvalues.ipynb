{
 "cells": [
  {
   "cell_type": "code",
   "execution_count": null,
   "id": "a436230b-d79f-4749-92ac-8dc5fb88534b",
   "metadata": {},
   "outputs": [],
   "source": [
    "# NA_Values , Keep_default_Na , Na_filter"
   ]
  },
  {
   "cell_type": "code",
   "execution_count": 2,
   "id": "40dd934e-edb4-428f-a531-49a1477873c1",
   "metadata": {},
   "outputs": [
    {
     "name": "stdout",
     "output_type": "stream",
     "text": [
      "   ident   site       dated\n",
      "0    619   DR-1  1927-02-08\n",
      "1    622   DR-1  1927-02-10\n",
      "2    734   DR-3  1939-01-07\n",
      "3    735   DR-3  1930-01-12\n",
      "4    751   DR-3  1930-02-26\n",
      "5    752   DR-3         NaN\n",
      "6    837  MSK-4  1932-01-14\n",
      "7    844   DR-1  1932-03-22\n"
     ]
    }
   ],
   "source": [
    "import pandas as pd \n",
    "visited_file = pd.read_csv('survey_visited.csv')\n",
    "print(visited_file)"
   ]
  },
  {
   "cell_type": "code",
   "execution_count": 4,
   "id": "d95e3018-a071-4999-bb52-b04b3cd59147",
   "metadata": {},
   "outputs": [
    {
     "name": "stdout",
     "output_type": "stream",
     "text": [
      "   ident   site       dated\n",
      "0    619   DR-1  1927-02-08\n",
      "1    622   DR-1  1927-02-10\n",
      "2    734   DR-3  1939-01-07\n",
      "3    735   DR-3  1930-01-12\n",
      "4    751   DR-3  1930-02-26\n",
      "5    752   DR-3            \n",
      "6    837  MSK-4  1932-01-14\n",
      "7    844   DR-1  1932-03-22\n"
     ]
    }
   ],
   "source": [
    "visited_file = pd.read_csv('survey_visited.csv',keep_default_na=False)\n",
    "print(visited_file)"
   ]
  },
  {
   "cell_type": "code",
   "execution_count": 8,
   "id": "46f3ece7-10dd-41c9-85b6-366ba1a8fb1f",
   "metadata": {},
   "outputs": [
    {
     "name": "stdout",
     "output_type": "stream",
     "text": [
      "   ident   site       dated\n",
      "0    619   DR-1  1927-02-08\n",
      "1    622   DR-1  1927-02-10\n",
      "2    734   DR-3  1939-01-07\n",
      "3    735   DR-3  1930-01-12\n",
      "4    751   DR-3  1930-02-26\n",
      "5    752   DR-3            \n",
      "6    837  MSK-4  1932-01-14\n",
      "7    844   DR-1  1932-03-22\n"
     ]
    }
   ],
   "source": [
    "visited_file = pd.read_csv('survey_visited.csv',na_values=[\" \"], keep_default_na=False)\n",
    "print(visited_file)"
   ]
  },
  {
   "cell_type": "code",
   "execution_count": 14,
   "id": "c9164a15-3794-4a77-b0eb-07e6bb5edd91",
   "metadata": {},
   "outputs": [
    {
     "name": "stdout",
     "output_type": "stream",
     "text": [
      "goat      4.0\n",
      "amoeba    NaN\n",
      "dtype: float64\n"
     ]
    }
   ],
   "source": [
    "from numpy import NaN,NAN,nan\n",
    "num_legs = pd.Series({'goat':4,'amoeba':NaN})\n",
    "print(num_legs)"
   ]
  },
  {
   "cell_type": "code",
   "execution_count": 17,
   "id": "2c6cef1a-abc5-47c9-8a96-5334fc803658",
   "metadata": {},
   "outputs": [
    {
     "name": "stdout",
     "output_type": "stream",
     "text": [
      "        Name    Occupation        Born        Died missing\n",
      "0   Sheldon       Physcist  1920-07-25  1958-04-16     NaN\n",
      "1  William G  Statistician  1876-06-13  1937-10-16     nan\n"
     ]
    }
   ],
   "source": [
    "scientists=pd.DataFrame({\n",
    "  \"Name\":[\"Sheldon \",\"William G\"],\n",
    "  \"Occupation\" : [\"Physcist\",\"Statistician\"],\n",
    "  \"Born\":[\"1920-07-25\",\"1876-06-13\"],\n",
    "  \"Died\":[\"1958-04-16\",\"1937-10-16\"],\n",
    "  \"missing\":[\"NaN\",\"nan\"]\n",
    "  }\n",
    ")\n",
    "print(scientists)"
   ]
  },
  {
   "cell_type": "code",
   "execution_count": 35,
   "id": "fcc5c9ea-3f6f-4fb3-9e43-c92fb4603bc3",
   "metadata": {},
   "outputs": [
    {
     "name": "stdout",
     "output_type": "stream",
     "text": [
      "object\n"
     ]
    }
   ],
   "source": [
    "print(scientists[\"Born\"].dtype)"
   ]
  },
  {
   "cell_type": "code",
   "execution_count": 31,
   "id": "d07d92e5-52ca-4dcd-a550-ab4f8806bd8d",
   "metadata": {},
   "outputs": [
    {
     "name": "stdout",
     "output_type": "stream",
     "text": [
      "        Name    Occupation        Born        Died  missing\n",
      "0   Sheldon       Physcist  1920-07-25  1958-04-16      NaN\n",
      "1  William G  Statistician  1876-06-13  1937-10-16      NaN\n"
     ]
    }
   ],
   "source": [
    "scientists[\"missing\"]= nan\n",
    "print(scientists)\n"
   ]
  },
  {
   "cell_type": "code",
   "execution_count": 37,
   "id": "6a835f95-807c-4470-96a2-4eb6e3ec1568",
   "metadata": {},
   "outputs": [
    {
     "name": "stdout",
     "output_type": "stream",
     "text": [
      "object\n"
     ]
    }
   ],
   "source": [
    "print(scientists[\"missing\"].dtype)"
   ]
  },
  {
   "cell_type": "code",
   "execution_count": 40,
   "id": "25d05656-ffce-4169-9900-67d2ddafdeb1",
   "metadata": {},
   "outputs": [
    {
     "name": "stdout",
     "output_type": "stream",
     "text": [
      "year\n",
      "1952    49.057620\n",
      "1957    51.507401\n",
      "1962    53.609249\n",
      "1967    55.678290\n",
      "1972    57.647386\n",
      "1977    59.570157\n",
      "1982    61.533197\n",
      "1987    63.212613\n",
      "1992    64.160338\n",
      "1997    65.014676\n",
      "2002    65.694923\n",
      "2007    67.007423\n",
      "Name: lifeExp, dtype: float64\n"
     ]
    }
   ],
   "source": [
    "gapminder = pd.read_csv('gapminder.tsv' , sep='\\t')\n",
    "life_exp = gapminder.groupby(['year'])['lifeExp'].mean()\n",
    "print(life_exp)"
   ]
  },
  {
   "cell_type": "code",
   "execution_count": 42,
   "id": "9d0df5fd-cd17-4b82-9430-5e7aac21b061",
   "metadata": {},
   "outputs": [
    {
     "name": "stdout",
     "output_type": "stream",
     "text": [
      "year\n",
      "2002    65.694923\n",
      "2007    67.007423\n",
      "Name: lifeExp, dtype: float64\n"
     ]
    }
   ],
   "source": [
    "y2000 = life_exp[life_exp.index>2000]\n",
    "print(y2000)"
   ]
  },
  {
   "cell_type": "code",
   "execution_count": 44,
   "id": "a8db0dac-9fab-48ea-9da0-f61aaabfacb1",
   "metadata": {},
   "outputs": [
    {
     "name": "stdout",
     "output_type": "stream",
     "text": [
      "year\n",
      "2000          NaN\n",
      "2001          NaN\n",
      "2002    65.694923\n",
      "2003          NaN\n",
      "2004          NaN\n",
      "2005          NaN\n",
      "2006          NaN\n",
      "2007    67.007423\n",
      "2008          NaN\n",
      "2009          NaN\n",
      "Name: lifeExp, dtype: float64\n"
     ]
    }
   ],
   "source": [
    "print(y2000.reindex(range(2000,2010)))"
   ]
  },
  {
   "cell_type": "code",
   "execution_count": 46,
   "id": "3c9901d7-1d5f-48c3-b63d-60aed4bc4a7d",
   "metadata": {},
   "outputs": [
    {
     "name": "stdout",
     "output_type": "stream",
     "text": [
      "Date                   122\n",
      "Day                    122\n",
      "Cases_Guinea            93\n",
      "Cases_Liberia           83\n",
      "Cases_SierraLeone       87\n",
      "Cases_Nigeria           38\n",
      "Cases_Senegal           25\n",
      "Cases_UnitedStates      18\n",
      "Cases_Spain             16\n",
      "Cases_Mali              12\n",
      "Deaths_Guinea           92\n",
      "Deaths_Liberia          81\n",
      "Deaths_SierraLeone      87\n",
      "Deaths_Nigeria          38\n",
      "Deaths_Senegal          22\n",
      "Deaths_UnitedStates     18\n",
      "Deaths_Spain            16\n",
      "Deaths_Mali             12\n",
      "dtype: int64\n"
     ]
    }
   ],
   "source": [
    "ebola= pd.read_csv('country_timeseries.csv')\n",
    "print(ebola.count())"
   ]
  },
  {
   "cell_type": "code",
   "execution_count": 48,
   "id": "7da31dd5-6959-4453-8956-62d35d34d92d",
   "metadata": {},
   "outputs": [
    {
     "name": "stdout",
     "output_type": "stream",
     "text": [
      "Date                     0\n",
      "Day                      0\n",
      "Cases_Guinea            29\n",
      "Cases_Liberia           39\n",
      "Cases_SierraLeone       35\n",
      "Cases_Nigeria           84\n",
      "Cases_Senegal           97\n",
      "Cases_UnitedStates     104\n",
      "Cases_Spain            106\n",
      "Cases_Mali             110\n",
      "Deaths_Guinea           30\n",
      "Deaths_Liberia          41\n",
      "Deaths_SierraLeone      35\n",
      "Deaths_Nigeria          84\n",
      "Deaths_Senegal         100\n",
      "Deaths_UnitedStates    104\n",
      "Deaths_Spain           106\n",
      "Deaths_Mali            110\n",
      "dtype: int64\n"
     ]
    }
   ],
   "source": [
    "num_rows = ebola.shape[0]\n",
    "num_missing = num_rows-ebola.count()\n",
    "print(num_missing)"
   ]
  },
  {
   "cell_type": "code",
   "execution_count": 50,
   "id": "5dd4d384-6ea8-46b0-9283-323f62047213",
   "metadata": {},
   "outputs": [
    {
     "name": "stdout",
     "output_type": "stream",
     "text": [
      "122\n"
     ]
    }
   ],
   "source": [
    "num_rows = ebola.shape[0]\n",
    "print(num_rows)"
   ]
  },
  {
   "cell_type": "code",
   "execution_count": 58,
   "id": "2f946da5-da79-402a-8f4d-1aae8434d7a6",
   "metadata": {},
   "outputs": [
    {
     "name": "stdout",
     "output_type": "stream",
     "text": [
      "1214\n",
      "29\n"
     ]
    }
   ],
   "source": [
    "import numpy as np\n",
    "\n",
    "print(np.count_nonzero(ebola.isnull()))\n",
    "print(np.count_nonzero(ebola['Cases_Guinea'].isnull()))\n",
    "\n",
    "      "
   ]
  },
  {
   "cell_type": "code",
   "execution_count": 68,
   "id": "65ca8f6d-004c-4ec1-b987-5de8c7f4f127",
   "metadata": {},
   "outputs": [
    {
     "name": "stdout",
     "output_type": "stream",
     "text": [
      "Cases_Guinea\n",
      "NaN       29\n",
      "86.0       3\n",
      "495.0      2\n",
      "112.0      2\n",
      "390.0      2\n",
      "          ..\n",
      "1199.0     1\n",
      "1298.0     1\n",
      "1350.0     1\n",
      "1472.0     1\n",
      "49.0       1\n",
      "Name: count, Length: 89, dtype: int64\n"
     ]
    }
   ],
   "source": [
    "cnts = ebola.Cases_Guinea.value_counts(dropna=False)\n",
    "print(cnts)"
   ]
  },
  {
   "cell_type": "code",
   "execution_count": null,
   "id": "37fb4e04-9385-4d34-b001-068324bf959f",
   "metadata": {},
   "outputs": [],
   "source": [
    "#value_counts = method on series,this will print frequency table of values.\n",
    "#DropNa - > "
   ]
  },
  {
   "cell_type": "code",
   "execution_count": 62,
   "id": "82581d54-b453-4420-a314-622924f096b7",
   "metadata": {},
   "outputs": [
    {
     "name": "stdout",
     "output_type": "stream",
     "text": [
      "Cases_Guinea\n",
      "NaN    29\n",
      "Name: count, dtype: int64\n"
     ]
    }
   ],
   "source": [
    "print(cnts.loc[pd.isnull(cnts.index)])\n"
   ]
  },
  {
   "cell_type": "code",
   "execution_count": 64,
   "id": "d7aff21c-3583-467d-b0cc-911489e09887",
   "metadata": {},
   "outputs": [
    {
     "name": "stdout",
     "output_type": "stream",
     "text": [
      "29\n"
     ]
    }
   ],
   "source": [
    "print(ebola.Cases_Guinea.isnull().sum())"
   ]
  },
  {
   "cell_type": "code",
   "execution_count": 80,
   "id": "6bc8e2be-1d8c-44f5-b84e-0d9d5e433d15",
   "metadata": {},
   "outputs": [
    {
     "name": "stdout",
     "output_type": "stream",
     "text": [
      "           Date  Day  Cases_Guinea  Cases_Liberia  Cases_SierraLeone\n",
      "0      1/5/2015  289        2776.0            0.0            10030.0\n",
      "1      1/4/2015  288        2775.0            0.0             9780.0\n",
      "2      1/3/2015  287        2769.0         8166.0             9722.0\n",
      "3      1/2/2015  286           0.0         8157.0                0.0\n",
      "4    12/31/2014  284        2730.0         8115.0             9633.0\n",
      "..          ...  ...           ...            ...                ...\n",
      "117   3/27/2014    5         103.0            8.0                6.0\n",
      "118   3/26/2014    4          86.0            0.0                0.0\n",
      "119   3/25/2014    3          86.0            0.0                0.0\n",
      "120   3/24/2014    2          86.0            0.0                0.0\n",
      "121   3/22/2014    0          49.0            0.0                0.0\n",
      "\n",
      "[122 rows x 5 columns]\n"
     ]
    }
   ],
   "source": [
    "#fill the missing values to 0 and only in 1st 5 columns\n",
    "print(ebola.fillna(0).iloc[:,0:5])"
   ]
  },
  {
   "cell_type": "code",
   "execution_count": 78,
   "id": "e26decc9-373d-4ab4-9859-7ce9513b94ec",
   "metadata": {},
   "outputs": [
    {
     "name": "stdout",
     "output_type": "stream",
     "text": [
      "Cases_Guinea\n",
      "NaN    29\n",
      "Name: count, dtype: int64\n"
     ]
    }
   ],
   "source": [
    "print(cnts.loc[pd.isnull(cnts.index)])"
   ]
  },
  {
   "cell_type": "code",
   "execution_count": 84,
   "id": "e3e793ce-584e-409b-98f2-34ff9368048d",
   "metadata": {},
   "outputs": [
    {
     "name": "stdout",
     "output_type": "stream",
     "text": [
      "           Date  Day  Cases_Guinea  Cases_Liberia  Cases_SierraLeone\n",
      "0      1/5/2015  289        2776.0            NaN            10030.0\n",
      "1      1/4/2015  288        2775.0            NaN             9780.0\n",
      "2      1/3/2015  287        2769.0         8166.0             9722.0\n",
      "3      1/2/2015  286        2769.0         8157.0             9722.0\n",
      "4    12/31/2014  284        2730.0         8115.0             9633.0\n",
      "..          ...  ...           ...            ...                ...\n",
      "117   3/27/2014    5         103.0            8.0                6.0\n",
      "118   3/26/2014    4          86.0            8.0                6.0\n",
      "119   3/25/2014    3          86.0            8.0                6.0\n",
      "120   3/24/2014    2          86.0            8.0                6.0\n",
      "121   3/22/2014    0          49.0            8.0                6.0\n",
      "\n",
      "[122 rows x 5 columns]\n"
     ]
    },
    {
     "name": "stderr",
     "output_type": "stream",
     "text": [
      "/var/folders/jd/746wbsm133x23cvkw2qlxzmh0000gp/T/ipykernel_3953/4259214598.py:1: FutureWarning: DataFrame.fillna with 'method' is deprecated and will raise in a future version. Use obj.ffill() or obj.bfill() instead.\n",
      "  print(ebola.fillna(method='ffill').iloc[:,0:5])\n"
     ]
    }
   ],
   "source": [
    "print(ebola.fillna(method='ffill').iloc[:,0:5])"
   ]
  },
  {
   "cell_type": "code",
   "execution_count": 88,
   "id": "d6155922-911d-4d2e-abfc-665e17b41409",
   "metadata": {},
   "outputs": [
    {
     "name": "stdout",
     "output_type": "stream",
     "text": [
      "           Date  Day  Cases_Guinea  Cases_Liberia  Cases_SierraLeone\n",
      "0      1/5/2015  289        2776.0            NaN            10030.0\n",
      "1      1/4/2015  288        2775.0            NaN             9780.0\n",
      "2      1/3/2015  287        2769.0         8166.0             9722.0\n",
      "3      1/2/2015  286        2769.0         8157.0             9722.0\n",
      "4    12/31/2014  284        2730.0         8115.0             9633.0\n",
      "..          ...  ...           ...            ...                ...\n",
      "117   3/27/2014    5         103.0            8.0                6.0\n",
      "118   3/26/2014    4          86.0            8.0                6.0\n",
      "119   3/25/2014    3          86.0            8.0                6.0\n",
      "120   3/24/2014    2          86.0            8.0                6.0\n",
      "121   3/22/2014    0          49.0            8.0                6.0\n",
      "\n",
      "[122 rows x 5 columns]\n"
     ]
    }
   ],
   "source": [
    "print(ebola.fillna(ebola.ffill()).iloc[:,0:5])"
   ]
  },
  {
   "cell_type": "code",
   "execution_count": 90,
   "id": "581ca217-b884-4f81-baad-c81a3a099916",
   "metadata": {},
   "outputs": [
    {
     "name": "stdout",
     "output_type": "stream",
     "text": [
      "           Date  Day  Cases_Guinea  Cases_Liberia  Cases_SierraLeone\n",
      "0      1/5/2015  289        2776.0         8166.0            10030.0\n",
      "1      1/4/2015  288        2775.0         8166.0             9780.0\n",
      "2      1/3/2015  287        2769.0         8166.0             9722.0\n",
      "3      1/2/2015  286        2730.0         8157.0             9633.0\n",
      "4    12/31/2014  284        2730.0         8115.0             9633.0\n",
      "..          ...  ...           ...            ...                ...\n",
      "117   3/27/2014    5         103.0            8.0                6.0\n",
      "118   3/26/2014    4          86.0            NaN                NaN\n",
      "119   3/25/2014    3          86.0            NaN                NaN\n",
      "120   3/24/2014    2          86.0            NaN                NaN\n",
      "121   3/22/2014    0          49.0            NaN                NaN\n",
      "\n",
      "[122 rows x 5 columns]\n"
     ]
    }
   ],
   "source": [
    "print(ebola.fillna(ebola.bfill()).iloc[:,0:5])"
   ]
  },
  {
   "cell_type": "code",
   "execution_count": 92,
   "id": "1f2e7797-f854-412b-9796-e64f1133c7e9",
   "metadata": {},
   "outputs": [
    {
     "name": "stdout",
     "output_type": "stream",
     "text": [
      "           Date  Day  Cases_Guinea  Cases_Liberia  Cases_SierraLeone\n",
      "0      1/5/2015  289        2776.0            NaN            10030.0\n",
      "1      1/4/2015  288        2775.0            NaN             9780.0\n",
      "2      1/3/2015  287        2769.0         8166.0             9722.0\n",
      "3      1/2/2015  286        2749.5         8157.0             9677.5\n",
      "4    12/31/2014  284        2730.0         8115.0             9633.0\n",
      "..          ...  ...           ...            ...                ...\n",
      "117   3/27/2014    5         103.0            8.0                6.0\n",
      "118   3/26/2014    4          86.0            8.0                6.0\n",
      "119   3/25/2014    3          86.0            8.0                6.0\n",
      "120   3/24/2014    2          86.0            8.0                6.0\n",
      "121   3/22/2014    0          49.0            8.0                6.0\n",
      "\n",
      "[122 rows x 5 columns]\n"
     ]
    },
    {
     "name": "stderr",
     "output_type": "stream",
     "text": [
      "/var/folders/jd/746wbsm133x23cvkw2qlxzmh0000gp/T/ipykernel_3953/3544378213.py:3: FutureWarning: DataFrame.interpolate with object dtype is deprecated and will raise in a future version. Call obj.infer_objects(copy=False) before interpolating instead.\n",
      "  print(ebola.interpolate().iloc[:,0:5])\n"
     ]
    }
   ],
   "source": [
    "#Interpolation -uses existing values to fill in missing values Linearly \n",
    "\n",
    "print(ebola.interpolate().iloc[:,0:5])\n",
    "\n"
   ]
  },
  {
   "cell_type": "code",
   "execution_count": 94,
   "id": "b4ce0976-a197-4020-90a4-a3f08f617147",
   "metadata": {},
   "outputs": [
    {
     "name": "stdout",
     "output_type": "stream",
     "text": [
      "           Date  Day  Cases_Guinea  Cases_Liberia  Cases_SierraLeone\n",
      "0      1/5/2015  289        2776.0            NaN            10030.0\n",
      "1      1/4/2015  288        2775.0            NaN             9780.0\n",
      "2      1/3/2015  287        2769.0         8166.0             9722.0\n",
      "3      1/2/2015  286           NaN         8157.0                NaN\n",
      "4    12/31/2014  284        2730.0         8115.0             9633.0\n",
      "..          ...  ...           ...            ...                ...\n",
      "117   3/27/2014    5         103.0            8.0                6.0\n",
      "118   3/26/2014    4          86.0            NaN                NaN\n",
      "119   3/25/2014    3          86.0            NaN                NaN\n",
      "120   3/24/2014    2          86.0            NaN                NaN\n",
      "121   3/22/2014    0          49.0            NaN                NaN\n",
      "\n",
      "[122 rows x 5 columns]\n"
     ]
    }
   ],
   "source": [
    "print(ebola.infer_objects().iloc[:,0:5])"
   ]
  },
  {
   "cell_type": "code",
   "execution_count": 96,
   "id": "5b76a6e5-9a29-4469-b5a5-d3e8ee4491b9",
   "metadata": {},
   "outputs": [
    {
     "name": "stdout",
     "output_type": "stream",
     "text": [
      "          Date  Day  Cases_Guinea  Cases_Liberia  Cases_SierraLeone  \\\n",
      "19  11/18/2014  241        2047.0         7082.0             6190.0   \n",
      "\n",
      "    Cases_Nigeria  Cases_Senegal  Cases_UnitedStates  Cases_Spain  Cases_Mali  \\\n",
      "19           20.0            1.0                 4.0          1.0         6.0   \n",
      "\n",
      "    Deaths_Guinea  Deaths_Liberia  Deaths_SierraLeone  Deaths_Nigeria  \\\n",
      "19         1214.0          2963.0              1267.0             8.0   \n",
      "\n",
      "    Deaths_Senegal  Deaths_UnitedStates  Deaths_Spain  Deaths_Mali  \n",
      "19             0.0                  1.0           0.0          6.0  \n",
      "(1, 18)\n"
     ]
    }
   ],
   "source": [
    "#Drop Na , How parameter and Thresh Parameter\n",
    "\n",
    "ebola_dropna=ebola.dropna()\n",
    "print(ebola_dropna)\n",
    "print(ebola_dropna.shape)"
   ]
  },
  {
   "cell_type": "code",
   "execution_count": 100,
   "id": "84e71e8f-ae97-4246-b2ff-952ca2118592",
   "metadata": {},
   "outputs": [
    {
     "name": "stdout",
     "output_type": "stream",
     "text": [
      "   Cases_Guinea  Cases_Liberia  Cases_SierraLeone  Cases_multiple\n",
      "0        2776.0            NaN            10030.0             NaN\n",
      "1        2775.0            NaN             9780.0             NaN\n",
      "2        2769.0         8166.0             9722.0         20657.0\n",
      "3           NaN         8157.0                NaN             NaN\n",
      "4        2730.0         8115.0             9633.0         20478.0\n",
      "5        2706.0         8018.0             9446.0         20170.0\n",
      "6        2695.0            NaN             9409.0             NaN\n",
      "7        2630.0         7977.0             9203.0         19810.0\n",
      "8        2597.0            NaN             9004.0             NaN\n",
      "9        2571.0         7862.0             8939.0         19372.0\n"
     ]
    }
   ],
   "source": [
    "ebola[\"Cases_multiple\"]=(\n",
    "    ebola[\"Cases_Guinea\"]+ebola[\"Cases_Liberia\"]+ebola[\"Cases_SierraLeone\"])\n",
    "ebola_subset = ebola.loc[:,\n",
    " [\n",
    "   \"Cases_Guinea\",\n",
    "   \"Cases_Liberia\",\n",
    "   \"Cases_SierraLeone\",\n",
    "   \"Cases_multiple\",\n",
    " ]\n",
    "]\n",
    "print(ebola_subset.head(n=10))"
   ]
  },
  {
   "cell_type": "raw",
   "id": "4289badb-0302-4137-a1db-55c2f5ac6fe8",
   "metadata": {},
   "source": [
    "----skipping missing values is True by default\n",
    "\n",
    "\n"
   ]
  },
  {
   "cell_type": "code",
   "execution_count": 103,
   "id": "f9f50bf7-dd00-4830-aacb-e55852971ddf",
   "metadata": {},
   "outputs": [
    {
     "name": "stdout",
     "output_type": "stream",
     "text": [
      "84729.0\n"
     ]
    }
   ],
   "source": [
    "print(ebola.Cases_Guinea.sum(skipna=True))"
   ]
  },
  {
   "cell_type": "code",
   "execution_count": 105,
   "id": "de6e8da7-1f7b-4ea1-9779-31fcff502065",
   "metadata": {},
   "outputs": [
    {
     "name": "stdout",
     "output_type": "stream",
     "text": [
      "nan\n"
     ]
    }
   ],
   "source": [
    "print(ebola.Cases_Guinea.sum(skipna=False))"
   ]
  },
  {
   "cell_type": "code",
   "execution_count": null,
   "id": "a1549800-539c-484d-8bf8-2c8d8ee51507",
   "metadata": {},
   "outputs": [],
   "source": []
  }
 ],
 "metadata": {
  "kernelspec": {
   "display_name": "Python [conda env:base] *",
   "language": "python",
   "name": "conda-base-py"
  },
  "language_info": {
   "codemirror_mode": {
    "name": "ipython",
    "version": 3
   },
   "file_extension": ".py",
   "mimetype": "text/x-python",
   "name": "python",
   "nbconvert_exporter": "python",
   "pygments_lexer": "ipython3",
   "version": "3.12.2"
  }
 },
 "nbformat": 4,
 "nbformat_minor": 5
}
