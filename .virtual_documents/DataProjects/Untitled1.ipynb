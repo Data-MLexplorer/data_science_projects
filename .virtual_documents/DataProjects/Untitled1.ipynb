!pip install faiss-cpu


import faiss
import numpy as np
data_vectors = np.array([
    [0.1, 0.2, 0.3, 0.4],
    [0.2, 0.1, 0.4, 0.3],
    [0.9, 0.8, 0.7, 0.6],
], dtype='float32')
dimension = data_vectors.shape[1]  
index = faiss.IndexFlatL2(dimension)  
index.add(data_vectors)
query_vector = np.array([[0.1, 0.2, 0.3, 0.35]], dtype='float32')
distances, indices = index.search(query_vector, k=2)
print("Indices of closest vectors:", indices)
print("Distances from query:", distances)






