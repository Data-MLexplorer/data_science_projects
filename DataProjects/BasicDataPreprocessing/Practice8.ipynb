{
 "cells": [
  {
   "cell_type": "code",
   "execution_count": 14,
   "id": "24fd6d2c-1a76-47e7-9fed-c100361908ea",
   "metadata": {},
   "outputs": [],
   "source": [
    "import pandas as pd\n",
    "from lifelines import KaplanMeierFitter\n",
    "import matplotlib.pyplot as plt"
   ]
  },
  {
   "cell_type": "code",
   "execution_count": 8,
   "id": "2d9378a1-c8c5-4963-84b9-3373907a40da",
   "metadata": {},
   "outputs": [
    {
     "data": {
      "text/html": [
       "<div>\n",
       "<style scoped>\n",
       "    .dataframe tbody tr th:only-of-type {\n",
       "        vertical-align: middle;\n",
       "    }\n",
       "\n",
       "    .dataframe tbody tr th {\n",
       "        vertical-align: top;\n",
       "    }\n",
       "\n",
       "    .dataframe thead th {\n",
       "        text-align: right;\n",
       "    }\n",
       "</style>\n",
       "<table border=\"1\" class=\"dataframe\">\n",
       "  <thead>\n",
       "    <tr style=\"text-align: right;\">\n",
       "      <th></th>\n",
       "      <th>id</th>\n",
       "      <th>rx</th>\n",
       "      <th>number</th>\n",
       "      <th>size</th>\n",
       "      <th>stop</th>\n",
       "      <th>event</th>\n",
       "      <th>enum</th>\n",
       "    </tr>\n",
       "  </thead>\n",
       "  <tbody>\n",
       "    <tr>\n",
       "      <th>0</th>\n",
       "      <td>1</td>\n",
       "      <td>1</td>\n",
       "      <td>1</td>\n",
       "      <td>3</td>\n",
       "      <td>1</td>\n",
       "      <td>0</td>\n",
       "      <td>1</td>\n",
       "    </tr>\n",
       "    <tr>\n",
       "      <th>1</th>\n",
       "      <td>1</td>\n",
       "      <td>1</td>\n",
       "      <td>1</td>\n",
       "      <td>3</td>\n",
       "      <td>1</td>\n",
       "      <td>0</td>\n",
       "      <td>2</td>\n",
       "    </tr>\n",
       "    <tr>\n",
       "      <th>2</th>\n",
       "      <td>1</td>\n",
       "      <td>1</td>\n",
       "      <td>1</td>\n",
       "      <td>3</td>\n",
       "      <td>1</td>\n",
       "      <td>0</td>\n",
       "      <td>3</td>\n",
       "    </tr>\n",
       "    <tr>\n",
       "      <th>3</th>\n",
       "      <td>1</td>\n",
       "      <td>1</td>\n",
       "      <td>1</td>\n",
       "      <td>3</td>\n",
       "      <td>1</td>\n",
       "      <td>0</td>\n",
       "      <td>4</td>\n",
       "    </tr>\n",
       "    <tr>\n",
       "      <th>4</th>\n",
       "      <td>2</td>\n",
       "      <td>1</td>\n",
       "      <td>2</td>\n",
       "      <td>1</td>\n",
       "      <td>4</td>\n",
       "      <td>0</td>\n",
       "      <td>1</td>\n",
       "    </tr>\n",
       "    <tr>\n",
       "      <th>...</th>\n",
       "      <td>...</td>\n",
       "      <td>...</td>\n",
       "      <td>...</td>\n",
       "      <td>...</td>\n",
       "      <td>...</td>\n",
       "      <td>...</td>\n",
       "      <td>...</td>\n",
       "    </tr>\n",
       "    <tr>\n",
       "      <th>335</th>\n",
       "      <td>84</td>\n",
       "      <td>2</td>\n",
       "      <td>2</td>\n",
       "      <td>1</td>\n",
       "      <td>54</td>\n",
       "      <td>0</td>\n",
       "      <td>4</td>\n",
       "    </tr>\n",
       "    <tr>\n",
       "      <th>336</th>\n",
       "      <td>85</td>\n",
       "      <td>2</td>\n",
       "      <td>1</td>\n",
       "      <td>3</td>\n",
       "      <td>59</td>\n",
       "      <td>0</td>\n",
       "      <td>1</td>\n",
       "    </tr>\n",
       "    <tr>\n",
       "      <th>337</th>\n",
       "      <td>85</td>\n",
       "      <td>2</td>\n",
       "      <td>1</td>\n",
       "      <td>3</td>\n",
       "      <td>59</td>\n",
       "      <td>0</td>\n",
       "      <td>2</td>\n",
       "    </tr>\n",
       "    <tr>\n",
       "      <th>338</th>\n",
       "      <td>85</td>\n",
       "      <td>2</td>\n",
       "      <td>1</td>\n",
       "      <td>3</td>\n",
       "      <td>59</td>\n",
       "      <td>0</td>\n",
       "      <td>3</td>\n",
       "    </tr>\n",
       "    <tr>\n",
       "      <th>339</th>\n",
       "      <td>85</td>\n",
       "      <td>2</td>\n",
       "      <td>1</td>\n",
       "      <td>3</td>\n",
       "      <td>59</td>\n",
       "      <td>0</td>\n",
       "      <td>4</td>\n",
       "    </tr>\n",
       "  </tbody>\n",
       "</table>\n",
       "<p>340 rows × 7 columns</p>\n",
       "</div>"
      ],
      "text/plain": [
       "     id  rx  number  size  stop  event  enum\n",
       "0     1   1       1     3     1      0     1\n",
       "1     1   1       1     3     1      0     2\n",
       "2     1   1       1     3     1      0     3\n",
       "3     1   1       1     3     1      0     4\n",
       "4     2   1       2     1     4      0     1\n",
       "..   ..  ..     ...   ...   ...    ...   ...\n",
       "335  84   2       2     1    54      0     4\n",
       "336  85   2       1     3    59      0     1\n",
       "337  85   2       1     3    59      0     2\n",
       "338  85   2       1     3    59      0     3\n",
       "339  85   2       1     3    59      0     4\n",
       "\n",
       "[340 rows x 7 columns]"
      ]
     },
     "execution_count": 8,
     "metadata": {},
     "output_type": "execute_result"
    }
   ],
   "source": [
    "bladder= pd.read_csv('bladder.csv') \n",
    "bladder"
   ]
  },
  {
   "cell_type": "code",
   "execution_count": 10,
   "id": "93d1a47e-09f0-4618-86ae-ad49443b417f",
   "metadata": {},
   "outputs": [
    {
     "data": {
      "text/plain": [
       "rx\n",
       "1    188\n",
       "2    152\n",
       "Name: count, dtype: int64"
      ]
     },
     "execution_count": 10,
     "metadata": {},
     "output_type": "execute_result"
    }
   ],
   "source": [
    "bladder['rx'].value_counts()"
   ]
  },
  {
   "cell_type": "code",
   "execution_count": 15,
   "id": "0ec4313e-67d5-4040-a571-daf07ecb8e3a",
   "metadata": {},
   "outputs": [
    {
     "data": {
      "text/plain": [
       "<lifelines.KaplanMeierFitter:\"KM_estimate\", fitted with 340 total observations, 228 right-censored observations>"
      ]
     },
     "execution_count": 15,
     "metadata": {},
     "output_type": "execute_result"
    }
   ],
   "source": [
    "kmf= KaplanMeierFitter()\n",
    "kmf.fit(durations=bladder['stop'], event_observed=bladder['event'])\n"
   ]
  },
  {
   "cell_type": "code",
   "execution_count": 17,
   "id": "e81c76e9-ce87-4eb0-a213-ab298220c87b",
   "metadata": {},
   "outputs": [
    {
     "data": {
      "text/plain": [
       "<Axes: xlabel='timeline'>"
      ]
     },
     "execution_count": 17,
     "metadata": {},
     "output_type": "execute_result"
    },
    {
     "data": {
      "image/png": "[encoded data removed]",
      "text/plain": [
       "<Figure size 640x480 with 1 Axes>"
      ]
     },
     "metadata": {},
     "output_type": "display_data"
    }
   ],
   "source": [
    "kmf.plot_survival_function()"
   ]
  },
  {
   "cell_type": "code",
   "execution_count": null,
   "id": "97bf6205-6b29-4f16-9f11-f7f932b268aa",
   "metadata": {},
   "outputs": [],
   "source": [
    "kmf.survival_function_"
   ]
  },
  {
   "cell_type": "code",
   "execution_count": 28,
   "id": "9195f057-e81a-4443-b353-3751ee7dc67a",
   "metadata": {},
   "outputs": [
    {
     "data": {
      "image/png": "[encoded data removed]",
      "text/plain": [
       "<Figure size 640x480 with 1 Axes>"
      ]
     },
     "metadata": {},
     "output_type": "display_data"
    }
   ],
   "source": [
    "fig,ax = plt.subplots()\n",
    "kmf.survival_function_.plot(ax=ax)\n",
    "ax.set_title('SURVIVAL FUNCTION OF CANCER RECURRENCE')\n",
    "plt.show()\n"
   ]
  },
  {
   "cell_type": "code",
   "execution_count": null,
   "id": "e4902111-233b-4539-b4ea-6b6edba5c503",
   "metadata": {},
   "outputs": [],
   "source": [
    " # Lab-2 "
   ]
  },
  {
   "cell_type": "code",
   "execution_count": 16,
   "id": "8983c536-e768-4ee7-9aed-e559fa9f1959",
   "metadata": {},
   "outputs": [],
   "source": [
    "from sklearn import linear_model\n",
    "# Design matrices for stats models\n",
    "from patsy import dmatrices\n",
    "\n",
    "# K-Fold cross-validation and scoring\n",
    "from sklearn.model_selection import KFold, cross_val_score"
   ]
  },
  {
   "cell_type": "code",
   "execution_count": 18,
   "id": "77aceef6-f957-4479-99a5-b9fa83d1c302",
   "metadata": {},
   "outputs": [
    {
     "data": {
      "text/plain": [
       "Index(['neighborhood', 'type', 'units', 'year_built', 'sq_ft', 'income',\n",
       "       'income_per_sq_ft', 'expense', 'expense_per_sq_ft', 'net_income',\n",
       "       'value', 'value_per_sq_ft', 'boro'],\n",
       "      dtype='object')"
      ]
     },
     "execution_count": 18,
     "metadata": {},
     "output_type": "execute_result"
    }
   ],
   "source": [
    "housing = pd.read_csv('housing_renamed.csv')\n",
    "housing.columns"
   ]
  },
  {
   "cell_type": "code",
   "execution_count": 3,
   "id": "99ae3e4a-7b91-4d83-8154-dadbf0fe61e6",
   "metadata": {},
   "outputs": [
    {
     "name": "stdout",
     "output_type": "stream",
     "text": [
      "['ContrastMatrix', 'DesignInfo', 'DesignMatrix', 'Diff', 'EvalEnvironment', 'EvalFactor', 'FactorInfo', 'Helmert', 'INTERCEPT', 'LinearConstraint', 'LookupFactor', 'ModelDesc', 'NAAction', 'Origin', 'PatsyError', 'Poly', 'SubtermInfo', 'Sum', 'Term', 'Treatment', '__all__', '__builtins__', '__cached__', '__doc__', '__file__', '__loader__', '__name__', '__package__', '__path__', '__spec__', '__version__', '_reexport', 'balanced', 'bs', 'build', 'build_design_matrices', 'builtins', 'categorical', 'cc', 'center', 'compat', 'constraint', 'contrasts', 'cr', 'demo_data', 'desc', 'design_info', 'design_matrix_builders', 'dmatrices', 'dmatrix', 'eval', 'highlevel', 'incr_dbuilder', 'incr_dbuilders', 'infix_parser', 'mgcv_cubic_splines', 'missing', 'origin', 'parse_formula', 'patsy', 'redundancy', 'scale', 'splines', 'standardize', 'state', 'stateful_transform', 'te', 'tokens', 'user_util', 'util', 'version']\n"
     ]
    }
   ],
   "source": [
    "# use this line to check what are available \n",
    "#import patsy\n",
    "# print(dir(patsy))"
   ]
  },
  {
   "cell_type": "code",
   "execution_count": 54,
   "id": "8ae7c762-658e-4f51-87a6-72c479c2aebe",
   "metadata": {},
   "outputs": [],
   "source": [
    "from sklearn.model_selection import train_test_split\n",
    "from sklearn.linear_model import LinearRegression\n",
    "import numpy as np"
   ]
  },
  {
   "cell_type": "code",
   "execution_count": 38,
   "id": "8c0efba0-e0d0-444a-8bb6-a139ddd383d2",
   "metadata": {},
   "outputs": [
    {
     "data": {
      "text/plain": [
       "array([200.  , 242.76, 164.15, ...,  44.18,  57.75,  59.4 ], shape=(2166,))"
      ]
     },
     "execution_count": 38,
     "metadata": {},
     "output_type": "execute_result"
    }
   ],
   "source": [
    "housing['value_per_sq_ft'].unique()"
   ]
  },
  {
   "cell_type": "code",
   "execution_count": 24,
   "id": "cf4fc8f5-c824-4f17-a679-33c96c58e274",
   "metadata": {},
   "outputs": [],
   "source": [
    "# Get training and test data \n",
    "\n",
    "X_train, X_test , y_train, y_test = train_test_split(pd.get_dummies\n",
    "    (housing[[\"units\",\"sq_ft\", \"boro\"]],drop_first=True\n",
    "    ),\n",
    "    housing[\"value_per_sq_ft\"],\n",
    "    test_size=0.20,\n",
    "    random_state=42,\n",
    "  )\n",
    "\n",
    "            "
   ]
  },
  {
   "cell_type": "code",
   "execution_count": 30,
   "id": "4c4ddfa2-3f22-42f8-9310-751dc60dff69",
   "metadata": {},
   "outputs": [
    {
     "name": "stdout",
     "output_type": "stream",
     "text": [
      "0.6137125285029112\n"
     ]
    }
   ],
   "source": [
    "y, X = dmatrices(\n",
    "    \"value_per_sq_ft ~ units + sq_ft + boro\",\n",
    "    housing,\n",
    "    return_type=\"dataframe\",\n",
    ")\n",
    "X_train, X_test, y_train, y_test = train_test_split(\n",
    "  X, y, test_size=0.20, random_state=42\n",
    ")\n",
    "\n",
    "lr = LinearRegression().fit(X_train, y_train)\n",
    "print(lr.score(X_test, y_test))"
   ]
  },
  {
   "cell_type": "code",
   "execution_count": 34,
   "id": "c21b0a92-b327-494d-914e-ab190d66c8a4",
   "metadata": {},
   "outputs": [
    {
     "name": "stdout",
     "output_type": "stream",
     "text": [
      "              neighborhood            type  units  year_built   sq_ft  \\\n",
      "0                FINANCIAL  R9-CONDOMINIUM     42      1920.0   36500   \n",
      "1                FINANCIAL  R4-CONDOMINIUM     78      1985.0  126420   \n",
      "2                FINANCIAL  RR-CONDOMINIUM    500         NaN  554174   \n",
      "3                FINANCIAL  R4-CONDOMINIUM    282      1930.0  249076   \n",
      "4                  TRIBECA  R4-CONDOMINIUM    239      1985.0  219495   \n",
      "...                    ...             ...    ...         ...     ...   \n",
      "2621              ROSEBANK  R4-CONDOMINIUM     52         NaN   62391   \n",
      "2622  ARROCHAR-SHORE ACRES  R4-CONDOMINIUM    102      1987.0   90618   \n",
      "2623            GRANT CITY  R4-CONDOMINIUM    100      1986.0   78903   \n",
      "2624            GRANT CITY  R4-CONDOMINIUM    159      1961.0  166712   \n",
      "2625           GREAT KILLS  R4-CONDOMINIUM     67      1965.0  108864   \n",
      "\n",
      "        income  income_per_sq_ft  expense  expense_per_sq_ft  net_income  \\\n",
      "0      1332615             36.51   342005               9.37      990610   \n",
      "1      6633257             52.47  1762295              13.94     4870962   \n",
      "2     17310000             31.24  3543000               6.39    13767000   \n",
      "3     11776313             47.28  2784670              11.18     8991643   \n",
      "4     10004582             45.58  2783197              12.68     7221385   \n",
      "...        ...               ...      ...                ...         ...   \n",
      "2621    831672             13.33   326305               5.23      505367   \n",
      "2622   1274089             14.06   637045               7.03      637044   \n",
      "2623   1321625             16.75   673832               8.54      647793   \n",
      "2624   2343971             14.06  1171985               7.03     1171986   \n",
      "2625   1298748             11.93   722857               6.64      575891   \n",
      "\n",
      "         value  value_per_sq_ft           boro  \n",
      "0      7300000           200.00      Manhattan  \n",
      "1     30690000           242.76      Manhattan  \n",
      "2     90970000           164.15      Manhattan  \n",
      "3     67556006           271.23      Manhattan  \n",
      "4     54320996           247.48      Manhattan  \n",
      "...        ...              ...            ...  \n",
      "2621   3354003            53.76  Staten Island  \n",
      "2622   5233000            57.75  Staten Island  \n",
      "2623   4687000            59.40  Staten Island  \n",
      "2624   5967531            35.80  Staten Island  \n",
      "2625   3673011            33.74  Staten Island  \n",
      "\n",
      "[2626 rows x 13 columns]\n"
     ]
    }
   ],
   "source": [
    "housing = pd.read_csv('housing_renamed.csv')\n",
    "print(housing)"
   ]
  },
  {
   "cell_type": "code",
   "execution_count": 36,
   "id": "283f4eea-f9a0-4d58-8539-5f9c20f1e192",
   "metadata": {},
   "outputs": [],
   "source": [
    "kf = KFold(n_splits=5)\n",
    "y, X = dmatrices('value_per_sq_ft ~ units + sq_ft + boro', housing)"
   ]
  },
  {
   "cell_type": "code",
   "execution_count": 38,
   "id": "92cf2024-ccd4-4c76-a770-d5a3e05c65d7",
   "metadata": {},
   "outputs": [],
   "source": [
    "coefs = []\n",
    "scores = []\n",
    "for train, test in kf.split(X):\n",
    "  X_train, X_test = X[train], X[test]\n",
    "  y_train, y_test = y[train], y[test]\n",
    "  lr = LinearRegression().fit(X_train, y_train)\n",
    "  coefs.append(pd.DataFrame(lr.coef_))\n",
    "  scores.append(lr.score(X_test, y_test))"
   ]
  },
  {
   "cell_type": "code",
   "execution_count": 40,
   "id": "b5cda608-ee62-4848-ae64-25cd65e4767d",
   "metadata": {},
   "outputs": [
    {
     "name": "stdout",
     "output_type": "stream",
     "text": [
      "   Intercept  boro[T.Brooklyn]  boro[T.Manhattan]  boro[T.Queens]  \\\n",
      "0        0.0         33.369037         129.904011       32.103100   \n",
      "0        0.0         32.889925         116.957385       31.295956   \n",
      "0        0.0         30.975560         141.859327       32.043449   \n",
      "0        0.0         41.449196         130.779013       33.050968   \n",
      "0        0.0        -38.511915          56.069855      -17.557939   \n",
      "\n",
      "   boro[T.Staten Island]     units     sq_ft  \n",
      "0              -4.381085 -0.205890  0.000220  \n",
      "0              -4.919232 -0.146180  0.000155  \n",
      "0              -4.379916 -0.179671  0.000194  \n",
      "0              -3.430209 -0.207904  0.000232  \n",
      "0               0.000000 -0.145829  0.000202  \n"
     ]
    }
   ],
   "source": [
    "coefs_df = pd.concat(coefs)\n",
    "coefs_df.columns = X.design_info.column_names\n",
    "print(coefs_df)"
   ]
  },
  {
   "cell_type": "code",
   "execution_count": 42,
   "id": "f97ba328-5b55-4e2f-baae-c352a75c447e",
   "metadata": {},
   "outputs": [
    {
     "name": "stdout",
     "output_type": "stream",
     "text": [
      "[0.027314162909645057, -0.553836221212372, -0.1563637168784675, -0.32342020619865597, -1.6929655586459207]\n"
     ]
    }
   ],
   "source": [
    "print(scores)"
   ]
  },
  {
   "cell_type": "code",
   "execution_count": 44,
   "id": "f9004db7-d171-41dc-ac64-9ce796614bf7",
   "metadata": {},
   "outputs": [
    {
     "name": "stdout",
     "output_type": "stream",
     "text": [
      "[ 0.02731416 -0.55383622 -0.15636372 -0.32342021 -1.69296556]\n"
     ]
    }
   ],
   "source": [
    "model = LinearRegression()\n",
    "scores = cross_val_score(model, X, y, cv=5)\n",
    "print(scores)"
   ]
  },
  {
   "cell_type": "code",
   "execution_count": 46,
   "id": "9fe13d0e-c773-4892-97ac-d4bef67e4915",
   "metadata": {},
   "outputs": [
    {
     "name": "stdout",
     "output_type": "stream",
     "text": [
      "-0.5398543080051542\n"
     ]
    }
   ],
   "source": [
    "print(scores.mean())"
   ]
  },
  {
   "cell_type": "code",
   "execution_count": 72,
   "id": "6b637bcf-87ce-406d-b47d-df633e3f869a",
   "metadata": {},
   "outputs": [],
   "source": [
    "y1, X1 = dmatrices(\n",
    "   \"value_per_sq_ft ~ units + sq_ft + boro\", housing)\n",
    "\n",
    "y2, X2 = dmatrices(\"value_per_sq_ft ~ units*sq_ft + boro\", housing)\n",
    "\n",
    "y3, X3 = dmatrices(\n",
    "  \"value_per_sq_ft ~ units + sq_ft*boro + type\", housing\n",
    ")\n",
    "\n",
    "y4, X4 = dmatrices(\n",
    "    \"value_per_sq_ft ~ units + sq_ft*boro + sq_ft*type\", housing\n",
    ")\n",
    "\n",
    "y5, X5 = dmatrices(\"value_per_sq_ft ~ boro + type\", housing)\n"
   ]
  },
  {
   "cell_type": "code",
   "execution_count": 50,
   "id": "a9ac65c0-dbb3-4fcf-ae35-6276b96c81cd",
   "metadata": {},
   "outputs": [],
   "source": [
    "model = LinearRegression()\n",
    "\n",
    "scores1 = cross_val_score(model, X1, y1, cv=5)\n",
    "scores2 = cross_val_score(model, X2, y2, cv=5)\n",
    "scores3 = cross_val_score(model, X3, y3, cv=5)\n",
    "scores4 = cross_val_score(model, X4, y4, cv=5)\n",
    "scores5 = cross_val_score(model, X5, y5, cv=5)"
   ]
  },
  {
   "cell_type": "code",
   "execution_count": 117,
   "id": "59640017-1148-4977-86f9-e043bc738bbe",
   "metadata": {},
   "outputs": [
    {
     "name": "stdout",
     "output_type": "stream",
     "text": [
      "Scores1 (X1, Y1): [ 0.02731416 -0.55383622 -0.15636372 -0.32342021 -1.69296556]\n",
      "Scores2 (X2, Y2): [ 0.04074958 -0.51177343 -0.14583516 -0.3376579  -4.48640038]\n",
      "Scores3 (X3, Y3): [ 0.08191348 -0.39993361 -0.12240908 -0.42484843 -1.54630247]\n",
      "Scores4 (X4, Y4): [ 0.08399286 -0.37538215 -0.1115328  -0.40733111 -1.9399717 ]\n",
      "Scores5 (X5, Y5): [ 0.03236462 -0.63008528 -0.1705417  -0.42687191 -1.34084571]\n"
     ]
    }
   ],
   "source": [
    "from sklearn.model_selection import cross_val_score\n",
    "\n",
    "# Step 1: Initialize the linear regression model\n",
    "model = LinearRegression()\n",
    "\n",
    "# Step 2: Perform 5-fold cross-validation for each design matrix\n",
    "\n",
    "scores1 = cross_val_score(model, X1, Y1.values.ravel(), cv=5, scoring='r2')\n",
    "scores2 = cross_val_score(model, X2, Y2.values.ravel(), cv=5, scoring='r2')\n",
    "scores3 = cross_val_score(model, X3, Y3.values.ravel(), cv=5, scoring='r2')\n",
    "scores4 = cross_val_score(model, X4, Y4.values.ravel(), cv=5, scoring='r2')\n",
    "scores5 = cross_val_score(model, X5, Y5.values.ravel(), cv=5, scoring='r2')\n",
    "\n",
    "# Step 3: Display the R-squared scores for verification\n",
    "\n",
    "print(\"Scores1 (X1, Y1):\", scores1)\n",
    "print(\"Scores2 (X2, Y2):\", scores2)\n",
    "print(\"Scores3 (X3, Y3):\", scores3)\n",
    "print(\"Scores4 (X4, Y4):\", scores4)\n",
    "print(\"Scores5 (X5, Y5):\", scores5)"
   ]
  },
  {
   "cell_type": "code",
   "execution_count": 65,
   "id": "cc5b272f-3307-45a1-8a85-a7847a70f1bf",
   "metadata": {},
   "outputs": [],
   "source": [
    "model = LinearRegression()\n",
    "\n",
    "scores1 = cross_val_score(model, X1, y1, cv=5)\n",
    "scores2 = cross_val_score(model, X2, y2, cv=5)\n",
    "scores3 = cross_val_score(model, X3, y3, cv=5)\n",
    "scores4 = cross_val_score(model, X4, y4, cv=5)\n",
    "scores5 = cross_val_score(model, X5, y5, cv=5)"
   ]
  },
  {
   "cell_type": "code",
   "execution_count": 67,
   "id": "c08c1970-9005-4419-8c97-5377d87a8f75",
   "metadata": {},
   "outputs": [
    {
     "name": "stdout",
     "output_type": "stream",
     "text": [
      "0   -0.539854\n",
      "1   -1.088183\n",
      "2   -0.482316\n",
      "3   -0.550045\n",
      "4   -0.507196\n",
      "dtype: float64\n"
     ]
    }
   ],
   "source": [
    "scores_df = pd.DataFrame([scores1, scores2, scores3, scores4, scores5])\n",
    "print(scores_df.apply(np.mean, axis=1))"
   ]
  },
  {
   "cell_type": "markdown",
   "id": "b5fd8f75-9b00-4d12-b722-044496ecadbb",
   "metadata": {},
   "source": [
    "Expected Output\n",
    "# 0   -5.398543e-01\n",
    "# 1   -1.088184e+00\n",
    "# 2   -4.719338e+25\n",
    "# 3   -6.826894e+25\n",
    "# 4   -2.355763e+24\n",
    "# dtype: float64"
   ]
  },
  {
   "cell_type": "code",
   "execution_count": null,
   "id": "d3427578-ff3c-4892-93d4-fc998d5e16a8",
   "metadata": {},
   "outputs": [],
   "source": []
  }
 ],
 "metadata": {
  "kernelspec": {
   "display_name": "Python [conda env:venv]",
   "language": "python",
   "name": "conda-env-venv-py"
  },
  "language_info": {
   "codemirror_mode": {
    "name": "ipython",
    "version": 3
   },
   "file_extension": ".py",
   "mimetype": "text/x-python",
   "name": "python",
   "nbconvert_exporter": "python",
   "pygments_lexer": "ipython3",
   "version": "3.12.0"
  }
 },
 "nbformat": 4,
 "nbformat_minor": 5
}
