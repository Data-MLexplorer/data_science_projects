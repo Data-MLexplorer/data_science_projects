{
 "cells": [
  {
   "cell_type": "code",
   "execution_count": 2,
   "id": "0b62c68f-9916-4619-a4eb-14b8f324d3e4",
   "metadata": {},
   "outputs": [],
   "source": [
    "import numpy as np\n",
    "import pandas as pd\n",
    "from sklearn.model_selection import train_test_split\n",
    "from sklearn.linear_model import LinearRegression\n",
    "from patsy import dmatrices\n",
    "from sklearn.model_selection import KFold, cross_val_score"
   ]
  },
  {
   "cell_type": "code",
   "execution_count": 3,
   "id": "4f1a96d3-5f46-4826-b472-63534d820453",
   "metadata": {},
   "outputs": [
    {
     "name": "stdout",
     "output_type": "stream",
     "text": [
      "              neighborhood            type  units  year_built   sq_ft  \\\n",
      "0                FINANCIAL  R9-CONDOMINIUM     42      1920.0   36500   \n",
      "1                FINANCIAL  R4-CONDOMINIUM     78      1985.0  126420   \n",
      "2                FINANCIAL  RR-CONDOMINIUM    500         NaN  554174   \n",
      "3                FINANCIAL  R4-CONDOMINIUM    282      1930.0  249076   \n",
      "4                  TRIBECA  R4-CONDOMINIUM    239      1985.0  219495   \n",
      "...                    ...             ...    ...         ...     ...   \n",
      "2621              ROSEBANK  R4-CONDOMINIUM     52         NaN   62391   \n",
      "2622  ARROCHAR-SHORE ACRES  R4-CONDOMINIUM    102      1987.0   90618   \n",
      "2623            GRANT CITY  R4-CONDOMINIUM    100      1986.0   78903   \n",
      "2624            GRANT CITY  R4-CONDOMINIUM    159      1961.0  166712   \n",
      "2625           GREAT KILLS  R4-CONDOMINIUM     67      1965.0  108864   \n",
      "\n",
      "        income  income_per_sq_ft  expense  expense_per_sq_ft  net_income  \\\n",
      "0      1332615             36.51   342005               9.37      990610   \n",
      "1      6633257             52.47  1762295              13.94     4870962   \n",
      "2     17310000             31.24  3543000               6.39    13767000   \n",
      "3     11776313             47.28  2784670              11.18     8991643   \n",
      "4     10004582             45.58  2783197              12.68     7221385   \n",
      "...        ...               ...      ...                ...         ...   \n",
      "2621    831672             13.33   326305               5.23      505367   \n",
      "2622   1274089             14.06   637045               7.03      637044   \n",
      "2623   1321625             16.75   673832               8.54      647793   \n",
      "2624   2343971             14.06  1171985               7.03     1171986   \n",
      "2625   1298748             11.93   722857               6.64      575891   \n",
      "\n",
      "         value  value_per_sq_ft           boro  \n",
      "0      7300000           200.00      Manhattan  \n",
      "1     30690000           242.76      Manhattan  \n",
      "2     90970000           164.15      Manhattan  \n",
      "3     67556006           271.23      Manhattan  \n",
      "4     54320996           247.48      Manhattan  \n",
      "...        ...              ...            ...  \n",
      "2621   3354003            53.76  Staten Island  \n",
      "2622   5233000            57.75  Staten Island  \n",
      "2623   4687000            59.40  Staten Island  \n",
      "2624   5967531            35.80  Staten Island  \n",
      "2625   3673011            33.74  Staten Island  \n",
      "\n",
      "[2626 rows x 13 columns]\n",
      "Index(['neighborhood', 'type', 'units', 'year_built', 'sq_ft', 'income',\n",
      "       'income_per_sq_ft', 'expense', 'expense_per_sq_ft', 'net_income',\n",
      "       'value', 'value_per_sq_ft', 'boro'],\n",
      "      dtype='object')\n"
     ]
    }
   ],
   "source": [
    "housing = pd.read_csv('DataFiles/housing_renamed.csv')\n",
    "print(housing)\n",
    "print(housing.columns)"
   ]
  },
  {
   "cell_type": "code",
   "execution_count": 4,
   "id": "6bd3654b-df61-4d75-9a19-7d1bc76752b5",
   "metadata": {},
   "outputs": [],
   "source": [
    "X_train, X_test, y_train, y_test = train_test_split(\n",
    " pd.get_dummies(\n",
    " housing[[\"units\", \"sq_ft\", \"boro\"]], drop_first=True\n",
    " ),\n",
    "\n",
    " housing[\"value_per_sq_ft\"],\n",
    " test_size=0.20,\n",
    " random_state=42,\n",
    ")"
   ]
  },
  {
   "cell_type": "code",
   "execution_count": 5,
   "id": "e77ea5d0-5492-4685-a679-b1bcea17989b",
   "metadata": {},
   "outputs": [
    {
     "name": "stdout",
     "output_type": "stream",
     "text": [
      "0.6137125285030869\n"
     ]
    }
   ],
   "source": [
    "lr = LinearRegression().fit(X_train, y_train)\n",
    "print(lr.score(X_test, y_test))"
   ]
  },
  {
   "cell_type": "code",
   "execution_count": 6,
   "id": "dc8b9f32-507f-4a0e-99f9-aadd2aa326f3",
   "metadata": {},
   "outputs": [
    {
     "name": "stdout",
     "output_type": "stream",
     "text": [
      "0.613712528503469\n"
     ]
    }
   ],
   "source": [
    "y, X = dmatrices(\n",
    "    \"value_per_sq_ft ~ units + sq_ft + boro\",\n",
    "    housing,\n",
    "    return_type=\"dataframe\",\n",
    ")\n",
    "X_train, X_test, y_train, y_test = train_test_split(\n",
    "  X, y, test_size=0.20, random_state=42\n",
    ")\n",
    "\n",
    "lr = LinearRegression().fit(X_train, y_train)\n",
    "print(lr.score(X_test, y_test))"
   ]
  },
  {
   "cell_type": "code",
   "execution_count": 8,
   "id": "f5fcf603-33ad-43bb-9a38-7a8fe2005de4",
   "metadata": {},
   "outputs": [
    {
     "name": "stdout",
     "output_type": "stream",
     "text": [
      "              neighborhood            type  units  year_built   sq_ft  \\\n",
      "0                FINANCIAL  R9-CONDOMINIUM     42      1920.0   36500   \n",
      "1                FINANCIAL  R4-CONDOMINIUM     78      1985.0  126420   \n",
      "2                FINANCIAL  RR-CONDOMINIUM    500         NaN  554174   \n",
      "3                FINANCIAL  R4-CONDOMINIUM    282      1930.0  249076   \n",
      "4                  TRIBECA  R4-CONDOMINIUM    239      1985.0  219495   \n",
      "...                    ...             ...    ...         ...     ...   \n",
      "2621              ROSEBANK  R4-CONDOMINIUM     52         NaN   62391   \n",
      "2622  ARROCHAR-SHORE ACRES  R4-CONDOMINIUM    102      1987.0   90618   \n",
      "2623            GRANT CITY  R4-CONDOMINIUM    100      1986.0   78903   \n",
      "2624            GRANT CITY  R4-CONDOMINIUM    159      1961.0  166712   \n",
      "2625           GREAT KILLS  R4-CONDOMINIUM     67      1965.0  108864   \n",
      "\n",
      "        income  income_per_sq_ft  expense  expense_per_sq_ft  net_income  \\\n",
      "0      1332615             36.51   342005               9.37      990610   \n",
      "1      6633257             52.47  1762295              13.94     4870962   \n",
      "2     17310000             31.24  3543000               6.39    13767000   \n",
      "3     11776313             47.28  2784670              11.18     8991643   \n",
      "4     10004582             45.58  2783197              12.68     7221385   \n",
      "...        ...               ...      ...                ...         ...   \n",
      "2621    831672             13.33   326305               5.23      505367   \n",
      "2622   1274089             14.06   637045               7.03      637044   \n",
      "2623   1321625             16.75   673832               8.54      647793   \n",
      "2624   2343971             14.06  1171985               7.03     1171986   \n",
      "2625   1298748             11.93   722857               6.64      575891   \n",
      "\n",
      "         value  value_per_sq_ft           boro  \n",
      "0      7300000           200.00      Manhattan  \n",
      "1     30690000           242.76      Manhattan  \n",
      "2     90970000           164.15      Manhattan  \n",
      "3     67556006           271.23      Manhattan  \n",
      "4     54320996           247.48      Manhattan  \n",
      "...        ...              ...            ...  \n",
      "2621   3354003            53.76  Staten Island  \n",
      "2622   5233000            57.75  Staten Island  \n",
      "2623   4687000            59.40  Staten Island  \n",
      "2624   5967531            35.80  Staten Island  \n",
      "2625   3673011            33.74  Staten Island  \n",
      "\n",
      "[2626 rows x 13 columns]\n"
     ]
    }
   ],
   "source": [
    "housing = pd.read_csv('DataFiles/housing_renamed.csv')\n",
    "print(housing)"
   ]
  },
  {
   "cell_type": "code",
   "execution_count": 9,
   "id": "635a145d-7c86-4c80-b478-936b30ac5258",
   "metadata": {},
   "outputs": [],
   "source": [
    "kf = KFold(n_splits=5)\n",
    "y, X = dmatrices('value_per_sq_ft ~ units + sq_ft + boro', housing)"
   ]
  },
  {
   "cell_type": "code",
   "execution_count": 10,
   "id": "f8bc5dfa-ae07-48ad-b583-76e6f06d1969",
   "metadata": {},
   "outputs": [],
   "source": [
    "coefs = []\n",
    "scores = []\n",
    "for train, test in kf.split(X):\n",
    "  X_train, X_test = X[train], X[test]\n",
    "  y_train, y_test = y[train], y[test]\n",
    "  lr = LinearRegression().fit(X_train, y_train)\n",
    "  coefs.append(pd.DataFrame(lr.coef_))\n",
    "  scores.append(lr.score(X_test, y_test))"
   ]
  },
  {
   "cell_type": "code",
   "execution_count": 11,
   "id": "6736adce-3628-425a-acb5-86b173433028",
   "metadata": {},
   "outputs": [
    {
     "name": "stdout",
     "output_type": "stream",
     "text": [
      "   Intercept  boro[T.Brooklyn]  boro[T.Manhattan]  boro[T.Queens]  \\\n",
      "0        0.0         33.369037         129.904011       32.103100   \n",
      "0        0.0         32.889925         116.957385       31.295956   \n",
      "0        0.0         30.975560         141.859327       32.043449   \n",
      "0        0.0         41.449196         130.779013       33.050968   \n",
      "0        0.0        -38.511915          56.069855      -17.557939   \n",
      "\n",
      "   boro[T.Staten Island]     units     sq_ft  \n",
      "0              -4.381085 -0.205890  0.000220  \n",
      "0              -4.919232 -0.146180  0.000155  \n",
      "0              -4.379916 -0.179671  0.000194  \n",
      "0              -3.430209 -0.207904  0.000232  \n",
      "0               0.000000 -0.145829  0.000202  \n"
     ]
    }
   ],
   "source": [
    "coefs_df = pd.concat(coefs)\n",
    "coefs_df.columns = X.design_info.column_names\n",
    "print(coefs_df)"
   ]
  },
  {
   "cell_type": "code",
   "execution_count": 12,
   "id": "8efe6821-a0bf-4957-89d3-4ecf751b0823",
   "metadata": {},
   "outputs": [
    {
     "name": "stdout",
     "output_type": "stream",
     "text": [
      "[0.027314162909394923, -0.553836221218611, -0.1563637168803238, -0.32342020618600453, -1.6929655586236945]\n"
     ]
    }
   ],
   "source": [
    "print(scores)"
   ]
  },
  {
   "cell_type": "code",
   "execution_count": 13,
   "id": "44b85a6f-2dff-4523-af37-6bb261a2737d",
   "metadata": {},
   "outputs": [
    {
     "name": "stdout",
     "output_type": "stream",
     "text": [
      "[ 0.02731416 -0.55383622 -0.15636372 -0.32342021 -1.69296556]\n"
     ]
    }
   ],
   "source": [
    "model = LinearRegression()\n",
    "scores = cross_val_score(model, X, y, cv=5)\n",
    "print(scores)"
   ]
  },
  {
   "cell_type": "code",
   "execution_count": 14,
   "id": "405588c4-5d16-4bbc-a046-32d36cd04e5f",
   "metadata": {},
   "outputs": [
    {
     "name": "stdout",
     "output_type": "stream",
     "text": [
      "-0.5398543079998477\n"
     ]
    }
   ],
   "source": [
    "print(scores.mean())"
   ]
  },
  {
   "cell_type": "code",
   "execution_count": 15,
   "id": "8385e852-ab95-47a9-a712-0f05e8a61b48",
   "metadata": {},
   "outputs": [],
   "source": [
    "y1, X1 = dmatrices(\n",
    "   \"value_per_sq_ft ~ units + sq_ft + boro\", housing)\n",
    "\n",
    "y2, X2 = dmatrices(\"value_per_sq_ft ~ units*sq_ft + boro\", housing)\n",
    "\n",
    "y3, X3 = dmatrices(\n",
    "  \"value_per_sq_ft ~ units + sq_ft*boro + type\", housing\n",
    ")\n",
    "\n",
    "y4, X4 = dmatrices(\n",
    "    \"value_per_sq_ft ~ units + sq_ft*boro + sq_ft*type\", housing\n",
    ")\n",
    "\n",
    "y5, X5 = dmatrices(\"value_per_sq_ft ~ boro + type\", housing)"
   ]
  },
  {
   "cell_type": "code",
   "execution_count": 16,
   "id": "86d8a918-9a81-470e-a711-d1aa944f484d",
   "metadata": {},
   "outputs": [],
   "source": [
    "model = LinearRegression()\n",
    "\n",
    "scores1 = cross_val_score(model, X1, y1, cv=5)\n",
    "scores2 = cross_val_score(model, X2, y2, cv=5)\n",
    "scores3 = cross_val_score(model, X3, y3, cv=5)\n",
    "scores4 = cross_val_score(model, X4, y4, cv=5)\n",
    "scores5 = cross_val_score(model, X5, y5, cv=5)"
   ]
  },
  {
   "cell_type": "code",
   "execution_count": 17,
   "id": "93875c17-9ceb-4287-9915-88708c6f88bd",
   "metadata": {},
   "outputs": [
    {
     "name": "stdout",
     "output_type": "stream",
     "text": [
      "0   -5.398543e-01\n",
      "1   -1.088184e+00\n",
      "2   -4.719338e+25\n",
      "3   -6.826894e+25\n",
      "4   -2.355763e+24\n",
      "dtype: float64\n"
     ]
    }
   ],
   "source": [
    "scores_df = pd.DataFrame([scores1, scores2, scores3, scores4, scores5])\n",
    "print(scores_df.apply(np.mean, axis=1))"
   ]
  },
  {
   "cell_type": "code",
   "execution_count": null,
   "id": "b37eefe1-86a4-4281-9757-c19fe874900d",
   "metadata": {},
   "outputs": [],
   "source": []
  }
 ],
 "metadata": {
  "kernelspec": {
   "display_name": "Python 3 (ipykernel)",
   "language": "python",
   "name": "python3"
  },
  "language_info": {
   "codemirror_mode": {
    "name": "ipython",
    "version": 3
   },
   "file_extension": ".py",
   "mimetype": "text/x-python",
   "name": "python",
   "nbconvert_exporter": "python",
   "pygments_lexer": "ipython3",
   "version": "3.12.7"
  }
 },
 "nbformat": 4,
 "nbformat_minor": 5
}
